{
 "cells": [
  {
   "cell_type": "code",
   "execution_count": 1,
   "id": "characteristic-bacteria",
   "metadata": {
    "execution": {
     "iopub.execute_input": "2021-05-31T11:05:12.469598Z",
     "iopub.status.busy": "2021-05-31T11:05:12.468788Z",
     "iopub.status.idle": "2021-05-31T11:05:13.378003Z",
     "shell.execute_reply": "2021-05-31T11:05:13.378599Z",
     "shell.execute_reply.started": "2021-05-31T10:28:31.834056Z"
    },
    "papermill": {
     "duration": 1.063096,
     "end_time": "2021-05-31T11:05:13.378920",
     "exception": false,
     "start_time": "2021-05-31T11:05:12.315824",
     "status": "completed"
    },
    "tags": []
   },
   "outputs": [],
   "source": [
    "import pandas as pd\n",
    "pd.set_option('display.max_columns', 100)\n",
    "\n",
    "import numpy as np\n",
    "import matplotlib.pyplot as plt\n",
    "import seaborn as sns\n",
    "\n",
    "import json"
   ]
  },
  {
   "cell_type": "markdown",
   "id": "rational-statement",
   "metadata": {
    "papermill": {
     "duration": 0.142417,
     "end_time": "2021-05-31T11:05:13.662522",
     "exception": false,
     "start_time": "2021-05-31T11:05:13.520105",
     "status": "completed"
    },
    "tags": []
   },
   "source": [
    "# Посмотрим на данные"
   ]
  },
  {
   "cell_type": "code",
   "execution_count": 2,
   "id": "unsigned-control",
   "metadata": {
    "execution": {
     "iopub.execute_input": "2021-05-31T11:05:13.951097Z",
     "iopub.status.busy": "2021-05-31T11:05:13.950369Z",
     "iopub.status.idle": "2021-05-31T11:05:23.592392Z",
     "shell.execute_reply": "2021-05-31T11:05:23.591673Z",
     "shell.execute_reply.started": "2021-05-31T10:28:32.719687Z"
    },
    "papermill": {
     "duration": 9.790587,
     "end_time": "2021-05-31T11:05:23.592539",
     "exception": false,
     "start_time": "2021-05-31T11:05:13.801952",
     "status": "completed"
    },
    "tags": []
   },
   "outputs": [
    {
     "name": "stderr",
     "output_type": "stream",
     "text": [
      "/opt/conda/lib/python3.7/site-packages/IPython/core/interactiveshell.py:3166: DtypeWarning: Columns (8) have mixed types.Specify dtype option on import or set low_memory=False.\n",
      "  interactivity=interactivity, compiler=compiler, result=result)\n",
      "/opt/conda/lib/python3.7/site-packages/IPython/core/interactiveshell.py:3166: DtypeWarning: Columns (5) have mixed types.Specify dtype option on import or set low_memory=False.\n",
      "  interactivity=interactivity, compiler=compiler, result=result)\n"
     ]
    }
   ],
   "source": [
    "train = pd.read_csv('/kaggle/input/recommendationsv4/train.csv')\n",
    "test = pd.read_csv('/kaggle/input/recommendationsv4/test.csv')\n",
    "submission = pd.read_csv('/kaggle/input/recommendationsv4/sample_submission.csv')\n"
   ]
  },
  {
   "cell_type": "code",
   "execution_count": 3,
   "id": "muslim-brave",
   "metadata": {
    "execution": {
     "iopub.execute_input": "2021-05-31T11:05:23.878748Z",
     "iopub.status.busy": "2021-05-31T11:05:23.878072Z",
     "iopub.status.idle": "2021-05-31T11:06:39.151132Z",
     "shell.execute_reply": "2021-05-31T11:06:39.151663Z",
     "shell.execute_reply.started": "2021-05-31T10:28:41.983423Z"
    },
    "papermill": {
     "duration": 75.419298,
     "end_time": "2021-05-31T11:06:39.151863",
     "exception": false,
     "start_time": "2021-05-31T11:05:23.732565",
     "status": "completed"
    },
    "tags": []
   },
   "outputs": [],
   "source": [
    "with open('../input/recommendationsv4/meta_Grocery_and_Gourmet_Food.json') as data:\n",
    "    meta_list = []\n",
    "    for line in data.readlines():\n",
    "        meta_list.append(json.loads(line))\n",
    "        \n",
    "meta = pd.DataFrame(meta_list)"
   ]
  },
  {
   "cell_type": "code",
   "execution_count": 4,
   "id": "opening-blackberry",
   "metadata": {
    "execution": {
     "iopub.execute_input": "2021-05-31T11:06:39.436209Z",
     "iopub.status.busy": "2021-05-31T11:06:39.435545Z",
     "iopub.status.idle": "2021-05-31T11:06:40.064854Z",
     "shell.execute_reply": "2021-05-31T11:06:40.065677Z",
     "shell.execute_reply.started": "2021-05-31T10:29:55.752739Z"
    },
    "papermill": {
     "duration": 0.7739,
     "end_time": "2021-05-31T11:06:40.065928",
     "exception": false,
     "start_time": "2021-05-31T11:06:39.292028",
     "status": "completed"
    },
    "tags": []
   },
   "outputs": [
    {
     "name": "stdout",
     "output_type": "stream",
     "text": [
      "<class 'pandas.core.frame.DataFrame'>\n",
      "RangeIndex: 857895 entries, 0 to 857894\n",
      "Data columns (total 14 columns):\n",
      " #   Column          Non-Null Count   Dtype  \n",
      "---  ------          --------------   -----  \n",
      " 0   overall         857895 non-null  float64\n",
      " 1   verified        857895 non-null  bool   \n",
      " 2   reviewTime      857895 non-null  object \n",
      " 3   asin            857895 non-null  object \n",
      " 4   reviewerName    857719 non-null  object \n",
      " 5   reviewText      857616 non-null  object \n",
      " 6   summary         857725 non-null  object \n",
      " 7   unixReviewTime  857895 non-null  int64  \n",
      " 8   vote            118740 non-null  object \n",
      " 9   style           444406 non-null  object \n",
      " 10  image           7142 non-null    object \n",
      " 11  userid          857895 non-null  int64  \n",
      " 12  itemid          857895 non-null  int64  \n",
      " 13  rating          857895 non-null  float64\n",
      "dtypes: bool(1), float64(2), int64(3), object(8)\n",
      "memory usage: 85.9+ MB\n"
     ]
    },
    {
     "data": {
      "text/html": [
       "<div>\n",
       "<style scoped>\n",
       "    .dataframe tbody tr th:only-of-type {\n",
       "        vertical-align: middle;\n",
       "    }\n",
       "\n",
       "    .dataframe tbody tr th {\n",
       "        vertical-align: top;\n",
       "    }\n",
       "\n",
       "    .dataframe thead th {\n",
       "        text-align: right;\n",
       "    }\n",
       "</style>\n",
       "<table border=\"1\" class=\"dataframe\">\n",
       "  <thead>\n",
       "    <tr style=\"text-align: right;\">\n",
       "      <th></th>\n",
       "      <th>overall</th>\n",
       "      <th>verified</th>\n",
       "      <th>reviewTime</th>\n",
       "      <th>asin</th>\n",
       "      <th>reviewerName</th>\n",
       "      <th>reviewText</th>\n",
       "      <th>summary</th>\n",
       "      <th>unixReviewTime</th>\n",
       "      <th>vote</th>\n",
       "      <th>style</th>\n",
       "      <th>image</th>\n",
       "      <th>userid</th>\n",
       "      <th>itemid</th>\n",
       "      <th>rating</th>\n",
       "    </tr>\n",
       "  </thead>\n",
       "  <tbody>\n",
       "    <tr>\n",
       "      <th>848584</th>\n",
       "      <td>5.0</td>\n",
       "      <td>True</td>\n",
       "      <td>07 23, 2013</td>\n",
       "      <td>B0005XP7EG</td>\n",
       "      <td>Jenn</td>\n",
       "      <td>I have been dying my hair with food coloring f...</td>\n",
       "      <td>Inexpensive way to dye your hair red or pink i...</td>\n",
       "      <td>1374537600</td>\n",
       "      <td>4.0</td>\n",
       "      <td>{'Size:': ' 16 fl oz', 'Flavor:': ' Red'}</td>\n",
       "      <td>NaN</td>\n",
       "      <td>18667</td>\n",
       "      <td>655</td>\n",
       "      <td>1.0</td>\n",
       "    </tr>\n",
       "    <tr>\n",
       "      <th>612086</th>\n",
       "      <td>5.0</td>\n",
       "      <td>True</td>\n",
       "      <td>02 11, 2018</td>\n",
       "      <td>B00GH1BMQC</td>\n",
       "      <td>Amazon Customer</td>\n",
       "      <td>Great coffee! I use this one in the morning an...</td>\n",
       "      <td>Five Stars</td>\n",
       "      <td>1518307200</td>\n",
       "      <td>NaN</td>\n",
       "      <td>NaN</td>\n",
       "      <td>NaN</td>\n",
       "      <td>14907</td>\n",
       "      <td>26264</td>\n",
       "      <td>1.0</td>\n",
       "    </tr>\n",
       "  </tbody>\n",
       "</table>\n",
       "</div>"
      ],
      "text/plain": [
       "        overall  verified   reviewTime        asin     reviewerName  \\\n",
       "848584      5.0      True  07 23, 2013  B0005XP7EG             Jenn   \n",
       "612086      5.0      True  02 11, 2018  B00GH1BMQC  Amazon Customer   \n",
       "\n",
       "                                               reviewText  \\\n",
       "848584  I have been dying my hair with food coloring f...   \n",
       "612086  Great coffee! I use this one in the morning an...   \n",
       "\n",
       "                                                  summary  unixReviewTime  \\\n",
       "848584  Inexpensive way to dye your hair red or pink i...      1374537600   \n",
       "612086                                         Five Stars      1518307200   \n",
       "\n",
       "       vote                                      style image  userid  itemid  \\\n",
       "848584  4.0  {'Size:': ' 16 fl oz', 'Flavor:': ' Red'}   NaN   18667     655   \n",
       "612086  NaN                                        NaN   NaN   14907   26264   \n",
       "\n",
       "        rating  \n",
       "848584     1.0  \n",
       "612086     1.0  "
      ]
     },
     "execution_count": 4,
     "metadata": {},
     "output_type": "execute_result"
    }
   ],
   "source": [
    "train.info()\n",
    "train.sample(2)"
   ]
  },
  {
   "cell_type": "code",
   "execution_count": 5,
   "id": "pacific-local",
   "metadata": {
    "execution": {
     "iopub.execute_input": "2021-05-31T11:06:40.359423Z",
     "iopub.status.busy": "2021-05-31T11:06:40.358343Z",
     "iopub.status.idle": "2021-05-31T11:06:40.514210Z",
     "shell.execute_reply": "2021-05-31T11:06:40.513690Z",
     "shell.execute_reply.started": "2021-05-31T10:29:56.384953Z"
    },
    "papermill": {
     "duration": 0.30421,
     "end_time": "2021-05-31T11:06:40.514380",
     "exception": false,
     "start_time": "2021-05-31T11:06:40.210170",
     "status": "completed"
    },
    "tags": []
   },
   "outputs": [
    {
     "name": "stdout",
     "output_type": "stream",
     "text": [
      "<class 'pandas.core.frame.DataFrame'>\n",
      "RangeIndex: 285965 entries, 0 to 285964\n",
      "Data columns (total 11 columns):\n",
      " #   Column          Non-Null Count   Dtype \n",
      "---  ------          --------------   ----- \n",
      " 0   verified        285965 non-null  bool  \n",
      " 1   reviewTime      285965 non-null  object\n",
      " 2   asin            285965 non-null  object\n",
      " 3   reviewerName    285918 non-null  object\n",
      " 4   unixReviewTime  285965 non-null  int64 \n",
      " 5   vote            39462 non-null   object\n",
      " 6   style           147680 non-null  object\n",
      " 7   image           2368 non-null    object\n",
      " 8   userid          285965 non-null  int64 \n",
      " 9   itemid          285965 non-null  int64 \n",
      " 10  Id              285965 non-null  int64 \n",
      "dtypes: bool(1), int64(4), object(6)\n",
      "memory usage: 22.1+ MB\n"
     ]
    },
    {
     "data": {
      "text/html": [
       "<div>\n",
       "<style scoped>\n",
       "    .dataframe tbody tr th:only-of-type {\n",
       "        vertical-align: middle;\n",
       "    }\n",
       "\n",
       "    .dataframe tbody tr th {\n",
       "        vertical-align: top;\n",
       "    }\n",
       "\n",
       "    .dataframe thead th {\n",
       "        text-align: right;\n",
       "    }\n",
       "</style>\n",
       "<table border=\"1\" class=\"dataframe\">\n",
       "  <thead>\n",
       "    <tr style=\"text-align: right;\">\n",
       "      <th></th>\n",
       "      <th>verified</th>\n",
       "      <th>reviewTime</th>\n",
       "      <th>asin</th>\n",
       "      <th>reviewerName</th>\n",
       "      <th>unixReviewTime</th>\n",
       "      <th>vote</th>\n",
       "      <th>style</th>\n",
       "      <th>image</th>\n",
       "      <th>userid</th>\n",
       "      <th>itemid</th>\n",
       "      <th>Id</th>\n",
       "    </tr>\n",
       "  </thead>\n",
       "  <tbody>\n",
       "    <tr>\n",
       "      <th>192326</th>\n",
       "      <td>True</td>\n",
       "      <td>11 9, 2014</td>\n",
       "      <td>B001EO617M</td>\n",
       "      <td>Kenneth W. Kostolecki</td>\n",
       "      <td>1415491200</td>\n",
       "      <td>NaN</td>\n",
       "      <td>{'Size:': ' 16 Ounce (Pack of 4)'}</td>\n",
       "      <td>NaN</td>\n",
       "      <td>18431</td>\n",
       "      <td>7863</td>\n",
       "      <td>192326</td>\n",
       "    </tr>\n",
       "    <tr>\n",
       "      <th>254146</th>\n",
       "      <td>True</td>\n",
       "      <td>04 17, 2017</td>\n",
       "      <td>B00DLLWRCY</td>\n",
       "      <td>shopstoomuch</td>\n",
       "      <td>1492387200</td>\n",
       "      <td>NaN</td>\n",
       "      <td>{'Size:': ' 18 Tea Bags'}</td>\n",
       "      <td>NaN</td>\n",
       "      <td>99467</td>\n",
       "      <td>23964</td>\n",
       "      <td>254146</td>\n",
       "    </tr>\n",
       "  </tbody>\n",
       "</table>\n",
       "</div>"
      ],
      "text/plain": [
       "        verified   reviewTime        asin           reviewerName  \\\n",
       "192326      True   11 9, 2014  B001EO617M  Kenneth W. Kostolecki   \n",
       "254146      True  04 17, 2017  B00DLLWRCY           shopstoomuch   \n",
       "\n",
       "        unixReviewTime vote                               style image  userid  \\\n",
       "192326      1415491200  NaN  {'Size:': ' 16 Ounce (Pack of 4)'}   NaN   18431   \n",
       "254146      1492387200  NaN           {'Size:': ' 18 Tea Bags'}   NaN   99467   \n",
       "\n",
       "        itemid      Id  \n",
       "192326    7863  192326  \n",
       "254146   23964  254146  "
      ]
     },
     "execution_count": 5,
     "metadata": {},
     "output_type": "execute_result"
    }
   ],
   "source": [
    "test.info()\n",
    "test.sample(2)"
   ]
  },
  {
   "cell_type": "code",
   "execution_count": 6,
   "id": "executive-clause",
   "metadata": {
    "execution": {
     "iopub.execute_input": "2021-05-31T11:06:41.339241Z",
     "iopub.status.busy": "2021-05-31T11:06:41.338516Z",
     "iopub.status.idle": "2021-05-31T11:06:41.386503Z",
     "shell.execute_reply": "2021-05-31T11:06:41.385870Z",
     "shell.execute_reply.started": "2021-05-31T10:29:56.544992Z"
    },
    "papermill": {
     "duration": 0.728543,
     "end_time": "2021-05-31T11:06:41.386649",
     "exception": false,
     "start_time": "2021-05-31T11:06:40.658106",
     "status": "completed"
    },
    "tags": []
   },
   "outputs": [
    {
     "name": "stdout",
     "output_type": "stream",
     "text": [
      "<class 'pandas.core.frame.DataFrame'>\n",
      "RangeIndex: 287209 entries, 0 to 287208\n",
      "Data columns (total 17 columns):\n",
      " #   Column        Non-Null Count   Dtype \n",
      "---  ------        --------------   ----- \n",
      " 0   category      287209 non-null  object\n",
      " 1   description   251802 non-null  object\n",
      " 2   title         287205 non-null  object\n",
      " 3   brand         275787 non-null  object\n",
      " 4   rank          275494 non-null  object\n",
      " 5   also_view     121012 non-null  object\n",
      " 6   main_cat      285716 non-null  object\n",
      " 7   price         132136 non-null  object\n",
      " 8   asin          287209 non-null  object\n",
      " 9   also_buy      83332 non-null   object\n",
      " 10  image         150214 non-null  object\n",
      " 11  date          9663 non-null    object\n",
      " 12  feature       16374 non-null   object\n",
      " 13  details       273323 non-null  object\n",
      " 14  similar_item  256 non-null     object\n",
      " 15  tech1         744 non-null     object\n",
      " 16  fit           4 non-null       object\n",
      "dtypes: object(17)\n",
      "memory usage: 37.3+ MB\n"
     ]
    },
    {
     "data": {
      "text/html": [
       "<div>\n",
       "<style scoped>\n",
       "    .dataframe tbody tr th:only-of-type {\n",
       "        vertical-align: middle;\n",
       "    }\n",
       "\n",
       "    .dataframe tbody tr th {\n",
       "        vertical-align: top;\n",
       "    }\n",
       "\n",
       "    .dataframe thead th {\n",
       "        text-align: right;\n",
       "    }\n",
       "</style>\n",
       "<table border=\"1\" class=\"dataframe\">\n",
       "  <thead>\n",
       "    <tr style=\"text-align: right;\">\n",
       "      <th></th>\n",
       "      <th>category</th>\n",
       "      <th>description</th>\n",
       "      <th>title</th>\n",
       "      <th>brand</th>\n",
       "      <th>rank</th>\n",
       "      <th>also_view</th>\n",
       "      <th>main_cat</th>\n",
       "      <th>price</th>\n",
       "      <th>asin</th>\n",
       "      <th>also_buy</th>\n",
       "      <th>image</th>\n",
       "      <th>date</th>\n",
       "      <th>feature</th>\n",
       "      <th>details</th>\n",
       "      <th>similar_item</th>\n",
       "      <th>tech1</th>\n",
       "      <th>fit</th>\n",
       "    </tr>\n",
       "  </thead>\n",
       "  <tbody>\n",
       "    <tr>\n",
       "      <th>252472</th>\n",
       "      <td>[Grocery &amp; Gourmet Food, Beverages, Coffee, Te...</td>\n",
       "      <td>[You know that couple who completes each other...</td>\n",
       "      <td>Califia Farms Cold Brew Coffee with Almondmilk...</td>\n",
       "      <td>Califia Farms</td>\n",
       "      <td>289,183inGroceryGourmetFood(</td>\n",
       "      <td>[B01KSX67T6]</td>\n",
       "      <td>Grocery</td>\n",
       "      <td>NaN</td>\n",
       "      <td>B012CIK35O</td>\n",
       "      <td>[B0136MFJF4, B00MIK62YS, B01FJWL7EG, B000SRJZZ...</td>\n",
       "      <td>[https://images-na.ssl-images-amazon.com/image...</td>\n",
       "      <td>NaN</td>\n",
       "      <td>NaN</td>\n",
       "      <td>\\n      &lt;div class=\"content\"&gt;\\n\\n\\n\\n\\n\\n\\n&lt;ul...</td>\n",
       "      <td>NaN</td>\n",
       "      <td>NaN</td>\n",
       "      <td>NaN</td>\n",
       "    </tr>\n",
       "    <tr>\n",
       "      <th>261845</th>\n",
       "      <td>[Grocery &amp; Gourmet Food, Beverages, Coffee, Te...</td>\n",
       "      <td>[A true classic - our Original Blend is rich, ...</td>\n",
       "      <td>Kcup Dunkin' Donuts Orig</td>\n",
       "      <td>M Block And Sons Inc</td>\n",
       "      <td>328,969inGroceryGourmetFood(</td>\n",
       "      <td>[B00XA1075Y]</td>\n",
       "      <td>Grocery</td>\n",
       "      <td>NaN</td>\n",
       "      <td>B016V1LPKA</td>\n",
       "      <td>NaN</td>\n",
       "      <td>[https://images-na.ssl-images-amazon.com/image...</td>\n",
       "      <td>NaN</td>\n",
       "      <td>NaN</td>\n",
       "      <td>\\n      &lt;div class=\"content\"&gt;\\n\\n\\n\\n\\n\\n\\n&lt;ul...</td>\n",
       "      <td>NaN</td>\n",
       "      <td>NaN</td>\n",
       "      <td>NaN</td>\n",
       "    </tr>\n",
       "  </tbody>\n",
       "</table>\n",
       "</div>"
      ],
      "text/plain": [
       "                                                 category  \\\n",
       "252472  [Grocery & Gourmet Food, Beverages, Coffee, Te...   \n",
       "261845  [Grocery & Gourmet Food, Beverages, Coffee, Te...   \n",
       "\n",
       "                                              description  \\\n",
       "252472  [You know that couple who completes each other...   \n",
       "261845  [A true classic - our Original Blend is rich, ...   \n",
       "\n",
       "                                                    title  \\\n",
       "252472  Califia Farms Cold Brew Coffee with Almondmilk...   \n",
       "261845                           Kcup Dunkin' Donuts Orig   \n",
       "\n",
       "                       brand                          rank     also_view  \\\n",
       "252472         Califia Farms  289,183inGroceryGourmetFood(  [B01KSX67T6]   \n",
       "261845  M Block And Sons Inc  328,969inGroceryGourmetFood(  [B00XA1075Y]   \n",
       "\n",
       "       main_cat price        asin  \\\n",
       "252472  Grocery   NaN  B012CIK35O   \n",
       "261845  Grocery   NaN  B016V1LPKA   \n",
       "\n",
       "                                                 also_buy  \\\n",
       "252472  [B0136MFJF4, B00MIK62YS, B01FJWL7EG, B000SRJZZ...   \n",
       "261845                                                NaN   \n",
       "\n",
       "                                                    image date feature  \\\n",
       "252472  [https://images-na.ssl-images-amazon.com/image...  NaN     NaN   \n",
       "261845  [https://images-na.ssl-images-amazon.com/image...  NaN     NaN   \n",
       "\n",
       "                                                  details similar_item tech1  \\\n",
       "252472  \\n      <div class=\"content\">\\n\\n\\n\\n\\n\\n\\n<ul...          NaN   NaN   \n",
       "261845  \\n      <div class=\"content\">\\n\\n\\n\\n\\n\\n\\n<ul...          NaN   NaN   \n",
       "\n",
       "        fit  \n",
       "252472  NaN  \n",
       "261845  NaN  "
      ]
     },
     "execution_count": 6,
     "metadata": {},
     "output_type": "execute_result"
    }
   ],
   "source": [
    "meta.info()\n",
    "meta.sample(2)"
   ]
  },
  {
   "cell_type": "code",
   "execution_count": 7,
   "id": "promising-renaissance",
   "metadata": {
    "execution": {
     "iopub.execute_input": "2021-05-31T11:06:41.681812Z",
     "iopub.status.busy": "2021-05-31T11:06:41.680408Z",
     "iopub.status.idle": "2021-05-31T11:06:44.066079Z",
     "shell.execute_reply": "2021-05-31T11:06:44.065543Z",
     "shell.execute_reply.started": "2021-05-31T10:29:57.099908Z"
    },
    "papermill": {
     "duration": 2.534298,
     "end_time": "2021-05-31T11:06:44.066237",
     "exception": false,
     "start_time": "2021-05-31T11:06:41.531939",
     "status": "completed"
    },
    "tags": []
   },
   "outputs": [],
   "source": [
    "# meta = meta.iloc[meta.astype(str).drop_duplicates().index]\n",
    "train = train.drop_duplicates()"
   ]
  },
  {
   "cell_type": "code",
   "execution_count": 8,
   "id": "broken-angel",
   "metadata": {
    "execution": {
     "iopub.execute_input": "2021-05-31T11:06:44.359158Z",
     "iopub.status.busy": "2021-05-31T11:06:44.358492Z",
     "iopub.status.idle": "2021-05-31T11:06:47.112417Z",
     "shell.execute_reply": "2021-05-31T11:06:47.112947Z",
     "shell.execute_reply.started": "2021-05-31T10:29:59.514082Z"
    },
    "papermill": {
     "duration": 2.90346,
     "end_time": "2021-05-31T11:06:47.113123",
     "exception": false,
     "start_time": "2021-05-31T11:06:44.209663",
     "status": "completed"
    },
    "tags": []
   },
   "outputs": [],
   "source": [
    "train['sample'] = 1\n",
    "test['sample'] = 0\n",
    "test['rating'] = -1\n",
    "\n",
    "# data = test.append(train, sort=False).reset_index(drop=True)\n",
    "data_full = pd.merge(train, meta, on='asin')"
   ]
  },
  {
   "cell_type": "code",
   "execution_count": 9,
   "id": "circular-lobby",
   "metadata": {
    "execution": {
     "iopub.execute_input": "2021-05-31T11:06:47.402451Z",
     "iopub.status.busy": "2021-05-31T11:06:47.401475Z",
     "iopub.status.idle": "2021-05-31T11:06:50.295234Z",
     "shell.execute_reply": "2021-05-31T11:06:50.295965Z",
     "shell.execute_reply.started": "2021-05-31T10:30:02.250557Z"
    },
    "papermill": {
     "duration": 3.040098,
     "end_time": "2021-05-31T11:06:50.296161",
     "exception": false,
     "start_time": "2021-05-31T11:06:47.256063",
     "status": "completed"
    },
    "tags": []
   },
   "outputs": [
    {
     "name": "stdout",
     "output_type": "stream",
     "text": [
      "<class 'pandas.core.frame.DataFrame'>\n",
      "Int64Index: 847593 entries, 0 to 847592\n",
      "Data columns (total 31 columns):\n",
      " #   Column          Non-Null Count   Dtype  \n",
      "---  ------          --------------   -----  \n",
      " 0   overall         847593 non-null  float64\n",
      " 1   verified        847593 non-null  bool   \n",
      " 2   reviewTime      847593 non-null  object \n",
      " 3   asin            847593 non-null  object \n",
      " 4   reviewerName    847425 non-null  object \n",
      " 5   reviewText      847315 non-null  object \n",
      " 6   summary         847426 non-null  object \n",
      " 7   unixReviewTime  847593 non-null  int64  \n",
      " 8   vote            118861 non-null  object \n",
      " 9   style           440351 non-null  object \n",
      " 10  image_x         7138 non-null    object \n",
      " 11  userid          847593 non-null  int64  \n",
      " 12  itemid          847593 non-null  int64  \n",
      " 13  rating          847593 non-null  float64\n",
      " 14  sample          847593 non-null  int64  \n",
      " 15  category        847593 non-null  object \n",
      " 16  description     776098 non-null  object \n",
      " 17  title           847593 non-null  object \n",
      " 18  brand           841489 non-null  object \n",
      " 19  rank            812995 non-null  object \n",
      " 20  also_view       463371 non-null  object \n",
      " 21  main_cat        846638 non-null  object \n",
      " 22  price           588972 non-null  object \n",
      " 23  also_buy        726858 non-null  object \n",
      " 24  image_y         755354 non-null  object \n",
      " 25  date            12087 non-null   object \n",
      " 26  feature         142734 non-null  object \n",
      " 27  details         832985 non-null  object \n",
      " 28  similar_item    1138 non-null    object \n",
      " 29  tech1           4372 non-null    object \n",
      " 30  fit             0 non-null       object \n",
      "dtypes: bool(1), float64(2), int64(4), object(24)\n",
      "memory usage: 201.3+ MB\n"
     ]
    },
    {
     "data": {
      "text/html": [
       "<div>\n",
       "<style scoped>\n",
       "    .dataframe tbody tr th:only-of-type {\n",
       "        vertical-align: middle;\n",
       "    }\n",
       "\n",
       "    .dataframe tbody tr th {\n",
       "        vertical-align: top;\n",
       "    }\n",
       "\n",
       "    .dataframe thead th {\n",
       "        text-align: right;\n",
       "    }\n",
       "</style>\n",
       "<table border=\"1\" class=\"dataframe\">\n",
       "  <thead>\n",
       "    <tr style=\"text-align: right;\">\n",
       "      <th></th>\n",
       "      <th>overall</th>\n",
       "      <th>verified</th>\n",
       "      <th>reviewTime</th>\n",
       "      <th>asin</th>\n",
       "      <th>reviewerName</th>\n",
       "      <th>reviewText</th>\n",
       "      <th>summary</th>\n",
       "      <th>unixReviewTime</th>\n",
       "      <th>vote</th>\n",
       "      <th>style</th>\n",
       "      <th>image_x</th>\n",
       "      <th>userid</th>\n",
       "      <th>itemid</th>\n",
       "      <th>rating</th>\n",
       "      <th>sample</th>\n",
       "      <th>category</th>\n",
       "      <th>description</th>\n",
       "      <th>title</th>\n",
       "      <th>brand</th>\n",
       "      <th>rank</th>\n",
       "      <th>also_view</th>\n",
       "      <th>main_cat</th>\n",
       "      <th>price</th>\n",
       "      <th>also_buy</th>\n",
       "      <th>image_y</th>\n",
       "      <th>date</th>\n",
       "      <th>feature</th>\n",
       "      <th>details</th>\n",
       "      <th>similar_item</th>\n",
       "      <th>tech1</th>\n",
       "      <th>fit</th>\n",
       "    </tr>\n",
       "  </thead>\n",
       "  <tbody>\n",
       "    <tr>\n",
       "      <th>159967</th>\n",
       "      <td>4.0</td>\n",
       "      <td>True</td>\n",
       "      <td>12 8, 2015</td>\n",
       "      <td>B000YBKP50</td>\n",
       "      <td>Olivia</td>\n",
       "      <td>A childhood memory of the Claxton Fruit Cake t...</td>\n",
       "      <td>See Pictures!  Trusted Claxton Brand that has ...</td>\n",
       "      <td>1449532800</td>\n",
       "      <td>12.0</td>\n",
       "      <td>{'Size:': ' 1 Lb'}</td>\n",
       "      <td>['https://images-na.ssl-images-amazon.com/imag...</td>\n",
       "      <td>1770</td>\n",
       "      <td>5287</td>\n",
       "      <td>1.0</td>\n",
       "      <td>1</td>\n",
       "      <td>[Grocery &amp; Gourmet Food, Breads &amp; Bakery, Cakes]</td>\n",
       "      <td>[The perfect choice for those on your holiday ...</td>\n",
       "      <td>FRUIT CAKE Boxed -1 lb Regular Recipe Claxton ...</td>\n",
       "      <td>Claxton Fruitcake</td>\n",
       "      <td>2,885inGroceryGourmetFood(</td>\n",
       "      <td>[B017V6ENVM, B000YCNFCY, B000YGOLR8, B002UZW4L...</td>\n",
       "      <td>Grocery</td>\n",
       "      <td>$8.99</td>\n",
       "      <td>[B000YCNFCY, B017V6ENVM, B017L5YQPG, B002UZW4L...</td>\n",
       "      <td>[https://images-na.ssl-images-amazon.com/image...</td>\n",
       "      <td>NaN</td>\n",
       "      <td>NaN</td>\n",
       "      <td>\\n\\n\\n\\n\\n\\n    &lt;div class=\"disclaim\"&gt;Size: &lt;s...</td>\n",
       "      <td>NaN</td>\n",
       "      <td>NaN</td>\n",
       "      <td>NaN</td>\n",
       "    </tr>\n",
       "    <tr>\n",
       "      <th>256941</th>\n",
       "      <td>3.0</td>\n",
       "      <td>True</td>\n",
       "      <td>08 4, 2015</td>\n",
       "      <td>B006G7WD2O</td>\n",
       "      <td>Jamie</td>\n",
       "      <td>not as good as other brands i've tried</td>\n",
       "      <td>Three Stars</td>\n",
       "      <td>1438646400</td>\n",
       "      <td>NaN</td>\n",
       "      <td>{'Size:': ' Ethiopian Yirgacheffe', 'Style:': ...</td>\n",
       "      <td>NaN</td>\n",
       "      <td>63756</td>\n",
       "      <td>17347</td>\n",
       "      <td>0.0</td>\n",
       "      <td>1</td>\n",
       "      <td>[Grocery &amp; Gourmet Food, Beverages, Coffee, Te...</td>\n",
       "      <td>[This full bodied, yet well-balanced coffee of...</td>\n",
       "      <td>Marley Coffee, Organic Lively Up! Espresso Who...</td>\n",
       "      <td>Marley Coffee</td>\n",
       "      <td>191,517inGroceryGourmetFood(</td>\n",
       "      <td>NaN</td>\n",
       "      <td>Grocery</td>\n",
       "      <td>$34.42</td>\n",
       "      <td>[B01G26ET16, B01CI42XE6, B0066FDYB0, B009R2US7...</td>\n",
       "      <td>[https://images-na.ssl-images-amazon.com/image...</td>\n",
       "      <td>NaN</td>\n",
       "      <td>NaN</td>\n",
       "      <td>\\n\\n\\n\\n\\n\\n    &lt;div class=\"disclaim\"&gt;Size: &lt;s...</td>\n",
       "      <td>NaN</td>\n",
       "      <td>NaN</td>\n",
       "      <td>NaN</td>\n",
       "    </tr>\n",
       "  </tbody>\n",
       "</table>\n",
       "</div>"
      ],
      "text/plain": [
       "        overall  verified  reviewTime        asin reviewerName  \\\n",
       "159967      4.0      True  12 8, 2015  B000YBKP50       Olivia   \n",
       "256941      3.0      True  08 4, 2015  B006G7WD2O        Jamie   \n",
       "\n",
       "                                               reviewText  \\\n",
       "159967  A childhood memory of the Claxton Fruit Cake t...   \n",
       "256941             not as good as other brands i've tried   \n",
       "\n",
       "                                                  summary  unixReviewTime  \\\n",
       "159967  See Pictures!  Trusted Claxton Brand that has ...      1449532800   \n",
       "256941                                        Three Stars      1438646400   \n",
       "\n",
       "        vote                                              style  \\\n",
       "159967  12.0                                 {'Size:': ' 1 Lb'}   \n",
       "256941   NaN  {'Size:': ' Ethiopian Yirgacheffe', 'Style:': ...   \n",
       "\n",
       "                                                  image_x  userid  itemid  \\\n",
       "159967  ['https://images-na.ssl-images-amazon.com/imag...    1770    5287   \n",
       "256941                                                NaN   63756   17347   \n",
       "\n",
       "        rating  sample                                           category  \\\n",
       "159967     1.0       1   [Grocery & Gourmet Food, Breads & Bakery, Cakes]   \n",
       "256941     0.0       1  [Grocery & Gourmet Food, Beverages, Coffee, Te...   \n",
       "\n",
       "                                              description  \\\n",
       "159967  [The perfect choice for those on your holiday ...   \n",
       "256941  [This full bodied, yet well-balanced coffee of...   \n",
       "\n",
       "                                                    title              brand  \\\n",
       "159967  FRUIT CAKE Boxed -1 lb Regular Recipe Claxton ...  Claxton Fruitcake   \n",
       "256941  Marley Coffee, Organic Lively Up! Espresso Who...      Marley Coffee   \n",
       "\n",
       "                                rank  \\\n",
       "159967    2,885inGroceryGourmetFood(   \n",
       "256941  191,517inGroceryGourmetFood(   \n",
       "\n",
       "                                                also_view main_cat   price  \\\n",
       "159967  [B017V6ENVM, B000YCNFCY, B000YGOLR8, B002UZW4L...  Grocery   $8.99   \n",
       "256941                                                NaN  Grocery  $34.42   \n",
       "\n",
       "                                                 also_buy  \\\n",
       "159967  [B000YCNFCY, B017V6ENVM, B017L5YQPG, B002UZW4L...   \n",
       "256941  [B01G26ET16, B01CI42XE6, B0066FDYB0, B009R2US7...   \n",
       "\n",
       "                                                  image_y date feature  \\\n",
       "159967  [https://images-na.ssl-images-amazon.com/image...  NaN     NaN   \n",
       "256941  [https://images-na.ssl-images-amazon.com/image...  NaN     NaN   \n",
       "\n",
       "                                                  details similar_item tech1  \\\n",
       "159967  \\n\\n\\n\\n\\n\\n    <div class=\"disclaim\">Size: <s...          NaN   NaN   \n",
       "256941  \\n\\n\\n\\n\\n\\n    <div class=\"disclaim\">Size: <s...          NaN   NaN   \n",
       "\n",
       "        fit  \n",
       "159967  NaN  \n",
       "256941  NaN  "
      ]
     },
     "execution_count": 9,
     "metadata": {},
     "output_type": "execute_result"
    }
   ],
   "source": [
    "data_full.info()\n",
    "data_full.sample(2)"
   ]
  },
  {
   "cell_type": "code",
   "execution_count": 10,
   "id": "induced-deputy",
   "metadata": {
    "execution": {
     "iopub.execute_input": "2021-05-31T11:06:50.602093Z",
     "iopub.status.busy": "2021-05-31T11:06:50.601098Z",
     "iopub.status.idle": "2021-05-31T11:06:50.967888Z",
     "shell.execute_reply": "2021-05-31T11:06:50.967183Z",
     "shell.execute_reply.started": "2021-05-31T10:30:05.172191Z"
    },
    "papermill": {
     "duration": 0.514833,
     "end_time": "2021-05-31T11:06:50.968025",
     "exception": false,
     "start_time": "2021-05-31T11:06:50.453192",
     "status": "completed"
    },
    "tags": []
   },
   "outputs": [],
   "source": [
    "df=data_full.copy()"
   ]
  },
  {
   "cell_type": "markdown",
   "id": "attended-producer",
   "metadata": {
    "papermill": {
     "duration": 0.145226,
     "end_time": "2021-05-31T11:06:51.265848",
     "exception": false,
     "start_time": "2021-05-31T11:06:51.120622",
     "status": "completed"
    },
    "tags": []
   },
   "source": [
    "# EDA"
   ]
  },
  {
   "cell_type": "code",
   "execution_count": 11,
   "id": "given-voice",
   "metadata": {
    "execution": {
     "iopub.execute_input": "2021-05-31T11:06:51.613344Z",
     "iopub.status.busy": "2021-05-31T11:06:51.612051Z",
     "iopub.status.idle": "2021-05-31T11:06:53.382499Z",
     "shell.execute_reply": "2021-05-31T11:06:53.381861Z",
     "shell.execute_reply.started": "2021-05-31T10:30:05.548686Z"
    },
    "papermill": {
     "duration": 1.972423,
     "end_time": "2021-05-31T11:06:53.382635",
     "exception": false,
     "start_time": "2021-05-31T11:06:51.410212",
     "status": "completed"
    },
    "tags": []
   },
   "outputs": [
    {
     "data": {
      "text/plain": [
       "overall                0\n",
       "verified               0\n",
       "reviewTime             0\n",
       "asin                   0\n",
       "reviewerName         168\n",
       "reviewText           278\n",
       "summary              167\n",
       "unixReviewTime         0\n",
       "vote              728732\n",
       "style             407242\n",
       "image_x           840455\n",
       "userid                 0\n",
       "itemid                 0\n",
       "rating                 0\n",
       "sample                 0\n",
       "category               0\n",
       "description        71495\n",
       "title                  0\n",
       "brand               6104\n",
       "rank               34598\n",
       "also_view         384222\n",
       "main_cat             955\n",
       "price             258621\n",
       "also_buy          120735\n",
       "image_y            92239\n",
       "date              835506\n",
       "feature           704859\n",
       "details            14608\n",
       "similar_item      846455\n",
       "tech1             843221\n",
       "fit               847593\n",
       "dtype: int64"
      ]
     },
     "execution_count": 11,
     "metadata": {},
     "output_type": "execute_result"
    }
   ],
   "source": [
    "df.isna().sum()"
   ]
  },
  {
   "cell_type": "code",
   "execution_count": 12,
   "id": "anonymous-pastor",
   "metadata": {
    "execution": {
     "iopub.execute_input": "2021-05-31T11:06:53.692707Z",
     "iopub.status.busy": "2021-05-31T11:06:53.692003Z",
     "iopub.status.idle": "2021-05-31T11:07:18.282175Z",
     "shell.execute_reply": "2021-05-31T11:07:18.282813Z",
     "shell.execute_reply.started": "2021-05-31T10:30:07.318107Z"
    },
    "papermill": {
     "duration": 24.756705,
     "end_time": "2021-05-31T11:07:18.283221",
     "exception": false,
     "start_time": "2021-05-31T11:06:53.526516",
     "status": "completed"
    },
    "tags": []
   },
   "outputs": [
    {
     "data": {
      "image/png": "[encoded data removed]",
      "text/plain": [
       "<Figure size 1440x1080 with 1 Axes>"
      ]
     },
     "metadata": {
      "needs_background": "light"
     },
     "output_type": "display_data"
    }
   ],
   "source": [
    "fig, ax = plt.subplots(figsize=(20,15))\n",
    "sns_heatmap = sns.heatmap(df.isnull(), yticklabels=False, cbar=False, cmap='viridis')"
   ]
  },
  {
   "cell_type": "markdown",
   "id": "armed-narrow",
   "metadata": {
    "papermill": {
     "duration": 0.145372,
     "end_time": "2021-05-31T11:07:18.577922",
     "exception": false,
     "start_time": "2021-05-31T11:07:18.432550",
     "status": "completed"
    },
    "tags": []
   },
   "source": [
    "Видим, что пропусков очень много, часть колонок не будут использоваться вообще, поэтому придется выжимать информацию из других. "
   ]
  },
  {
   "cell_type": "code",
   "execution_count": 13,
   "id": "progressive-rubber",
   "metadata": {
    "execution": {
     "iopub.execute_input": "2021-05-31T11:07:18.875632Z",
     "iopub.status.busy": "2021-05-31T11:07:18.874888Z",
     "iopub.status.idle": "2021-05-31T11:07:18.883605Z",
     "shell.execute_reply": "2021-05-31T11:07:18.884158Z",
     "shell.execute_reply.started": "2021-05-31T10:30:31.367278Z"
    },
    "papermill": {
     "duration": 0.159385,
     "end_time": "2021-05-31T11:07:18.884355",
     "exception": false,
     "start_time": "2021-05-31T11:07:18.724970",
     "status": "completed"
    },
    "tags": []
   },
   "outputs": [],
   "source": [
    "def show_info(col):\n",
    "    print('Сколько пропусков? {}'.format(col.isna().sum()))\n",
    "    print()\n",
    "    print('Процент пропусков? {}%'.format((col.isna().sum() /len(col)) *100))\n",
    "    print()      \n",
    "    print('Описание:\\n{}'.format(col.describe()))\n",
    "    print()\n",
    "    print('Как распределено?\\n{}'.format(col.value_counts()))\n",
    "    \n",
    "def show_info_hist(col):\n",
    "    print('Сколько пропусков? {}'.format(col.isna().sum()))\n",
    "    print()\n",
    "    print('Процент пропусков? {}%'.format((col.isna().sum() /len(col)) *100))\n",
    "    print() \n",
    "    print('Описание:\\n{}'.format(col.describe()))\n",
    "    print()\n",
    "    print('Как распределено?\\n{}'.format(col.value_counts()))\n",
    "    col.hist()"
   ]
  },
  {
   "cell_type": "code",
   "execution_count": 14,
   "id": "female-valve",
   "metadata": {
    "execution": {
     "iopub.execute_input": "2021-05-31T11:07:19.179891Z",
     "iopub.status.busy": "2021-05-31T11:07:19.179182Z",
     "iopub.status.idle": "2021-05-31T11:07:19.186689Z",
     "shell.execute_reply": "2021-05-31T11:07:19.186130Z",
     "shell.execute_reply.started": "2021-05-31T10:30:31.377124Z"
    },
    "papermill": {
     "duration": 0.156257,
     "end_time": "2021-05-31T11:07:19.186828",
     "exception": false,
     "start_time": "2021-05-31T11:07:19.030571",
     "status": "completed"
    },
    "tags": []
   },
   "outputs": [
    {
     "data": {
      "text/plain": [
       "Index(['overall', 'verified', 'reviewTime', 'asin', 'reviewerName',\n",
       "       'reviewText', 'summary', 'unixReviewTime', 'vote', 'style', 'image_x',\n",
       "       'userid', 'itemid', 'rating', 'sample', 'category', 'description',\n",
       "       'title', 'brand', 'rank', 'also_view', 'main_cat', 'price', 'also_buy',\n",
       "       'image_y', 'date', 'feature', 'details', 'similar_item', 'tech1',\n",
       "       'fit'],\n",
       "      dtype='object')"
      ]
     },
     "execution_count": 14,
     "metadata": {},
     "output_type": "execute_result"
    }
   ],
   "source": [
    "df.columns"
   ]
  },
  {
   "cell_type": "code",
   "execution_count": 15,
   "id": "major-hawaii",
   "metadata": {
    "execution": {
     "iopub.execute_input": "2021-05-31T11:07:19.483296Z",
     "iopub.status.busy": "2021-05-31T11:07:19.482601Z",
     "iopub.status.idle": "2021-05-31T11:07:19.485112Z",
     "shell.execute_reply": "2021-05-31T11:07:19.485554Z",
     "shell.execute_reply.started": "2021-05-31T10:30:31.394096Z"
    },
    "papermill": {
     "duration": 0.153289,
     "end_time": "2021-05-31T11:07:19.485726",
     "exception": false,
     "start_time": "2021-05-31T11:07:19.332437",
     "status": "completed"
    },
    "tags": []
   },
   "outputs": [],
   "source": [
    "df_dict={}"
   ]
  },
  {
   "cell_type": "markdown",
   "id": "silent-parallel",
   "metadata": {
    "papermill": {
     "duration": 0.148929,
     "end_time": "2021-05-31T11:07:19.780817",
     "exception": false,
     "start_time": "2021-05-31T11:07:19.631888",
     "status": "completed"
    },
    "tags": []
   },
   "source": [
    "## overall"
   ]
  },
  {
   "cell_type": "code",
   "execution_count": 16,
   "id": "basic-legislation",
   "metadata": {
    "execution": {
     "iopub.execute_input": "2021-05-31T11:07:20.082154Z",
     "iopub.status.busy": "2021-05-31T11:07:20.081528Z",
     "iopub.status.idle": "2021-05-31T11:07:20.405416Z",
     "shell.execute_reply": "2021-05-31T11:07:20.404716Z",
     "shell.execute_reply.started": "2021-05-31T10:30:31.404964Z"
    },
    "papermill": {
     "duration": 0.478083,
     "end_time": "2021-05-31T11:07:20.405561",
     "exception": false,
     "start_time": "2021-05-31T11:07:19.927478",
     "status": "completed"
    },
    "tags": []
   },
   "outputs": [
    {
     "name": "stdout",
     "output_type": "stream",
     "text": [
      "Сколько пропусков? 0\n",
      "\n",
      "Процент пропусков? 0.0%\n",
      "\n",
      "Описание:\n",
      "count    847593.000000\n",
      "mean          4.441068\n",
      "std           1.065026\n",
      "min           1.000000\n",
      "25%           4.000000\n",
      "50%           5.000000\n",
      "75%           5.000000\n",
      "max           5.000000\n",
      "Name: overall, dtype: float64\n",
      "\n",
      "Как распределено?\n",
      "5.0    607524\n",
      "4.0    111868\n",
      "3.0     59795\n",
      "1.0     37071\n",
      "2.0     31335\n",
      "Name: overall, dtype: int64\n"
     ]
    },
    {
     "data": {
      "image/png": "[encoded data removed]",
      "text/plain": [
       "<Figure size 432x288 with 1 Axes>"
      ]
     },
     "metadata": {
      "needs_background": "light"
     },
     "output_type": "display_data"
    }
   ],
   "source": [
    "show_info_hist(df.overall)"
   ]
  },
  {
   "cell_type": "code",
   "execution_count": 17,
   "id": "higher-recycling",
   "metadata": {
    "execution": {
     "iopub.execute_input": "2021-05-31T11:07:20.709112Z",
     "iopub.status.busy": "2021-05-31T11:07:20.708184Z",
     "iopub.status.idle": "2021-05-31T11:07:20.717587Z",
     "shell.execute_reply": "2021-05-31T11:07:20.716966Z",
     "shell.execute_reply.started": "2021-05-31T10:30:31.723381Z"
    },
    "papermill": {
     "duration": 0.164083,
     "end_time": "2021-05-31T11:07:20.717736",
     "exception": false,
     "start_time": "2021-05-31T11:07:20.553653",
     "status": "completed"
    },
    "tags": []
   },
   "outputs": [],
   "source": [
    "df['overall']=df['overall'].astype('int32')"
   ]
  },
  {
   "cell_type": "code",
   "execution_count": 18,
   "id": "afraid-modern",
   "metadata": {
    "execution": {
     "iopub.execute_input": "2021-05-31T11:07:21.025558Z",
     "iopub.status.busy": "2021-05-31T11:07:21.024524Z",
     "iopub.status.idle": "2021-05-31T11:07:21.026944Z",
     "shell.execute_reply": "2021-05-31T11:07:21.027484Z",
     "shell.execute_reply.started": "2021-05-31T10:30:31.735940Z"
    },
    "papermill": {
     "duration": 0.161226,
     "end_time": "2021-05-31T11:07:21.027653",
     "exception": false,
     "start_time": "2021-05-31T11:07:20.866427",
     "status": "completed"
    },
    "tags": []
   },
   "outputs": [],
   "source": [
    "df_dict['overall']='Обработано, 5 видов значений'"
   ]
  },
  {
   "cell_type": "markdown",
   "id": "effective-booking",
   "metadata": {
    "papermill": {
     "duration": 0.146953,
     "end_time": "2021-05-31T11:07:21.322852",
     "exception": false,
     "start_time": "2021-05-31T11:07:21.175899",
     "status": "completed"
    },
    "tags": []
   },
   "source": [
    "## verified "
   ]
  },
  {
   "cell_type": "code",
   "execution_count": 19,
   "id": "parental-expert",
   "metadata": {
    "execution": {
     "iopub.execute_input": "2021-05-31T11:07:21.620728Z",
     "iopub.status.busy": "2021-05-31T11:07:21.619732Z",
     "iopub.status.idle": "2021-05-31T11:07:21.672698Z",
     "shell.execute_reply": "2021-05-31T11:07:21.672152Z",
     "shell.execute_reply.started": "2021-05-31T10:30:31.746135Z"
    },
    "papermill": {
     "duration": 0.20341,
     "end_time": "2021-05-31T11:07:21.672855",
     "exception": false,
     "start_time": "2021-05-31T11:07:21.469445",
     "status": "completed"
    },
    "tags": []
   },
   "outputs": [
    {
     "name": "stdout",
     "output_type": "stream",
     "text": [
      "Сколько пропусков? 0\n",
      "\n",
      "Процент пропусков? 0.0%\n",
      "\n",
      "Описание:\n",
      "count     847593\n",
      "unique         2\n",
      "top         True\n",
      "freq      736369\n",
      "Name: verified, dtype: object\n",
      "\n",
      "Как распределено?\n",
      "True     736369\n",
      "False    111224\n",
      "Name: verified, dtype: int64\n"
     ]
    }
   ],
   "source": [
    "show_info(df.verified)"
   ]
  },
  {
   "cell_type": "code",
   "execution_count": 20,
   "id": "scenic-china",
   "metadata": {
    "execution": {
     "iopub.execute_input": "2021-05-31T11:07:21.975173Z",
     "iopub.status.busy": "2021-05-31T11:07:21.974544Z",
     "iopub.status.idle": "2021-05-31T11:07:22.060917Z",
     "shell.execute_reply": "2021-05-31T11:07:22.060249Z",
     "shell.execute_reply.started": "2021-05-31T10:30:31.802129Z"
    },
    "papermill": {
     "duration": 0.239903,
     "end_time": "2021-05-31T11:07:22.061071",
     "exception": false,
     "start_time": "2021-05-31T11:07:21.821168",
     "status": "completed"
    },
    "tags": []
   },
   "outputs": [],
   "source": [
    "dict_verified = {\n",
    "    True: 1,\n",
    "    False: 0\n",
    "}\n",
    "df.verified = df.verified.map(dict_verified)"
   ]
  },
  {
   "cell_type": "code",
   "execution_count": 21,
   "id": "integrated-newark",
   "metadata": {
    "execution": {
     "iopub.execute_input": "2021-05-31T11:07:22.360688Z",
     "iopub.status.busy": "2021-05-31T11:07:22.360036Z",
     "iopub.status.idle": "2021-05-31T11:07:22.605205Z",
     "shell.execute_reply": "2021-05-31T11:07:22.605700Z",
     "shell.execute_reply.started": "2021-05-31T10:30:31.888804Z"
    },
    "papermill": {
     "duration": 0.3977,
     "end_time": "2021-05-31T11:07:22.605877",
     "exception": false,
     "start_time": "2021-05-31T11:07:22.208177",
     "status": "completed"
    },
    "tags": []
   },
   "outputs": [
    {
     "name": "stdout",
     "output_type": "stream",
     "text": [
      "Сколько пропусков? 0\n",
      "\n",
      "Процент пропусков? 0.0%\n",
      "\n",
      "Описание:\n",
      "count    847593.000000\n",
      "mean          0.868777\n",
      "std           0.337645\n",
      "min           0.000000\n",
      "25%           1.000000\n",
      "50%           1.000000\n",
      "75%           1.000000\n",
      "max           1.000000\n",
      "Name: verified, dtype: float64\n",
      "\n",
      "Как распределено?\n",
      "1    736369\n",
      "0    111224\n",
      "Name: verified, dtype: int64\n"
     ]
    },
    {
     "data": {
      "image/png": "[encoded data removed]",
      "text/plain": [
       "<Figure size 432x288 with 1 Axes>"
      ]
     },
     "metadata": {
      "needs_background": "light"
     },
     "output_type": "display_data"
    }
   ],
   "source": [
    "show_info_hist(df.verified)"
   ]
  },
  {
   "cell_type": "code",
   "execution_count": 22,
   "id": "western-logging",
   "metadata": {
    "execution": {
     "iopub.execute_input": "2021-05-31T11:07:22.909203Z",
     "iopub.status.busy": "2021-05-31T11:07:22.908536Z",
     "iopub.status.idle": "2021-05-31T11:07:22.913675Z",
     "shell.execute_reply": "2021-05-31T11:07:22.913083Z",
     "shell.execute_reply.started": "2021-05-31T10:30:32.142276Z"
    },
    "papermill": {
     "duration": 0.158441,
     "end_time": "2021-05-31T11:07:22.913824",
     "exception": false,
     "start_time": "2021-05-31T11:07:22.755383",
     "status": "completed"
    },
    "tags": []
   },
   "outputs": [],
   "source": [
    "df_dict['verified']='Пропусков нет, 2 вида значений'"
   ]
  },
  {
   "cell_type": "code",
   "execution_count": 23,
   "id": "convinced-lingerie",
   "metadata": {
    "execution": {
     "iopub.execute_input": "2021-05-31T11:07:23.218345Z",
     "iopub.status.busy": "2021-05-31T11:07:23.217610Z",
     "iopub.status.idle": "2021-05-31T11:07:24.355056Z",
     "shell.execute_reply": "2021-05-31T11:07:24.353932Z",
     "shell.execute_reply.started": "2021-05-31T10:30:32.153911Z"
    },
    "papermill": {
     "duration": 1.290704,
     "end_time": "2021-05-31T11:07:24.355213",
     "exception": false,
     "start_time": "2021-05-31T11:07:23.064509",
     "status": "completed"
    },
    "tags": []
   },
   "outputs": [
    {
     "name": "stdout",
     "output_type": "stream",
     "text": [
      "Средняя оценка при значении verified = 1:  4.479455273103566\n",
      "Средняя оценка при значении verified = 0:  4.186920089189384\n"
     ]
    },
    {
     "data": {
      "text/plain": [
       "<AxesSubplot:>"
      ]
     },
     "execution_count": 23,
     "metadata": {},
     "output_type": "execute_result"
    },
    {
     "data": {
      "image/png": "[encoded data removed]",
      "text/plain": [
       "<Figure size 432x288 with 1 Axes>"
      ]
     },
     "metadata": {
      "needs_background": "light"
     },
     "output_type": "display_data"
    }
   ],
   "source": [
    "print('Средняя оценка при значении verified = 1: ',df[df.verified == 1].overall.mean())\n",
    "df['overall'][df['verified'] == 1].hist(bins=10)\n",
    "print('Средняя оценка при значении verified = 0: ',df[df.verified == 0].overall.mean())\n",
    "df['overall'][df['verified'] == 0].hist(bins=10)"
   ]
  },
  {
   "cell_type": "markdown",
   "id": "intense-alarm",
   "metadata": {
    "papermill": {
     "duration": 0.150924,
     "end_time": "2021-05-31T11:07:24.656890",
     "exception": false,
     "start_time": "2021-05-31T11:07:24.505966",
     "status": "completed"
    },
    "tags": []
   },
   "source": [
    "## reviewTime"
   ]
  },
  {
   "cell_type": "code",
   "execution_count": 24,
   "id": "romance-palace",
   "metadata": {
    "execution": {
     "iopub.execute_input": "2021-05-31T11:07:25.083783Z",
     "iopub.status.busy": "2021-05-31T11:07:25.082801Z",
     "iopub.status.idle": "2021-05-31T11:07:25.713625Z",
     "shell.execute_reply": "2021-05-31T11:07:25.714176Z",
     "shell.execute_reply.started": "2021-05-31T10:30:33.050049Z"
    },
    "papermill": {
     "duration": 0.905875,
     "end_time": "2021-05-31T11:07:25.714383",
     "exception": false,
     "start_time": "2021-05-31T11:07:24.808508",
     "status": "completed"
    },
    "tags": []
   },
   "outputs": [
    {
     "name": "stdout",
     "output_type": "stream",
     "text": [
      "Сколько пропусков? 0\n",
      "\n",
      "Процент пропусков? 0.0%\n",
      "\n",
      "Описание:\n",
      "count         847593\n",
      "unique          4580\n",
      "top       03 1, 2016\n",
      "freq             941\n",
      "Name: reviewTime, dtype: object\n",
      "\n",
      "Как распределено?\n",
      "03 1, 2016     941\n",
      "07 14, 2016    873\n",
      "01 20, 2016    783\n",
      "06 3, 2015     783\n",
      "02 20, 2016    767\n",
      "              ... \n",
      "11 21, 2006      1\n",
      "06 3, 2006       1\n",
      "01 20, 2006      1\n",
      "09 22, 2007      1\n",
      "03 26, 2006      1\n",
      "Name: reviewTime, Length: 4580, dtype: int64\n"
     ]
    }
   ],
   "source": [
    "show_info(df.reviewTime)"
   ]
  },
  {
   "cell_type": "code",
   "execution_count": 25,
   "id": "chemical-switzerland",
   "metadata": {
    "execution": {
     "iopub.execute_input": "2021-05-31T11:07:26.033623Z",
     "iopub.status.busy": "2021-05-31T11:07:26.032527Z",
     "iopub.status.idle": "2021-05-31T11:07:26.035772Z",
     "shell.execute_reply": "2021-05-31T11:07:26.035118Z",
     "shell.execute_reply.started": "2021-05-31T10:30:33.765103Z"
    },
    "papermill": {
     "duration": 0.163293,
     "end_time": "2021-05-31T11:07:26.035911",
     "exception": false,
     "start_time": "2021-05-31T11:07:25.872618",
     "status": "completed"
    },
    "tags": []
   },
   "outputs": [],
   "source": [
    "df_dict['reviewTime'] = 'Пропусков нет, но формат даты удобнее в другом столбце, так что удалим'"
   ]
  },
  {
   "cell_type": "markdown",
   "id": "dangerous-guinea",
   "metadata": {
    "papermill": {
     "duration": 0.153434,
     "end_time": "2021-05-31T11:07:26.347650",
     "exception": false,
     "start_time": "2021-05-31T11:07:26.194216",
     "status": "completed"
    },
    "tags": []
   },
   "source": [
    "## asin "
   ]
  },
  {
   "cell_type": "code",
   "execution_count": 26,
   "id": "internal-lawyer",
   "metadata": {
    "execution": {
     "iopub.execute_input": "2021-05-31T11:07:26.665511Z",
     "iopub.status.busy": "2021-05-31T11:07:26.664440Z",
     "iopub.status.idle": "2021-05-31T11:07:27.442297Z",
     "shell.execute_reply": "2021-05-31T11:07:27.441733Z",
     "shell.execute_reply.started": "2021-05-31T10:30:33.770383Z"
    },
    "papermill": {
     "duration": 0.941331,
     "end_time": "2021-05-31T11:07:27.442444",
     "exception": false,
     "start_time": "2021-05-31T11:07:26.501113",
     "status": "completed"
    },
    "tags": []
   },
   "outputs": [
    {
     "name": "stdout",
     "output_type": "stream",
     "text": [
      "Сколько пропусков? 0\n",
      "\n",
      "Процент пропусков? 0.0%\n",
      "\n",
      "Описание:\n",
      "count         847593\n",
      "unique         41302\n",
      "top       B00BUKL666\n",
      "freq            5430\n",
      "Name: asin, dtype: object\n",
      "\n",
      "Как распределено?\n",
      "B00BUKL666    5430\n",
      "B00D3M2QP4    4733\n",
      "B008QMX2SG    4611\n",
      "B0001LO3FG    4252\n",
      "B00R7PWK7W    2449\n",
      "              ... \n",
      "B0014EQHR6       1\n",
      "B000FDLB9Q       1\n",
      "B00HFVVEPW       1\n",
      "B00F9WMZO8       1\n",
      "B004DIVQ3K       1\n",
      "Name: asin, Length: 41302, dtype: int64\n"
     ]
    }
   ],
   "source": [
    "show_info(df.asin)"
   ]
  },
  {
   "cell_type": "code",
   "execution_count": 27,
   "id": "welcome-paintball",
   "metadata": {
    "execution": {
     "iopub.execute_input": "2021-05-31T11:07:27.756818Z",
     "iopub.status.busy": "2021-05-31T11:07:27.756015Z",
     "iopub.status.idle": "2021-05-31T11:07:27.759497Z",
     "shell.execute_reply": "2021-05-31T11:07:27.760002Z",
     "shell.execute_reply.started": "2021-05-31T10:30:34.554548Z"
    },
    "papermill": {
     "duration": 0.167044,
     "end_time": "2021-05-31T11:07:27.760181",
     "exception": false,
     "start_time": "2021-05-31T11:07:27.593137",
     "status": "completed"
    },
    "tags": []
   },
   "outputs": [],
   "source": [
    "df_dict['asin']='Много уникальных значений, пропусков нет, не придумал, как использовать. Потом удалим'"
   ]
  },
  {
   "cell_type": "markdown",
   "id": "portable-insulation",
   "metadata": {
    "papermill": {
     "duration": 0.170816,
     "end_time": "2021-05-31T11:07:28.082995",
     "exception": false,
     "start_time": "2021-05-31T11:07:27.912179",
     "status": "completed"
    },
    "tags": []
   },
   "source": [
    "## reviewerName "
   ]
  },
  {
   "cell_type": "code",
   "execution_count": 28,
   "id": "unable-mechanics",
   "metadata": {
    "execution": {
     "iopub.execute_input": "2021-05-31T11:07:28.426293Z",
     "iopub.status.busy": "2021-05-31T11:07:28.425297Z",
     "iopub.status.idle": "2021-05-31T11:07:29.843782Z",
     "shell.execute_reply": "2021-05-31T11:07:29.842850Z",
     "shell.execute_reply.started": "2021-05-31T10:30:34.560887Z"
    },
    "papermill": {
     "duration": 1.589022,
     "end_time": "2021-05-31T11:07:29.843998",
     "exception": false,
     "start_time": "2021-05-31T11:07:28.254976",
     "status": "completed"
    },
    "tags": []
   },
   "outputs": [
    {
     "name": "stdout",
     "output_type": "stream",
     "text": [
      "Сколько пропусков? 168\n",
      "\n",
      "Процент пропусков? 0.01982083382000559%\n",
      "\n",
      "Описание:\n",
      "count              847425\n",
      "unique             101207\n",
      "top       Amazon Customer\n",
      "freq                31346\n",
      "Name: reviewerName, dtype: object\n",
      "\n",
      "Как распределено?\n",
      "Amazon Customer       31346\n",
      "Kindle Customer        6128\n",
      "Linda                   729\n",
      "John                    714\n",
      "David                   606\n",
      "                      ...  \n",
      "Emily Gilroy              1\n",
      "Malikah J                 1\n",
      "American -Bonsai          1\n",
      "xxxxxxxxxxxxxxxxxx        1\n",
      "R. Schuhmacher            1\n",
      "Name: reviewerName, Length: 101207, dtype: int64\n"
     ]
    }
   ],
   "source": [
    "show_info(df.reviewerName)"
   ]
  },
  {
   "cell_type": "code",
   "execution_count": 29,
   "id": "polish-uzbekistan",
   "metadata": {
    "execution": {
     "iopub.execute_input": "2021-05-31T11:07:30.157852Z",
     "iopub.status.busy": "2021-05-31T11:07:30.157177Z",
     "iopub.status.idle": "2021-05-31T11:07:30.160243Z",
     "shell.execute_reply": "2021-05-31T11:07:30.159750Z",
     "shell.execute_reply.started": "2021-05-31T10:30:35.918015Z"
    },
    "papermill": {
     "duration": 0.163546,
     "end_time": "2021-05-31T11:07:30.160402",
     "exception": false,
     "start_time": "2021-05-31T11:07:29.996856",
     "status": "completed"
    },
    "tags": []
   },
   "outputs": [],
   "source": [
    "df_dict['reviewerName']='Много имен, мало пропусков, удалим, потому что есть более полезный столбец'"
   ]
  },
  {
   "cell_type": "markdown",
   "id": "public-hollow",
   "metadata": {
    "papermill": {
     "duration": 0.152572,
     "end_time": "2021-05-31T11:07:30.464450",
     "exception": false,
     "start_time": "2021-05-31T11:07:30.311878",
     "status": "completed"
    },
    "tags": []
   },
   "source": [
    "## unixReviewTime "
   ]
  },
  {
   "cell_type": "code",
   "execution_count": 30,
   "id": "metallic-granny",
   "metadata": {
    "execution": {
     "iopub.execute_input": "2021-05-31T11:07:30.780023Z",
     "iopub.status.busy": "2021-05-31T11:07:30.778971Z",
     "iopub.status.idle": "2021-05-31T11:07:30.843045Z",
     "shell.execute_reply": "2021-05-31T11:07:30.843549Z",
     "shell.execute_reply.started": "2021-05-31T10:30:35.924863Z"
    },
    "papermill": {
     "duration": 0.224828,
     "end_time": "2021-05-31T11:07:30.843738",
     "exception": false,
     "start_time": "2021-05-31T11:07:30.618910",
     "status": "completed"
    },
    "tags": []
   },
   "outputs": [
    {
     "name": "stdout",
     "output_type": "stream",
     "text": [
      "Сколько пропусков? 0\n",
      "\n",
      "Процент пропусков? 0.0%\n",
      "\n",
      "Описание:\n",
      "count    8.475930e+05\n",
      "mean     1.441914e+09\n",
      "std      5.992384e+07\n",
      "min      9.657792e+08\n",
      "25%      1.412122e+09\n",
      "50%      1.449360e+09\n",
      "75%      1.485130e+09\n",
      "max      1.538438e+09\n",
      "Name: unixReviewTime, dtype: float64\n",
      "\n",
      "Как распределено?\n",
      "1456790400    941\n",
      "1468454400    873\n",
      "1433289600    783\n",
      "1453248000    783\n",
      "1455926400    767\n",
      "             ... \n",
      "1144972800      1\n",
      "1114041600      1\n",
      "1190419200      1\n",
      "1161734400      1\n",
      "1185408000      1\n",
      "Name: unixReviewTime, Length: 4580, dtype: int64\n"
     ]
    }
   ],
   "source": [
    "show_info(df.unixReviewTime)"
   ]
  },
  {
   "cell_type": "code",
   "execution_count": 31,
   "id": "hispanic-flexibility",
   "metadata": {
    "execution": {
     "iopub.execute_input": "2021-05-31T11:07:31.165633Z",
     "iopub.status.busy": "2021-05-31T11:07:31.163785Z",
     "iopub.status.idle": "2021-05-31T11:07:31.217659Z",
     "shell.execute_reply": "2021-05-31T11:07:31.216791Z",
     "shell.execute_reply.started": "2021-05-31T10:30:35.992946Z"
    },
    "papermill": {
     "duration": 0.217092,
     "end_time": "2021-05-31T11:07:31.217860",
     "exception": false,
     "start_time": "2021-05-31T11:07:31.000768",
     "status": "completed"
    },
    "tags": []
   },
   "outputs": [
    {
     "name": "stdout",
     "output_type": "stream",
     "text": [
      "Самый первый отзыв: 2000-08-09 00:00:00\n",
      "25 квантиль: 2014-10-01 00:00:00\n",
      "50 квантиль: 2015-12-06 00:00:00\n",
      "75 квантиль: 2017-01-23 00:00:00\n",
      "Последний отзыв: 2018-10-02 00:00:00\n"
     ]
    }
   ],
   "source": [
    "from datetime import datetime\n",
    "tsmin = df.unixReviewTime.min()\n",
    "ts25 = int(df.unixReviewTime.quantile(0.25))\n",
    "ts50 = int(df.unixReviewTime.quantile(0.50))\n",
    "ts75 = int(df.unixReviewTime.quantile(0.75))\n",
    "tsmax = df.unixReviewTime.max()\n",
    "print('Самый первый отзыв:', datetime.utcfromtimestamp(tsmin).strftime('%Y-%m-%d %H:%M:%S'))\n",
    "print('25 квантиль:', datetime.utcfromtimestamp(ts25).strftime('%Y-%m-%d %H:%M:%S'))\n",
    "print('50 квантиль:', datetime.utcfromtimestamp(ts50).strftime('%Y-%m-%d %H:%M:%S'))\n",
    "print('75 квантиль:', datetime.utcfromtimestamp(ts75).strftime('%Y-%m-%d %H:%M:%S'))\n",
    "print('Последний отзыв:', datetime.utcfromtimestamp(tsmax).strftime('%Y-%m-%d %H:%M:%S'))"
   ]
  },
  {
   "cell_type": "code",
   "execution_count": 32,
   "id": "falling-petroleum",
   "metadata": {
    "execution": {
     "iopub.execute_input": "2021-05-31T11:07:31.536131Z",
     "iopub.status.busy": "2021-05-31T11:07:31.535196Z",
     "iopub.status.idle": "2021-05-31T11:07:32.056871Z",
     "shell.execute_reply": "2021-05-31T11:07:32.056335Z",
     "shell.execute_reply.started": "2021-05-31T10:30:36.061004Z"
    },
    "papermill": {
     "duration": 0.682491,
     "end_time": "2021-05-31T11:07:32.057030",
     "exception": false,
     "start_time": "2021-05-31T11:07:31.374539",
     "status": "completed"
    },
    "tags": []
   },
   "outputs": [],
   "source": [
    "def cat_date(x):\n",
    "    if x <= ts25: x = 'very_old'\n",
    "    elif ts25 < x <= ts50: x = 'old'\n",
    "    elif ts50 < x <= ts75: x = 'new'\n",
    "    elif ts75 < x: x = 'newest'\n",
    "    return x      \n",
    "\n",
    "# Заменим значения в столбце на категории\n",
    "df.unixReviewTime = df.unixReviewTime.apply(lambda x: cat_date(x))"
   ]
  },
  {
   "cell_type": "code",
   "execution_count": 33,
   "id": "opening-massachusetts",
   "metadata": {
    "execution": {
     "iopub.execute_input": "2021-05-31T11:07:32.442407Z",
     "iopub.status.busy": "2021-05-31T11:07:32.441767Z",
     "iopub.status.idle": "2021-05-31T11:07:33.461085Z",
     "shell.execute_reply": "2021-05-31T11:07:33.460577Z",
     "shell.execute_reply.started": "2021-05-31T10:30:36.609520Z"
    },
    "papermill": {
     "duration": 1.249568,
     "end_time": "2021-05-31T11:07:33.461228",
     "exception": false,
     "start_time": "2021-05-31T11:07:32.211660",
     "status": "completed"
    },
    "tags": []
   },
   "outputs": [
    {
     "name": "stdout",
     "output_type": "stream",
     "text": [
      "Сколько пропусков? 0\n",
      "\n",
      "Процент пропусков? 0.0%\n",
      "\n",
      "Описание:\n",
      "count     847593\n",
      "unique         4\n",
      "top          new\n",
      "freq      212136\n",
      "Name: unixReviewTime, dtype: object\n",
      "\n",
      "Как распределено?\n",
      "new         212136\n",
      "very_old    211990\n",
      "old         211857\n",
      "newest      211610\n",
      "Name: unixReviewTime, dtype: int64\n"
     ]
    },
    {
     "data": {
      "image/png": "[encoded data removed]",
      "text/plain": [
       "<Figure size 432x288 with 1 Axes>"
      ]
     },
     "metadata": {
      "needs_background": "light"
     },
     "output_type": "display_data"
    }
   ],
   "source": [
    "show_info_hist(df.unixReviewTime)"
   ]
  },
  {
   "cell_type": "code",
   "execution_count": 34,
   "id": "failing-rates",
   "metadata": {
    "execution": {
     "iopub.execute_input": "2021-05-31T11:07:33.774757Z",
     "iopub.status.busy": "2021-05-31T11:07:33.773813Z",
     "iopub.status.idle": "2021-05-31T11:07:33.777479Z",
     "shell.execute_reply": "2021-05-31T11:07:33.776911Z",
     "shell.execute_reply.started": "2021-05-31T10:30:37.688852Z"
    },
    "papermill": {
     "duration": 0.163185,
     "end_time": "2021-05-31T11:07:33.777625",
     "exception": false,
     "start_time": "2021-05-31T11:07:33.614440",
     "status": "completed"
    },
    "tags": []
   },
   "outputs": [],
   "source": [
    "df_dict['unixReviewTime']='Обработано, пропусков нет'"
   ]
  },
  {
   "cell_type": "markdown",
   "id": "expired-input",
   "metadata": {
    "papermill": {
     "duration": 0.157037,
     "end_time": "2021-05-31T11:07:34.090066",
     "exception": false,
     "start_time": "2021-05-31T11:07:33.933029",
     "status": "completed"
    },
    "tags": []
   },
   "source": [
    "## vote"
   ]
  },
  {
   "cell_type": "code",
   "execution_count": 35,
   "id": "biblical-shuttle",
   "metadata": {
    "execution": {
     "iopub.execute_input": "2021-05-31T11:07:34.496091Z",
     "iopub.status.busy": "2021-05-31T11:07:34.495370Z",
     "iopub.status.idle": "2021-05-31T11:07:35.014583Z",
     "shell.execute_reply": "2021-05-31T11:07:35.013996Z",
     "shell.execute_reply.started": "2021-05-31T10:30:37.695977Z"
    },
    "papermill": {
     "duration": 0.764765,
     "end_time": "2021-05-31T11:07:35.014743",
     "exception": false,
     "start_time": "2021-05-31T11:07:34.249978",
     "status": "completed"
    },
    "tags": []
   },
   "outputs": [
    {
     "name": "stdout",
     "output_type": "stream",
     "text": [
      "Сколько пропусков? 728732\n",
      "\n",
      "Процент пропусков? 85.97664209119236%\n",
      "\n",
      "Описание:\n",
      "count     118861.0\n",
      "unique       477.0\n",
      "top            2.0\n",
      "freq       30774.0\n",
      "Name: vote, dtype: float64\n",
      "\n",
      "Как распределено?\n",
      "2.0      30774\n",
      "3.0      15336\n",
      "2        13786\n",
      "4.0       8893\n",
      "3         6969\n",
      "         ...  \n",
      "317.0        1\n",
      "316.0        1\n",
      "223          1\n",
      "221          1\n",
      "152          1\n",
      "Name: vote, Length: 477, dtype: int64\n"
     ]
    }
   ],
   "source": [
    "show_info(df.vote)"
   ]
  },
  {
   "cell_type": "code",
   "execution_count": 36,
   "id": "meaning-mercury",
   "metadata": {
    "execution": {
     "iopub.execute_input": "2021-05-31T11:07:35.336375Z",
     "iopub.status.busy": "2021-05-31T11:07:35.335242Z",
     "iopub.status.idle": "2021-05-31T11:07:37.272437Z",
     "shell.execute_reply": "2021-05-31T11:07:37.271881Z",
     "shell.execute_reply.started": "2021-05-31T10:30:38.297287Z"
    },
    "papermill": {
     "duration": 2.101379,
     "end_time": "2021-05-31T11:07:37.272588",
     "exception": false,
     "start_time": "2021-05-31T11:07:35.171209",
     "status": "completed"
    },
    "tags": []
   },
   "outputs": [],
   "source": [
    "df.vote=df.vote.apply(lambda x: str(x).replace(',',''))\n",
    "df.vote=df.vote.apply(lambda x: x.replace('nan','0'))\n",
    "df.vote = df.vote.fillna(0)\n",
    "df.vote = df.vote.astype('float')\n",
    "df.vote = df.vote.astype('int')"
   ]
  },
  {
   "cell_type": "code",
   "execution_count": 37,
   "id": "political-mirror",
   "metadata": {
    "execution": {
     "iopub.execute_input": "2021-05-31T11:07:37.584346Z",
     "iopub.status.busy": "2021-05-31T11:07:37.583719Z",
     "iopub.status.idle": "2021-05-31T11:07:37.840824Z",
     "shell.execute_reply": "2021-05-31T11:07:37.841448Z",
     "shell.execute_reply.started": "2021-05-31T10:30:40.066210Z"
    },
    "papermill": {
     "duration": 0.415604,
     "end_time": "2021-05-31T11:07:37.841633",
     "exception": false,
     "start_time": "2021-05-31T11:07:37.426029",
     "status": "completed"
    },
    "tags": []
   },
   "outputs": [
    {
     "name": "stdout",
     "output_type": "stream",
     "text": [
      "Сколько пропусков? 0\n",
      "\n",
      "Процент пропусков? 0.0%\n",
      "\n",
      "Описание:\n",
      "count    847593.000000\n",
      "mean          0.944884\n",
      "std           8.032598\n",
      "min           0.000000\n",
      "25%           0.000000\n",
      "50%           0.000000\n",
      "75%           0.000000\n",
      "max        1626.000000\n",
      "Name: vote, dtype: float64\n",
      "\n",
      "Как распределено?\n",
      "0      728732\n",
      "2       44560\n",
      "3       22305\n",
      "4       12872\n",
      "5        8275\n",
      "        ...  \n",
      "239         1\n",
      "238         1\n",
      "151         1\n",
      "230         1\n",
      "507         1\n",
      "Name: vote, Length: 312, dtype: int64\n"
     ]
    },
    {
     "data": {
      "image/png": "[encoded data removed]",
      "text/plain": [
       "<Figure size 432x288 with 1 Axes>"
      ]
     },
     "metadata": {
      "needs_background": "light"
     },
     "output_type": "display_data"
    }
   ],
   "source": [
    "show_info_hist(df.vote)"
   ]
  },
  {
   "cell_type": "code",
   "execution_count": 38,
   "id": "nonprofit-vehicle",
   "metadata": {
    "execution": {
     "iopub.execute_input": "2021-05-31T11:07:38.159012Z",
     "iopub.status.busy": "2021-05-31T11:07:38.158005Z",
     "iopub.status.idle": "2021-05-31T11:07:38.502985Z",
     "shell.execute_reply": "2021-05-31T11:07:38.503513Z",
     "shell.execute_reply.started": "2021-05-31T10:30:40.328492Z"
    },
    "papermill": {
     "duration": 0.505876,
     "end_time": "2021-05-31T11:07:38.503686",
     "exception": false,
     "start_time": "2021-05-31T11:07:37.997810",
     "status": "completed"
    },
    "tags": []
   },
   "outputs": [],
   "source": [
    "def cat_vote(x):\n",
    "    if x==0: x = 'no_rate'\n",
    "    elif 0 < x < 5: x = 'low-rate'\n",
    "    elif 5 <= x <= 10: x = 'middle-rate'\n",
    "    elif 10 < x <= 100: x = 'high-rate'\n",
    "    elif x > 100: x = 'extra-high'\n",
    "    return x      \n",
    "\n",
    "# Заменим значения в столбце на категории\n",
    "df.vote= df.vote.apply(lambda x: cat_vote(x))"
   ]
  },
  {
   "cell_type": "code",
   "execution_count": 39,
   "id": "decent-separate",
   "metadata": {
    "execution": {
     "iopub.execute_input": "2021-05-31T11:07:38.818625Z",
     "iopub.status.busy": "2021-05-31T11:07:38.817602Z",
     "iopub.status.idle": "2021-05-31T11:07:39.340612Z",
     "shell.execute_reply": "2021-05-31T11:07:39.340085Z",
     "shell.execute_reply.started": "2021-05-31T10:30:40.680669Z"
    },
    "papermill": {
     "duration": 0.682253,
     "end_time": "2021-05-31T11:07:39.340753",
     "exception": false,
     "start_time": "2021-05-31T11:07:38.658500",
     "status": "completed"
    },
    "tags": []
   },
   "outputs": [
    {
     "data": {
      "text/plain": [
       "<AxesSubplot:>"
      ]
     },
     "execution_count": 39,
     "metadata": {},
     "output_type": "execute_result"
    },
    {
     "data": {
      "image/png": "[encoded data removed]",
      "text/plain": [
       "<Figure size 432x288 with 1 Axes>"
      ]
     },
     "metadata": {
      "needs_background": "light"
     },
     "output_type": "display_data"
    }
   ],
   "source": [
    "df.vote.hist()"
   ]
  },
  {
   "cell_type": "code",
   "execution_count": 40,
   "id": "satisfactory-wallpaper",
   "metadata": {
    "execution": {
     "iopub.execute_input": "2021-05-31T11:07:39.659377Z",
     "iopub.status.busy": "2021-05-31T11:07:39.658697Z",
     "iopub.status.idle": "2021-05-31T11:07:39.663202Z",
     "shell.execute_reply": "2021-05-31T11:07:39.663697Z",
     "shell.execute_reply.started": "2021-05-31T10:30:41.201061Z"
    },
    "papermill": {
     "duration": 0.166785,
     "end_time": "2021-05-31T11:07:39.663888",
     "exception": false,
     "start_time": "2021-05-31T11:07:39.497103",
     "status": "completed"
    },
    "tags": []
   },
   "outputs": [],
   "source": [
    "df_dict['vote']='Пропуски заполнены, созданы 5 разных видов'"
   ]
  },
  {
   "cell_type": "markdown",
   "id": "judicial-white",
   "metadata": {
    "papermill": {
     "duration": 0.157304,
     "end_time": "2021-05-31T11:07:39.982145",
     "exception": false,
     "start_time": "2021-05-31T11:07:39.824841",
     "status": "completed"
    },
    "tags": []
   },
   "source": [
    "## style "
   ]
  },
  {
   "cell_type": "code",
   "execution_count": 41,
   "id": "genuine-street",
   "metadata": {
    "execution": {
     "iopub.execute_input": "2021-05-31T11:07:40.368936Z",
     "iopub.status.busy": "2021-05-31T11:07:40.368251Z",
     "iopub.status.idle": "2021-05-31T11:07:40.834154Z",
     "shell.execute_reply": "2021-05-31T11:07:40.833179Z",
     "shell.execute_reply.started": "2021-05-31T10:30:41.206137Z"
    },
    "papermill": {
     "duration": 0.691638,
     "end_time": "2021-05-31T11:07:40.834382",
     "exception": false,
     "start_time": "2021-05-31T11:07:40.142744",
     "status": "completed"
    },
    "tags": []
   },
   "outputs": [
    {
     "name": "stdout",
     "output_type": "stream",
     "text": [
      "Сколько пропусков? 407242\n",
      "\n",
      "Процент пропусков? 48.04688099123046%\n",
      "\n",
      "Описание:\n",
      "count                      440351\n",
      "unique                      25892\n",
      "top       {'Size:': ' Pack of 1'}\n",
      "freq                         4856\n",
      "Name: style, dtype: object\n",
      "\n",
      "Как распределено?\n",
      "{'Size:': ' Pack of 1'}                                         4856\n",
      "{'Package Quantity:': ' 1'}                                     4526\n",
      "{'Package Type:': ' Standard Packaging'}                        3898\n",
      "{'Size:': ' 1 Pack'}                                            3848\n",
      "{'Size:': ' 24 Count'}                                          3640\n",
      "                                                                ... \n",
      "{'Flavor:': ' Plantain Strips Naturally Sweet'}                    1\n",
      "{'Flavor:': ' Ultimate Berry'}                                     1\n",
      "{'Flavor:': ' 2 lb Cashews'}                                       1\n",
      "{'Size:': ' 2 oz', 'Flavor:': ' Citrus Berry'}                     1\n",
      "{'Size:': ' 1 lb', 'Flavor:': ' Roasted Unsalted Hvs & Pcs'}       1\n",
      "Name: style, Length: 25892, dtype: int64\n"
     ]
    }
   ],
   "source": [
    "show_info(df['style'])"
   ]
  },
  {
   "cell_type": "code",
   "execution_count": 42,
   "id": "reliable-figure",
   "metadata": {
    "execution": {
     "iopub.execute_input": "2021-05-31T11:07:41.165622Z",
     "iopub.status.busy": "2021-05-31T11:07:41.164623Z",
     "iopub.status.idle": "2021-05-31T11:07:41.168280Z",
     "shell.execute_reply": "2021-05-31T11:07:41.167635Z",
     "shell.execute_reply.started": "2021-05-31T10:30:41.738530Z"
    },
    "papermill": {
     "duration": 0.169514,
     "end_time": "2021-05-31T11:07:41.168421",
     "exception": false,
     "start_time": "2021-05-31T11:07:40.998907",
     "status": "completed"
    },
    "tags": []
   },
   "outputs": [],
   "source": [
    "df_dict['style']='Пропусков почти половина, это словари с разной информацией, так сразу не подступишься. Скорее всего удалим'"
   ]
  },
  {
   "cell_type": "markdown",
   "id": "cardiac-desire",
   "metadata": {
    "papermill": {
     "duration": 0.156731,
     "end_time": "2021-05-31T11:07:41.484580",
     "exception": false,
     "start_time": "2021-05-31T11:07:41.327849",
     "status": "completed"
    },
    "tags": []
   },
   "source": [
    "## image_x "
   ]
  },
  {
   "cell_type": "code",
   "execution_count": 43,
   "id": "preliminary-blackberry",
   "metadata": {
    "execution": {
     "iopub.execute_input": "2021-05-31T11:07:41.837075Z",
     "iopub.status.busy": "2021-05-31T11:07:41.836077Z",
     "iopub.status.idle": "2021-05-31T11:07:42.033528Z",
     "shell.execute_reply": "2021-05-31T11:07:42.034184Z",
     "shell.execute_reply.started": "2021-05-31T10:30:41.743669Z"
    },
    "papermill": {
     "duration": 0.392301,
     "end_time": "2021-05-31T11:07:42.034449",
     "exception": false,
     "start_time": "2021-05-31T11:07:41.642148",
     "status": "completed"
    },
    "tags": []
   },
   "outputs": [
    {
     "name": "stdout",
     "output_type": "stream",
     "text": [
      "Сколько пропусков? 840455\n",
      "\n",
      "Процент пропусков? 99.15785052495714%\n",
      "\n",
      "Описание:\n",
      "count                                                  7138\n",
      "unique                                                 6636\n",
      "top       ['https://images-na.ssl-images-amazon.com/imag...\n",
      "freq                                                      6\n",
      "Name: image_x, dtype: object\n",
      "\n",
      "Как распределено?\n",
      "['https://images-na.ssl-images-amazon.com/images/I/71+Z1TA3eyL._SY88.jpg']                                                                              6\n",
      "['https://images-na.ssl-images-amazon.com/images/I/712zJIOTV5L._SY88.jpg']                                                                              6\n",
      "['https://images-na.ssl-images-amazon.com/images/I/81h8Zc+1rzL._SY88.jpg']                                                                              5\n",
      "['https://images-na.ssl-images-amazon.com/images/I/41wx9Sn88cL._SY88.jpg']                                                                              5\n",
      "['https://images-na.ssl-images-amazon.com/images/I/81ZkT-0FJpL._SY88.jpg']                                                                              5\n",
      "                                                                                                                                                       ..\n",
      "['https://images-na.ssl-images-amazon.com/images/I/81jrv-WpciL._SY88.jpg']                                                                              1\n",
      "['https://images-na.ssl-images-amazon.com/images/I/61Zcahb1x1L._SY88.jpg', 'https://images-na.ssl-images-amazon.com/images/I/81Wr7mKTOGL._SY88.jpg']    1\n",
      "['https://images-na.ssl-images-amazon.com/images/I/71WYLM8hymL._SY88.jpg']                                                                              1\n",
      "['https://images-na.ssl-images-amazon.com/images/I/717GuhZWb4L._SY88.jpg']                                                                              1\n",
      "['https://images-na.ssl-images-amazon.com/images/I/71nCLWPCOVL._SY88.jpg', 'https://images-na.ssl-images-amazon.com/images/I/71UItMJxC4L._SY88.jpg']    1\n",
      "Name: image_x, Length: 6636, dtype: int64\n"
     ]
    }
   ],
   "source": [
    "show_info(df.image_x)"
   ]
  },
  {
   "cell_type": "code",
   "execution_count": 44,
   "id": "innovative-petroleum",
   "metadata": {
    "execution": {
     "iopub.execute_input": "2021-05-31T11:07:42.354926Z",
     "iopub.status.busy": "2021-05-31T11:07:42.354256Z",
     "iopub.status.idle": "2021-05-31T11:07:42.357568Z",
     "shell.execute_reply": "2021-05-31T11:07:42.356940Z",
     "shell.execute_reply.started": "2021-05-31T10:30:41.980336Z"
    },
    "papermill": {
     "duration": 0.164632,
     "end_time": "2021-05-31T11:07:42.357705",
     "exception": false,
     "start_time": "2021-05-31T11:07:42.193073",
     "status": "completed"
    },
    "tags": []
   },
   "outputs": [],
   "source": [
    "df_dict['image_x']='Ссылки на картинки, подавляющего большинства нет. Удалим'"
   ]
  },
  {
   "cell_type": "markdown",
   "id": "conscious-cooper",
   "metadata": {
    "papermill": {
     "duration": 0.157925,
     "end_time": "2021-05-31T11:07:42.672995",
     "exception": false,
     "start_time": "2021-05-31T11:07:42.515070",
     "status": "completed"
    },
    "tags": []
   },
   "source": [
    "## userid "
   ]
  },
  {
   "cell_type": "code",
   "execution_count": 45,
   "id": "attached-mobile",
   "metadata": {
    "execution": {
     "iopub.execute_input": "2021-05-31T11:07:42.998646Z",
     "iopub.status.busy": "2021-05-31T11:07:42.997817Z",
     "iopub.status.idle": "2021-05-31T11:07:43.267980Z",
     "shell.execute_reply": "2021-05-31T11:07:43.267258Z",
     "shell.execute_reply.started": "2021-05-31T10:30:41.986986Z"
    },
    "papermill": {
     "duration": 0.434925,
     "end_time": "2021-05-31T11:07:43.268127",
     "exception": false,
     "start_time": "2021-05-31T11:07:42.833202",
     "status": "completed"
    },
    "tags": []
   },
   "outputs": [
    {
     "name": "stdout",
     "output_type": "stream",
     "text": [
      "Сколько пропусков? 0\n",
      "\n",
      "Процент пропусков? 0.0%\n",
      "\n",
      "Описание:\n",
      "count    847593.000000\n",
      "mean      53756.091163\n",
      "std       37211.809152\n",
      "min           0.000000\n",
      "25%       20347.000000\n",
      "50%       48581.000000\n",
      "75%       84723.000000\n",
      "max      127495.000000\n",
      "Name: userid, dtype: float64\n",
      "\n",
      "Как распределено?\n",
      "842       427\n",
      "17987     317\n",
      "355       302\n",
      "2024      296\n",
      "2809      279\n",
      "         ... \n",
      "112150      1\n",
      "82011       1\n",
      "32867       1\n",
      "109270      1\n",
      "125701      1\n",
      "Name: userid, Length: 127448, dtype: int64\n"
     ]
    },
    {
     "data": {
      "image/png": "[encoded data removed]",
      "text/plain": [
       "<Figure size 432x288 with 1 Axes>"
      ]
     },
     "metadata": {
      "needs_background": "light"
     },
     "output_type": "display_data"
    }
   ],
   "source": [
    "show_info_hist(df.userid)"
   ]
  },
  {
   "cell_type": "code",
   "execution_count": 46,
   "id": "improved-terrorist",
   "metadata": {
    "execution": {
     "iopub.execute_input": "2021-05-31T11:07:43.591204Z",
     "iopub.status.busy": "2021-05-31T11:07:43.590535Z",
     "iopub.status.idle": "2021-05-31T11:07:43.593952Z",
     "shell.execute_reply": "2021-05-31T11:07:43.593397Z",
     "shell.execute_reply.started": "2021-05-31T10:30:42.270569Z"
    },
    "papermill": {
     "duration": 0.167289,
     "end_time": "2021-05-31T11:07:43.594101",
     "exception": false,
     "start_time": "2021-05-31T11:07:43.426812",
     "status": "completed"
    },
    "tags": []
   },
   "outputs": [],
   "source": [
    "df_dict['userid']='Пропусков нет, это номера пользователей'"
   ]
  },
  {
   "cell_type": "markdown",
   "id": "latter-sheet",
   "metadata": {
    "papermill": {
     "duration": 0.160123,
     "end_time": "2021-05-31T11:07:43.915214",
     "exception": false,
     "start_time": "2021-05-31T11:07:43.755091",
     "status": "completed"
    },
    "tags": []
   },
   "source": [
    "## itemid "
   ]
  },
  {
   "cell_type": "code",
   "execution_count": 47,
   "id": "progressive-marketing",
   "metadata": {
    "execution": {
     "iopub.execute_input": "2021-05-31T11:07:44.246982Z",
     "iopub.status.busy": "2021-05-31T11:07:44.243158Z",
     "iopub.status.idle": "2021-05-31T11:07:44.479184Z",
     "shell.execute_reply": "2021-05-31T11:07:44.478544Z",
     "shell.execute_reply.started": "2021-05-31T10:30:42.276578Z"
    },
    "papermill": {
     "duration": 0.403842,
     "end_time": "2021-05-31T11:07:44.479343",
     "exception": false,
     "start_time": "2021-05-31T11:07:44.075501",
     "status": "completed"
    },
    "tags": []
   },
   "outputs": [
    {
     "name": "stdout",
     "output_type": "stream",
     "text": [
      "Сколько пропусков? 0\n",
      "\n",
      "Процент пропусков? 0.0%\n",
      "\n",
      "Описание:\n",
      "count    847593.00000\n",
      "mean      17090.10489\n",
      "std       11584.74670\n",
      "min           0.00000\n",
      "25%        6478.00000\n",
      "50%       16108.00000\n",
      "75%       26719.00000\n",
      "max       41319.00000\n",
      "Name: itemid, dtype: float64\n",
      "\n",
      "Как распределено?\n",
      "22208    5430\n",
      "23540    4733\n",
      "24556    4611\n",
      "379      4252\n",
      "32046    2449\n",
      "         ... \n",
      "38602       1\n",
      "40366       1\n",
      "39236       1\n",
      "16638       1\n",
      "6440        1\n",
      "Name: itemid, Length: 41302, dtype: int64\n"
     ]
    },
    {
     "data": {
      "image/png": "[encoded data removed]",
      "text/plain": [
       "<Figure size 432x288 with 1 Axes>"
      ]
     },
     "metadata": {
      "needs_background": "light"
     },
     "output_type": "display_data"
    }
   ],
   "source": [
    "show_info_hist(df.itemid)"
   ]
  },
  {
   "cell_type": "code",
   "execution_count": 48,
   "id": "golden-cannon",
   "metadata": {
    "execution": {
     "iopub.execute_input": "2021-05-31T11:07:44.807257Z",
     "iopub.status.busy": "2021-05-31T11:07:44.805999Z",
     "iopub.status.idle": "2021-05-31T11:07:44.809381Z",
     "shell.execute_reply": "2021-05-31T11:07:44.808796Z",
     "shell.execute_reply.started": "2021-05-31T10:30:42.523514Z"
    },
    "papermill": {
     "duration": 0.168979,
     "end_time": "2021-05-31T11:07:44.809532",
     "exception": false,
     "start_time": "2021-05-31T11:07:44.640553",
     "status": "completed"
    },
    "tags": []
   },
   "outputs": [],
   "source": [
    "df_dict['itemid']='Пропусков нет, это id предметов'"
   ]
  },
  {
   "cell_type": "markdown",
   "id": "statistical-constant",
   "metadata": {
    "papermill": {
     "duration": 0.160648,
     "end_time": "2021-05-31T11:07:45.130023",
     "exception": false,
     "start_time": "2021-05-31T11:07:44.969375",
     "status": "completed"
    },
    "tags": []
   },
   "source": [
    "## Id "
   ]
  },
  {
   "cell_type": "code",
   "execution_count": 49,
   "id": "canadian-alfred",
   "metadata": {
    "execution": {
     "iopub.execute_input": "2021-05-31T11:07:45.454153Z",
     "iopub.status.busy": "2021-05-31T11:07:45.453136Z",
     "iopub.status.idle": "2021-05-31T11:07:45.456777Z",
     "shell.execute_reply": "2021-05-31T11:07:45.456056Z",
     "shell.execute_reply.started": "2021-05-31T10:30:42.530555Z"
    },
    "papermill": {
     "duration": 0.167683,
     "end_time": "2021-05-31T11:07:45.456931",
     "exception": false,
     "start_time": "2021-05-31T11:07:45.289248",
     "status": "completed"
    },
    "tags": []
   },
   "outputs": [],
   "source": [
    "df_dict['Id']='Дублирующая колонка из df_test. Удалим'"
   ]
  },
  {
   "cell_type": "markdown",
   "id": "polar-catholic",
   "metadata": {
    "papermill": {
     "duration": 0.16009,
     "end_time": "2021-05-31T11:07:45.777606",
     "exception": false,
     "start_time": "2021-05-31T11:07:45.617516",
     "status": "completed"
    },
    "tags": []
   },
   "source": [
    "## rating"
   ]
  },
  {
   "cell_type": "code",
   "execution_count": 50,
   "id": "derived-crystal",
   "metadata": {
    "execution": {
     "iopub.execute_input": "2021-05-31T11:07:46.106738Z",
     "iopub.status.busy": "2021-05-31T11:07:46.105749Z",
     "iopub.status.idle": "2021-05-31T11:07:46.382724Z",
     "shell.execute_reply": "2021-05-31T11:07:46.382169Z",
     "shell.execute_reply.started": "2021-05-31T10:30:42.541855Z"
    },
    "papermill": {
     "duration": 0.4432,
     "end_time": "2021-05-31T11:07:46.382889",
     "exception": false,
     "start_time": "2021-05-31T11:07:45.939689",
     "status": "completed"
    },
    "tags": []
   },
   "outputs": [
    {
     "name": "stdout",
     "output_type": "stream",
     "text": [
      "Сколько пропусков? 0\n",
      "\n",
      "Процент пропусков? 0.0%\n",
      "\n",
      "Описание:\n",
      "count    847593.000000\n",
      "mean          0.848747\n",
      "std           0.358296\n",
      "min           0.000000\n",
      "25%           1.000000\n",
      "50%           1.000000\n",
      "75%           1.000000\n",
      "max           1.000000\n",
      "Name: rating, dtype: float64\n",
      "\n",
      "Как распределено?\n",
      "1.0    719392\n",
      "0.0    128201\n",
      "Name: rating, dtype: int64\n"
     ]
    },
    {
     "data": {
      "image/png": "[encoded data removed]",
      "text/plain": [
       "<Figure size 432x288 with 1 Axes>"
      ]
     },
     "metadata": {
      "needs_background": "light"
     },
     "output_type": "display_data"
    }
   ],
   "source": [
    "show_info_hist(df.rating)"
   ]
  },
  {
   "cell_type": "code",
   "execution_count": 51,
   "id": "distinct-calculation",
   "metadata": {
    "execution": {
     "iopub.execute_input": "2021-05-31T11:07:46.707795Z",
     "iopub.status.busy": "2021-05-31T11:07:46.707125Z",
     "iopub.status.idle": "2021-05-31T11:07:46.710572Z",
     "shell.execute_reply": "2021-05-31T11:07:46.710023Z",
     "shell.execute_reply.started": "2021-05-31T10:30:42.822198Z"
    },
    "papermill": {
     "duration": 0.167687,
     "end_time": "2021-05-31T11:07:46.710709",
     "exception": false,
     "start_time": "2021-05-31T11:07:46.543022",
     "status": "completed"
    },
    "tags": []
   },
   "outputs": [],
   "source": [
    "df_dict['rating']='Пропусков нет, 3 разных типа'"
   ]
  },
  {
   "cell_type": "markdown",
   "id": "three-venue",
   "metadata": {
    "papermill": {
     "duration": 0.18953,
     "end_time": "2021-05-31T11:07:47.061301",
     "exception": false,
     "start_time": "2021-05-31T11:07:46.871771",
     "status": "completed"
    },
    "tags": []
   },
   "source": [
    "## reviewText "
   ]
  },
  {
   "cell_type": "code",
   "execution_count": 52,
   "id": "pursuant-booth",
   "metadata": {
    "execution": {
     "iopub.execute_input": "2021-05-31T11:07:47.526335Z",
     "iopub.status.busy": "2021-05-31T11:07:47.525676Z",
     "iopub.status.idle": "2021-05-31T11:07:49.851480Z",
     "shell.execute_reply": "2021-05-31T11:07:49.850852Z",
     "shell.execute_reply.started": "2021-05-31T10:30:42.828328Z"
    },
    "papermill": {
     "duration": 2.629644,
     "end_time": "2021-05-31T11:07:49.851626",
     "exception": false,
     "start_time": "2021-05-31T11:07:47.221982",
     "status": "completed"
    },
    "tags": []
   },
   "outputs": [
    {
     "name": "stdout",
     "output_type": "stream",
     "text": [
      "Сколько пропусков? 278\n",
      "\n",
      "Процент пропусков? 0.032798760725961634%\n",
      "\n",
      "Описание:\n",
      "count     847315\n",
      "unique    686739\n",
      "top         good\n",
      "freq        3071\n",
      "Name: reviewText, dtype: object\n",
      "\n",
      "Как распределено?\n",
      "good                                                                                                                                                                                                                                                                                                                                                                                                                                                                                                                                                                                                                                                                                                                                                                                                                                                                                                                                                                                                                                                                                                                                                                                                                                                                          3071\n",
      "great                                                                                                                                                                                                                                                                                                                                                                                                                                                                                                                                                                                                                                                                                                                                                                                                                                                                                                                                                                                                                                                                                                                                                                                                                                                                         2600\n",
      "Great                                                                                                                                                                                                                                                                                                                                                                                                                                                                                                                                                                                                                                                                                                                                                                                                                                                                                                                                                                                                                                                                                                                                                                                                                                                                         2054\n",
      "Good                                                                                                                                                                                                                                                                                                                                                                                                                                                                                                                                                                                                                                                                                                                                                                                                                                                                                                                                                                                                                                                                                                                                                                                                                                                                          2016\n",
      "ok                                                                                                                                                                                                                                                                                                                                                                                                                                                                                                                                                                                                                                                                                                                                                                                                                                                                                                                                                                                                                                                                                                                                                                                                                                                                            1306\n",
      "                                                                                                                                                                                                                                                                                                                                                                                                                                                                                                                                                                                                                                                                                                                                                                                                                                                                                                                                                                                                                                                                                                                                                                                                                                                                              ... \n",
      "I love the C2O with pulp, it's just the right sweetness and pulp mixture.  Warning though - our cans came pretty beat up, dented up high near the open tab, and at the bottom where it curves. All the cans were like this. Don't think it changed the taste, but not sure.                                                                                                                                                                                                                                                                                                                                                                                                                                                                                                                                                                                                                                                                                                                                                                                                                                                                                                                                                                                                      1\n",
      "a big bag that contains my better future.  I really have no experience with it, just need to turn it all into flour.  I prefer to have as much control over what I eat as possible, otherwise I feel uncertain about what I am actually eating.  This is the solution to that problem.                                                                                                                                                                                                                                                                                                                                                                                                                                                                                                                                                                                                                                                                                                                                                                                                                                                                                                                                                                                           1\n",
      "Nice packaged salmon! Just right amount for lunch or a snack. No horrible fishy flavor, just nice & mild flavor either eaten by itself or mixed with mayo or other dressing. Use by dates are usually over TWO years away, so these are great to buy in large quantities and keep around for \"whenever\". So convenient with the tear-open packet...I have times I don't have a can opener available, so these Chicken of the Sea salmon packets the bomb!!                                                                                                                                                                                                                                                                                                                                                                                                                                                                                                                                                                                                                                                                                                                                                                                                                       1\n",
      "Most nuts when you get  them are stale let along  fresh  when you eat them. These  nuts  although not my  favorite are  really  fresh and taste good However they  are a bit on the  expensive side (what isn't these days) Also I have  canceled my  free fresh account as I don't feel the $14.95 ($15.00)  per month membership is  worth it                                                                                                                                                                                                                                                                                                                                                                                                                                                                                                                                                                                                                                                                                                                                                                                                                                                                                                                                  1\n",
      "These were a really great deal on Amazon so I decided to try this brand of Macadamia nuts.  Macadamia's are hard to find in NY besides the classic&nbsp;<a data-hook=\"product-link-linked\" class=\"a-link-normal\" href=\"/Mauna-Loa-Dry-Roasted-Macadamias-with-Sea-Salt-12-Ounce-Bags-Pack-of-3/dp/B001EQ4RU8/ref=cm_cr_arp_d_rvw_txt?ie=UTF8\">Mauna Loa Dry Roasted Macadamias with Sea Salt, 12-Ounce Bags (Pack of 3)</a>.  In fact, we had a bag of the Mauna Loa and a bag of the NOW Foods nuts and compared them side to side.  Although I like the idea of sea salt on the Mauna Loa Macadamia nuts, I found that the Mauna Loa nuts were roasted too much and were darker and smokier flavored.  Perhaps it is a matter of preference but I liked these NOW Foods much better than the more commercial nuts.  Price and quantity aside they just seemed much fresher, better textured and better tasting.  They lacked that smoky flavor from over-roasting.  These nuts were lighter in color, large and succulent.  That flaky, delicious Macadamia nut texture was there in all it's glory.\\n\\nI love them and will be buying more.  Perfectly fresh and delivered fresh (I put them straight in the refrigerator to keep them that way given the heat lately).       1\n",
      "Name: reviewText, Length: 686739, dtype: int64\n"
     ]
    }
   ],
   "source": [
    "show_info(df.reviewText)"
   ]
  },
  {
   "cell_type": "code",
   "execution_count": 53,
   "id": "enormous-return",
   "metadata": {
    "execution": {
     "iopub.execute_input": "2021-05-31T11:07:50.181351Z",
     "iopub.status.busy": "2021-05-31T11:07:50.180695Z",
     "iopub.status.idle": "2021-05-31T11:07:50.184142Z",
     "shell.execute_reply": "2021-05-31T11:07:50.183526Z",
     "shell.execute_reply.started": "2021-05-31T10:30:45.307976Z"
    },
    "papermill": {
     "duration": 0.171066,
     "end_time": "2021-05-31T11:07:50.184301",
     "exception": false,
     "start_time": "2021-05-31T11:07:50.013235",
     "status": "completed"
    },
    "tags": []
   },
   "outputs": [],
   "source": [
    "df_dict['reviewText']='Описание, можно извлечь что-то, но нет в тесте'"
   ]
  },
  {
   "cell_type": "markdown",
   "id": "suitable-precipitation",
   "metadata": {
    "papermill": {
     "duration": 0.161593,
     "end_time": "2021-05-31T11:07:50.508145",
     "exception": false,
     "start_time": "2021-05-31T11:07:50.346552",
     "status": "completed"
    },
    "tags": []
   },
   "source": [
    "## summary "
   ]
  },
  {
   "cell_type": "code",
   "execution_count": 54,
   "id": "numeric-husband",
   "metadata": {
    "execution": {
     "iopub.execute_input": "2021-05-31T11:07:50.951435Z",
     "iopub.status.busy": "2021-05-31T11:07:50.950642Z",
     "iopub.status.idle": "2021-05-31T11:07:52.610942Z",
     "shell.execute_reply": "2021-05-31T11:07:52.610357Z",
     "shell.execute_reply.started": "2021-05-31T10:30:45.313846Z"
    },
    "papermill": {
     "duration": 1.941199,
     "end_time": "2021-05-31T11:07:52.611078",
     "exception": false,
     "start_time": "2021-05-31T11:07:50.669879",
     "status": "completed"
    },
    "tags": []
   },
   "outputs": [
    {
     "name": "stdout",
     "output_type": "stream",
     "text": [
      "Сколько пропусков? 167\n",
      "\n",
      "Процент пропусков? 0.019702852666315083%\n",
      "\n",
      "Описание:\n",
      "count         847426\n",
      "unique        411451\n",
      "top       Five Stars\n",
      "freq          171328\n",
      "Name: summary, dtype: object\n",
      "\n",
      "Как распределено?\n",
      "Five Stars                                              171328\n",
      "Four Stars                                               26597\n",
      "Three Stars                                              11913\n",
      "One Star                                                  5300\n",
      "Two Stars                                                 4920\n",
      "                                                         ...  \n",
      "good price, good for dipping into my favorite hummus         1\n",
      "Healthy Jelthy                                               1\n",
      "Not our flavor.                                              1\n",
      "Best on Earth may be a little inflated                       1\n",
      "Love the spicy and sweet taste of the tea                    1\n",
      "Name: summary, Length: 411451, dtype: int64\n"
     ]
    }
   ],
   "source": [
    "show_info(df.summary)"
   ]
  },
  {
   "cell_type": "code",
   "execution_count": 55,
   "id": "studied-running",
   "metadata": {
    "execution": {
     "iopub.execute_input": "2021-05-31T11:07:52.944893Z",
     "iopub.status.busy": "2021-05-31T11:07:52.943985Z",
     "iopub.status.idle": "2021-05-31T11:07:52.947353Z",
     "shell.execute_reply": "2021-05-31T11:07:52.946736Z",
     "shell.execute_reply.started": "2021-05-31T10:30:47.175077Z"
    },
    "papermill": {
     "duration": 0.171381,
     "end_time": "2021-05-31T11:07:52.947488",
     "exception": false,
     "start_time": "2021-05-31T11:07:52.776107",
     "status": "completed"
    },
    "tags": []
   },
   "outputs": [],
   "source": [
    "df_dict['summary']='Описание, можно извлечь что-то, но нет в тесте'"
   ]
  },
  {
   "cell_type": "markdown",
   "id": "ecological-credits",
   "metadata": {
    "papermill": {
     "duration": 0.161956,
     "end_time": "2021-05-31T11:07:53.273787",
     "exception": false,
     "start_time": "2021-05-31T11:07:53.111831",
     "status": "completed"
    },
    "tags": []
   },
   "source": [
    "## category "
   ]
  },
  {
   "cell_type": "code",
   "execution_count": 56,
   "id": "balanced-morgan",
   "metadata": {
    "execution": {
     "iopub.execute_input": "2021-05-31T11:07:53.613160Z",
     "iopub.status.busy": "2021-05-31T11:07:53.612460Z",
     "iopub.status.idle": "2021-05-31T11:07:53.616207Z",
     "shell.execute_reply": "2021-05-31T11:07:53.615635Z",
     "shell.execute_reply.started": "2021-05-31T10:30:47.181488Z"
    },
    "papermill": {
     "duration": 0.178997,
     "end_time": "2021-05-31T11:07:53.616370",
     "exception": false,
     "start_time": "2021-05-31T11:07:53.437373",
     "status": "completed"
    },
    "tags": []
   },
   "outputs": [
    {
     "data": {
      "text/plain": [
       "0         [Grocery & Gourmet Food, Herbs, Spices & Seaso...\n",
       "1         [Grocery & Gourmet Food, Herbs, Spices & Seaso...\n",
       "2         [Grocery & Gourmet Food, Herbs, Spices & Seaso...\n",
       "3         [Grocery & Gourmet Food, Herbs, Spices & Seaso...\n",
       "4         [Grocery & Gourmet Food, Herbs, Spices & Seaso...\n",
       "                                ...                        \n",
       "847588    [Grocery & Gourmet Food, Candy & Chocolate, Ca...\n",
       "847589    [Grocery & Gourmet Food, Jams, Jellies & Sweet...\n",
       "847590    [Grocery & Gourmet Food, Beverages, Coffee, Te...\n",
       "847591    [Grocery & Gourmet Food, Beverages, Coffee, Te...\n",
       "847592    [Grocery & Gourmet Food, Canned, Jarred & Pack...\n",
       "Name: category, Length: 847593, dtype: object"
      ]
     },
     "execution_count": 56,
     "metadata": {},
     "output_type": "execute_result"
    }
   ],
   "source": [
    "df.category"
   ]
  },
  {
   "cell_type": "code",
   "execution_count": 57,
   "id": "intimate-valley",
   "metadata": {
    "execution": {
     "iopub.execute_input": "2021-05-31T11:07:54.024191Z",
     "iopub.status.busy": "2021-05-31T11:07:54.023554Z",
     "iopub.status.idle": "2021-05-31T11:07:54.026376Z",
     "shell.execute_reply": "2021-05-31T11:07:54.026881Z",
     "shell.execute_reply.started": "2021-05-31T10:30:47.201047Z"
    },
    "papermill": {
     "duration": 0.246935,
     "end_time": "2021-05-31T11:07:54.027070",
     "exception": false,
     "start_time": "2021-05-31T11:07:53.780135",
     "status": "completed"
    },
    "tags": []
   },
   "outputs": [],
   "source": [
    "df_dict['category']='Пропусков нет, можно найти самые популярные категории. Подумаем'"
   ]
  },
  {
   "cell_type": "markdown",
   "id": "unnecessary-substitute",
   "metadata": {
    "papermill": {
     "duration": 0.163757,
     "end_time": "2021-05-31T11:07:54.355009",
     "exception": false,
     "start_time": "2021-05-31T11:07:54.191252",
     "status": "completed"
    },
    "tags": []
   },
   "source": [
    "## description "
   ]
  },
  {
   "cell_type": "code",
   "execution_count": 58,
   "id": "classified-superintendent",
   "metadata": {
    "execution": {
     "iopub.execute_input": "2021-05-31T11:07:54.687629Z",
     "iopub.status.busy": "2021-05-31T11:07:54.686614Z",
     "iopub.status.idle": "2021-05-31T11:07:54.691827Z",
     "shell.execute_reply": "2021-05-31T11:07:54.691314Z",
     "shell.execute_reply.started": "2021-05-31T10:30:47.212588Z"
    },
    "papermill": {
     "duration": 0.172346,
     "end_time": "2021-05-31T11:07:54.691978",
     "exception": false,
     "start_time": "2021-05-31T11:07:54.519632",
     "status": "completed"
    },
    "tags": []
   },
   "outputs": [],
   "source": [
    "df_dict['description']='В тесте нет, можно найти самые популярные категории. Подумаем'"
   ]
  },
  {
   "cell_type": "markdown",
   "id": "faced-brighton",
   "metadata": {
    "papermill": {
     "duration": 0.165924,
     "end_time": "2021-05-31T11:07:55.020380",
     "exception": false,
     "start_time": "2021-05-31T11:07:54.854456",
     "status": "completed"
    },
    "tags": []
   },
   "source": [
    "## title "
   ]
  },
  {
   "cell_type": "code",
   "execution_count": 59,
   "id": "plastic-shoot",
   "metadata": {
    "execution": {
     "iopub.execute_input": "2021-05-31T11:07:55.434641Z",
     "iopub.status.busy": "2021-05-31T11:07:55.433992Z",
     "iopub.status.idle": "2021-05-31T11:07:56.092915Z",
     "shell.execute_reply": "2021-05-31T11:07:56.091433Z",
     "shell.execute_reply.started": "2021-05-31T10:30:47.224032Z"
    },
    "papermill": {
     "duration": 0.90716,
     "end_time": "2021-05-31T11:07:56.093202",
     "exception": false,
     "start_time": "2021-05-31T11:07:55.186042",
     "status": "completed"
    },
    "tags": []
   },
   "outputs": [
    {
     "name": "stdout",
     "output_type": "stream",
     "text": [
      "Сколько пропусков? 0\n",
      "\n",
      "Процент пропусков? 0.0%\n",
      "\n",
      "Описание:\n",
      "count                                                847593\n",
      "unique                                                41149\n",
      "top       KIND Bars, Dark Chocolate Nuts & Sea Salt, Glu...\n",
      "freq                                                   7435\n",
      "Name: title, dtype: object\n",
      "\n",
      "Как распределено?\n",
      "KIND Bars, Dark Chocolate Nuts & Sea Salt, Gluten Free, 1.4 Ounce Bars, 12 Count      7435\n",
      "KIND Bars, Dark Chocolate Chili Almond, Gluten Free, 1.4 Ounce Bars, 12 Count         4733\n",
      "Kind Bars, Madagascar Vanilla Almond, Gluten Free, Low Sugar, 1.4oz                   4611\n",
      "Twinings of London Pure Camomile Herbal Tea Bags, 20 Count                            4252\n",
      "KIND Bars, Caramel Almond and Sea Salt, Gluten Free, 1.4 Ounce Bars, 12 Count         3079\n",
      "                                                                                      ... \n",
      "Milk Maid Caramel Apple Candy Corn 9oz                                                   1\n",
      "OliveNation Spearmint Extract, 8 Ounce                                                   1\n",
      "Sweet Sensations Cookie, Candy and Treats Gift Basket MEDIUM (Chocolate Option)          1\n",
      "Jane's Krazy Mixed-Up Original Salt Blend - 2.75 oz                                      1\n",
      "Uncle Lee's Imperial Organic Tea - Chai With Vanilla Rooibos, 18-Count (Pack of 4)       1\n",
      "Name: title, Length: 41149, dtype: int64\n"
     ]
    }
   ],
   "source": [
    "show_info(df.title)"
   ]
  },
  {
   "cell_type": "code",
   "execution_count": 60,
   "id": "occupied-differential",
   "metadata": {
    "execution": {
     "iopub.execute_input": "2021-05-31T11:07:56.432302Z",
     "iopub.status.busy": "2021-05-31T11:07:56.431641Z",
     "iopub.status.idle": "2021-05-31T11:07:56.434935Z",
     "shell.execute_reply": "2021-05-31T11:07:56.434215Z",
     "shell.execute_reply.started": "2021-05-31T10:30:47.971291Z"
    },
    "papermill": {
     "duration": 0.173623,
     "end_time": "2021-05-31T11:07:56.435071",
     "exception": false,
     "start_time": "2021-05-31T11:07:56.261448",
     "status": "completed"
    },
    "tags": []
   },
   "outputs": [],
   "source": [
    "df_dict['title']='Удалим'"
   ]
  },
  {
   "cell_type": "markdown",
   "id": "falling-boston",
   "metadata": {
    "papermill": {
     "duration": 0.163976,
     "end_time": "2021-05-31T11:07:56.762589",
     "exception": false,
     "start_time": "2021-05-31T11:07:56.598613",
     "status": "completed"
    },
    "tags": []
   },
   "source": [
    "## brand  "
   ]
  },
  {
   "cell_type": "code",
   "execution_count": 61,
   "id": "responsible-japan",
   "metadata": {
    "execution": {
     "iopub.execute_input": "2021-05-31T11:07:57.182555Z",
     "iopub.status.busy": "2021-05-31T11:07:57.181837Z",
     "iopub.status.idle": "2021-05-31T11:07:57.772172Z",
     "shell.execute_reply": "2021-05-31T11:07:57.771621Z",
     "shell.execute_reply.started": "2021-05-31T10:30:47.977686Z"
    },
    "papermill": {
     "duration": 0.843856,
     "end_time": "2021-05-31T11:07:57.772344",
     "exception": false,
     "start_time": "2021-05-31T11:07:56.928488",
     "status": "completed"
    },
    "tags": []
   },
   "outputs": [
    {
     "name": "stdout",
     "output_type": "stream",
     "text": [
      "Сколько пропусков? 6104\n",
      "\n",
      "Процент пропусков? 0.7201569621268699%\n",
      "\n",
      "Описание:\n",
      "count     841489\n",
      "unique      8866\n",
      "top         KIND\n",
      "freq       22506\n",
      "Name: brand, dtype: object\n",
      "\n",
      "Как распределено?\n",
      "KIND                22506\n",
      "Bob's Red Mill      13061\n",
      "Twinings            11182\n",
      "Planters            10384\n",
      "Frontier             6926\n",
      "                    ...  \n",
      "SEA2O                   1\n",
      "Builders Tea            1\n",
      "Tsogo                   1\n",
      "Cocktail Rx             1\n",
      "Fuel in a Bottle        1\n",
      "Name: brand, Length: 8866, dtype: int64\n"
     ]
    }
   ],
   "source": [
    "show_info(df.brand)"
   ]
  },
  {
   "cell_type": "code",
   "execution_count": 62,
   "id": "unlikely-lender",
   "metadata": {
    "execution": {
     "iopub.execute_input": "2021-05-31T11:07:58.135747Z",
     "iopub.status.busy": "2021-05-31T11:07:58.135030Z",
     "iopub.status.idle": "2021-05-31T11:07:58.137780Z",
     "shell.execute_reply": "2021-05-31T11:07:58.137125Z",
     "shell.execute_reply.started": "2021-05-31T10:30:48.664870Z"
    },
    "papermill": {
     "duration": 0.191399,
     "end_time": "2021-05-31T11:07:58.137916",
     "exception": false,
     "start_time": "2021-05-31T11:07:57.946517",
     "status": "completed"
    },
    "tags": []
   },
   "outputs": [],
   "source": [
    "df_dict['brand'] = 'Можно найти топовые бренды. Посмотрим'"
   ]
  },
  {
   "cell_type": "markdown",
   "id": "preceding-norwegian",
   "metadata": {
    "papermill": {
     "duration": 0.164225,
     "end_time": "2021-05-31T11:07:58.467244",
     "exception": false,
     "start_time": "2021-05-31T11:07:58.303019",
     "status": "completed"
    },
    "tags": []
   },
   "source": [
    "## rank "
   ]
  },
  {
   "cell_type": "code",
   "execution_count": 63,
   "id": "imposed-sodium",
   "metadata": {
    "execution": {
     "iopub.execute_input": "2021-05-31T11:07:58.805436Z",
     "iopub.status.busy": "2021-05-31T11:07:58.804761Z",
     "iopub.status.idle": "2021-05-31T11:07:58.808517Z",
     "shell.execute_reply": "2021-05-31T11:07:58.808978Z",
     "shell.execute_reply.started": "2021-05-31T10:30:48.670700Z"
    },
    "papermill": {
     "duration": 0.177121,
     "end_time": "2021-05-31T11:07:58.809154",
     "exception": false,
     "start_time": "2021-05-31T11:07:58.632033",
     "status": "completed"
    },
    "tags": []
   },
   "outputs": [
    {
     "data": {
      "text/plain": [
       "0          19,771inGroceryGourmetFood(\n",
       "1          19,771inGroceryGourmetFood(\n",
       "2          19,771inGroceryGourmetFood(\n",
       "3          19,771inGroceryGourmetFood(\n",
       "4          19,771inGroceryGourmetFood(\n",
       "                      ...             \n",
       "847588    212,433inGroceryGourmetFood(\n",
       "847589    150,108inGroceryGourmetFood(\n",
       "847590     14,497inGroceryGourmetFood(\n",
       "847591       443,322inHealthHousehold(\n",
       "847592     43,444inGroceryGourmetFood(\n",
       "Name: rank, Length: 847593, dtype: object"
      ]
     },
     "execution_count": 63,
     "metadata": {},
     "output_type": "execute_result"
    }
   ],
   "source": [
    "df['rank']"
   ]
  },
  {
   "cell_type": "code",
   "execution_count": 64,
   "id": "destroyed-pontiac",
   "metadata": {
    "execution": {
     "iopub.execute_input": "2021-05-31T11:07:59.157786Z",
     "iopub.status.busy": "2021-05-31T11:07:59.156742Z",
     "iopub.status.idle": "2021-05-31T11:08:06.315645Z",
     "shell.execute_reply": "2021-05-31T11:08:06.315065Z",
     "shell.execute_reply.started": "2021-05-31T10:30:48.688913Z"
    },
    "papermill": {
     "duration": 7.336905,
     "end_time": "2021-05-31T11:08:06.315796",
     "exception": false,
     "start_time": "2021-05-31T11:07:58.978891",
     "status": "completed"
    },
    "tags": []
   },
   "outputs": [
    {
     "data": {
      "text/plain": [
       "0          19771\n",
       "1          19771\n",
       "2          19771\n",
       "3          19771\n",
       "4          19771\n",
       "           ...  \n",
       "847588    212433\n",
       "847589    150108\n",
       "847590     14497\n",
       "847591    443322\n",
       "847592     43444\n",
       "Name: rank, Length: 847593, dtype: int32"
      ]
     },
     "execution_count": 64,
     "metadata": {},
     "output_type": "execute_result"
    }
   ],
   "source": [
    "import re\n",
    "# Приведем все к str\n",
    "df['rank'] = df['rank'].astype('str')\n",
    "# Удалим все значения кроме числовых\n",
    "df['rank'] = df['rank'].apply(lambda x: re.sub('\\D', '', x))\n",
    "# Заменим пропуски на высокий ранг (предположим, что чем ниже ранг, тем лучше)\n",
    "df['rank'] = df['rank'].apply(lambda x: 9999999 if x == '' else x)\n",
    "df['rank'] = df['rank'].astype('float')\n",
    "# Остаются какие-то большие значения, заменим их на высокий ранг\n",
    "df['rank'] = df['rank'].apply(lambda x: 9999999 if x > 9999999 else x)\n",
    "df['rank'] = df['rank'].astype('int32')\n",
    "# Посмотрим на результат\n",
    "df['rank']"
   ]
  },
  {
   "cell_type": "code",
   "execution_count": 65,
   "id": "micro-binding",
   "metadata": {
    "execution": {
     "iopub.execute_input": "2021-05-31T11:08:06.652454Z",
     "iopub.status.busy": "2021-05-31T11:08:06.651573Z",
     "iopub.status.idle": "2021-05-31T11:08:07.137146Z",
     "shell.execute_reply": "2021-05-31T11:08:07.136445Z",
     "shell.execute_reply.started": "2021-05-31T10:30:55.530846Z"
    },
    "papermill": {
     "duration": 0.656111,
     "end_time": "2021-05-31T11:08:07.137321",
     "exception": false,
     "start_time": "2021-05-31T11:08:06.481210",
     "status": "completed"
    },
    "tags": []
   },
   "outputs": [],
   "source": [
    "# Создадим 3 категории рангов\n",
    "def cat_rank(x):\n",
    "    if x < 1093: x = 'high'\n",
    "    elif 1093 <= x <= 18000: x = 'middle'\n",
    "    elif 18000 < x: x = 'low'\n",
    "    return x      \n",
    "\n",
    "# Заменим значения в столбце на категории\n",
    "df['rank'] = df['rank'].apply(lambda x: cat_rank(x))"
   ]
  },
  {
   "cell_type": "code",
   "execution_count": 66,
   "id": "characteristic-malaysia",
   "metadata": {
    "execution": {
     "iopub.execute_input": "2021-05-31T11:08:07.545627Z",
     "iopub.status.busy": "2021-05-31T11:08:07.544671Z",
     "iopub.status.idle": "2021-05-31T11:08:08.534647Z",
     "shell.execute_reply": "2021-05-31T11:08:08.533841Z",
     "shell.execute_reply.started": "2021-05-31T10:30:56.007526Z"
    },
    "papermill": {
     "duration": 1.232073,
     "end_time": "2021-05-31T11:08:08.534824",
     "exception": false,
     "start_time": "2021-05-31T11:08:07.302751",
     "status": "completed"
    },
    "tags": []
   },
   "outputs": [
    {
     "name": "stdout",
     "output_type": "stream",
     "text": [
      "Сколько пропусков? 0\n",
      "\n",
      "Процент пропусков? 0.0%\n",
      "\n",
      "Описание:\n",
      "count     847593\n",
      "unique         3\n",
      "top          low\n",
      "freq      575847\n",
      "Name: rank, dtype: object\n",
      "\n",
      "Как распределено?\n",
      "low       575847\n",
      "middle    217668\n",
      "high       54078\n",
      "Name: rank, dtype: int64\n"
     ]
    },
    {
     "data": {
      "image/png": "[encoded data removed]",
      "text/plain": [
       "<Figure size 432x288 with 1 Axes>"
      ]
     },
     "metadata": {
      "needs_background": "light"
     },
     "output_type": "display_data"
    }
   ],
   "source": [
    "show_info_hist(df['rank'])"
   ]
  },
  {
   "cell_type": "code",
   "execution_count": 67,
   "id": "ruled-purpose",
   "metadata": {
    "execution": {
     "iopub.execute_input": "2021-05-31T11:08:08.878982Z",
     "iopub.status.busy": "2021-05-31T11:08:08.877994Z",
     "iopub.status.idle": "2021-05-31T11:08:08.880936Z",
     "shell.execute_reply": "2021-05-31T11:08:08.881456Z",
     "shell.execute_reply.started": "2021-05-31T10:30:57.064612Z"
    },
    "papermill": {
     "duration": 0.177005,
     "end_time": "2021-05-31T11:08:08.881642",
     "exception": false,
     "start_time": "2021-05-31T11:08:08.704637",
     "status": "completed"
    },
    "tags": []
   },
   "outputs": [],
   "source": [
    "df_dict['rank']='Сделали 3 категории'"
   ]
  },
  {
   "cell_type": "markdown",
   "id": "satellite-andrew",
   "metadata": {
    "papermill": {
     "duration": 0.16818,
     "end_time": "2021-05-31T11:08:09.250744",
     "exception": false,
     "start_time": "2021-05-31T11:08:09.082564",
     "status": "completed"
    },
    "tags": []
   },
   "source": [
    "## also_view "
   ]
  },
  {
   "cell_type": "code",
   "execution_count": 68,
   "id": "killing-perfume",
   "metadata": {
    "execution": {
     "iopub.execute_input": "2021-05-31T11:08:09.589530Z",
     "iopub.status.busy": "2021-05-31T11:08:09.588856Z",
     "iopub.status.idle": "2021-05-31T11:08:09.600217Z",
     "shell.execute_reply": "2021-05-31T11:08:09.599569Z",
     "shell.execute_reply.started": "2021-05-31T10:30:57.078404Z"
    },
    "papermill": {
     "duration": 0.181528,
     "end_time": "2021-05-31T11:08:09.600372",
     "exception": false,
     "start_time": "2021-05-31T11:08:09.418844",
     "status": "completed"
    },
    "tags": []
   },
   "outputs": [
    {
     "data": {
      "text/plain": [
       "0         [B00AJRKRJS, B01NALHAY9, B01DGZ2B48, B01EZ489A...\n",
       "1         [B00AJRKRJS, B01NALHAY9, B01DGZ2B48, B01EZ489A...\n",
       "2         [B00AJRKRJS, B01NALHAY9, B01DGZ2B48, B01EZ489A...\n",
       "3         [B00AJRKRJS, B01NALHAY9, B01DGZ2B48, B01EZ489A...\n",
       "4         [B00AJRKRJS, B01NALHAY9, B01DGZ2B48, B01EZ489A...\n",
       "                                ...                        \n",
       "847588    [B004RASYSE, B0007KLGC4, B004R34A48, B004ROS57...\n",
       "847589    [B073SHX9X9, B073SHFN7C, B06WWRK7VT, B079KKM9B...\n",
       "847590                                                  NaN\n",
       "847591                                                  NaN\n",
       "847592                                                  NaN\n",
       "Name: also_view, Length: 847593, dtype: object"
      ]
     },
     "execution_count": 68,
     "metadata": {},
     "output_type": "execute_result"
    }
   ],
   "source": [
    "df.also_view"
   ]
  },
  {
   "cell_type": "code",
   "execution_count": 69,
   "id": "unavailable-german",
   "metadata": {
    "execution": {
     "iopub.execute_input": "2021-05-31T11:08:09.941086Z",
     "iopub.status.busy": "2021-05-31T11:08:09.940369Z",
     "iopub.status.idle": "2021-05-31T11:08:09.945358Z",
     "shell.execute_reply": "2021-05-31T11:08:09.944754Z",
     "shell.execute_reply.started": "2021-05-31T10:30:57.092550Z"
    },
    "papermill": {
     "duration": 0.175462,
     "end_time": "2021-05-31T11:08:09.945505",
     "exception": false,
     "start_time": "2021-05-31T11:08:09.770043",
     "status": "completed"
    },
    "tags": []
   },
   "outputs": [],
   "source": [
    "df_dict['also_view']='Много пропусков, удалим'"
   ]
  },
  {
   "cell_type": "markdown",
   "id": "contained-opera",
   "metadata": {
    "papermill": {
     "duration": 0.16872,
     "end_time": "2021-05-31T11:08:10.282327",
     "exception": false,
     "start_time": "2021-05-31T11:08:10.113607",
     "status": "completed"
    },
    "tags": []
   },
   "source": [
    "## main_cat "
   ]
  },
  {
   "cell_type": "code",
   "execution_count": 70,
   "id": "later-garage",
   "metadata": {
    "execution": {
     "iopub.execute_input": "2021-05-31T11:08:10.626882Z",
     "iopub.status.busy": "2021-05-31T11:08:10.626043Z",
     "iopub.status.idle": "2021-05-31T11:08:10.630183Z",
     "shell.execute_reply": "2021-05-31T11:08:10.629715Z",
     "shell.execute_reply.started": "2021-05-31T10:30:57.103019Z"
    },
    "papermill": {
     "duration": 0.179205,
     "end_time": "2021-05-31T11:08:10.630350",
     "exception": false,
     "start_time": "2021-05-31T11:08:10.451145",
     "status": "completed"
    },
    "tags": []
   },
   "outputs": [
    {
     "data": {
      "text/plain": [
       "0                        Grocery\n",
       "1                        Grocery\n",
       "2                        Grocery\n",
       "3                        Grocery\n",
       "4                        Grocery\n",
       "                   ...          \n",
       "847588                   Grocery\n",
       "847589                   Grocery\n",
       "847590                   Grocery\n",
       "847591    Health & Personal Care\n",
       "847592                   Grocery\n",
       "Name: main_cat, Length: 847593, dtype: object"
      ]
     },
     "execution_count": 70,
     "metadata": {},
     "output_type": "execute_result"
    }
   ],
   "source": [
    "df.main_cat"
   ]
  },
  {
   "cell_type": "code",
   "execution_count": 71,
   "id": "documented-queensland",
   "metadata": {
    "execution": {
     "iopub.execute_input": "2021-05-31T11:08:11.059059Z",
     "iopub.status.busy": "2021-05-31T11:08:11.058382Z",
     "iopub.status.idle": "2021-05-31T11:08:11.098117Z",
     "shell.execute_reply": "2021-05-31T11:08:11.097571Z",
     "shell.execute_reply.started": "2021-05-31T10:30:57.118456Z"
    },
    "papermill": {
     "duration": 0.300021,
     "end_time": "2021-05-31T11:08:11.098299",
     "exception": false,
     "start_time": "2021-05-31T11:08:10.798278",
     "status": "completed"
    },
    "tags": []
   },
   "outputs": [],
   "source": [
    "df.main_cat = df.main_cat.fillna('Other')"
   ]
  },
  {
   "cell_type": "code",
   "execution_count": 72,
   "id": "exact-weather",
   "metadata": {
    "execution": {
     "iopub.execute_input": "2021-05-31T11:08:11.440300Z",
     "iopub.status.busy": "2021-05-31T11:08:11.439634Z",
     "iopub.status.idle": "2021-05-31T11:08:11.442568Z",
     "shell.execute_reply": "2021-05-31T11:08:11.442002Z",
     "shell.execute_reply.started": "2021-05-31T10:30:57.250650Z"
    },
    "papermill": {
     "duration": 0.176587,
     "end_time": "2021-05-31T11:08:11.442706",
     "exception": false,
     "start_time": "2021-05-31T11:08:11.266119",
     "status": "completed"
    },
    "tags": []
   },
   "outputs": [],
   "source": [
    "df_dict['main_cat']='Сделать dummy'"
   ]
  },
  {
   "cell_type": "markdown",
   "id": "floral-dependence",
   "metadata": {
    "papermill": {
     "duration": 0.169876,
     "end_time": "2021-05-31T11:08:11.781708",
     "exception": false,
     "start_time": "2021-05-31T11:08:11.611832",
     "status": "completed"
    },
    "tags": []
   },
   "source": [
    "## price "
   ]
  },
  {
   "cell_type": "code",
   "execution_count": 73,
   "id": "important-vessel",
   "metadata": {
    "execution": {
     "iopub.execute_input": "2021-05-31T11:08:12.187502Z",
     "iopub.status.busy": "2021-05-31T11:08:12.186870Z",
     "iopub.status.idle": "2021-05-31T11:08:12.653618Z",
     "shell.execute_reply": "2021-05-31T11:08:12.652385Z",
     "shell.execute_reply.started": "2021-05-31T10:30:57.256851Z"
    },
    "papermill": {
     "duration": 0.703725,
     "end_time": "2021-05-31T11:08:12.653849",
     "exception": false,
     "start_time": "2021-05-31T11:08:11.950124",
     "status": "completed"
    },
    "tags": []
   },
   "outputs": [
    {
     "name": "stdout",
     "output_type": "stream",
     "text": [
      "Сколько пропусков? 258621\n",
      "\n",
      "Процент пропусков? 30.512403948593253%\n",
      "\n",
      "Описание:\n",
      "count     588972\n",
      "unique      4601\n",
      "top       $14.99\n",
      "freq       14241\n",
      "Name: price, dtype: object\n",
      "\n",
      "Как распределено?\n",
      "$14.99              14241\n",
      "$13.67              10660\n",
      "$19.99               9043\n",
      "$14.79               5632\n",
      "$15.53               5561\n",
      "                    ...  \n",
      "$34.07                  2\n",
      "$35.16                  1\n",
      "$6.93                   1\n",
      "$19.99 - $295.00        1\n",
      "$44.14                  1\n",
      "Name: price, Length: 4601, dtype: int64\n"
     ]
    }
   ],
   "source": [
    "show_info(df.price)"
   ]
  },
  {
   "cell_type": "code",
   "execution_count": 74,
   "id": "martial-latin",
   "metadata": {
    "execution": {
     "iopub.execute_input": "2021-05-31T11:08:13.004145Z",
     "iopub.status.busy": "2021-05-31T11:08:13.002453Z",
     "iopub.status.idle": "2021-05-31T11:08:17.914151Z",
     "shell.execute_reply": "2021-05-31T11:08:17.913437Z",
     "shell.execute_reply.started": "2021-05-31T10:30:57.795814Z"
    },
    "papermill": {
     "duration": 5.090131,
     "end_time": "2021-05-31T11:08:17.914324",
     "exception": false,
     "start_time": "2021-05-31T11:08:12.824193",
     "status": "completed"
    },
    "tags": []
   },
   "outputs": [
    {
     "name": "stdout",
     "output_type": "stream",
     "text": [
      "Сколько пропусков? 0\n",
      "\n",
      "Процент пропусков? 0.0%\n",
      "\n",
      "Описание:\n",
      "count    585001.000000\n",
      "mean       2069.952270\n",
      "std        1754.135664\n",
      "min           1.000000\n",
      "25%        1155.000000\n",
      "50%        1691.000000\n",
      "75%        2599.000000\n",
      "max       99900.000000\n",
      "Name: price, dtype: float64\n",
      "\n",
      "Как распределено?\n",
      "1499.0    14241\n",
      "1367.0    10660\n",
      "1999.0     9043\n",
      "1479.0     5632\n",
      "1553.0     5561\n",
      "          ...  \n",
      "3407.0        2\n",
      "3005.0        2\n",
      "4414.0        1\n",
      "693.0         1\n",
      "3516.0        1\n",
      "Name: price, Length: 4527, dtype: int64\n"
     ]
    }
   ],
   "source": [
    "# Скопируем датасет\n",
    "df_price = df.copy()\n",
    "# Избавимся от пропусков\n",
    "df_price = df_price[df_price.price.isna() == False]\n",
    "df_price = df_price[df_price.price != '']\n",
    "# Приведем все к str\n",
    "df_price['price'] = df_price['price'].astype('str')\n",
    "# Удалим все значения кроме числовых\n",
    "df_price['price'] = df_price['price'].apply(lambda x: re.sub('\\D', '', x))\n",
    "# Переведем во float\n",
    "df_price['price'] = df_price['price'].astype('float')\n",
    "# Удалим все, что дороже 9999$ т.к. это, скорее всего, ошибка\n",
    "df_price = df_price[df_price.price < 999999]\n",
    "# Посмотрим на результат\n",
    "show_info(df_price.price)\n"
   ]
  },
  {
   "cell_type": "code",
   "execution_count": 75,
   "id": "adjacent-singing",
   "metadata": {
    "execution": {
     "iopub.execute_input": "2021-05-31T11:08:18.262088Z",
     "iopub.status.busy": "2021-05-31T11:08:18.261363Z",
     "iopub.status.idle": "2021-05-31T11:08:22.180129Z",
     "shell.execute_reply": "2021-05-31T11:08:22.179464Z",
     "shell.execute_reply.started": "2021-05-31T10:31:02.573379Z"
    },
    "papermill": {
     "duration": 4.095569,
     "end_time": "2021-05-31T11:08:22.180297",
     "exception": false,
     "start_time": "2021-05-31T11:08:18.084728",
     "status": "completed"
    },
    "tags": []
   },
   "outputs": [
    {
     "name": "stdout",
     "output_type": "stream",
     "text": [
      "Сколько пропусков? 0\n",
      "\n",
      "Процент пропусков? 0.0%\n",
      "\n",
      "Описание:\n",
      "count    847593.000000\n",
      "mean       2069.967057\n",
      "std        1457.295712\n",
      "min           1.000000\n",
      "25%        1398.000000\n",
      "50%        2070.000000\n",
      "75%        2112.000000\n",
      "max       99900.000000\n",
      "Name: price, dtype: float64\n",
      "\n",
      "Как распределено?\n",
      "2070    262805\n",
      "1499     14241\n",
      "1367     10660\n",
      "1999      9043\n",
      "1479      5632\n",
      "         ...  \n",
      "1931         2\n",
      "2033         2\n",
      "3516         1\n",
      "4414         1\n",
      "693          1\n",
      "Name: price, Length: 4527, dtype: int64\n"
     ]
    },
    {
     "data": {
      "image/png": "[encoded data removed]",
      "text/plain": [
       "<Figure size 432x288 with 1 Axes>"
      ]
     },
     "metadata": {
      "needs_background": "light"
     },
     "output_type": "display_data"
    }
   ],
   "source": [
    "# Чтобы каждый раз не считать среднее значение, используем переменную\n",
    "df_price_mean = df_price.price.mean()\n",
    "# Приведем все к str\n",
    "df['price'] = df['price'].astype('str')\n",
    "# Удалим все значения кроме числовых\n",
    "df['price'] = df['price'].apply(lambda x: re.sub('\\D', '', x))\n",
    "# Заменим пропуски на среднее значение\n",
    "df['price'] = df['price'].apply(lambda x: round(df_price_mean, 0) if x == '' else x)\n",
    "# Приведем к float\n",
    "df['price'] = df['price'].astype('float')\n",
    "# Заменим большие значения на средние\n",
    "df['price'] = df['price'].apply(lambda x: round(df_price_mean, 0) if x > 999999 else x)\n",
    "# Приведем к int32\n",
    "df['price'] = df['price'].astype('int32')\n",
    "# Смотрим на результат\n",
    "show_info_hist(df.price)"
   ]
  },
  {
   "cell_type": "code",
   "execution_count": 76,
   "id": "treated-scott",
   "metadata": {
    "execution": {
     "iopub.execute_input": "2021-05-31T11:08:22.526129Z",
     "iopub.status.busy": "2021-05-31T11:08:22.525479Z",
     "iopub.status.idle": "2021-05-31T11:08:22.978420Z",
     "shell.execute_reply": "2021-05-31T11:08:22.977759Z",
     "shell.execute_reply.started": "2021-05-31T10:31:06.517895Z"
    },
    "papermill": {
     "duration": 0.628315,
     "end_time": "2021-05-31T11:08:22.978563",
     "exception": false,
     "start_time": "2021-05-31T11:08:22.350248",
     "status": "completed"
    },
    "tags": []
   },
   "outputs": [],
   "source": [
    "def cat_price(x):\n",
    "    if x < 1397: x = 'low'\n",
    "    elif 1397 <= x <= 2099: x = 'middle'\n",
    "    elif 2099 < x: x = 'high'\n",
    "    return x      \n",
    "\n",
    "df['price'] = df['price'].apply(lambda x: cat_price(x))"
   ]
  },
  {
   "cell_type": "markdown",
   "id": "signed-gossip",
   "metadata": {
    "papermill": {
     "duration": 0.173511,
     "end_time": "2021-05-31T11:08:23.327088",
     "exception": false,
     "start_time": "2021-05-31T11:08:23.153577",
     "status": "completed"
    },
    "tags": []
   },
   "source": [
    "## also_buy "
   ]
  },
  {
   "cell_type": "code",
   "execution_count": 77,
   "id": "accessory-better",
   "metadata": {
    "execution": {
     "iopub.execute_input": "2021-05-31T11:08:23.684230Z",
     "iopub.status.busy": "2021-05-31T11:08:23.683332Z",
     "iopub.status.idle": "2021-05-31T11:08:23.687695Z",
     "shell.execute_reply": "2021-05-31T11:08:23.687159Z",
     "shell.execute_reply.started": "2021-05-31T10:31:06.968033Z"
    },
    "papermill": {
     "duration": 0.186213,
     "end_time": "2021-05-31T11:08:23.687831",
     "exception": false,
     "start_time": "2021-05-31T11:08:23.501618",
     "status": "completed"
    },
    "tags": []
   },
   "outputs": [
    {
     "data": {
      "text/plain": [
       "0         [B01DGZ2B48, B01EZ489AO, B01DH795LM, B01EYW2LC...\n",
       "1         [B01DGZ2B48, B01EZ489AO, B01DH795LM, B01EYW2LC...\n",
       "2         [B01DGZ2B48, B01EZ489AO, B01DH795LM, B01EYW2LC...\n",
       "3         [B01DGZ2B48, B01EZ489AO, B01DH795LM, B01EYW2LC...\n",
       "4         [B01DGZ2B48, B01EZ489AO, B01DH795LM, B01EYW2LC...\n",
       "                                ...                        \n",
       "847588                                                  NaN\n",
       "847589    [B073SHX9X9, B01H68M39Y, B00GU19JRI, B0799CH1Z...\n",
       "847590    [B001O4EKJI, B002H1PS34, B00WRGGB7G, B005DOQME...\n",
       "847591                                                  NaN\n",
       "847592    [B019YHTJ2E, B000KHMWQS, B00MK5E2Q6, B00F9XCEM...\n",
       "Name: also_buy, Length: 847593, dtype: object"
      ]
     },
     "execution_count": 77,
     "metadata": {},
     "output_type": "execute_result"
    }
   ],
   "source": [
    "df.also_buy"
   ]
  },
  {
   "cell_type": "code",
   "execution_count": 78,
   "id": "activated-transcript",
   "metadata": {
    "execution": {
     "iopub.execute_input": "2021-05-31T11:08:24.033312Z",
     "iopub.status.busy": "2021-05-31T11:08:24.032653Z",
     "iopub.status.idle": "2021-05-31T11:08:24.035935Z",
     "shell.execute_reply": "2021-05-31T11:08:24.035434Z",
     "shell.execute_reply.started": "2021-05-31T10:31:06.984620Z"
    },
    "papermill": {
     "duration": 0.177999,
     "end_time": "2021-05-31T11:08:24.036079",
     "exception": false,
     "start_time": "2021-05-31T11:08:23.858080",
     "status": "completed"
    },
    "tags": []
   },
   "outputs": [],
   "source": [
    "df_dict['also_buy']='Удалим'"
   ]
  },
  {
   "cell_type": "markdown",
   "id": "single-intention",
   "metadata": {
    "papermill": {
     "duration": 0.214112,
     "end_time": "2021-05-31T11:08:24.425998",
     "exception": false,
     "start_time": "2021-05-31T11:08:24.211886",
     "status": "completed"
    },
    "tags": []
   },
   "source": [
    "## image_y "
   ]
  },
  {
   "cell_type": "code",
   "execution_count": 79,
   "id": "defined-england",
   "metadata": {
    "execution": {
     "iopub.execute_input": "2021-05-31T11:08:24.778867Z",
     "iopub.status.busy": "2021-05-31T11:08:24.778005Z",
     "iopub.status.idle": "2021-05-31T11:08:24.782332Z",
     "shell.execute_reply": "2021-05-31T11:08:24.781810Z",
     "shell.execute_reply.started": "2021-05-31T10:31:06.995408Z"
    },
    "papermill": {
     "duration": 0.182064,
     "end_time": "2021-05-31T11:08:24.782487",
     "exception": false,
     "start_time": "2021-05-31T11:08:24.600423",
     "status": "completed"
    },
    "tags": []
   },
   "outputs": [
    {
     "data": {
      "text/plain": [
       "0         [https://images-na.ssl-images-amazon.com/image...\n",
       "1         [https://images-na.ssl-images-amazon.com/image...\n",
       "2         [https://images-na.ssl-images-amazon.com/image...\n",
       "3         [https://images-na.ssl-images-amazon.com/image...\n",
       "4         [https://images-na.ssl-images-amazon.com/image...\n",
       "                                ...                        \n",
       "847588    [https://images-na.ssl-images-amazon.com/image...\n",
       "847589    [https://images-na.ssl-images-amazon.com/image...\n",
       "847590    [https://images-na.ssl-images-amazon.com/image...\n",
       "847591                                                  NaN\n",
       "847592                                                  NaN\n",
       "Name: image_y, Length: 847593, dtype: object"
      ]
     },
     "execution_count": 79,
     "metadata": {},
     "output_type": "execute_result"
    }
   ],
   "source": [
    "df.image_y"
   ]
  },
  {
   "cell_type": "code",
   "execution_count": 80,
   "id": "collect-characterization",
   "metadata": {
    "execution": {
     "iopub.execute_input": "2021-05-31T11:08:25.136547Z",
     "iopub.status.busy": "2021-05-31T11:08:25.135523Z",
     "iopub.status.idle": "2021-05-31T11:08:25.139037Z",
     "shell.execute_reply": "2021-05-31T11:08:25.138453Z",
     "shell.execute_reply.started": "2021-05-31T10:31:07.013288Z"
    },
    "papermill": {
     "duration": 0.183765,
     "end_time": "2021-05-31T11:08:25.139179",
     "exception": false,
     "start_time": "2021-05-31T11:08:24.955414",
     "status": "completed"
    },
    "tags": []
   },
   "outputs": [],
   "source": [
    "df_dict['image_y']='Картинки, удалим'\n"
   ]
  },
  {
   "cell_type": "markdown",
   "id": "departmental-carolina",
   "metadata": {
    "papermill": {
     "duration": 0.17194,
     "end_time": "2021-05-31T11:08:25.486483",
     "exception": false,
     "start_time": "2021-05-31T11:08:25.314543",
     "status": "completed"
    },
    "tags": []
   },
   "source": [
    "## date "
   ]
  },
  {
   "cell_type": "code",
   "execution_count": 81,
   "id": "choice-projection",
   "metadata": {
    "execution": {
     "iopub.execute_input": "2021-05-31T11:08:25.872099Z",
     "iopub.status.busy": "2021-05-31T11:08:25.871301Z",
     "iopub.status.idle": "2021-05-31T11:08:26.059093Z",
     "shell.execute_reply": "2021-05-31T11:08:26.059882Z",
     "shell.execute_reply.started": "2021-05-31T10:31:07.024210Z"
    },
    "papermill": {
     "duration": 0.399237,
     "end_time": "2021-05-31T11:08:26.060118",
     "exception": false,
     "start_time": "2021-05-31T11:08:25.660881",
     "status": "completed"
    },
    "tags": []
   },
   "outputs": [
    {
     "name": "stdout",
     "output_type": "stream",
     "text": [
      "Сколько пропусков? 835506\n",
      "\n",
      "Процент пропусков? 98.57396179534281%\n",
      "\n",
      "Описание:\n",
      "count               12087\n",
      "unique                417\n",
      "top       January 1, 2006\n",
      "freq                  561\n",
      "Name: date, dtype: object\n",
      "\n",
      "Как распределено?\n",
      "January 1, 2006      561\n",
      "May 5, 2003          428\n",
      "October 29, 2003     424\n",
      "January 7, 2008      372\n",
      "March 10, 2004       294\n",
      "                    ... \n",
      "December 22, 2007      2\n",
      "April 6, 2015          2\n",
      "February 13, 2008      1\n",
      "February 21, 2015      1\n",
      "January 18, 2008       1\n",
      "Name: date, Length: 417, dtype: int64\n"
     ]
    }
   ],
   "source": [
    "show_info(df.date)"
   ]
  },
  {
   "cell_type": "code",
   "execution_count": 82,
   "id": "norwegian-training",
   "metadata": {
    "execution": {
     "iopub.execute_input": "2021-05-31T11:08:26.415418Z",
     "iopub.status.busy": "2021-05-31T11:08:26.414721Z",
     "iopub.status.idle": "2021-05-31T11:08:26.417180Z",
     "shell.execute_reply": "2021-05-31T11:08:26.417658Z",
     "shell.execute_reply.started": "2021-05-31T10:31:07.253817Z"
    },
    "papermill": {
     "duration": 0.180116,
     "end_time": "2021-05-31T11:08:26.417830",
     "exception": false,
     "start_time": "2021-05-31T11:08:26.237714",
     "status": "completed"
    },
    "tags": []
   },
   "outputs": [],
   "source": [
    "df_dict['date']='Очень много пропусков, удалим'"
   ]
  },
  {
   "cell_type": "markdown",
   "id": "dirty-romantic",
   "metadata": {
    "papermill": {
     "duration": 0.169862,
     "end_time": "2021-05-31T11:08:26.757900",
     "exception": false,
     "start_time": "2021-05-31T11:08:26.588038",
     "status": "completed"
    },
    "tags": []
   },
   "source": [
    "## feature "
   ]
  },
  {
   "cell_type": "code",
   "execution_count": 83,
   "id": "cardiovascular-domestic",
   "metadata": {
    "execution": {
     "iopub.execute_input": "2021-05-31T11:08:27.110345Z",
     "iopub.status.busy": "2021-05-31T11:08:27.109393Z",
     "iopub.status.idle": "2021-05-31T11:08:27.114067Z",
     "shell.execute_reply": "2021-05-31T11:08:27.113450Z",
     "shell.execute_reply.started": "2021-05-31T10:31:07.258507Z"
    },
    "papermill": {
     "duration": 0.183968,
     "end_time": "2021-05-31T11:08:27.114214",
     "exception": false,
     "start_time": "2021-05-31T11:08:26.930246",
     "status": "completed"
    },
    "tags": []
   },
   "outputs": [
    {
     "data": {
      "text/plain": [
       "0         NaN\n",
       "1         NaN\n",
       "2         NaN\n",
       "3         NaN\n",
       "4         NaN\n",
       "         ... \n",
       "847588    NaN\n",
       "847589    NaN\n",
       "847590    NaN\n",
       "847591    NaN\n",
       "847592    NaN\n",
       "Name: feature, Length: 847593, dtype: object"
      ]
     },
     "execution_count": 83,
     "metadata": {},
     "output_type": "execute_result"
    }
   ],
   "source": [
    "df.feature"
   ]
  },
  {
   "cell_type": "code",
   "execution_count": 84,
   "id": "operational-utilization",
   "metadata": {
    "execution": {
     "iopub.execute_input": "2021-05-31T11:08:27.463780Z",
     "iopub.status.busy": "2021-05-31T11:08:27.463110Z",
     "iopub.status.idle": "2021-05-31T11:08:27.466592Z",
     "shell.execute_reply": "2021-05-31T11:08:27.466044Z",
     "shell.execute_reply.started": "2021-05-31T10:31:07.273635Z"
    },
    "papermill": {
     "duration": 0.179007,
     "end_time": "2021-05-31T11:08:27.466730",
     "exception": false,
     "start_time": "2021-05-31T11:08:27.287723",
     "status": "completed"
    },
    "tags": []
   },
   "outputs": [],
   "source": [
    "df_dict['feature']='Удалим'"
   ]
  },
  {
   "cell_type": "markdown",
   "id": "liquid-punch",
   "metadata": {
    "papermill": {
     "duration": 0.170452,
     "end_time": "2021-05-31T11:08:27.807845",
     "exception": false,
     "start_time": "2021-05-31T11:08:27.637393",
     "status": "completed"
    },
    "tags": []
   },
   "source": [
    "## details "
   ]
  },
  {
   "cell_type": "code",
   "execution_count": 85,
   "id": "particular-publication",
   "metadata": {
    "execution": {
     "iopub.execute_input": "2021-05-31T11:08:28.168205Z",
     "iopub.status.busy": "2021-05-31T11:08:28.167379Z",
     "iopub.status.idle": "2021-05-31T11:08:28.171569Z",
     "shell.execute_reply": "2021-05-31T11:08:28.172086Z",
     "shell.execute_reply.started": "2021-05-31T10:31:07.285247Z"
    },
    "papermill": {
     "duration": 0.193883,
     "end_time": "2021-05-31T11:08:28.172306",
     "exception": false,
     "start_time": "2021-05-31T11:08:27.978423",
     "status": "completed"
    },
    "tags": []
   },
   "outputs": [
    {
     "data": {
      "text/plain": [
       "0         \\n      <div class=\"content\">\\n\\n\\n\\n\\n\\n\\n<ul...\n",
       "1         \\n      <div class=\"content\">\\n\\n\\n\\n\\n\\n\\n<ul...\n",
       "2         \\n      <div class=\"content\">\\n\\n\\n\\n\\n\\n\\n<ul...\n",
       "3         \\n      <div class=\"content\">\\n\\n\\n\\n\\n\\n\\n<ul...\n",
       "4         \\n      <div class=\"content\">\\n\\n\\n\\n\\n\\n\\n<ul...\n",
       "                                ...                        \n",
       "847588    \\n      <div class=\"content\">\\n\\n\\n\\n\\n\\n\\n<ul...\n",
       "847589    \\n\\n\\n\\n\\n\\n    <div class=\"disclaim\">Flavor: ...\n",
       "847590    \\n      <div class=\"content\">\\n\\n\\n\\n\\n\\n\\n<ul...\n",
       "847591    \\n      <div class=\"content\">\\n\\n\\n\\n\\n\\n\\n<ul...\n",
       "847592    \\n\\n\\n\\n\\n\\n    <div class=\"disclaim\">Flavor: ...\n",
       "Name: details, Length: 847593, dtype: object"
      ]
     },
     "execution_count": 85,
     "metadata": {},
     "output_type": "execute_result"
    }
   ],
   "source": [
    "df.details"
   ]
  },
  {
   "cell_type": "code",
   "execution_count": 86,
   "id": "magnetic-lithuania",
   "metadata": {
    "execution": {
     "iopub.execute_input": "2021-05-31T11:08:28.601401Z",
     "iopub.status.busy": "2021-05-31T11:08:28.600731Z",
     "iopub.status.idle": "2021-05-31T11:08:29.431364Z",
     "shell.execute_reply": "2021-05-31T11:08:29.432297Z",
     "shell.execute_reply.started": "2021-05-31T10:31:07.300061Z"
    },
    "papermill": {
     "duration": 1.087251,
     "end_time": "2021-05-31T11:08:29.432598",
     "exception": false,
     "start_time": "2021-05-31T11:08:28.345347",
     "status": "completed"
    },
    "tags": []
   },
   "outputs": [
    {
     "name": "stdout",
     "output_type": "stream",
     "text": [
      "Сколько пропусков? 14608\n",
      "\n",
      "Процент пропусков? 1.7234686931109626%\n",
      "\n",
      "Описание:\n",
      "count                                                832985\n",
      "unique                                                40368\n",
      "top       \\n\\n\\n\\n\\n\\n    <div class=\"disclaim\">Flavor: ...\n",
      "freq                                                   5430\n",
      "Name: details, dtype: object\n",
      "\n",
      "Как распределено?\n",
      "\\n\\n\\n\\n\\n\\n    <div class=\"disclaim\">Flavor: <strong>Dark Chocolate Nuts & Sea Salt</strong>&nbsp;|&nbsp;Size: <strong>12 Bars</strong></div>\\n\\n\\n\\n\\n          <div class=\"content\">\\n\\n\\n\\n\\n\\n\\n<ul>\\n\\n\\n\\n\\n\\n\\n\\n\\n\\n\\n\\n\\n\\n                                                                                \\n\\n\\n    <li><b>\\n    Product Dimensions: \\n    </b>\\n    6.8 x 6.1 x 2.3 inches ; 1.05 pounds\\n    </li>\\n\\n\\n\\n\\n\\n\\n\\n\\n<li><b>Shipping Weight:</b> 1.2 pounds (<a href=\"/gp/help/seller/shipping.html/ref=dp_pd_shipping?ie=UTF8&amp;asin=B007PE7ANY&amp;seller=ATVPDKIKX0DER\">View shipping rates and policies</a>)</li>\\n\\n\\n\\n\\n\\n\\n\\n\\n\\n\\n\\n\\n<li><b>Domestic Shipping: </b>Currently, item can be shipped only within the U.S. and to APO/FPO addresses. For APO/FPO shipments, please check with the manufacturer regarding warranty and support issues.</li>\\n<li><b>International Shipping: </b>This item can be shipped to select countries outside of the U.S.  <a href=\"/gp/help/customer/display.html?ie=UTF8&nodeId=201117930&pop-up=1\" target=\"InternationalShippingDetails\" onclick=\"return amz_js_PopWin('/gp/help/customer/display.html?ie=UTF8&nodeId=201117930&pop-up=1','InternationalShippingDetails','width=550,height=550,resizable=1,scrollbars=1,toolbar=0,status=0')\">Learn More</a></li>\\n\\n\\n\\n\\n\\n\\n\\n\\n<li><b>ASIN: </b>B007PE7ANY</li>\\n\\n\\n\\n\\n\\n\\n  <li><b>UPC:</b> 602652177514</li>\\n\\n\\n\\n\\n\\n\\n\\n\\n\\n\\n\\n\\n\\n\\n<li><b>Item model number:</b> 17851</li>\\n\\n\\n\\n\\n\\n\\n\\n\\n\\n\\n\\n\\n\\n\\n\\n\\n\\n\\n\\n\\n\\n\\n\\n\\n\\n\\n\\n\\n\\n\\n\\n\\n\\n\\n\\n\\n\\n\\n\\n\\n\\n\\n  \\n  \\n\\n\\n\\n\\n\\n\\n\\n\\n\\n\\n\\n\\n\\n\\n\\n\\n\\n\\n\\n\\n\\n\\n\\n\\n\\n\\n\\n<li><b>Average Customer Review:</b> \\n\\n\\n\\n\\n<span class=\"dpProductDetailB007PE7ANY\">\\n  <span class=\"a-declarative\" data-action=\"a-popover\" data-a-popover=\"{&quot;closeButton&quot;:&quot;false&quot;,&quot;max-width&quot;:&quot;700&quot;,&quot;position&quot;:&quot;triggerBottom&quot;,&quot;url&quot;:&quot;/review/widgets/average-customer-review/popover/ref=acr_dpproductdetail_popover?ie=UTF8&amp;asin=B007PE7ANY&amp;contextId=dpProductDetail&amp;ref=acr_dpproductdetail_popover&quot;}\">\\n    <a href=\"javascript:void(0)\" class=\"a-popover-trigger a-declarative\">\\n      <a class=\"a-link-normal a-text-normal\" href=\"https://www.amazon.com/product-reviews/B007PE7ANY/ref=acr_dpproductdetail_text?ie=UTF8&showViewpoints=1\">\\n        <i class=\"a-icon a-icon-star a-star-4-5\"><span class=\"a-icon-alt\">4.4 out of 5 stars</span></i>\\n      </a>\\n    <i class=\"a-icon a-icon-popover\"></i></a>\\n  </span>\\n  <span class=\"a-letter-space\"></span>\\n  <span class=\"a-size-small\">\\n    <a class=\"a-link-normal\" href=\"https://www.amazon.com/product-reviews/B007PE7ANY/ref=acr_dpproductdetail_text?ie=UTF8&showViewpoints=1\">\\n      3,999 customer reviews\\n    </a>\\n  </span>\\n</span>\\n\\n\\n\\n\\n\\n\\n\\n\\n\\n\\n</li>\\n\\n\\n\\n\\n\\n\\n\\n\\n\\n\\n\\n\\n\\n\\n\\n\\n\\n\\n\\n\\n\\n\\n\\n\\n\\n\\n\\n\\n<li id=\"SalesRank\">\\n<b>Amazon Best Sellers Rank:</b> \\n\\n\\n\\n\\n\\n\\n\\n\\n\\n\\n\\n\\n\\n\\n\\n\\n\\n\\n\\n\\n\\n\\n#18 in Grocery & Gourmet Food (<a href=\"https://www.amazon.com/gp/bestsellers/grocery/ref=pd_dp_ts_grocery_1\">See Top 100 in Grocery & Gourmet Food</a>)\\n \\n\\n\\n\\n\\n\\n\\n\\n\\n\\n\\n\\n\\n\\n\\n\\n\\n\\n\\n\\n\\n\\n\\n\\n\\n\\n\\n\\n\\n\\n\\n\\n\\n\\n\\n\\n\\n\\n\\n\\n\\n\\n\\n\\n\\n<style type=\"text/css\">\\n.zg_hrsr { margin: 0; padding: 0; list-style-type: none; }\\n.zg_hrsr_item { margin: 0 0 0 10px; }\\n.zg_hrsr_rank { display: inline-block; width: 80px; text-align: right; }\\n</style>\\n\\n<ul class=\"zg_hrsr\">\\n    <li class=\"zg_hrsr_item\">\\n    <span class=\"zg_hrsr_rank\">#1</span>\\n    <span class=\"zg_hrsr_ladder\">in&nbsp;<a href=\"https://www.amazon.com/gp/bestsellers/grocery/ref=pd_zg_hrsr_grocery_1_1\">Grocery & Gourmet Food</a> &gt; <a href=\"https://www.amazon.com/gp/bestsellers/grocery/16322721/ref=pd_zg_hrsr_grocery_1_2\">Snack Foods</a> &gt; <b><a href=\"https://www.amazon.com/gp/bestsellers/grocery/6524464011/ref=pd_zg_hrsr_grocery_1_3_last\">Bars</a></b></span>\\n    </li>\\n    <li class=\"zg_hrsr_item\">\\n    <span class=\"zg_hrsr_rank\">#1</span>\\n    <span class=\"zg_hrsr_ladder\">in&nbsp;<a href=\"https://www.amazon.com/gp/bestsellers/grocery/ref=pd_zg_hrsr_grocery_2_1\">Grocery & Gourmet Food</a> &gt; <a href=\"https://www.amazon.com/gp/bestsellers/grocery/16310251/ref=pd_zg_hrsr_grocery_2_2\">Breakfast Foods</a> &gt; <a href=\"https://www.amazon.com/gp/bestsellers/grocery/387559011/ref=pd_zg_hrsr_grocery_2_3\">Breakfast & Cereal Bars</a> &gt; <b><a href=\"https://www.amazon.com/gp/bestsellers/grocery/17277533011/ref=pd_zg_hrsr_grocery_2_4_last\">Nut Bars</a></b></span>\\n    </li>\\n</ul>\\n\\n</li>\\n\\n\\n\\n\\n\\n\\t\\t\\n\\t\\n\\t\\t\\n\\t\\n\\t\\t\\n\\t\\n\\t\\t\\t\\n\\t\\t\\t\\n\\t\\t\\t\\n     \\t    \\n            \\n            \\n            \\n            \\n            \\n            <P><div class=\"bucket\">    <script>\\n    P.now(\"A\",\"tellMeMoreLinkData\").execute(function(A,tellMeMoreLinkData){\\n        if(typeof tellMeMoreLinkData !== 'undefined'){\\n            A.state('lowerPricePopoverData',{\"trigger\":\"ns_QJ8HFKETTJ640G5DB6Z0_44712_1_hmd_pricing_feedback_trigger_product-detail\",\"destination\":\"/gp/pdp/pf/pricingFeedbackForm.html/ref=sr_1_4_s_it_pfdpb?ASIN=B007PE7ANY&PREFIX=ns_QJ8HFKETTJ640G5DB6Z0_44712_2_&WDG=grocery_display_on_website&dpRequestId=QJ8HFKETTJ640G5DB6Z0&from=product-detail&ie=%5BPII_UNKWN_afc175271c772e16a1fe%5D&keywords=kind%2Bbar&qid=1546819197&s=grocery&sr=1-4&storeID=grocery&th=1encodeURI('&originalURI=' + window.location.pathname)\",\"url\":\"/gp/pdp/pf/pricingFeedbackForm.html/ref=sr_1_4_s_it_pfdpb?ASIN=B007PE7ANY&PREFIX=ns_QJ8HFKETTJ640G5DB6Z0_44712_2_&WDG=grocery_display_on_website&dpRequestId=QJ8HFKETTJ640G5DB6Z0&from=product-detail&ie=%5BPII_UNKWN_afc175271c772e16a1fe%5D&keywords=kind%2Bbar&qid=1546819197&s=grocery&sr=1-4&storeID=grocery&th=1\",\"nsPrefix\":\"ns_QJ8HFKETTJ640G5DB6Z0_44712_2_\",\"path\":\"encodeURI('&originalURI=' + window.location.pathname)\",\"title\":\"Tell Us About a Lower Price\"});\\n            return {\\n                   key:\"pricing-fbW\",\\n                   method: function(){\\n                                     return {\"trigger\":\"ns_QJ8HFKETTJ640G5DB6Z0_44712_1_hmd_pricing_feedback_trigger_product-detail\",\"destination\":\"/gp/pdp/pf/pricingFeedbackForm.html/ref=sr_1_4_s_it_pfdpb?ASIN=B007PE7ANY&PREFIX=ns_QJ8HFKETTJ640G5DB6Z0_44712_2_&WDG=grocery_display_on_website&dpRequestId=QJ8HFKETTJ640G5DB6Z0&from=product-detail&ie=%5BPII_UNKWN_afc175271c772e16a1fe%5D&keywords=kind%2Bbar&qid=1546819197&s=grocery&sr=1-4&storeID=grocery&th=1encodeURI('&originalURI=' + window.location.pathname)\",\"url\":\"/gp/pdp/pf/pricingFeedbackForm.html/ref=sr_1_4_s_it_pfdpb?ASIN=B007PE7ANY&PREFIX=ns_QJ8HFKETTJ640G5DB6Z0_44712_2_&WDG=grocery_display_on_website&dpRequestId=QJ8HFKETTJ640G5DB6Z0&from=product-detail&ie=%5BPII_UNKWN_afc175271c772e16a1fe%5D&keywords=kind%2Bbar&qid=1546819197&s=grocery&sr=1-4&storeID=grocery&th=1\",\"nsPrefix\":\"ns_QJ8HFKETTJ640G5DB6Z0_44712_2_\",\"path\":\"encodeURI('&originalURI=' + window.location.pathname)\",\"title\":\"Tell Us About a Lower Price\"};\\n                                     }\\n                   }\\n        }\\n        else{\\n                P.when(\"A\").register(\"tellMeMoreLinkData\",function(A){\\n                    A.state('lowerPricePopoverData',{\"trigger\":\"ns_QJ8HFKETTJ640G5DB6Z0_44712_1_hmd_pricing_feedback_trigger_product-detail\",\"destination\":\"/gp/pdp/pf/pricingFeedbackForm.html/ref=sr_1_4_s_it_pfdpb?ASIN=B007PE7ANY&PREFIX=ns_QJ8HFKETTJ640G5DB6Z0_44712_2_&WDG=grocery_display_on_website&dpRequestId=QJ8HFKETTJ640G5DB6Z0&from=product-detail&ie=%5BPII_UNKWN_afc175271c772e16a1fe%5D&keywords=kind%2Bbar&qid=1546819197&s=grocery&sr=1-4&storeID=grocery&th=1encodeURI('&originalURI=' + window.location.pathname)\",\"url\":\"/gp/pdp/pf/pricingFeedbackForm.html/ref=sr_1_4_s_it_pfdpb?ASIN=B007PE7ANY&PREFIX=ns_QJ8HFKETTJ640G5DB6Z0_44712_2_&WDG=grocery_display_on_website&dpRequestId=QJ8HFKETTJ640G5DB6Z0&from=product-detail&ie=%5BPII_UNKWN_afc175271c772e16a1fe%5D&keywords=kind%2Bbar&qid=1546819197&s=grocery&sr=1-4&storeID=grocery&th=1\",\"nsPrefix\":\"ns_QJ8HFKETTJ640G5DB6Z0_44712_2_\",\"path\":\"encodeURI('&originalURI=' + window.location.pathname)\",\"title\":\"Tell Us About a Lower Price\"});\\n                    return {\\n                           key:\"pricing-fbW\",\\n                           method: function(){\\n                                             return {\"trigger\":\"ns_QJ8HFKETTJ640G5DB6Z0_44712_1_hmd_pricing_feedback_trigger_product-detail\",\"destination\":\"/gp/pdp/pf/pricingFeedbackForm.html/ref=sr_1_4_s_it_pfdpb?ASIN=B007PE7ANY&PREFIX=ns_QJ8HFKETTJ640G5DB6Z0_44712_2_&WDG=grocery_display_on_website&dpRequestId=QJ8HFKETTJ640G5DB6Z0&from=product-detail&ie=%5BPII_UNKWN_afc175271c772e16a1fe%5D&keywords=kind%2Bbar&qid=1546819197&s=grocery&sr=1-4&storeID=grocery&th=1encodeURI('&originalURI=' + window.location.pathname)\",\"url\":\"/gp/pdp/pf/pricingFeedbackForm.html/ref=sr_1_4_s_it_pfdpb?ASIN=B007PE7ANY&PREFIX=ns_QJ8HFKETTJ640G5DB6Z0_44712_2_&WDG=grocery_display_on_website&dpRequestId=QJ8HFKETTJ640G5DB6Z0&from=product-detail&ie=%5BPII_UNKWN_afc175271c772e16a1fe%5D&keywords=kind%2Bbar&qid=1546819197&s=grocery&sr=1-4&storeID=grocery&th=1\",\"nsPrefix\":\"ns_QJ8HFKETTJ640G5DB6Z0_44712_2_\",\"path\":\"encodeURI('&originalURI=' + window.location.pathname)\",\"title\":\"Tell Us About a Lower Price\"};\\n                                             }\\n                           }\\n\\t\\t\\t    });\\n            }\\n    });\\n    </script>\\nWould you like to <b><a href=\"#\" id=\"ns_QJ8HFKETTJ640G5DB6Z0_44712_1_hmd_pricing_feedback_trigger_product-detail\">tell us about a lower price</a></b>?</div></P>\\n\\n\\n\\n</ul>\\n</div>\\n        5430\n",
      "\\n\\n\\n\\n\\n\\n    <div class=\"disclaim\">Flavor: <strong>Dark Chocolate Chili Almond</strong>&nbsp;|&nbsp;Size: <strong>12 Bars</strong></div>\\n\\n\\n\\n\\n          <div class=\"content\">\\n\\n\\n\\n\\n\\n\\n<ul>\\n\\n\\n\\n\\n\\n\\n\\n\\n\\n\\n\\n\\n\\n                                                                                \\n\\n\\n    <li><b>\\n    Product Dimensions: \\n    </b>\\n    7 x 6 x 2.5 inches ; 5.99 pounds\\n    </li>\\n\\n\\n\\n\\n\\n\\n\\n\\n<li><b>Shipping Weight:</b> 15.2 ounces (<a href=\"/gp/help/seller/shipping.html/ref=dp_pd_shipping?ie=UTF8&amp;asin=B00D3M2QP4&amp;seller=ATVPDKIKX0DER\">View shipping rates and policies</a>)</li>\\n\\n\\n\\n\\n\\n\\n\\n\\n\\n\\n\\n\\n<li><b>Domestic Shipping: </b>Currently, item can be shipped only within the U.S. and to APO/FPO addresses. For APO/FPO shipments, please check with the manufacturer regarding warranty and support issues.</li>\\n<li><b>International Shipping: </b>This item can be shipped to select countries outside of the U.S.  <a href=\"/gp/help/customer/display.html?ie=UTF8&nodeId=201117930&pop-up=1\" target=\"InternationalShippingDetails\" onclick=\"return amz_js_PopWin('/gp/help/customer/display.html?ie=UTF8&nodeId=201117930&pop-up=1','InternationalShippingDetails','width=550,height=550,resizable=1,scrollbars=1,toolbar=0,status=0')\">Learn More</a></li>\\n\\n\\n\\n\\n\\n\\n\\n\\n<li><b>ASIN: </b>B00D3M2QP4</li>\\n\\n\\n\\n\\n\\n\\n  <li><b>UPC:</b> 190283015386 602652170935 030684320675 885260457586 612116015290 602652171932</li>\\n\\n\\n\\n\\n\\n\\n\\n\\n\\n\\n\\n\\n\\n\\n<li><b>Item model number:</b> KND1001/100/104</li>\\n\\n\\n\\n\\n\\n\\n\\n\\n\\n\\n\\n\\n\\n\\n\\n\\n\\n\\n\\n\\n\\n\\n\\n\\n\\n\\n\\n\\n\\n\\n\\n\\n\\n\\n\\n\\n\\n\\n\\n\\n\\n\\n  \\n  \\n\\n\\n\\n\\n\\n\\n\\n\\n\\n\\n\\n\\n\\n\\n\\n\\n\\n\\n\\n\\n\\n\\n\\n\\n\\n\\n\\n<li><b>Average Customer Review:</b> \\n\\n\\n\\n\\n<span class=\"dpProductDetailB00D3M2QP4\">\\n  <span class=\"a-declarative\" data-action=\"a-popover\" data-a-popover=\"{&quot;closeButton&quot;:&quot;false&quot;,&quot;max-width&quot;:&quot;700&quot;,&quot;position&quot;:&quot;triggerBottom&quot;,&quot;url&quot;:&quot;/review/widgets/average-customer-review/popover/ref=acr_dpproductdetail_popover?ie=UTF8&amp;asin=B00D3M2QP4&amp;contextId=dpProductDetail&amp;ref=acr_dpproductdetail_popover&quot;}\">\\n    <a href=\"javascript:void(0)\" class=\"a-popover-trigger a-declarative\">\\n      <a class=\"a-link-normal a-text-normal\" href=\"https://www.amazon.com/product-reviews/B00D3M2QP4/ref=acr_dpproductdetail_text?ie=UTF8&showViewpoints=1\">\\n        <i class=\"a-icon a-icon-star a-star-4-5\"><span class=\"a-icon-alt\">4.5 out of 5 stars</span></i>\\n      </a>\\n    <i class=\"a-icon a-icon-popover\"></i></a>\\n  </span>\\n  <span class=\"a-letter-space\"></span>\\n  <span class=\"a-size-small\">\\n    <a class=\"a-link-normal\" href=\"https://www.amazon.com/product-reviews/B00D3M2QP4/ref=acr_dpproductdetail_text?ie=UTF8&showViewpoints=1\">\\n      273 customer reviews\\n    </a>\\n  </span>\\n</span>\\n\\n\\n\\n\\n\\n\\n\\n\\n\\n\\n</li>\\n\\n\\n\\n\\n\\n\\n\\n\\n\\n\\n\\n\\n\\n\\n\\n\\n\\n\\n\\n\\n\\n\\n\\n\\n\\n\\n\\n\\n<li id=\"SalesRank\">\\n<b>Amazon Best Sellers Rank:</b> \\n\\n\\n\\n\\n\\n\\n\\n\\n\\n\\n\\n\\n\\n\\n\\n\\n\\n\\n\\n\\n\\n\\n#4,575 in Grocery & Gourmet Food (<a href=\"https://www.amazon.com/gp/bestsellers/grocery/ref=pd_dp_ts_grocery_1\">See Top 100 in Grocery & Gourmet Food</a>)\\n \\n\\n\\n\\n\\n\\n\\n\\n\\n\\n\\n\\n\\n\\n\\n\\n\\n\\n\\n\\n\\n\\n\\n\\n\\n\\n\\n\\n\\n\\n\\n\\n\\n\\n\\n\\n\\n\\n\\n\\n\\n\\n\\n\\n\\n<style type=\"text/css\">\\n.zg_hrsr { margin: 0; padding: 0; list-style-type: none; }\\n.zg_hrsr_item { margin: 0 0 0 10px; }\\n.zg_hrsr_rank { display: inline-block; width: 80px; text-align: right; }\\n</style>\\n\\n<ul class=\"zg_hrsr\">\\n    <li class=\"zg_hrsr_item\">\\n    <span class=\"zg_hrsr_rank\">#22</span>\\n    <span class=\"zg_hrsr_ladder\">in&nbsp;<a href=\"https://www.amazon.com/gp/bestsellers/grocery/ref=pd_zg_hrsr_grocery_1_1\">Grocery & Gourmet Food</a> &gt; <a href=\"https://www.amazon.com/gp/bestsellers/grocery/16310251/ref=pd_zg_hrsr_grocery_1_2\">Breakfast Foods</a> &gt; <a href=\"https://www.amazon.com/gp/bestsellers/grocery/387559011/ref=pd_zg_hrsr_grocery_1_3\">Breakfast & Cereal Bars</a> &gt; <b><a href=\"https://www.amazon.com/gp/bestsellers/grocery/6524624011/ref=pd_zg_hrsr_grocery_1_4_last\">Cereal</a></b></span>\\n    </li>\\n    <li class=\"zg_hrsr_item\">\\n    <span class=\"zg_hrsr_rank\">#408</span>\\n    <span class=\"zg_hrsr_ladder\">in&nbsp;<a href=\"https://www.amazon.com/gp/bestsellers/grocery/ref=pd_zg_hrsr_grocery_2_1\">Grocery & Gourmet Food</a> &gt; <a href=\"https://www.amazon.com/gp/bestsellers/grocery/16322721/ref=pd_zg_hrsr_grocery_2_2\">Snack Foods</a> &gt; <b><a href=\"https://www.amazon.com/gp/bestsellers/grocery/6524464011/ref=pd_zg_hrsr_grocery_2_3_last\">Bars</a></b></span>\\n    </li>\\n</ul>\\n\\n</li>\\n\\n\\n\\n\\n\\n\\t\\t\\n\\t\\n\\t\\t\\n\\t\\n\\t\\t\\n\\t\\n\\t\\t\\t\\n\\t\\t\\t\\n\\t\\t\\t\\n     \\t    \\n            \\n            \\n            \\n            \\n            \\n            <P><div class=\"bucket\">    <script>\\n    P.now(\"A\",\"tellMeMoreLinkData\").execute(function(A,tellMeMoreLinkData){\\n        if(typeof tellMeMoreLinkData !== 'undefined'){\\n            A.state('lowerPricePopoverData',{\"trigger\":\"ns_8H8QVSFD4FQDK98TWB09_8913_1_hmd_pricing_feedback_trigger_product-detail\",\"destination\":\"/gp/pdp/pf/pricingFeedbackForm.html/ref=bl_dp_s_web_2594830011_pfdpb?ie=UTF8&ASIN=B00D3M2QP4&PREFIX=ns_8H8QVSFD4FQDK98TWB09_8913_2_&WDG=grocery_display_on_website&dpRequestId=8H8QVSFD4FQDK98TWB09&from=product-detail&storeID=groceryencodeURI('&originalURI=' + window.location.pathname)\",\"url\":\"/gp/pdp/pf/pricingFeedbackForm.html/ref=bl_dp_s_web_2594830011_pfdpb?ie=UTF8&ASIN=B00D3M2QP4&PREFIX=ns_8H8QVSFD4FQDK98TWB09_8913_2_&WDG=grocery_display_on_website&dpRequestId=8H8QVSFD4FQDK98TWB09&from=product-detail&storeID=grocery\",\"nsPrefix\":\"ns_8H8QVSFD4FQDK98TWB09_8913_2_\",\"path\":\"encodeURI('&originalURI=' + window.location.pathname)\",\"title\":\"Tell Us About a Lower Price\"});\\n            return {\\n                   key:\"pricing-fbW\",\\n                   method: function(){\\n                                     return {\"trigger\":\"ns_8H8QVSFD4FQDK98TWB09_8913_1_hmd_pricing_feedback_trigger_product-detail\",\"destination\":\"/gp/pdp/pf/pricingFeedbackForm.html/ref=bl_dp_s_web_2594830011_pfdpb?ie=UTF8&ASIN=B00D3M2QP4&PREFIX=ns_8H8QVSFD4FQDK98TWB09_8913_2_&WDG=grocery_display_on_website&dpRequestId=8H8QVSFD4FQDK98TWB09&from=product-detail&storeID=groceryencodeURI('&originalURI=' + window.location.pathname)\",\"url\":\"/gp/pdp/pf/pricingFeedbackForm.html/ref=bl_dp_s_web_2594830011_pfdpb?ie=UTF8&ASIN=B00D3M2QP4&PREFIX=ns_8H8QVSFD4FQDK98TWB09_8913_2_&WDG=grocery_display_on_website&dpRequestId=8H8QVSFD4FQDK98TWB09&from=product-detail&storeID=grocery\",\"nsPrefix\":\"ns_8H8QVSFD4FQDK98TWB09_8913_2_\",\"path\":\"encodeURI('&originalURI=' + window.location.pathname)\",\"title\":\"Tell Us About a Lower Price\"};\\n                                     }\\n                   }\\n        }\\n        else{\\n                P.when(\"A\").register(\"tellMeMoreLinkData\",function(A){\\n                    A.state('lowerPricePopoverData',{\"trigger\":\"ns_8H8QVSFD4FQDK98TWB09_8913_1_hmd_pricing_feedback_trigger_product-detail\",\"destination\":\"/gp/pdp/pf/pricingFeedbackForm.html/ref=bl_dp_s_web_2594830011_pfdpb?ie=UTF8&ASIN=B00D3M2QP4&PREFIX=ns_8H8QVSFD4FQDK98TWB09_8913_2_&WDG=grocery_display_on_website&dpRequestId=8H8QVSFD4FQDK98TWB09&from=product-detail&storeID=groceryencodeURI('&originalURI=' + window.location.pathname)\",\"url\":\"/gp/pdp/pf/pricingFeedbackForm.html/ref=bl_dp_s_web_2594830011_pfdpb?ie=UTF8&ASIN=B00D3M2QP4&PREFIX=ns_8H8QVSFD4FQDK98TWB09_8913_2_&WDG=grocery_display_on_website&dpRequestId=8H8QVSFD4FQDK98TWB09&from=product-detail&storeID=grocery\",\"nsPrefix\":\"ns_8H8QVSFD4FQDK98TWB09_8913_2_\",\"path\":\"encodeURI('&originalURI=' + window.location.pathname)\",\"title\":\"Tell Us About a Lower Price\"});\\n                    return {\\n                           key:\"pricing-fbW\",\\n                           method: function(){\\n                                             return {\"trigger\":\"ns_8H8QVSFD4FQDK98TWB09_8913_1_hmd_pricing_feedback_trigger_product-detail\",\"destination\":\"/gp/pdp/pf/pricingFeedbackForm.html/ref=bl_dp_s_web_2594830011_pfdpb?ie=UTF8&ASIN=B00D3M2QP4&PREFIX=ns_8H8QVSFD4FQDK98TWB09_8913_2_&WDG=grocery_display_on_website&dpRequestId=8H8QVSFD4FQDK98TWB09&from=product-detail&storeID=groceryencodeURI('&originalURI=' + window.location.pathname)\",\"url\":\"/gp/pdp/pf/pricingFeedbackForm.html/ref=bl_dp_s_web_2594830011_pfdpb?ie=UTF8&ASIN=B00D3M2QP4&PREFIX=ns_8H8QVSFD4FQDK98TWB09_8913_2_&WDG=grocery_display_on_website&dpRequestId=8H8QVSFD4FQDK98TWB09&from=product-detail&storeID=grocery\",\"nsPrefix\":\"ns_8H8QVSFD4FQDK98TWB09_8913_2_\",\"path\":\"encodeURI('&originalURI=' + window.location.pathname)\",\"title\":\"Tell Us About a Lower Price\"};\\n                                             }\\n                           }\\n\\t\\t\\t    });\\n            }\\n    });\\n    </script>\\nWould you like to <b><a href=\"#\" id=\"ns_8H8QVSFD4FQDK98TWB09_8913_1_hmd_pricing_feedback_trigger_product-detail\">tell us about a lower price</a></b>?</div></P>\\n\\n\\n\\n</ul>\\n</div>\\n                                                                                                                                                                                                                                                                                                                                                                                                                                                                                                                                                                                                   4733\n",
      "\\n\\n\\n\\n\\n\\n    <div class=\"disclaim\">Flavor: <strong>Madagascar Vanilla Almond</strong>&nbsp;|&nbsp;Size: <strong>12 Bars</strong></div>\\n\\n\\n\\n\\n          <div class=\"content\">\\n\\n\\n\\n\\n\\n\\n<ul>\\n\\n\\n\\n\\n\\n\\n\\n\\n\\n\\n\\n\\n\\n                                                                                \\n\\n\\n    <li><b>\\n    Product Dimensions: \\n    </b>\\n    2 x 4 x 6 inches ; 1 pounds\\n    </li>\\n\\n\\n\\n\\n\\n\\n\\n\\n<li><b>Shipping Weight:</b> 1.2 pounds (<a href=\"/gp/help/seller/shipping.html/ref=dp_pd_shipping?ie=UTF8&amp;asin=B007PE7AUW&amp;seller=ATVPDKIKX0DER\">View shipping rates and policies</a>)</li>\\n\\n\\n\\n\\n\\n\\n\\n\\n\\n\\n\\n\\n<li><b>Domestic Shipping: </b>Currently, item can be shipped only within the U.S. and to APO/FPO addresses. For APO/FPO shipments, please check with the manufacturer regarding warranty and support issues.</li>\\n<li><b>International Shipping: </b>This item is not eligible for international shipping.  <a href=\"/gp/help/customer/display.html?ie=UTF8&nodeId=201117930&pop-up=1\" target=\"InternationalShippingDetails\" onclick=\"return amz_js_PopWin('/gp/help/customer/display.html?ie=UTF8&nodeId=201117930&pop-up=1','InternationalShippingDetails','width=550,height=550,resizable=1,scrollbars=1,toolbar=0,status=0')\">Learn More</a></li>\\n\\n\\n\\n\\n\\n\\n\\n\\n<li><b>ASIN: </b>B007PE7AUW</li>\\n\\n\\n\\n\\n\\n\\n  <li><b>UPC:</b> 885721331509 030684321337 885376772511 021959120434 641438072483 640206711630 602652177507</li>\\n\\n\\n\\n\\n\\n\\n\\n\\n\\n\\n\\n\\n\\n\\n<li><b>Item model number:</b> 17850</li>\\n\\n\\n\\n\\n\\n\\n\\n\\n\\n\\n\\n\\n\\n\\n\\n\\n\\n\\n\\n\\n\\n\\n\\n\\n\\n\\n\\n\\n\\n\\n\\n\\n\\n\\n\\n\\n\\n\\n\\n\\n\\n\\n  \\n  \\n\\n\\n\\n\\n\\n\\n\\n\\n\\n\\n\\n\\n\\n\\n\\n\\n\\n\\n\\n\\n\\n\\n\\n\\n\\n\\n\\n<li><b>Average Customer Review:</b> \\n\\n\\n\\n\\n<span class=\"dpProductDetailB007PE7AUW\">\\n  <span class=\"a-declarative\" data-action=\"a-popover\" data-a-popover=\"{&quot;closeButton&quot;:&quot;false&quot;,&quot;max-width&quot;:&quot;700&quot;,&quot;position&quot;:&quot;triggerBottom&quot;,&quot;url&quot;:&quot;/review/widgets/average-customer-review/popover/ref=acr_dpproductdetail_popover?ie=UTF8&amp;asin=B007PE7AUW&amp;contextId=dpProductDetail&amp;ref=acr_dpproductdetail_popover&quot;}\">\\n    <a href=\"javascript:void(0)\" class=\"a-popover-trigger a-declarative\">\\n      <a class=\"a-link-normal a-text-normal\" href=\"https://www.amazon.com/product-reviews/B007PE7AUW/ref=acr_dpproductdetail_text?ie=UTF8&showViewpoints=1\">\\n        <i class=\"a-icon a-icon-star a-star-4-5\"><span class=\"a-icon-alt\">4.4 out of 5 stars</span></i>\\n      </a>\\n    <i class=\"a-icon a-icon-popover\"></i></a>\\n  </span>\\n  <span class=\"a-letter-space\"></span>\\n  <span class=\"a-size-small\">\\n    <a class=\"a-link-normal\" href=\"https://www.amazon.com/product-reviews/B007PE7AUW/ref=acr_dpproductdetail_text?ie=UTF8&showViewpoints=1\">\\n      2,471 customer reviews\\n    </a>\\n  </span>\\n</span>\\n\\n\\n\\n\\n\\n\\n\\n\\n\\n\\n</li>\\n\\n\\n\\n\\n\\n\\n\\n\\n\\n\\n\\n\\n\\n\\n\\n\\n\\n\\n\\n\\n\\n\\n\\n\\n\\n\\n\\n\\n<li id=\"SalesRank\">\\n<b>Amazon Best Sellers Rank:</b> \\n\\n\\n\\n\\n\\n\\n\\n\\n\\n\\n\\n\\n\\n\\n\\n\\n\\n\\n\\n\\n\\n\\n#2,949 in Grocery & Gourmet Food (<a href=\"https://www.amazon.com/gp/bestsellers/grocery/ref=pd_dp_ts_grocery_1\">See Top 100 in Grocery & Gourmet Food</a>)\\n \\n\\n\\n\\n\\n\\n\\n\\n\\n\\n\\n\\n\\n\\n\\n\\n\\n\\n\\n\\n\\n\\n\\n\\n\\n\\n\\n\\n\\n\\n\\n\\n\\n\\n\\n\\n\\n\\n\\n\\n\\n\\n\\n\\n\\n<style type=\"text/css\">\\n.zg_hrsr { margin: 0; padding: 0; list-style-type: none; }\\n.zg_hrsr_item { margin: 0 0 0 10px; }\\n.zg_hrsr_rank { display: inline-block; width: 80px; text-align: right; }\\n</style>\\n\\n<ul class=\"zg_hrsr\">\\n    <li class=\"zg_hrsr_item\">\\n    <span class=\"zg_hrsr_rank\">#5</span>\\n    <span class=\"zg_hrsr_ladder\">in&nbsp;<a href=\"https://www.amazon.com/gp/bestsellers/grocery/ref=pd_zg_hrsr_grocery_1_1\">Grocery & Gourmet Food</a> &gt; <a href=\"https://www.amazon.com/gp/bestsellers/grocery/16310251/ref=pd_zg_hrsr_grocery_1_2\">Breakfast Foods</a> &gt; <a href=\"https://www.amazon.com/gp/bestsellers/grocery/387559011/ref=pd_zg_hrsr_grocery_1_3\">Breakfast & Cereal Bars</a> &gt; <b><a href=\"https://www.amazon.com/gp/bestsellers/grocery/17277533011/ref=pd_zg_hrsr_grocery_1_4_last\">Nut Bars</a></b></span>\\n    </li>\\n    <li class=\"zg_hrsr_item\">\\n    <span class=\"zg_hrsr_rank\">#275</span>\\n    <span class=\"zg_hrsr_ladder\">in&nbsp;<a href=\"https://www.amazon.com/gp/bestsellers/grocery/ref=pd_zg_hrsr_grocery_2_1\">Grocery & Gourmet Food</a> &gt; <a href=\"https://www.amazon.com/gp/bestsellers/grocery/16322721/ref=pd_zg_hrsr_grocery_2_2\">Snack Foods</a> &gt; <b><a href=\"https://www.amazon.com/gp/bestsellers/grocery/6524464011/ref=pd_zg_hrsr_grocery_2_3_last\">Bars</a></b></span>\\n    </li>\\n</ul>\\n\\n</li>\\n\\n\\n\\n\\n\\n\\t\\t\\n\\t\\n\\t\\t\\n\\t\\n\\t\\t\\n\\t\\n\\t\\t\\t\\n\\t\\t\\t\\n\\t\\t\\t\\n     \\t    \\n            \\n            \\n            \\n            \\n            \\n            <P><div class=\"bucket\">    <script>\\n    P.now(\"A\",\"tellMeMoreLinkData\").execute(function(A,tellMeMoreLinkData){\\n        if(typeof tellMeMoreLinkData !== 'undefined'){\\n            A.state('lowerPricePopoverData',{\"trigger\":\"ns_DRAWW9WKK5XJA23E9GKW_49799_1_hmd_pricing_feedback_trigger_product-detail\",\"destination\":\"/gp/pdp/pf/pricingFeedbackForm.html/ref=_pfdpb?ie=UTF8&%2AVersion%2A=1&%2Aentries%2A=0&ASIN=B007PE7AUW&PREFIX=ns_DRAWW9WKK5XJA23E9GKW_49799_2_&WDG=grocery_display_on_website&dpRequestId=DRAWW9WKK5XJA23E9GKW&from=product-detail&storeID=groceryencodeURI('&originalURI=' + window.location.pathname)\",\"url\":\"/gp/pdp/pf/pricingFeedbackForm.html/ref=_pfdpb?ie=UTF8&%2AVersion%2A=1&%2Aentries%2A=0&ASIN=B007PE7AUW&PREFIX=ns_DRAWW9WKK5XJA23E9GKW_49799_2_&WDG=grocery_display_on_website&dpRequestId=DRAWW9WKK5XJA23E9GKW&from=product-detail&storeID=grocery\",\"nsPrefix\":\"ns_DRAWW9WKK5XJA23E9GKW_49799_2_\",\"path\":\"encodeURI('&originalURI=' + window.location.pathname)\",\"title\":\"Tell Us About a Lower Price\"});\\n            return {\\n                   key:\"pricing-fbW\",\\n                   method: function(){\\n                                     return {\"trigger\":\"ns_DRAWW9WKK5XJA23E9GKW_49799_1_hmd_pricing_feedback_trigger_product-detail\",\"destination\":\"/gp/pdp/pf/pricingFeedbackForm.html/ref=_pfdpb?ie=UTF8&%2AVersion%2A=1&%2Aentries%2A=0&ASIN=B007PE7AUW&PREFIX=ns_DRAWW9WKK5XJA23E9GKW_49799_2_&WDG=grocery_display_on_website&dpRequestId=DRAWW9WKK5XJA23E9GKW&from=product-detail&storeID=groceryencodeURI('&originalURI=' + window.location.pathname)\",\"url\":\"/gp/pdp/pf/pricingFeedbackForm.html/ref=_pfdpb?ie=UTF8&%2AVersion%2A=1&%2Aentries%2A=0&ASIN=B007PE7AUW&PREFIX=ns_DRAWW9WKK5XJA23E9GKW_49799_2_&WDG=grocery_display_on_website&dpRequestId=DRAWW9WKK5XJA23E9GKW&from=product-detail&storeID=grocery\",\"nsPrefix\":\"ns_DRAWW9WKK5XJA23E9GKW_49799_2_\",\"path\":\"encodeURI('&originalURI=' + window.location.pathname)\",\"title\":\"Tell Us About a Lower Price\"};\\n                                     }\\n                   }\\n        }\\n        else{\\n                P.when(\"A\").register(\"tellMeMoreLinkData\",function(A){\\n                    A.state('lowerPricePopoverData',{\"trigger\":\"ns_DRAWW9WKK5XJA23E9GKW_49799_1_hmd_pricing_feedback_trigger_product-detail\",\"destination\":\"/gp/pdp/pf/pricingFeedbackForm.html/ref=_pfdpb?ie=UTF8&%2AVersion%2A=1&%2Aentries%2A=0&ASIN=B007PE7AUW&PREFIX=ns_DRAWW9WKK5XJA23E9GKW_49799_2_&WDG=grocery_display_on_website&dpRequestId=DRAWW9WKK5XJA23E9GKW&from=product-detail&storeID=groceryencodeURI('&originalURI=' + window.location.pathname)\",\"url\":\"/gp/pdp/pf/pricingFeedbackForm.html/ref=_pfdpb?ie=UTF8&%2AVersion%2A=1&%2Aentries%2A=0&ASIN=B007PE7AUW&PREFIX=ns_DRAWW9WKK5XJA23E9GKW_49799_2_&WDG=grocery_display_on_website&dpRequestId=DRAWW9WKK5XJA23E9GKW&from=product-detail&storeID=grocery\",\"nsPrefix\":\"ns_DRAWW9WKK5XJA23E9GKW_49799_2_\",\"path\":\"encodeURI('&originalURI=' + window.location.pathname)\",\"title\":\"Tell Us About a Lower Price\"});\\n                    return {\\n                           key:\"pricing-fbW\",\\n                           method: function(){\\n                                             return {\"trigger\":\"ns_DRAWW9WKK5XJA23E9GKW_49799_1_hmd_pricing_feedback_trigger_product-detail\",\"destination\":\"/gp/pdp/pf/pricingFeedbackForm.html/ref=_pfdpb?ie=UTF8&%2AVersion%2A=1&%2Aentries%2A=0&ASIN=B007PE7AUW&PREFIX=ns_DRAWW9WKK5XJA23E9GKW_49799_2_&WDG=grocery_display_on_website&dpRequestId=DRAWW9WKK5XJA23E9GKW&from=product-detail&storeID=groceryencodeURI('&originalURI=' + window.location.pathname)\",\"url\":\"/gp/pdp/pf/pricingFeedbackForm.html/ref=_pfdpb?ie=UTF8&%2AVersion%2A=1&%2Aentries%2A=0&ASIN=B007PE7AUW&PREFIX=ns_DRAWW9WKK5XJA23E9GKW_49799_2_&WDG=grocery_display_on_website&dpRequestId=DRAWW9WKK5XJA23E9GKW&from=product-detail&storeID=grocery\",\"nsPrefix\":\"ns_DRAWW9WKK5XJA23E9GKW_49799_2_\",\"path\":\"encodeURI('&originalURI=' + window.location.pathname)\",\"title\":\"Tell Us About a Lower Price\"};\\n                                             }\\n                           }\\n\\t\\t\\t    });\\n            }\\n    });\\n    </script>\\nWould you like to <b><a href=\"#\" id=\"ns_DRAWW9WKK5XJA23E9GKW_49799_1_hmd_pricing_feedback_trigger_product-detail\">tell us about a lower price</a></b>?</div></P>\\n\\n\\n\\n</ul>\\n</div>\\n                                                                                                                                                                                                                                                                                                                                                                                                                                                                                                              4611\n",
      "\\n\\n\\n\\n\\n\\n    <div class=\"disclaim\">Flavor: <strong>Pure Chamomile</strong>&nbsp;|&nbsp;Size: <strong>20 Count</strong></div>\\n\\n\\n\\n\\n          <div class=\"content\">\\n\\n\\n\\n\\n\\n\\n<ul>\\n\\n\\n\\n\\n\\n\\n\\n\\n\\n\\n\\n\\n\\n                                                                                \\n\\n\\n    <li><b>\\n    Product Dimensions: \\n    </b>\\n    2.2 x 3.4 x 5 inches ; 1.12 ounces\\n    </li>\\n\\n\\n\\n\\n\\n\\n\\n\\n<li><b>Shipping Weight:</b> 0.3 ounces</li>\\n\\n\\n\\n\\n\\n\\n\\n\\n\\n\\n\\n\\n<li><b>Domestic Shipping: </b>Currently, item can be shipped only within the U.S. and to APO/FPO addresses. For APO/FPO shipments, please check with the manufacturer regarding warranty and support issues.</li>\\n<li><b>International Shipping: </b>This item is not eligible for international shipping.  <a href=\"/gp/help/customer/display.html?ie=UTF8&nodeId=201117930&pop-up=1\" target=\"InternationalShippingDetails\" onclick=\"return amz_js_PopWin('/gp/help/customer/display.html?ie=UTF8&nodeId=201117930&pop-up=1','InternationalShippingDetails','width=550,height=550,resizable=1,scrollbars=1,toolbar=0,status=0')\">Learn More</a></li>\\n\\n\\n\\n\\n\\n\\n\\n\\n<li><b>ASIN: </b>B0001LO3FG</li>\\n\\n\\n\\n\\n\\n\\n  <li><b>UPC:</b> 070177067762 798527077086 678213604607 778554824556 721865813054</li>\\n\\n\\n\\n\\n\\n\\n\\n\\n\\n\\n\\n\\n\\n\\n<li><b>Item model number:</b> 100151404</li>\\n\\n\\n\\n\\n\\n\\n\\n\\n\\n\\n\\n\\n\\n\\n\\n\\n\\n\\n\\n\\n\\n\\n\\n\\n\\n\\n\\n\\n\\n\\n\\n\\n\\n\\n\\n\\n\\n\\n\\n\\n\\n\\n  \\n  \\n\\n\\n\\n\\n\\n\\n\\n\\n\\n\\n\\n\\n\\n\\n\\n\\n\\n\\n\\n\\n\\n\\n\\n\\n\\n\\n\\n<li><b>Average Customer Review:</b> \\n\\n\\n\\n\\n<span class=\"dpProductDetailB0001LO3FG\">\\n  <span class=\"a-declarative\" data-action=\"a-popover\" data-a-popover=\"{&quot;closeButton&quot;:&quot;false&quot;,&quot;max-width&quot;:&quot;700&quot;,&quot;position&quot;:&quot;triggerBottom&quot;,&quot;url&quot;:&quot;/review/widgets/average-customer-review/popover/ref=acr_dpproductdetail_popover?ie=UTF8&amp;asin=B0001LO3FG&amp;contextId=dpProductDetail&amp;ref=acr_dpproductdetail_popover&quot;}\">\\n    <a href=\"javascript:void(0)\" class=\"a-popover-trigger a-declarative\">\\n      <a class=\"a-link-normal a-text-normal\" href=\"https://www.amazon.com/product-reviews/B0001LO3FG/ref=acr_dpproductdetail_text?ie=UTF8&showViewpoints=1\">\\n        <i class=\"a-icon a-icon-star a-star-4-5\"><span class=\"a-icon-alt\">4.5 out of 5 stars</span></i>\\n      </a>\\n    <i class=\"a-icon a-icon-popover\"></i></a>\\n  </span>\\n  <span class=\"a-letter-space\"></span>\\n  <span class=\"a-size-small\">\\n    <a class=\"a-link-normal\" href=\"https://www.amazon.com/product-reviews/B0001LO3FG/ref=acr_dpproductdetail_text?ie=UTF8&showViewpoints=1\">\\n      7,869 customer reviews\\n    </a>\\n  </span>\\n</span>\\n\\n\\n\\n\\n\\n\\n\\n\\n\\n\\n</li>\\n\\n\\n\\n\\n\\n\\n\\n\\n\\n\\n\\n\\n\\n\\n\\n\\n\\n\\n\\n\\n\\n\\n\\n\\n\\n\\n\\n\\n<li id=\"SalesRank\">\\n<b>Amazon Best Sellers Rank:</b> \\n\\n\\n\\n\\n\\n\\n\\n\\n\\n\\n\\n\\n\\n\\n\\n\\n\\n\\n\\n\\n\\n\\n#142,261 in Grocery & Gourmet Food (<a href=\"https://www.amazon.com/gp/bestsellers/grocery/ref=pd_dp_ts_grocery_1\">See Top 100 in Grocery & Gourmet Food</a>)\\n \\n\\n\\n\\n\\n\\n\\n\\n\\n\\n\\n\\n\\n\\n\\n\\n\\n\\n\\n\\n\\n\\n\\n\\n\\n\\n\\n\\n\\n\\n\\n\\n\\n<style type=\"text/css\">\\n.zg_hrsr { margin: 0; padding: 0; list-style-type: none; }\\n.zg_hrsr_item { margin: 0 0 0 10px; }\\n.zg_hrsr_rank { display: inline-block; width: 80px; text-align: right; }\\n</style>\\n\\n<ul class=\"zg_hrsr\">\\n    <li class=\"zg_hrsr_item\">\\n    <span class=\"zg_hrsr_rank\">#1786</span>\\n    <span class=\"zg_hrsr_ladder\">in&nbsp;<a href=\"https://www.amazon.com/gp/bestsellers/grocery/ref=pd_zg_hrsr_grocery_1_1\">Grocery & Gourmet Food</a> &gt; <a href=\"https://www.amazon.com/gp/bestsellers/grocery/16310231/ref=pd_zg_hrsr_grocery_1_2\">Beverages</a> &gt; <a href=\"https://www.amazon.com/gp/bestsellers/grocery/16521305011/ref=pd_zg_hrsr_grocery_1_3\">Coffee, Tea & Cocoa</a> &gt; <a href=\"https://www.amazon.com/gp/bestsellers/grocery/16318401/ref=pd_zg_hrsr_grocery_1_4\">Tea</a> &gt; <b><a href=\"https://www.amazon.com/gp/bestsellers/grocery/16318471/ref=pd_zg_hrsr_grocery_1_5_last\">Green</a></b></span>\\n    </li>\\n</ul>\\n\\n</li>\\n\\n\\n\\n\\n\\n\\t\\t\\n\\t\\n\\t\\t\\n\\t\\n\\t\\t\\n\\t\\n\\t\\t\\t\\n\\t\\t\\t\\n\\t\\t\\t\\n     \\t    \\n            \\n            \\n            \\n            \\n            \\n            <P><div class=\"bucket\">    <script>\\n    P.now(\"A\",\"tellMeMoreLinkData\").execute(function(A,tellMeMoreLinkData){\\n        if(typeof tellMeMoreLinkData !== 'undefined'){\\n            A.state('lowerPricePopoverData',{\"trigger\":\"ns_55X7KZC4X7TRGXP6HWW9_16905_1_hmd_pricing_feedback_trigger_product-detail\",\"destination\":\"/gp/pdp/pf/pricingFeedbackForm.html/ref=_pfdpb?ie=UTF8&%2AVersion%2A=1&%2Aentries%2A=0&ASIN=B0001LO3FG&PREFIX=ns_55X7KZC4X7TRGXP6HWW9_16905_2_&WDG=grocery_display_on_website&dpRequestId=55X7KZC4X7TRGXP6HWW9&from=product-detail&storeID=groceryencodeURI('&originalURI=' + window.location.pathname)\",\"url\":\"/gp/pdp/pf/pricingFeedbackForm.html/ref=_pfdpb?ie=UTF8&%2AVersion%2A=1&%2Aentries%2A=0&ASIN=B0001LO3FG&PREFIX=ns_55X7KZC4X7TRGXP6HWW9_16905_2_&WDG=grocery_display_on_website&dpRequestId=55X7KZC4X7TRGXP6HWW9&from=product-detail&storeID=grocery\",\"nsPrefix\":\"ns_55X7KZC4X7TRGXP6HWW9_16905_2_\",\"path\":\"encodeURI('&originalURI=' + window.location.pathname)\",\"title\":\"Tell Us About a Lower Price\"});\\n            return {\\n                   key:\"pricing-fbW\",\\n                   method: function(){\\n                                     return {\"trigger\":\"ns_55X7KZC4X7TRGXP6HWW9_16905_1_hmd_pricing_feedback_trigger_product-detail\",\"destination\":\"/gp/pdp/pf/pricingFeedbackForm.html/ref=_pfdpb?ie=UTF8&%2AVersion%2A=1&%2Aentries%2A=0&ASIN=B0001LO3FG&PREFIX=ns_55X7KZC4X7TRGXP6HWW9_16905_2_&WDG=grocery_display_on_website&dpRequestId=55X7KZC4X7TRGXP6HWW9&from=product-detail&storeID=groceryencodeURI('&originalURI=' + window.location.pathname)\",\"url\":\"/gp/pdp/pf/pricingFeedbackForm.html/ref=_pfdpb?ie=UTF8&%2AVersion%2A=1&%2Aentries%2A=0&ASIN=B0001LO3FG&PREFIX=ns_55X7KZC4X7TRGXP6HWW9_16905_2_&WDG=grocery_display_on_website&dpRequestId=55X7KZC4X7TRGXP6HWW9&from=product-detail&storeID=grocery\",\"nsPrefix\":\"ns_55X7KZC4X7TRGXP6HWW9_16905_2_\",\"path\":\"encodeURI('&originalURI=' + window.location.pathname)\",\"title\":\"Tell Us About a Lower Price\"};\\n                                     }\\n                   }\\n        }\\n        else{\\n                P.when(\"A\").register(\"tellMeMoreLinkData\",function(A){\\n                    A.state('lowerPricePopoverData',{\"trigger\":\"ns_55X7KZC4X7TRGXP6HWW9_16905_1_hmd_pricing_feedback_trigger_product-detail\",\"destination\":\"/gp/pdp/pf/pricingFeedbackForm.html/ref=_pfdpb?ie=UTF8&%2AVersion%2A=1&%2Aentries%2A=0&ASIN=B0001LO3FG&PREFIX=ns_55X7KZC4X7TRGXP6HWW9_16905_2_&WDG=grocery_display_on_website&dpRequestId=55X7KZC4X7TRGXP6HWW9&from=product-detail&storeID=groceryencodeURI('&originalURI=' + window.location.pathname)\",\"url\":\"/gp/pdp/pf/pricingFeedbackForm.html/ref=_pfdpb?ie=UTF8&%2AVersion%2A=1&%2Aentries%2A=0&ASIN=B0001LO3FG&PREFIX=ns_55X7KZC4X7TRGXP6HWW9_16905_2_&WDG=grocery_display_on_website&dpRequestId=55X7KZC4X7TRGXP6HWW9&from=product-detail&storeID=grocery\",\"nsPrefix\":\"ns_55X7KZC4X7TRGXP6HWW9_16905_2_\",\"path\":\"encodeURI('&originalURI=' + window.location.pathname)\",\"title\":\"Tell Us About a Lower Price\"});\\n                    return {\\n                           key:\"pricing-fbW\",\\n                           method: function(){\\n                                             return {\"trigger\":\"ns_55X7KZC4X7TRGXP6HWW9_16905_1_hmd_pricing_feedback_trigger_product-detail\",\"destination\":\"/gp/pdp/pf/pricingFeedbackForm.html/ref=_pfdpb?ie=UTF8&%2AVersion%2A=1&%2Aentries%2A=0&ASIN=B0001LO3FG&PREFIX=ns_55X7KZC4X7TRGXP6HWW9_16905_2_&WDG=grocery_display_on_website&dpRequestId=55X7KZC4X7TRGXP6HWW9&from=product-detail&storeID=groceryencodeURI('&originalURI=' + window.location.pathname)\",\"url\":\"/gp/pdp/pf/pricingFeedbackForm.html/ref=_pfdpb?ie=UTF8&%2AVersion%2A=1&%2Aentries%2A=0&ASIN=B0001LO3FG&PREFIX=ns_55X7KZC4X7TRGXP6HWW9_16905_2_&WDG=grocery_display_on_website&dpRequestId=55X7KZC4X7TRGXP6HWW9&from=product-detail&storeID=grocery\",\"nsPrefix\":\"ns_55X7KZC4X7TRGXP6HWW9_16905_2_\",\"path\":\"encodeURI('&originalURI=' + window.location.pathname)\",\"title\":\"Tell Us About a Lower Price\"};\\n                                             }\\n                           }\\n\\t\\t\\t    });\\n            }\\n    });\\n    </script>\\nWould you like to <b><a href=\"#\" id=\"ns_55X7KZC4X7TRGXP6HWW9_16905_1_hmd_pricing_feedback_trigger_product-detail\">tell us about a lower price</a></b>?</div></P>\\n\\n\\n\\n</ul>\\n</div>\\n                                                                                                                                                                                                                                                                                                                                                                                                                                                                                                                                                                                                                                                                                                                                                                                                                                                                                                                                                                                                                                                                                                                    4252\n",
      "\\n\\n\\n\\n\\n\\n    <div class=\"disclaim\">Flavor: <strong>Caramel Almond & Sea Salt</strong>&nbsp;|&nbsp;Size: <strong>12 Bars</strong></div>\\n\\n\\n\\n\\n          <div class=\"content\">\\n\\n\\n\\n\\n\\n\\n<ul>\\n\\n\\n\\n\\n\\n\\n\\n\\n\\n\\n\\n\\n\\n                                                                                \\n\\n\\n    <li><b>\\n    Product Dimensions: \\n    </b>\\n    6.9 x 6.1 x 2.4 inches ; 1.05 pounds\\n    </li>\\n\\n\\n\\n\\n\\n\\n\\n\\n<li><b>Shipping Weight:</b> 1.5 pounds (<a href=\"/gp/help/seller/shipping.html/ref=dp_pd_shipping?ie=UTF8&amp;asin=B00IZF0LCE&amp;seller=ATVPDKIKX0DER\">View shipping rates and policies</a>)</li>\\n\\n\\n\\n\\n\\n\\n\\n\\n\\n\\n\\n\\n<li><b>Domestic Shipping: </b>Currently, item can be shipped only within the U.S. and to APO/FPO addresses. For APO/FPO shipments, please check with the manufacturer regarding warranty and support issues.</li>\\n<li><b>International Shipping: </b>This item can be shipped to select countries outside of the U.S.  <a href=\"/gp/help/customer/display.html?ie=UTF8&nodeId=201117930&pop-up=1\" target=\"InternationalShippingDetails\" onclick=\"return amz_js_PopWin('/gp/help/customer/display.html?ie=UTF8&nodeId=201117930&pop-up=1','InternationalShippingDetails','width=550,height=550,resizable=1,scrollbars=1,toolbar=0,status=0')\">Learn More</a></li>\\n\\n\\n\\n\\n\\n\\n\\n\\n<li><b>ASIN: </b>B00IZF0LCE</li>\\n\\n\\n\\n\\n\\n\\n  <li><b>UPC:</b> 602652171796 746111659699 773254233783 630013113949 602652185335</li>\\n\\n\\n\\n\\n\\n\\n\\n\\n\\n\\n\\n\\n\\n\\n<li><b>Item model number:</b> 18533</li>\\n\\n\\n\\n\\n\\n\\n\\n\\n\\n\\n\\n\\n\\n\\n\\n\\n\\n\\n\\n\\n\\n\\n\\n\\n\\n\\n\\n\\n\\n\\n\\n\\n\\n\\n\\n\\n\\n\\n\\n\\n\\n\\n  \\n  \\n\\n\\n\\n\\n\\n\\n\\n\\n\\n\\n\\n\\n\\n\\n\\n\\n\\n\\n\\n\\n\\n\\n\\n\\n\\n\\n\\n<li><b>Average Customer Review:</b> \\n\\n\\n\\n\\n<span class=\"dpProductDetailB00IZF0LCE\">\\n  <span class=\"a-declarative\" data-action=\"a-popover\" data-a-popover=\"{&quot;closeButton&quot;:&quot;false&quot;,&quot;max-width&quot;:&quot;700&quot;,&quot;position&quot;:&quot;triggerBottom&quot;,&quot;url&quot;:&quot;/review/widgets/average-customer-review/popover/ref=acr_dpproductdetail_popover?ie=UTF8&amp;asin=B00IZF0LCE&amp;contextId=dpProductDetail&amp;ref=acr_dpproductdetail_popover&quot;}\">\\n    <a href=\"javascript:void(0)\" class=\"a-popover-trigger a-declarative\">\\n      <a class=\"a-link-normal a-text-normal\" href=\"https://www.amazon.com/product-reviews/B00IZF0LCE/ref=acr_dpproductdetail_text?ie=UTF8&showViewpoints=1\">\\n        <i class=\"a-icon a-icon-star a-star-4-5\"><span class=\"a-icon-alt\">4.5 out of 5 stars</span></i>\\n      </a>\\n    <i class=\"a-icon a-icon-popover\"></i></a>\\n  </span>\\n  <span class=\"a-letter-space\"></span>\\n  <span class=\"a-size-small\">\\n    <a class=\"a-link-normal\" href=\"https://www.amazon.com/product-reviews/B00IZF0LCE/ref=acr_dpproductdetail_text?ie=UTF8&showViewpoints=1\">\\n      9,734 customer reviews\\n    </a>\\n  </span>\\n</span>\\n\\n\\n\\n\\n\\n\\n\\n\\n\\n\\n</li>\\n\\n\\n\\n\\n\\n\\n\\n\\n\\n\\n\\n\\n\\n\\n\\n\\n\\n\\n\\n\\n\\n\\n\\n\\n\\n\\n\\n\\n<li id=\"SalesRank\">\\n<b>Amazon Best Sellers Rank:</b> \\n\\n\\n\\n\\n\\n\\n\\n\\n\\n\\n\\n\\n\\n\\n\\n\\n\\n\\n\\n\\n\\n\\n#72 in Grocery & Gourmet Food (<a href=\"https://www.amazon.com/gp/bestsellers/grocery/ref=pd_dp_ts_grocery_1\">See Top 100 in Grocery & Gourmet Food</a>)\\n \\n\\n\\n\\n\\n\\n\\n\\n\\n\\n\\n\\n\\n\\n\\n\\n\\n\\n\\n\\n\\n\\n\\n\\n\\n\\n\\n\\n\\n\\n\\n\\n\\n\\n\\n\\n\\n\\n\\n\\n\\n\\n\\n\\n\\n<style type=\"text/css\">\\n.zg_hrsr { margin: 0; padding: 0; list-style-type: none; }\\n.zg_hrsr_item { margin: 0 0 0 10px; }\\n.zg_hrsr_rank { display: inline-block; width: 80px; text-align: right; }\\n</style>\\n\\n<ul class=\"zg_hrsr\">\\n    <li class=\"zg_hrsr_item\">\\n    <span class=\"zg_hrsr_rank\">#2</span>\\n    <span class=\"zg_hrsr_ladder\">in&nbsp;<a href=\"https://www.amazon.com/gp/bestsellers/grocery/ref=pd_zg_hrsr_grocery_1_1\">Grocery & Gourmet Food</a> &gt; <a href=\"https://www.amazon.com/gp/bestsellers/grocery/16310251/ref=pd_zg_hrsr_grocery_1_2\">Breakfast Foods</a> &gt; <a href=\"https://www.amazon.com/gp/bestsellers/grocery/387559011/ref=pd_zg_hrsr_grocery_1_3\">Breakfast & Cereal Bars</a> &gt; <b><a href=\"https://www.amazon.com/gp/bestsellers/grocery/17277533011/ref=pd_zg_hrsr_grocery_1_4_last\">Nut Bars</a></b></span>\\n    </li>\\n    <li class=\"zg_hrsr_item\">\\n    <span class=\"zg_hrsr_rank\">#12</span>\\n    <span class=\"zg_hrsr_ladder\">in&nbsp;<a href=\"https://www.amazon.com/gp/bestsellers/grocery/ref=pd_zg_hrsr_grocery_2_1\">Grocery & Gourmet Food</a> &gt; <a href=\"https://www.amazon.com/gp/bestsellers/grocery/16322721/ref=pd_zg_hrsr_grocery_2_2\">Snack Foods</a> &gt; <b><a href=\"https://www.amazon.com/gp/bestsellers/grocery/6524464011/ref=pd_zg_hrsr_grocery_2_3_last\">Bars</a></b></span>\\n    </li>\\n</ul>\\n\\n</li>\\n\\n\\n\\n\\n\\n\\t\\t\\n\\t\\n\\t\\t\\n\\t\\n\\t\\t\\n\\t\\n\\t\\t\\t\\n\\t\\t\\t\\n\\t\\t\\t\\n     \\t    \\n            \\n            \\n            \\n            \\n            \\n            <P><div class=\"bucket\">    <script>\\n    P.now(\"A\",\"tellMeMoreLinkData\").execute(function(A,tellMeMoreLinkData){\\n        if(typeof tellMeMoreLinkData !== 'undefined'){\\n            A.state('lowerPricePopoverData',{\"trigger\":\"ns_EBCGDN4E7X9WZCX66BXB_19997_1_hmd_pricing_feedback_trigger_product-detail\",\"destination\":\"/gp/pdp/pf/pricingFeedbackForm.html/ref=_pfdpb?ie=UTF8&ASIN=B00IZF0LCE&PREFIX=ns_EBCGDN4E7X9WZCX66BXB_19997_2_&WDG=grocery_display_on_website&dpRequestId=EBCGDN4E7X9WZCX66BXB&from=product-detail&psc=1&storeID=grocery&th=1encodeURI('&originalURI=' + window.location.pathname)\",\"url\":\"/gp/pdp/pf/pricingFeedbackForm.html/ref=_pfdpb?ie=UTF8&ASIN=B00IZF0LCE&PREFIX=ns_EBCGDN4E7X9WZCX66BXB_19997_2_&WDG=grocery_display_on_website&dpRequestId=EBCGDN4E7X9WZCX66BXB&from=product-detail&psc=1&storeID=grocery&th=1\",\"nsPrefix\":\"ns_EBCGDN4E7X9WZCX66BXB_19997_2_\",\"path\":\"encodeURI('&originalURI=' + window.location.pathname)\",\"title\":\"Tell Us About a Lower Price\"});\\n            return {\\n                   key:\"pricing-fbW\",\\n                   method: function(){\\n                                     return {\"trigger\":\"ns_EBCGDN4E7X9WZCX66BXB_19997_1_hmd_pricing_feedback_trigger_product-detail\",\"destination\":\"/gp/pdp/pf/pricingFeedbackForm.html/ref=_pfdpb?ie=UTF8&ASIN=B00IZF0LCE&PREFIX=ns_EBCGDN4E7X9WZCX66BXB_19997_2_&WDG=grocery_display_on_website&dpRequestId=EBCGDN4E7X9WZCX66BXB&from=product-detail&psc=1&storeID=grocery&th=1encodeURI('&originalURI=' + window.location.pathname)\",\"url\":\"/gp/pdp/pf/pricingFeedbackForm.html/ref=_pfdpb?ie=UTF8&ASIN=B00IZF0LCE&PREFIX=ns_EBCGDN4E7X9WZCX66BXB_19997_2_&WDG=grocery_display_on_website&dpRequestId=EBCGDN4E7X9WZCX66BXB&from=product-detail&psc=1&storeID=grocery&th=1\",\"nsPrefix\":\"ns_EBCGDN4E7X9WZCX66BXB_19997_2_\",\"path\":\"encodeURI('&originalURI=' + window.location.pathname)\",\"title\":\"Tell Us About a Lower Price\"};\\n                                     }\\n                   }\\n        }\\n        else{\\n                P.when(\"A\").register(\"tellMeMoreLinkData\",function(A){\\n                    A.state('lowerPricePopoverData',{\"trigger\":\"ns_EBCGDN4E7X9WZCX66BXB_19997_1_hmd_pricing_feedback_trigger_product-detail\",\"destination\":\"/gp/pdp/pf/pricingFeedbackForm.html/ref=_pfdpb?ie=UTF8&ASIN=B00IZF0LCE&PREFIX=ns_EBCGDN4E7X9WZCX66BXB_19997_2_&WDG=grocery_display_on_website&dpRequestId=EBCGDN4E7X9WZCX66BXB&from=product-detail&psc=1&storeID=grocery&th=1encodeURI('&originalURI=' + window.location.pathname)\",\"url\":\"/gp/pdp/pf/pricingFeedbackForm.html/ref=_pfdpb?ie=UTF8&ASIN=B00IZF0LCE&PREFIX=ns_EBCGDN4E7X9WZCX66BXB_19997_2_&WDG=grocery_display_on_website&dpRequestId=EBCGDN4E7X9WZCX66BXB&from=product-detail&psc=1&storeID=grocery&th=1\",\"nsPrefix\":\"ns_EBCGDN4E7X9WZCX66BXB_19997_2_\",\"path\":\"encodeURI('&originalURI=' + window.location.pathname)\",\"title\":\"Tell Us About a Lower Price\"});\\n                    return {\\n                           key:\"pricing-fbW\",\\n                           method: function(){\\n                                             return {\"trigger\":\"ns_EBCGDN4E7X9WZCX66BXB_19997_1_hmd_pricing_feedback_trigger_product-detail\",\"destination\":\"/gp/pdp/pf/pricingFeedbackForm.html/ref=_pfdpb?ie=UTF8&ASIN=B00IZF0LCE&PREFIX=ns_EBCGDN4E7X9WZCX66BXB_19997_2_&WDG=grocery_display_on_website&dpRequestId=EBCGDN4E7X9WZCX66BXB&from=product-detail&psc=1&storeID=grocery&th=1encodeURI('&originalURI=' + window.location.pathname)\",\"url\":\"/gp/pdp/pf/pricingFeedbackForm.html/ref=_pfdpb?ie=UTF8&ASIN=B00IZF0LCE&PREFIX=ns_EBCGDN4E7X9WZCX66BXB_19997_2_&WDG=grocery_display_on_website&dpRequestId=EBCGDN4E7X9WZCX66BXB&from=product-detail&psc=1&storeID=grocery&th=1\",\"nsPrefix\":\"ns_EBCGDN4E7X9WZCX66BXB_19997_2_\",\"path\":\"encodeURI('&originalURI=' + window.location.pathname)\",\"title\":\"Tell Us About a Lower Price\"};\\n                                             }\\n                           }\\n\\t\\t\\t    });\\n            }\\n    });\\n    </script>\\nWould you like to <b><a href=\"#\" id=\"ns_EBCGDN4E7X9WZCX66BXB_19997_1_hmd_pricing_feedback_trigger_product-detail\">tell us about a lower price</a></b>?</div></P>\\n\\n\\n\\n</ul>\\n</div>\\n                                                                                                                                                                                                                                                                                                                                                                                                                                                                                                                                                                                                                                                                                                2449\n",
      "                                                                                                                                                                                                                                                                                                                                                                                                                                                                                                                                                                                                                                                                                                                                                                                                                                                                                                                                                                                                                                                                                                                                                                                                                                                                                                                                                                                                                                                                                                                                                                                                                                                                                                                                                                                                                                                                                                                                                                                                                                                                                                                                                                                                                                                                                                                                                                                                                                                                                                                                                                                                                                                                                                                                                                                                                                                                                                                                                                                                                                                                                                                                                                                                                                                                                                                                                                                                                                                                                                                                                                                                                                                                                                                                                                                                                                                                                                                                                                                                                                                                                                                                                                                                                                                                                                                                                                                                                                                                                                                                                                                                                                                                                                                                                                                                                                                                                                                                                                                                                                                                                                                                                                                                                                                                                                                                                                                                                                                                                                                                                                                                                                                                                                                                                                                                                                                                                                                                                                                                                                                                                                                                                                                                                                                                                                                                                                                                                                                                                                                                                                                                                                                                                                                                                                                                                                                                                                                                                                                                                                                                                                                                                                                                                                                                                                                                                                                                                                                                                                                                                                                                                                                                                                                                                                                                                                                                                                                                                                                                                                                                                                                                                                                                                                                                                                                                                                                                                                                                                                                                                                                                                                                                                                                                                                                                                                                                                                                                                                                                                                                                                                                                                                                                                                                                                                                                                                                                                                                                                                                                                                                                                                                                                                                                                                                                                                                                                                                           ... \n",
      "\\n      <div class=\"content\">\\n\\n\\n\\n\\n\\n\\n<ul>\\n\\n\\n\\n\\n\\n\\n\\n\\n\\n\\n\\n\\n\\n                                                                                \\n\\n\\n\\n\\n\\n\\n\\n\\n\\n\\n<li><b>Shipping Weight:</b> 3 pounds (<a href=\"/gp/help/seller/shipping.html/ref=dp_pd_shipping?ie=UTF8&amp;asin=B00149ZSD0&amp;seller=A2RUDGROS07HUS\">View shipping rates and policies</a>)</li>\\n\\n\\n\\n\\n\\n\\n\\n\\n\\n\\n\\n\\n\\n\\n\\n\\n\\n<li><b>ASIN: </b>B00149ZSD0</li>\\n\\n\\n\\n\\n\\n\\n  <li><b>UPC:</b> 097727328456 798235654630 872181005033 028000255305</li>\\n\\n\\n\\n\\n\\n\\n\\n\\n\\n\\n\\n\\n\\n\\n\\n\\n\\n\\n\\n\\n\\n\\n\\n\\n\\n\\n\\n\\n\\n\\n\\n\\n\\n\\n\\n\\n\\n\\n\\n\\n\\n\\n  \\n  \\n\\n\\n\\n\\n\\n\\n\\n\\n\\n\\n\\n\\n\\n\\n\\n\\n\\n\\n\\n\\n\\n\\n\\n\\n\\n\\n\\n<li><b>Average Customer Review:</b> \\n\\n\\n\\n\\n<span class=\"dpProductDetailB00149ZSD0\">\\n  <span class=\"a-declarative\" data-action=\"a-popover\" data-a-popover=\"{&quot;closeButton&quot;:&quot;false&quot;,&quot;max-width&quot;:&quot;700&quot;,&quot;position&quot;:&quot;triggerBottom&quot;,&quot;url&quot;:&quot;/review/widgets/average-customer-review/popover/ref=acr_dpproductdetail_popover?ie=UTF8&amp;asin=B00149ZSD0&amp;contextId=dpProductDetail&amp;ref=acr_dpproductdetail_popover&quot;}\">\\n    <a href=\"javascript:void(0)\" class=\"a-popover-trigger a-declarative\">\\n      <a class=\"a-link-normal a-text-normal\" href=\"https://www.amazon.com/product-reviews/B00149ZSD0/ref=acr_dpproductdetail_text?ie=UTF8&showViewpoints=1\">\\n        <i class=\"a-icon a-icon-star a-star-3\"><span class=\"a-icon-alt\">3.1 out of 5 stars</span></i>\\n      </a>\\n    <i class=\"a-icon a-icon-popover\"></i></a>\\n  </span>\\n  <span class=\"a-letter-space\"></span>\\n  <span class=\"a-size-small\">\\n    <a class=\"a-link-normal\" href=\"https://www.amazon.com/product-reviews/B00149ZSD0/ref=acr_dpproductdetail_text?ie=UTF8&showViewpoints=1\">\\n      12 customer reviews\\n    </a>\\n  </span>\\n</span>\\n\\n\\n\\n\\n\\n\\n\\n\\n\\n\\n</li>\\n\\n\\n\\n\\n\\n\\n\\n\\n\\n\\n\\n\\n\\n\\n\\n\\n\\n\\n\\n\\n\\n\\n\\n\\n\\n\\n\\n\\n<li id=\"SalesRank\">\\n<b>Amazon Best Sellers Rank:</b> \\n\\n\\n\\n\\n\\n\\n\\n\\n\\n\\n\\n\\n\\n\\n\\n\\n\\n\\n\\n\\n\\n\\n#502,857 in Grocery & Gourmet Food (<a href=\"https://www.amazon.com/gp/bestsellers/grocery/ref=pd_dp_ts_grocery_1\">See Top 100 in Grocery & Gourmet Food</a>)\\n \\n\\n\\n\\n\\n\\n\\n\\n\\n\\n\\n\\n\\n\\n\\n\\n\\n\\n\\n\\n\\n\\n\\n<style type=\"text/css\">\\n.zg_hrsr { margin: 0; padding: 0; list-style-type: none; }\\n.zg_hrsr_item { margin: 0 0 0 10px; }\\n.zg_hrsr_rank { display: inline-block; width: 80px; text-align: right; }\\n</style>\\n\\n<ul class=\"zg_hrsr\">\\n    <li class=\"zg_hrsr_item\">\\n    <span class=\"zg_hrsr_rank\">#15869</span>\\n    <span class=\"zg_hrsr_ladder\">in&nbsp;<a href=\"https://www.amazon.com/gp/bestsellers/grocery/ref=pd_zg_hrsr_grocery_1_1\">Grocery & Gourmet Food</a> &gt; <a href=\"https://www.amazon.com/gp/bestsellers/grocery/16322461/ref=pd_zg_hrsr_grocery_1_2\">Candy & Chocolate</a> &gt; <b><a href=\"https://www.amazon.com/gp/bestsellers/grocery/17369014011/ref=pd_zg_hrsr_grocery_1_3_last\">Chocolate & Fudge</a></b></span>\\n    </li>\\n</ul>\\n\\n</li>\\n\\n\\n\\n\\n\\n\\t\\t\\n\\t\\n\\t\\t\\n\\t\\n\\t\\t\\n\\t\\n\\t\\t\\t\\n\\t\\t\\t\\n\\t\\t\\t\\n     \\t    \\n            \\n            \\n            \\n            \\n            \\n            <P><div class=\"bucket\">    <script>\\n    P.now(\"A\",\"tellMeMoreLinkData\").execute(function(A,tellMeMoreLinkData){\\n        if(typeof tellMeMoreLinkData !== 'undefined'){\\n            A.state('lowerPricePopoverData',{\"trigger\":\"ns_C12G3N92W24Z6WFXS353_9767_1_hmd_pricing_feedback_trigger_product-detail\",\"destination\":\"/gp/pdp/pf/pricingFeedbackForm.html/ref=_pfdpb?ie=UTF8&%2AVersion%2A=1&%2Aentries%2A=0&ASIN=B00149ZSD0&PREFIX=ns_C12G3N92W24Z6WFXS353_9767_2_&WDG=grocery_display_on_website&dpRequestId=C12G3N92W24Z6WFXS353&from=product-detail&storeID=groceryencodeURI('&originalURI=' + window.location.pathname)\",\"url\":\"/gp/pdp/pf/pricingFeedbackForm.html/ref=_pfdpb?ie=UTF8&%2AVersion%2A=1&%2Aentries%2A=0&ASIN=B00149ZSD0&PREFIX=ns_C12G3N92W24Z6WFXS353_9767_2_&WDG=grocery_display_on_website&dpRequestId=C12G3N92W24Z6WFXS353&from=product-detail&storeID=grocery\",\"nsPrefix\":\"ns_C12G3N92W24Z6WFXS353_9767_2_\",\"path\":\"encodeURI('&originalURI=' + window.location.pathname)\",\"title\":\"Tell Us About a Lower Price\"});\\n            return {\\n                   key:\"pricing-fbW\",\\n                   method: function(){\\n                                     return {\"trigger\":\"ns_C12G3N92W24Z6WFXS353_9767_1_hmd_pricing_feedback_trigger_product-detail\",\"destination\":\"/gp/pdp/pf/pricingFeedbackForm.html/ref=_pfdpb?ie=UTF8&%2AVersion%2A=1&%2Aentries%2A=0&ASIN=B00149ZSD0&PREFIX=ns_C12G3N92W24Z6WFXS353_9767_2_&WDG=grocery_display_on_website&dpRequestId=C12G3N92W24Z6WFXS353&from=product-detail&storeID=groceryencodeURI('&originalURI=' + window.location.pathname)\",\"url\":\"/gp/pdp/pf/pricingFeedbackForm.html/ref=_pfdpb?ie=UTF8&%2AVersion%2A=1&%2Aentries%2A=0&ASIN=B00149ZSD0&PREFIX=ns_C12G3N92W24Z6WFXS353_9767_2_&WDG=grocery_display_on_website&dpRequestId=C12G3N92W24Z6WFXS353&from=product-detail&storeID=grocery\",\"nsPrefix\":\"ns_C12G3N92W24Z6WFXS353_9767_2_\",\"path\":\"encodeURI('&originalURI=' + window.location.pathname)\",\"title\":\"Tell Us About a Lower Price\"};\\n                                     }\\n                   }\\n        }\\n        else{\\n                P.when(\"A\").register(\"tellMeMoreLinkData\",function(A){\\n                    A.state('lowerPricePopoverData',{\"trigger\":\"ns_C12G3N92W24Z6WFXS353_9767_1_hmd_pricing_feedback_trigger_product-detail\",\"destination\":\"/gp/pdp/pf/pricingFeedbackForm.html/ref=_pfdpb?ie=UTF8&%2AVersion%2A=1&%2Aentries%2A=0&ASIN=B00149ZSD0&PREFIX=ns_C12G3N92W24Z6WFXS353_9767_2_&WDG=grocery_display_on_website&dpRequestId=C12G3N92W24Z6WFXS353&from=product-detail&storeID=groceryencodeURI('&originalURI=' + window.location.pathname)\",\"url\":\"/gp/pdp/pf/pricingFeedbackForm.html/ref=_pfdpb?ie=UTF8&%2AVersion%2A=1&%2Aentries%2A=0&ASIN=B00149ZSD0&PREFIX=ns_C12G3N92W24Z6WFXS353_9767_2_&WDG=grocery_display_on_website&dpRequestId=C12G3N92W24Z6WFXS353&from=product-detail&storeID=grocery\",\"nsPrefix\":\"ns_C12G3N92W24Z6WFXS353_9767_2_\",\"path\":\"encodeURI('&originalURI=' + window.location.pathname)\",\"title\":\"Tell Us About a Lower Price\"});\\n                    return {\\n                           key:\"pricing-fbW\",\\n                           method: function(){\\n                                             return {\"trigger\":\"ns_C12G3N92W24Z6WFXS353_9767_1_hmd_pricing_feedback_trigger_product-detail\",\"destination\":\"/gp/pdp/pf/pricingFeedbackForm.html/ref=_pfdpb?ie=UTF8&%2AVersion%2A=1&%2Aentries%2A=0&ASIN=B00149ZSD0&PREFIX=ns_C12G3N92W24Z6WFXS353_9767_2_&WDG=grocery_display_on_website&dpRequestId=C12G3N92W24Z6WFXS353&from=product-detail&storeID=groceryencodeURI('&originalURI=' + window.location.pathname)\",\"url\":\"/gp/pdp/pf/pricingFeedbackForm.html/ref=_pfdpb?ie=UTF8&%2AVersion%2A=1&%2Aentries%2A=0&ASIN=B00149ZSD0&PREFIX=ns_C12G3N92W24Z6WFXS353_9767_2_&WDG=grocery_display_on_website&dpRequestId=C12G3N92W24Z6WFXS353&from=product-detail&storeID=grocery\",\"nsPrefix\":\"ns_C12G3N92W24Z6WFXS353_9767_2_\",\"path\":\"encodeURI('&originalURI=' + window.location.pathname)\",\"title\":\"Tell Us About a Lower Price\"};\\n                                             }\\n                           }\\n\\t\\t\\t    });\\n            }\\n    });\\n    </script>\\nWould you like to <b><a href=\"#\" id=\"ns_C12G3N92W24Z6WFXS353_9767_1_hmd_pricing_feedback_trigger_product-detail\">tell us about a lower price</a></b>?</div></P>\\n\\n\\n\\n</ul>\\n</div>\\n                                                                                                                                                                                                                                                                                                                                                                                                                                                                                                                                                                                                                                                                                                                                                                                                                                                                                                                                                                                                                                                                                                                                                                                                                                                                                                                                                                                                                                                                                                                                                                                                                                                                                                                                                                                                                                                                                                                                                                                                                                                                                                                                                                                                                            1\n",
      "\\n      <div class=\"content\">\\n\\n\\n\\n\\n\\n\\n<ul>\\n\\n\\n\\n\\n\\n\\n\\n\\n\\n\\n\\n\\n\\n                                                                                \\n\\n\\n\\n\\n\\n\\n\\n\\n\\n\\n<li><b>Shipping Weight:</b> 1.3 pounds</li>\\n\\n\\n\\n\\n\\n\\n\\n\\n\\n\\n\\n\\n\\n\\n\\n\\n\\n<li><b>ASIN: </b>B00NFOGLQA</li>\\n\\n\\n\\n\\n\\n\\n\\n\\n\\n\\n\\n\\n\\n\\n\\n\\n\\n\\n\\n\\n<li><b>Item model number:</b> SYNCHKG071016</li>\\n\\n\\n\\n\\n\\n\\n\\n\\n\\n\\n\\n\\n\\n\\n\\n\\n\\n\\n\\n\\n\\n\\n\\n\\n\\n\\n\\n\\n\\n\\n\\n\\n\\n\\n\\n\\n\\n\\n\\n\\n\\n\\n  \\n  \\n\\n\\n\\n\\n\\n\\n\\n\\n\\n\\n\\n\\n\\n\\n\\n\\n\\n\\n\\n\\n\\n\\n\\n\\n\\n\\n\\n<li><b>Average Customer Review:</b> \\n\\n\\n\\n\\n<span class=\"dpProductDetailB00NFOGLQA\">\\n  <span class=\"a-declarative\" data-action=\"a-popover\" data-a-popover=\"{&quot;closeButton&quot;:&quot;false&quot;,&quot;max-width&quot;:&quot;700&quot;,&quot;position&quot;:&quot;triggerBottom&quot;,&quot;url&quot;:&quot;/review/widgets/average-customer-review/popover/ref=acr_dpproductdetail_popover?ie=UTF8&amp;asin=B00NFOGLQA&amp;contextId=dpProductDetail&amp;ref=acr_dpproductdetail_popover&quot;}\">\\n    <a href=\"javascript:void(0)\" class=\"a-popover-trigger a-declarative\">\\n      <a class=\"a-link-normal a-text-normal\" href=\"https://www.amazon.com/product-reviews/B00NFOGLQA/ref=acr_dpproductdetail_text?ie=UTF8&showViewpoints=1\">\\n        <i class=\"a-icon a-icon-star a-star-5\"><span class=\"a-icon-alt\">4.9 out of 5 stars</span></i>\\n      </a>\\n    <i class=\"a-icon a-icon-popover\"></i></a>\\n  </span>\\n  <span class=\"a-letter-space\"></span>\\n  <span class=\"a-size-small\">\\n    <a class=\"a-link-normal\" href=\"https://www.amazon.com/product-reviews/B00NFOGLQA/ref=acr_dpproductdetail_text?ie=UTF8&showViewpoints=1\">\\n      29 customer reviews\\n    </a>\\n  </span>\\n</span>\\n\\n\\n\\n\\n\\n\\n\\n\\n\\n\\n</li>\\n\\n\\n\\n\\n\\n\\n\\n\\n\\n\\n\\n\\n\\n\\n\\n\\n\\n\\n\\n\\n\\n\\n\\n\\n\\n\\n\\n\\n<li id=\"SalesRank\">\\n<b>Amazon Best Sellers Rank:</b> \\n\\n\\n\\n\\n\\n\\n\\n\\n\\n\\n\\n\\n\\n\\n\\n\\n\\n\\n\\n\\n\\n\\n#234,641 in Grocery & Gourmet Food (<a href=\"https://www.amazon.com/gp/bestsellers/grocery/ref=pd_dp_ts_grocery_1\">See Top 100 in Grocery & Gourmet Food</a>)\\n \\n\\n\\n\\n\\n\\n\\n\\n\\n\\n\\n\\n\\n\\n\\n\\n\\n\\n\\n\\n\\n\\n\\n\\n\\n\\n\\n\\n\\n\\n\\n\\n\\n<style type=\"text/css\">\\n.zg_hrsr { margin: 0; padding: 0; list-style-type: none; }\\n.zg_hrsr_item { margin: 0 0 0 10px; }\\n.zg_hrsr_rank { display: inline-block; width: 80px; text-align: right; }\\n</style>\\n\\n<ul class=\"zg_hrsr\">\\n    <li class=\"zg_hrsr_item\">\\n    <span class=\"zg_hrsr_rank\">#2713</span>\\n    <span class=\"zg_hrsr_ladder\">in&nbsp;<a href=\"https://www.amazon.com/gp/bestsellers/grocery/ref=pd_zg_hrsr_grocery_1_1\">Grocery & Gourmet Food</a> &gt; <a href=\"https://www.amazon.com/gp/bestsellers/grocery/16310231/ref=pd_zg_hrsr_grocery_1_2\">Beverages</a> &gt; <a href=\"https://www.amazon.com/gp/bestsellers/grocery/16521305011/ref=pd_zg_hrsr_grocery_1_3\">Coffee, Tea & Cocoa</a> &gt; <a href=\"https://www.amazon.com/gp/bestsellers/grocery/16318401/ref=pd_zg_hrsr_grocery_1_4\">Tea</a> &gt; <b><a href=\"https://www.amazon.com/gp/bestsellers/grocery/16318411/ref=pd_zg_hrsr_grocery_1_5_last\">Black</a></b></span>\\n    </li>\\n</ul>\\n\\n</li>\\n\\n\\n\\n\\n\\n\\t\\t\\n\\t\\n\\t\\t\\n\\t\\n\\t\\t\\n\\t\\n\\t\\t\\t\\n\\t\\t\\t\\n\\t\\t\\t\\n     \\t    \\n            \\n            \\n            \\n            \\n            \\n            <P><div class=\"bucket\">    <script>\\n    P.now(\"A\",\"tellMeMoreLinkData\").execute(function(A,tellMeMoreLinkData){\\n        if(typeof tellMeMoreLinkData !== 'undefined'){\\n            A.state('lowerPricePopoverData',{\"trigger\":\"ns_FS8ACGQDK3N8N0B2DB45_16719_1_hmd_pricing_feedback_trigger_product-detail\",\"destination\":\"/gp/pdp/pf/pricingFeedbackForm.html/ref=_pfdpb?ie=UTF8&%2AVersion%2A=1&%2Aentries%2A=0&ASIN=B00NFOGLQA&PREFIX=ns_FS8ACGQDK3N8N0B2DB45_16719_2_&WDG=grocery_display_on_website&dpRequestId=FS8ACGQDK3N8N0B2DB45&from=product-detail&storeID=groceryencodeURI('&originalURI=' + window.location.pathname)\",\"url\":\"/gp/pdp/pf/pricingFeedbackForm.html/ref=_pfdpb?ie=UTF8&%2AVersion%2A=1&%2Aentries%2A=0&ASIN=B00NFOGLQA&PREFIX=ns_FS8ACGQDK3N8N0B2DB45_16719_2_&WDG=grocery_display_on_website&dpRequestId=FS8ACGQDK3N8N0B2DB45&from=product-detail&storeID=grocery\",\"nsPrefix\":\"ns_FS8ACGQDK3N8N0B2DB45_16719_2_\",\"path\":\"encodeURI('&originalURI=' + window.location.pathname)\",\"title\":\"Tell Us About a Lower Price\"});\\n            return {\\n                   key:\"pricing-fbW\",\\n                   method: function(){\\n                                     return {\"trigger\":\"ns_FS8ACGQDK3N8N0B2DB45_16719_1_hmd_pricing_feedback_trigger_product-detail\",\"destination\":\"/gp/pdp/pf/pricingFeedbackForm.html/ref=_pfdpb?ie=UTF8&%2AVersion%2A=1&%2Aentries%2A=0&ASIN=B00NFOGLQA&PREFIX=ns_FS8ACGQDK3N8N0B2DB45_16719_2_&WDG=grocery_display_on_website&dpRequestId=FS8ACGQDK3N8N0B2DB45&from=product-detail&storeID=groceryencodeURI('&originalURI=' + window.location.pathname)\",\"url\":\"/gp/pdp/pf/pricingFeedbackForm.html/ref=_pfdpb?ie=UTF8&%2AVersion%2A=1&%2Aentries%2A=0&ASIN=B00NFOGLQA&PREFIX=ns_FS8ACGQDK3N8N0B2DB45_16719_2_&WDG=grocery_display_on_website&dpRequestId=FS8ACGQDK3N8N0B2DB45&from=product-detail&storeID=grocery\",\"nsPrefix\":\"ns_FS8ACGQDK3N8N0B2DB45_16719_2_\",\"path\":\"encodeURI('&originalURI=' + window.location.pathname)\",\"title\":\"Tell Us About a Lower Price\"};\\n                                     }\\n                   }\\n        }\\n        else{\\n                P.when(\"A\").register(\"tellMeMoreLinkData\",function(A){\\n                    A.state('lowerPricePopoverData',{\"trigger\":\"ns_FS8ACGQDK3N8N0B2DB45_16719_1_hmd_pricing_feedback_trigger_product-detail\",\"destination\":\"/gp/pdp/pf/pricingFeedbackForm.html/ref=_pfdpb?ie=UTF8&%2AVersion%2A=1&%2Aentries%2A=0&ASIN=B00NFOGLQA&PREFIX=ns_FS8ACGQDK3N8N0B2DB45_16719_2_&WDG=grocery_display_on_website&dpRequestId=FS8ACGQDK3N8N0B2DB45&from=product-detail&storeID=groceryencodeURI('&originalURI=' + window.location.pathname)\",\"url\":\"/gp/pdp/pf/pricingFeedbackForm.html/ref=_pfdpb?ie=UTF8&%2AVersion%2A=1&%2Aentries%2A=0&ASIN=B00NFOGLQA&PREFIX=ns_FS8ACGQDK3N8N0B2DB45_16719_2_&WDG=grocery_display_on_website&dpRequestId=FS8ACGQDK3N8N0B2DB45&from=product-detail&storeID=grocery\",\"nsPrefix\":\"ns_FS8ACGQDK3N8N0B2DB45_16719_2_\",\"path\":\"encodeURI('&originalURI=' + window.location.pathname)\",\"title\":\"Tell Us About a Lower Price\"});\\n                    return {\\n                           key:\"pricing-fbW\",\\n                           method: function(){\\n                                             return {\"trigger\":\"ns_FS8ACGQDK3N8N0B2DB45_16719_1_hmd_pricing_feedback_trigger_product-detail\",\"destination\":\"/gp/pdp/pf/pricingFeedbackForm.html/ref=_pfdpb?ie=UTF8&%2AVersion%2A=1&%2Aentries%2A=0&ASIN=B00NFOGLQA&PREFIX=ns_FS8ACGQDK3N8N0B2DB45_16719_2_&WDG=grocery_display_on_website&dpRequestId=FS8ACGQDK3N8N0B2DB45&from=product-detail&storeID=groceryencodeURI('&originalURI=' + window.location.pathname)\",\"url\":\"/gp/pdp/pf/pricingFeedbackForm.html/ref=_pfdpb?ie=UTF8&%2AVersion%2A=1&%2Aentries%2A=0&ASIN=B00NFOGLQA&PREFIX=ns_FS8ACGQDK3N8N0B2DB45_16719_2_&WDG=grocery_display_on_website&dpRequestId=FS8ACGQDK3N8N0B2DB45&from=product-detail&storeID=grocery\",\"nsPrefix\":\"ns_FS8ACGQDK3N8N0B2DB45_16719_2_\",\"path\":\"encodeURI('&originalURI=' + window.location.pathname)\",\"title\":\"Tell Us About a Lower Price\"};\\n                                             }\\n                           }\\n\\t\\t\\t    });\\n            }\\n    });\\n    </script>\\nWould you like to <b><a href=\"#\" id=\"ns_FS8ACGQDK3N8N0B2DB45_16719_1_hmd_pricing_feedback_trigger_product-detail\">tell us about a lower price</a></b>?</div></P>\\n\\n\\n\\n</ul>\\n</div>\\n                                                                                                                                                                                                                                                                                                                                                                                                                                                                                                                                                                                                                                                                                                                                                                                                                                                                                                                                                                                                                                                                                                                                                                                                                                                                                                                                                                                                                                                                                                                                                                                                                                                                                                                                                                                                                                                                                                                                                                                                                                                                                                                              1\n",
      "\\n\\n\\n\\n\\n\\n    <div class=\"disclaim\">Flavor: <strong>fruit</strong></div>\\n\\n\\n\\n\\n          <div class=\"content\">\\n\\n\\n\\n\\n\\n\\n<ul>\\n\\n\\n\\n\\n\\n\\n\\n\\n\\n\\n\\n\\n\\n                                                                                \\n\\n\\n\\n\\n\\n\\n\\n\\n\\n\\n<li><b>Shipping Weight:</b> 13.6 ounces</li>\\n\\n\\n\\n\\n\\n\\n\\n\\n\\n\\n\\n\\n\\n\\n\\n\\n\\n<li><b>ASIN: </b>B00HAYW3SQ</li>\\n\\n\\n\\n\\n\\n\\n  <li><b>UPC:</b> 072680022016</li>\\n\\n\\n\\n\\n\\n\\n\\n\\n\\n\\n\\n\\n\\n\\n\\n\\n\\n\\n\\n\\n\\n\\n\\n\\n\\n\\n\\n\\n\\n\\n\\n\\n\\n\\n\\n\\n\\n\\n\\n\\n\\n\\n  \\n  \\n\\n\\n\\n\\n\\n\\n\\n\\n\\n\\n\\n\\n\\n\\n\\n\\n\\n\\n\\n\\n\\n\\n\\n\\n\\n\\n\\n<li><b>Average Customer Review:</b> \\n\\n\\n\\n\\n<span class=\"dpProductDetailB00HAYW3SQ\">\\n  <span class=\"a-declarative\" data-action=\"a-popover\" data-a-popover=\"{&quot;closeButton&quot;:&quot;false&quot;,&quot;max-width&quot;:&quot;700&quot;,&quot;position&quot;:&quot;triggerBottom&quot;,&quot;url&quot;:&quot;/review/widgets/average-customer-review/popover/ref=acr_dpproductdetail_popover?ie=UTF8&amp;asin=B00HAYW3SQ&amp;contextId=dpProductDetail&amp;ref=acr_dpproductdetail_popover&quot;}\">\\n    <a href=\"javascript:void(0)\" class=\"a-popover-trigger a-declarative\">\\n      <a class=\"a-link-normal a-text-normal\" href=\"https://www.amazon.com/product-reviews/B00HAYW3SQ/ref=acr_dpproductdetail_text?ie=UTF8&showViewpoints=1\">\\n        <i class=\"a-icon a-icon-star a-star-4\"><span class=\"a-icon-alt\">3.9 out of 5 stars</span></i>\\n      </a>\\n    <i class=\"a-icon a-icon-popover\"></i></a>\\n  </span>\\n  <span class=\"a-letter-space\"></span>\\n  <span class=\"a-size-small\">\\n    <a class=\"a-link-normal\" href=\"https://www.amazon.com/product-reviews/B00HAYW3SQ/ref=acr_dpproductdetail_text?ie=UTF8&showViewpoints=1\">\\n      25 customer reviews\\n    </a>\\n  </span>\\n</span>\\n\\n\\n\\n\\n\\n\\n\\n\\n\\n\\n</li>\\n\\n\\n\\n\\n\\n\\n\\n\\n\\n\\n\\n\\n\\n\\n\\n\\n\\n\\n\\n\\n\\n\\n\\n\\n\\n\\n\\n\\n<li id=\"SalesRank\">\\n<b>Amazon Best Sellers Rank:</b> \\n\\n\\n\\n\\n\\n\\n\\n\\n\\n\\n\\n\\n\\n\\n\\n\\n\\n\\n\\n\\n\\n\\n#655,714 in Grocery & Gourmet Food (<a href=\"https://www.amazon.com/gp/bestsellers/grocery/ref=pd_dp_ts_grocery_1\">See Top 100 in Grocery & Gourmet Food</a>)\\n \\n\\n\\n\\n\\n\\n\\n\\n\\n\\n\\n\\n\\n\\n\\n\\n\\n\\n\\n\\n\\n\\n\\n\\n\\n\\n\\n\\n\\n\\n\\n\\n\\n\\n\\n\\n\\n\\n\\n\\n<style type=\"text/css\">\\n.zg_hrsr { margin: 0; padding: 0; list-style-type: none; }\\n.zg_hrsr_item { margin: 0 0 0 10px; }\\n.zg_hrsr_rank { display: inline-block; width: 80px; text-align: right; }\\n</style>\\n\\n<ul class=\"zg_hrsr\">\\n    <li class=\"zg_hrsr_item\">\\n    <span class=\"zg_hrsr_rank\">#216</span>\\n    <span class=\"zg_hrsr_ladder\">in&nbsp;<a href=\"https://www.amazon.com/gp/bestsellers/grocery/ref=pd_zg_hrsr_grocery_1_1\">Grocery & Gourmet Food</a> &gt; <a href=\"https://www.amazon.com/gp/bestsellers/grocery/16310251/ref=pd_zg_hrsr_grocery_1_2\">Breakfast Foods</a> &gt; <a href=\"https://www.amazon.com/gp/bestsellers/grocery/6524414011/ref=pd_zg_hrsr_grocery_1_3\">Applesauce & Fruit Cups</a> &gt; <b><a href=\"https://www.amazon.com/gp/bestsellers/grocery/6524416011/ref=pd_zg_hrsr_grocery_1_4_last\">Fruit Cups</a></b></span>\\n    </li>\\n    <li class=\"zg_hrsr_item\">\\n    <span class=\"zg_hrsr_rank\">#100309</span>\\n    <span class=\"zg_hrsr_ladder\">in&nbsp;<a href=\"https://www.amazon.com/gp/bestsellers/grocery/ref=pd_zg_hrsr_grocery_2_1\">Grocery & Gourmet Food</a> &gt; <b><a href=\"https://www.amazon.com/gp/bestsellers/grocery/16322721/ref=pd_zg_hrsr_grocery_2_2_last\">Snack Foods</a></b></span>\\n    </li>\\n</ul>\\n\\n</li>\\n\\n\\n\\n\\n\\n\\t\\t\\n\\t\\n\\t\\t\\n\\t\\n\\t\\t\\n\\t\\n\\t\\t\\t\\n\\t\\t\\t\\n\\t\\t\\t\\n     \\t    \\n            \\n            \\n            \\n            \\n            \\n            <P><div class=\"bucket\">    <script>\\n    P.now(\"A\",\"tellMeMoreLinkData\").execute(function(A,tellMeMoreLinkData){\\n        if(typeof tellMeMoreLinkData !== 'undefined'){\\n            A.state('lowerPricePopoverData',{\"trigger\":\"ns_NJZW4JWSG19HJK1PRRVG_1764_1_hmd_pricing_feedback_trigger_product-detail\",\"destination\":\"/gp/pdp/pf/pricingFeedbackForm.html/ref=_pfdpb?ie=UTF8&%2AVersion%2A=1&%2Aentries%2A=0&ASIN=B00HAYW3SQ&PREFIX=ns_NJZW4JWSG19HJK1PRRVG_1764_2_&WDG=grocery_display_on_website&dpRequestId=NJZW4JWSG19HJK1PRRVG&from=product-detail&storeID=groceryencodeURI('&originalURI=' + window.location.pathname)\",\"url\":\"/gp/pdp/pf/pricingFeedbackForm.html/ref=_pfdpb?ie=UTF8&%2AVersion%2A=1&%2Aentries%2A=0&ASIN=B00HAYW3SQ&PREFIX=ns_NJZW4JWSG19HJK1PRRVG_1764_2_&WDG=grocery_display_on_website&dpRequestId=NJZW4JWSG19HJK1PRRVG&from=product-detail&storeID=grocery\",\"nsPrefix\":\"ns_NJZW4JWSG19HJK1PRRVG_1764_2_\",\"path\":\"encodeURI('&originalURI=' + window.location.pathname)\",\"title\":\"Tell Us About a Lower Price\"});\\n            return {\\n                   key:\"pricing-fbW\",\\n                   method: function(){\\n                                     return {\"trigger\":\"ns_NJZW4JWSG19HJK1PRRVG_1764_1_hmd_pricing_feedback_trigger_product-detail\",\"destination\":\"/gp/pdp/pf/pricingFeedbackForm.html/ref=_pfdpb?ie=UTF8&%2AVersion%2A=1&%2Aentries%2A=0&ASIN=B00HAYW3SQ&PREFIX=ns_NJZW4JWSG19HJK1PRRVG_1764_2_&WDG=grocery_display_on_website&dpRequestId=NJZW4JWSG19HJK1PRRVG&from=product-detail&storeID=groceryencodeURI('&originalURI=' + window.location.pathname)\",\"url\":\"/gp/pdp/pf/pricingFeedbackForm.html/ref=_pfdpb?ie=UTF8&%2AVersion%2A=1&%2Aentries%2A=0&ASIN=B00HAYW3SQ&PREFIX=ns_NJZW4JWSG19HJK1PRRVG_1764_2_&WDG=grocery_display_on_website&dpRequestId=NJZW4JWSG19HJK1PRRVG&from=product-detail&storeID=grocery\",\"nsPrefix\":\"ns_NJZW4JWSG19HJK1PRRVG_1764_2_\",\"path\":\"encodeURI('&originalURI=' + window.location.pathname)\",\"title\":\"Tell Us About a Lower Price\"};\\n                                     }\\n                   }\\n        }\\n        else{\\n                P.when(\"A\").register(\"tellMeMoreLinkData\",function(A){\\n                    A.state('lowerPricePopoverData',{\"trigger\":\"ns_NJZW4JWSG19HJK1PRRVG_1764_1_hmd_pricing_feedback_trigger_product-detail\",\"destination\":\"/gp/pdp/pf/pricingFeedbackForm.html/ref=_pfdpb?ie=UTF8&%2AVersion%2A=1&%2Aentries%2A=0&ASIN=B00HAYW3SQ&PREFIX=ns_NJZW4JWSG19HJK1PRRVG_1764_2_&WDG=grocery_display_on_website&dpRequestId=NJZW4JWSG19HJK1PRRVG&from=product-detail&storeID=groceryencodeURI('&originalURI=' + window.location.pathname)\",\"url\":\"/gp/pdp/pf/pricingFeedbackForm.html/ref=_pfdpb?ie=UTF8&%2AVersion%2A=1&%2Aentries%2A=0&ASIN=B00HAYW3SQ&PREFIX=ns_NJZW4JWSG19HJK1PRRVG_1764_2_&WDG=grocery_display_on_website&dpRequestId=NJZW4JWSG19HJK1PRRVG&from=product-detail&storeID=grocery\",\"nsPrefix\":\"ns_NJZW4JWSG19HJK1PRRVG_1764_2_\",\"path\":\"encodeURI('&originalURI=' + window.location.pathname)\",\"title\":\"Tell Us About a Lower Price\"});\\n                    return {\\n                           key:\"pricing-fbW\",\\n                           method: function(){\\n                                             return {\"trigger\":\"ns_NJZW4JWSG19HJK1PRRVG_1764_1_hmd_pricing_feedback_trigger_product-detail\",\"destination\":\"/gp/pdp/pf/pricingFeedbackForm.html/ref=_pfdpb?ie=UTF8&%2AVersion%2A=1&%2Aentries%2A=0&ASIN=B00HAYW3SQ&PREFIX=ns_NJZW4JWSG19HJK1PRRVG_1764_2_&WDG=grocery_display_on_website&dpRequestId=NJZW4JWSG19HJK1PRRVG&from=product-detail&storeID=groceryencodeURI('&originalURI=' + window.location.pathname)\",\"url\":\"/gp/pdp/pf/pricingFeedbackForm.html/ref=_pfdpb?ie=UTF8&%2AVersion%2A=1&%2Aentries%2A=0&ASIN=B00HAYW3SQ&PREFIX=ns_NJZW4JWSG19HJK1PRRVG_1764_2_&WDG=grocery_display_on_website&dpRequestId=NJZW4JWSG19HJK1PRRVG&from=product-detail&storeID=grocery\",\"nsPrefix\":\"ns_NJZW4JWSG19HJK1PRRVG_1764_2_\",\"path\":\"encodeURI('&originalURI=' + window.location.pathname)\",\"title\":\"Tell Us About a Lower Price\"};\\n                                             }\\n                           }\\n\\t\\t\\t    });\\n            }\\n    });\\n    </script>\\nWould you like to <b><a href=\"#\" id=\"ns_NJZW4JWSG19HJK1PRRVG_1764_1_hmd_pricing_feedback_trigger_product-detail\">tell us about a lower price</a></b>?</div></P>\\n\\n\\n\\n</ul>\\n</div>\\n                                                                                                                                                                                                                                                                                                                                                                                                                                                                                                                                                                                                                                                                                                                                                                                                                                                                                                                                                                                                                                                                                                                                                                                                                                                                                                                                                                                                                                                                                                                                                                                                                                                                                                                                                                                        1\n",
      "\\n      <div class=\"content\">\\n\\n\\n\\n\\n\\n\\n<ul>\\n\\n\\n\\n\\n\\n\\n\\n\\n\\n\\n\\n\\n\\n                                                                                \\n\\n\\n    <li><b>\\n    Product Dimensions: \\n    </b>\\n    2.5 x 6.2 x 9.1 inches\\n    </li>\\n\\n\\n\\n\\n\\n\\n\\n\\n<li><b>Shipping Weight:</b> 7.2 ounces</li>\\n\\n\\n\\n\\n\\n\\n\\n\\n\\n\\n\\n\\n\\n\\n\\n\\n\\n<li><b>ASIN: </b>B00FH7K6DW</li>\\n\\n\\n\\n\\n\\n\\n  <li><b>UPC:</b> 859815002132</li>\\n\\n\\n\\n\\n\\n\\n\\n\\n\\n\\n\\n\\n\\n\\n\\n\\n\\n\\n\\n\\n\\n\\n\\n\\n\\n\\n\\n\\n\\n\\n\\n\\n\\n\\n\\n\\n\\n\\n\\n\\n\\n\\n  \\n  \\n\\n\\n\\n\\n\\n\\n\\n\\n\\n\\n\\n\\n\\n\\n\\n\\n\\n\\n\\n\\n\\n\\n\\n\\n\\n\\n\\n<li><b>Average Customer Review:</b> \\n\\n\\n\\n\\n<span class=\"dpProductDetailB00FH7K6DW\">\\n  <span class=\"a-declarative\" data-action=\"a-popover\" data-a-popover=\"{&quot;closeButton&quot;:&quot;false&quot;,&quot;max-width&quot;:&quot;700&quot;,&quot;position&quot;:&quot;triggerBottom&quot;,&quot;url&quot;:&quot;/review/widgets/average-customer-review/popover/ref=acr_dpproductdetail_popover?ie=UTF8&amp;asin=B00FH7K6DW&amp;contextId=dpProductDetail&amp;ref=acr_dpproductdetail_popover&quot;}\">\\n    <a href=\"javascript:void(0)\" class=\"a-popover-trigger a-declarative\">\\n      <a class=\"a-link-normal a-text-normal\" href=\"https://www.amazon.com/product-reviews/B00FH7K6DW/ref=acr_dpproductdetail_text?ie=UTF8&showViewpoints=1\">\\n        <i class=\"a-icon a-icon-star a-star-4\"><span class=\"a-icon-alt\">4.1 out of 5 stars</span></i>\\n      </a>\\n    <i class=\"a-icon a-icon-popover\"></i></a>\\n  </span>\\n  <span class=\"a-letter-space\"></span>\\n  <span class=\"a-size-small\">\\n    <a class=\"a-link-normal\" href=\"https://www.amazon.com/product-reviews/B00FH7K6DW/ref=acr_dpproductdetail_text?ie=UTF8&showViewpoints=1\">\\n      21 customer reviews\\n    </a>\\n  </span>\\n</span>\\n\\n\\n\\n\\n\\n\\n\\n\\n\\n\\n</li>\\n\\n\\n\\n\\n\\n\\n\\n\\n\\n\\n\\n\\n\\n\\n\\n\\n\\n\\n\\n\\n\\n\\n\\n\\n\\n\\n\\n\\n<li id=\"SalesRank\">\\n<b>Amazon Best Sellers Rank:</b> \\n\\n\\n\\n\\n\\n\\n\\n\\n\\n\\n\\n\\n\\n\\n\\n\\n\\n\\n\\n\\n\\n\\n#206,435 in Grocery & Gourmet Food (<a href=\"https://www.amazon.com/gp/bestsellers/grocery/ref=pd_dp_ts_grocery_1\">See Top 100 in Grocery & Gourmet Food</a>)\\n \\n\\n\\n\\n\\n\\n\\n\\n\\n\\n\\n\\n\\n\\n\\n\\n\\n\\n\\n\\n\\n\\n\\n\\n\\n\\n\\n\\n\\n\\n\\n\\n\\n\\n\\n\\n\\n\\n\\n\\n<style type=\"text/css\">\\n.zg_hrsr { margin: 0; padding: 0; list-style-type: none; }\\n.zg_hrsr_item { margin: 0 0 0 10px; }\\n.zg_hrsr_rank { display: inline-block; width: 80px; text-align: right; }\\n</style>\\n\\n<ul class=\"zg_hrsr\">\\n    <li class=\"zg_hrsr_item\">\\n    <span class=\"zg_hrsr_rank\">#5260</span>\\n    <span class=\"zg_hrsr_ladder\">in&nbsp;<a href=\"https://www.amazon.com/gp/bestsellers/grocery/ref=pd_zg_hrsr_grocery_1_1\">Grocery & Gourmet Food</a> &gt; <a href=\"https://www.amazon.com/gp/bestsellers/grocery/16322461/ref=pd_zg_hrsr_grocery_1_2\">Candy & Chocolate</a> &gt; <b><a href=\"https://www.amazon.com/gp/bestsellers/grocery/6558923011/ref=pd_zg_hrsr_grocery_1_3_last\">Candy & Chocolate Bars</a></b></span>\\n    </li>\\n    <li class=\"zg_hrsr_item\">\\n    <span class=\"zg_hrsr_rank\">#5969</span>\\n    <span class=\"zg_hrsr_ladder\">in&nbsp;<a href=\"https://www.amazon.com/gp/bestsellers/grocery/ref=pd_zg_hrsr_grocery_2_1\">Grocery & Gourmet Food</a> &gt; <a href=\"https://www.amazon.com/gp/bestsellers/grocery/16322461/ref=pd_zg_hrsr_grocery_2_2\">Candy & Chocolate</a> &gt; <b><a href=\"https://www.amazon.com/gp/bestsellers/grocery/17369014011/ref=pd_zg_hrsr_grocery_2_3_last\">Chocolate & Fudge</a></b></span>\\n    </li>\\n</ul>\\n\\n</li>\\n\\n\\n\\n\\n\\n\\t\\t\\n\\t\\n\\t\\t\\n\\t\\n\\t\\t\\n\\t\\n\\t\\t\\t\\n\\t\\t\\t\\n\\t\\t\\t\\n     \\t    \\n            \\n            \\n            \\n            \\n            \\n            <P><div class=\"bucket\">    <script>\\n    P.now(\"A\",\"tellMeMoreLinkData\").execute(function(A,tellMeMoreLinkData){\\n        if(typeof tellMeMoreLinkData !== 'undefined'){\\n            A.state('lowerPricePopoverData',{\"trigger\":\"ns_XENN88QBBWJ95KV69JDJ_11855_1_hmd_pricing_feedback_trigger_product-detail\",\"destination\":\"/gp/pdp/pf/pricingFeedbackForm.html/ref=_pfdpb?ie=UTF8&%2AVersion%2A=1&%2Aentries%2A=0&ASIN=B00FH7K6DW&PREFIX=ns_XENN88QBBWJ95KV69JDJ_11855_2_&WDG=grocery_display_on_website&dpRequestId=XENN88QBBWJ95KV69JDJ&from=product-detail&storeID=groceryencodeURI('&originalURI=' + window.location.pathname)\",\"url\":\"/gp/pdp/pf/pricingFeedbackForm.html/ref=_pfdpb?ie=UTF8&%2AVersion%2A=1&%2Aentries%2A=0&ASIN=B00FH7K6DW&PREFIX=ns_XENN88QBBWJ95KV69JDJ_11855_2_&WDG=grocery_display_on_website&dpRequestId=XENN88QBBWJ95KV69JDJ&from=product-detail&storeID=grocery\",\"nsPrefix\":\"ns_XENN88QBBWJ95KV69JDJ_11855_2_\",\"path\":\"encodeURI('&originalURI=' + window.location.pathname)\",\"title\":\"Tell Us About a Lower Price\"});\\n            return {\\n                   key:\"pricing-fbW\",\\n                   method: function(){\\n                                     return {\"trigger\":\"ns_XENN88QBBWJ95KV69JDJ_11855_1_hmd_pricing_feedback_trigger_product-detail\",\"destination\":\"/gp/pdp/pf/pricingFeedbackForm.html/ref=_pfdpb?ie=UTF8&%2AVersion%2A=1&%2Aentries%2A=0&ASIN=B00FH7K6DW&PREFIX=ns_XENN88QBBWJ95KV69JDJ_11855_2_&WDG=grocery_display_on_website&dpRequestId=XENN88QBBWJ95KV69JDJ&from=product-detail&storeID=groceryencodeURI('&originalURI=' + window.location.pathname)\",\"url\":\"/gp/pdp/pf/pricingFeedbackForm.html/ref=_pfdpb?ie=UTF8&%2AVersion%2A=1&%2Aentries%2A=0&ASIN=B00FH7K6DW&PREFIX=ns_XENN88QBBWJ95KV69JDJ_11855_2_&WDG=grocery_display_on_website&dpRequestId=XENN88QBBWJ95KV69JDJ&from=product-detail&storeID=grocery\",\"nsPrefix\":\"ns_XENN88QBBWJ95KV69JDJ_11855_2_\",\"path\":\"encodeURI('&originalURI=' + window.location.pathname)\",\"title\":\"Tell Us About a Lower Price\"};\\n                                     }\\n                   }\\n        }\\n        else{\\n                P.when(\"A\").register(\"tellMeMoreLinkData\",function(A){\\n                    A.state('lowerPricePopoverData',{\"trigger\":\"ns_XENN88QBBWJ95KV69JDJ_11855_1_hmd_pricing_feedback_trigger_product-detail\",\"destination\":\"/gp/pdp/pf/pricingFeedbackForm.html/ref=_pfdpb?ie=UTF8&%2AVersion%2A=1&%2Aentries%2A=0&ASIN=B00FH7K6DW&PREFIX=ns_XENN88QBBWJ95KV69JDJ_11855_2_&WDG=grocery_display_on_website&dpRequestId=XENN88QBBWJ95KV69JDJ&from=product-detail&storeID=groceryencodeURI('&originalURI=' + window.location.pathname)\",\"url\":\"/gp/pdp/pf/pricingFeedbackForm.html/ref=_pfdpb?ie=UTF8&%2AVersion%2A=1&%2Aentries%2A=0&ASIN=B00FH7K6DW&PREFIX=ns_XENN88QBBWJ95KV69JDJ_11855_2_&WDG=grocery_display_on_website&dpRequestId=XENN88QBBWJ95KV69JDJ&from=product-detail&storeID=grocery\",\"nsPrefix\":\"ns_XENN88QBBWJ95KV69JDJ_11855_2_\",\"path\":\"encodeURI('&originalURI=' + window.location.pathname)\",\"title\":\"Tell Us About a Lower Price\"});\\n                    return {\\n                           key:\"pricing-fbW\",\\n                           method: function(){\\n                                             return {\"trigger\":\"ns_XENN88QBBWJ95KV69JDJ_11855_1_hmd_pricing_feedback_trigger_product-detail\",\"destination\":\"/gp/pdp/pf/pricingFeedbackForm.html/ref=_pfdpb?ie=UTF8&%2AVersion%2A=1&%2Aentries%2A=0&ASIN=B00FH7K6DW&PREFIX=ns_XENN88QBBWJ95KV69JDJ_11855_2_&WDG=grocery_display_on_website&dpRequestId=XENN88QBBWJ95KV69JDJ&from=product-detail&storeID=groceryencodeURI('&originalURI=' + window.location.pathname)\",\"url\":\"/gp/pdp/pf/pricingFeedbackForm.html/ref=_pfdpb?ie=UTF8&%2AVersion%2A=1&%2Aentries%2A=0&ASIN=B00FH7K6DW&PREFIX=ns_XENN88QBBWJ95KV69JDJ_11855_2_&WDG=grocery_display_on_website&dpRequestId=XENN88QBBWJ95KV69JDJ&from=product-detail&storeID=grocery\",\"nsPrefix\":\"ns_XENN88QBBWJ95KV69JDJ_11855_2_\",\"path\":\"encodeURI('&originalURI=' + window.location.pathname)\",\"title\":\"Tell Us About a Lower Price\"};\\n                                             }\\n                           }\\n\\t\\t\\t    });\\n            }\\n    });\\n    </script>\\nWould you like to <b><a href=\"#\" id=\"ns_XENN88QBBWJ95KV69JDJ_11855_1_hmd_pricing_feedback_trigger_product-detail\">tell us about a lower price</a></b>?</div></P>\\n\\n\\n\\n</ul>\\n</div>\\n                                                                                                                                                                                                                                                                                                                                                                                                                                                                                                                                                                                                                                                                                                                                                                                                                                                                                                                                                                                                                                                                                                                                                                                                                                                                                                                                                                                                                                                                                                                                                                                                                                                                                                                                                        1\n",
      "\\n      <div class=\"content\">\\n\\n\\n\\n\\n\\n\\n<ul>\\n\\n\\n\\n\\n\\n\\n\\n\\n\\n\\n\\n\\n\\n                                                                                \\n\\n\\n\\n\\n\\n\\n\\n\\n\\n\\n<li><b>Shipping Weight:</b> 1 pounds (<a href=\"/gp/help/seller/shipping.html/ref=dp_pd_shipping?ie=UTF8&amp;asin=B00DXMSSRE&amp;seller=ATVPDKIKX0DER\">View shipping rates and policies</a>)</li>\\n\\n\\n\\n\\n\\n\\n\\n\\n\\n\\n\\n\\n\\n\\n\\n\\n\\n<li><b>ASIN: </b>B00DXMSSRE</li>\\n\\n\\n\\n\\n\\n\\n\\n\\n\\n\\n\\n\\n\\n\\n\\n\\n\\n\\n\\n\\n\\n\\n\\n\\n\\n\\n\\n\\n\\n\\n\\n\\n\\n\\n\\n\\n\\n\\n\\n\\n\\n\\n\\n\\n\\n\\n\\n\\n  \\n  \\n\\n\\n\\n\\n\\n\\n\\n\\n\\n\\n\\n\\n\\n\\n\\n\\n\\n\\n\\n\\n\\n\\n\\n\\n\\n\\n\\n<li><b>Average Customer Review:</b> \\n\\n\\n\\n\\n<span class=\"dpProductDetailB00DXMSSRE\">\\n  <span class=\"a-declarative\" data-action=\"a-popover\" data-a-popover=\"{&quot;closeButton&quot;:&quot;false&quot;,&quot;max-width&quot;:&quot;700&quot;,&quot;position&quot;:&quot;triggerBottom&quot;,&quot;url&quot;:&quot;/review/widgets/average-customer-review/popover/ref=acr_dpproductdetail_popover?ie=UTF8&amp;asin=B00DXMSSRE&amp;contextId=dpProductDetail&amp;ref=acr_dpproductdetail_popover&quot;}\">\\n    <a href=\"javascript:void(0)\" class=\"a-popover-trigger a-declarative\">\\n      <a class=\"a-link-normal a-text-normal\" href=\"https://www.amazon.com/product-reviews/B00DXMSSRE/ref=acr_dpproductdetail_text?ie=UTF8&showViewpoints=1\">\\n        <i class=\"a-icon a-icon-star a-star-4-5\"><span class=\"a-icon-alt\">4.3 out of 5 stars</span></i>\\n      </a>\\n    <i class=\"a-icon a-icon-popover\"></i></a>\\n  </span>\\n  <span class=\"a-letter-space\"></span>\\n  <span class=\"a-size-small\">\\n    <a class=\"a-link-normal\" href=\"https://www.amazon.com/product-reviews/B00DXMSSRE/ref=acr_dpproductdetail_text?ie=UTF8&showViewpoints=1\">\\n      29 customer reviews\\n    </a>\\n  </span>\\n</span>\\n\\n\\n\\n\\n\\n\\n\\n\\n\\n\\n</li>\\n\\n\\n\\n\\n\\n\\n\\n\\n\\n\\n\\n\\n\\n\\n\\n\\n\\n\\n\\n\\n\\n\\n\\n\\n\\n\\n\\n\\n<li id=\"SalesRank\">\\n<b>Amazon Best Sellers Rank:</b> \\n\\n\\n\\n\\n\\n\\n\\n\\n\\n\\n\\n\\n\\n\\n\\n\\n\\n\\n\\n\\n\\n\\n#137,293 in Grocery & Gourmet Food (<a href=\"https://www.amazon.com/gp/bestsellers/grocery/ref=pd_dp_ts_grocery_1\">See Top 100 in Grocery & Gourmet Food</a>)\\n \\n\\n\\n\\n\\n\\n\\n\\n\\n\\n\\n\\n\\n\\n\\n\\n\\n\\n\\n\\n\\n\\n\\n\\n\\n\\n\\n\\n<style type=\"text/css\">\\n.zg_hrsr { margin: 0; padding: 0; list-style-type: none; }\\n.zg_hrsr_item { margin: 0 0 0 10px; }\\n.zg_hrsr_rank { display: inline-block; width: 80px; text-align: right; }\\n</style>\\n\\n<ul class=\"zg_hrsr\">\\n    <li class=\"zg_hrsr_item\">\\n    <span class=\"zg_hrsr_rank\">#560</span>\\n    <span class=\"zg_hrsr_ladder\">in&nbsp;<a href=\"https://www.amazon.com/gp/bestsellers/grocery/ref=pd_zg_hrsr_grocery_1_1\">Grocery & Gourmet Food</a> &gt; <a href=\"https://www.amazon.com/gp/bestsellers/grocery/16322461/ref=pd_zg_hrsr_grocery_1_2\">Candy & Chocolate</a> &gt; <a href=\"https://www.amazon.com/gp/bestsellers/grocery/17369013011/ref=pd_zg_hrsr_grocery_1_3\">Jelly Beans & Gummy Candy</a> &gt; <b><a href=\"https://www.amazon.com/gp/bestsellers/grocery/16322511/ref=pd_zg_hrsr_grocery_1_4_last\">Jelly Beans</a></b></span>\\n    </li>\\n</ul>\\n\\n</li>\\n\\n\\n\\n\\n\\n\\t\\t\\n\\t\\n\\t\\t\\n\\t\\n\\t\\t\\n\\t\\n\\t\\t\\t\\n\\t\\t\\t\\n\\t\\t\\t\\n     \\t    \\n            \\n            \\n            \\n            \\n            \\n            <P><div class=\"bucket\">    <script>\\n    P.now(\"A\",\"tellMeMoreLinkData\").execute(function(A,tellMeMoreLinkData){\\n        if(typeof tellMeMoreLinkData !== 'undefined'){\\n            A.state('lowerPricePopoverData',{\"trigger\":\"ns_VK5MXBVND7P8PWE8NH6P_25310_1_hmd_pricing_feedback_trigger_product-detail\",\"destination\":\"/gp/pdp/pf/pricingFeedbackForm.html/ref=_pfdpb?ie=UTF8&%2AVersion%2A=1&%2Aentries%2A=0&ASIN=B00DXMSSRE&PREFIX=ns_VK5MXBVND7P8PWE8NH6P_25310_2_&WDG=grocery_display_on_website&dpRequestId=VK5MXBVND7P8PWE8NH6P&from=product-detail&storeID=groceryencodeURI('&originalURI=' + window.location.pathname)\",\"url\":\"/gp/pdp/pf/pricingFeedbackForm.html/ref=_pfdpb?ie=UTF8&%2AVersion%2A=1&%2Aentries%2A=0&ASIN=B00DXMSSRE&PREFIX=ns_VK5MXBVND7P8PWE8NH6P_25310_2_&WDG=grocery_display_on_website&dpRequestId=VK5MXBVND7P8PWE8NH6P&from=product-detail&storeID=grocery\",\"nsPrefix\":\"ns_VK5MXBVND7P8PWE8NH6P_25310_2_\",\"path\":\"encodeURI('&originalURI=' + window.location.pathname)\",\"title\":\"Tell Us About a Lower Price\"});\\n            return {\\n                   key:\"pricing-fbW\",\\n                   method: function(){\\n                                     return {\"trigger\":\"ns_VK5MXBVND7P8PWE8NH6P_25310_1_hmd_pricing_feedback_trigger_product-detail\",\"destination\":\"/gp/pdp/pf/pricingFeedbackForm.html/ref=_pfdpb?ie=UTF8&%2AVersion%2A=1&%2Aentries%2A=0&ASIN=B00DXMSSRE&PREFIX=ns_VK5MXBVND7P8PWE8NH6P_25310_2_&WDG=grocery_display_on_website&dpRequestId=VK5MXBVND7P8PWE8NH6P&from=product-detail&storeID=groceryencodeURI('&originalURI=' + window.location.pathname)\",\"url\":\"/gp/pdp/pf/pricingFeedbackForm.html/ref=_pfdpb?ie=UTF8&%2AVersion%2A=1&%2Aentries%2A=0&ASIN=B00DXMSSRE&PREFIX=ns_VK5MXBVND7P8PWE8NH6P_25310_2_&WDG=grocery_display_on_website&dpRequestId=VK5MXBVND7P8PWE8NH6P&from=product-detail&storeID=grocery\",\"nsPrefix\":\"ns_VK5MXBVND7P8PWE8NH6P_25310_2_\",\"path\":\"encodeURI('&originalURI=' + window.location.pathname)\",\"title\":\"Tell Us About a Lower Price\"};\\n                                     }\\n                   }\\n        }\\n        else{\\n                P.when(\"A\").register(\"tellMeMoreLinkData\",function(A){\\n                    A.state('lowerPricePopoverData',{\"trigger\":\"ns_VK5MXBVND7P8PWE8NH6P_25310_1_hmd_pricing_feedback_trigger_product-detail\",\"destination\":\"/gp/pdp/pf/pricingFeedbackForm.html/ref=_pfdpb?ie=UTF8&%2AVersion%2A=1&%2Aentries%2A=0&ASIN=B00DXMSSRE&PREFIX=ns_VK5MXBVND7P8PWE8NH6P_25310_2_&WDG=grocery_display_on_website&dpRequestId=VK5MXBVND7P8PWE8NH6P&from=product-detail&storeID=groceryencodeURI('&originalURI=' + window.location.pathname)\",\"url\":\"/gp/pdp/pf/pricingFeedbackForm.html/ref=_pfdpb?ie=UTF8&%2AVersion%2A=1&%2Aentries%2A=0&ASIN=B00DXMSSRE&PREFIX=ns_VK5MXBVND7P8PWE8NH6P_25310_2_&WDG=grocery_display_on_website&dpRequestId=VK5MXBVND7P8PWE8NH6P&from=product-detail&storeID=grocery\",\"nsPrefix\":\"ns_VK5MXBVND7P8PWE8NH6P_25310_2_\",\"path\":\"encodeURI('&originalURI=' + window.location.pathname)\",\"title\":\"Tell Us About a Lower Price\"});\\n                    return {\\n                           key:\"pricing-fbW\",\\n                           method: function(){\\n                                             return {\"trigger\":\"ns_VK5MXBVND7P8PWE8NH6P_25310_1_hmd_pricing_feedback_trigger_product-detail\",\"destination\":\"/gp/pdp/pf/pricingFeedbackForm.html/ref=_pfdpb?ie=UTF8&%2AVersion%2A=1&%2Aentries%2A=0&ASIN=B00DXMSSRE&PREFIX=ns_VK5MXBVND7P8PWE8NH6P_25310_2_&WDG=grocery_display_on_website&dpRequestId=VK5MXBVND7P8PWE8NH6P&from=product-detail&storeID=groceryencodeURI('&originalURI=' + window.location.pathname)\",\"url\":\"/gp/pdp/pf/pricingFeedbackForm.html/ref=_pfdpb?ie=UTF8&%2AVersion%2A=1&%2Aentries%2A=0&ASIN=B00DXMSSRE&PREFIX=ns_VK5MXBVND7P8PWE8NH6P_25310_2_&WDG=grocery_display_on_website&dpRequestId=VK5MXBVND7P8PWE8NH6P&from=product-detail&storeID=grocery\",\"nsPrefix\":\"ns_VK5MXBVND7P8PWE8NH6P_25310_2_\",\"path\":\"encodeURI('&originalURI=' + window.location.pathname)\",\"title\":\"Tell Us About a Lower Price\"};\\n                                             }\\n                           }\\n\\t\\t\\t    });\\n            }\\n    });\\n    </script>\\nWould you like to <b><a href=\"#\" id=\"ns_VK5MXBVND7P8PWE8NH6P_25310_1_hmd_pricing_feedback_trigger_product-detail\">tell us about a lower price</a></b>?</div></P>\\n\\n\\n\\n</ul>\\n</div>\\n                                                                                                                                                                                                                                                                                                                                                                                                                                                                                                                                                                                                                                                                                                                                                                                                                                                                                                                                                                                                                                                                                                                                                                                                                                                                                                                                                                                                                                                                                                                                                                                                                                                                                                                                                                                                                                                                                                                                                                                                                                                                                                                                                     1\n",
      "Name: details, Length: 40368, dtype: int64\n"
     ]
    }
   ],
   "source": [
    "show_info(df.details)"
   ]
  },
  {
   "cell_type": "code",
   "execution_count": 87,
   "id": "uniform-dodge",
   "metadata": {
    "execution": {
     "iopub.execute_input": "2021-05-31T11:08:29.788665Z",
     "iopub.status.busy": "2021-05-31T11:08:29.787986Z",
     "iopub.status.idle": "2021-05-31T11:08:29.789896Z",
     "shell.execute_reply": "2021-05-31T11:08:29.790369Z",
     "shell.execute_reply.started": "2021-05-31T10:31:08.220550Z"
    },
    "papermill": {
     "duration": 0.182595,
     "end_time": "2021-05-31T11:08:29.790559",
     "exception": false,
     "start_time": "2021-05-31T11:08:29.607964",
     "status": "completed"
    },
    "tags": []
   },
   "outputs": [],
   "source": [
    "df_dict['details']='Удалим'"
   ]
  },
  {
   "cell_type": "markdown",
   "id": "incoming-network",
   "metadata": {
    "papermill": {
     "duration": 0.183402,
     "end_time": "2021-05-31T11:08:30.150234",
     "exception": false,
     "start_time": "2021-05-31T11:08:29.966832",
     "status": "completed"
    },
    "tags": []
   },
   "source": [
    "## similar_item "
   ]
  },
  {
   "cell_type": "code",
   "execution_count": 88,
   "id": "introductory-import",
   "metadata": {
    "execution": {
     "iopub.execute_input": "2021-05-31T11:08:30.502804Z",
     "iopub.status.busy": "2021-05-31T11:08:30.502165Z",
     "iopub.status.idle": "2021-05-31T11:08:30.510222Z",
     "shell.execute_reply": "2021-05-31T11:08:30.509706Z",
     "shell.execute_reply.started": "2021-05-31T10:31:08.226686Z"
    },
    "papermill": {
     "duration": 0.185671,
     "end_time": "2021-05-31T11:08:30.510389",
     "exception": false,
     "start_time": "2021-05-31T11:08:30.324718",
     "status": "completed"
    },
    "tags": []
   },
   "outputs": [
    {
     "data": {
      "text/plain": [
       "0         NaN\n",
       "1         NaN\n",
       "2         NaN\n",
       "3         NaN\n",
       "4         NaN\n",
       "         ... \n",
       "847588    NaN\n",
       "847589    NaN\n",
       "847590    NaN\n",
       "847591    NaN\n",
       "847592    NaN\n",
       "Name: similar_item, Length: 847593, dtype: object"
      ]
     },
     "execution_count": 88,
     "metadata": {},
     "output_type": "execute_result"
    }
   ],
   "source": [
    "df.similar_item"
   ]
  },
  {
   "cell_type": "code",
   "execution_count": 89,
   "id": "floral-memorabilia",
   "metadata": {
    "execution": {
     "iopub.execute_input": "2021-05-31T11:08:30.866367Z",
     "iopub.status.busy": "2021-05-31T11:08:30.865717Z",
     "iopub.status.idle": "2021-05-31T11:08:30.868965Z",
     "shell.execute_reply": "2021-05-31T11:08:30.868239Z",
     "shell.execute_reply.started": "2021-05-31T10:31:08.244570Z"
    },
    "papermill": {
     "duration": 0.182286,
     "end_time": "2021-05-31T11:08:30.869115",
     "exception": false,
     "start_time": "2021-05-31T11:08:30.686829",
     "status": "completed"
    },
    "tags": []
   },
   "outputs": [],
   "source": [
    "df_dict['similar_item']='Удалим'"
   ]
  },
  {
   "cell_type": "markdown",
   "id": "unsigned-sheffield",
   "metadata": {
    "papermill": {
     "duration": 0.178618,
     "end_time": "2021-05-31T11:08:31.259070",
     "exception": false,
     "start_time": "2021-05-31T11:08:31.080452",
     "status": "completed"
    },
    "tags": []
   },
   "source": [
    "## tech1 "
   ]
  },
  {
   "cell_type": "code",
   "execution_count": 90,
   "id": "finished-emergency",
   "metadata": {
    "execution": {
     "iopub.execute_input": "2021-05-31T11:08:31.613824Z",
     "iopub.status.busy": "2021-05-31T11:08:31.613174Z",
     "iopub.status.idle": "2021-05-31T11:08:31.619982Z",
     "shell.execute_reply": "2021-05-31T11:08:31.620537Z",
     "shell.execute_reply.started": "2021-05-31T10:31:08.253726Z"
    },
    "papermill": {
     "duration": 0.184727,
     "end_time": "2021-05-31T11:08:31.620727",
     "exception": false,
     "start_time": "2021-05-31T11:08:31.436000",
     "status": "completed"
    },
    "tags": []
   },
   "outputs": [
    {
     "data": {
      "text/plain": [
       "0         NaN\n",
       "1         NaN\n",
       "2         NaN\n",
       "3         NaN\n",
       "4         NaN\n",
       "         ... \n",
       "847588    NaN\n",
       "847589    NaN\n",
       "847590    NaN\n",
       "847591    NaN\n",
       "847592    NaN\n",
       "Name: tech1, Length: 847593, dtype: object"
      ]
     },
     "execution_count": 90,
     "metadata": {},
     "output_type": "execute_result"
    }
   ],
   "source": [
    "df.tech1"
   ]
  },
  {
   "cell_type": "code",
   "execution_count": 91,
   "id": "natural-campaign",
   "metadata": {
    "execution": {
     "iopub.execute_input": "2021-05-31T11:08:31.974687Z",
     "iopub.status.busy": "2021-05-31T11:08:31.974017Z",
     "iopub.status.idle": "2021-05-31T11:08:31.978761Z",
     "shell.execute_reply": "2021-05-31T11:08:31.978166Z",
     "shell.execute_reply.started": "2021-05-31T10:31:08.269563Z"
    },
    "papermill": {
     "duration": 0.183285,
     "end_time": "2021-05-31T11:08:31.978928",
     "exception": false,
     "start_time": "2021-05-31T11:08:31.795643",
     "status": "completed"
    },
    "tags": []
   },
   "outputs": [],
   "source": [
    "df_dict['tech1']='Удалим'"
   ]
  },
  {
   "cell_type": "markdown",
   "id": "infrared-brighton",
   "metadata": {
    "papermill": {
     "duration": 0.175175,
     "end_time": "2021-05-31T11:08:32.332116",
     "exception": false,
     "start_time": "2021-05-31T11:08:32.156941",
     "status": "completed"
    },
    "tags": []
   },
   "source": [
    "## fit "
   ]
  },
  {
   "cell_type": "code",
   "execution_count": 92,
   "id": "biological-mouse",
   "metadata": {
    "execution": {
     "iopub.execute_input": "2021-05-31T11:08:32.690505Z",
     "iopub.status.busy": "2021-05-31T11:08:32.689833Z",
     "iopub.status.idle": "2021-05-31T11:08:32.692705Z",
     "shell.execute_reply": "2021-05-31T11:08:32.693249Z",
     "shell.execute_reply.started": "2021-05-31T10:31:08.278303Z"
    },
    "papermill": {
     "duration": 0.186849,
     "end_time": "2021-05-31T11:08:32.693436",
     "exception": false,
     "start_time": "2021-05-31T11:08:32.506587",
     "status": "completed"
    },
    "tags": []
   },
   "outputs": [
    {
     "data": {
      "text/plain": [
       "0         NaN\n",
       "1         NaN\n",
       "2         NaN\n",
       "3         NaN\n",
       "4         NaN\n",
       "         ... \n",
       "847588    NaN\n",
       "847589    NaN\n",
       "847590    NaN\n",
       "847591    NaN\n",
       "847592    NaN\n",
       "Name: fit, Length: 847593, dtype: object"
      ]
     },
     "execution_count": 92,
     "metadata": {},
     "output_type": "execute_result"
    }
   ],
   "source": [
    "df.fit"
   ]
  },
  {
   "cell_type": "code",
   "execution_count": 93,
   "id": "desirable-passage",
   "metadata": {
    "execution": {
     "iopub.execute_input": "2021-05-31T11:08:33.053394Z",
     "iopub.status.busy": "2021-05-31T11:08:33.052730Z",
     "iopub.status.idle": "2021-05-31T11:08:33.261135Z",
     "shell.execute_reply": "2021-05-31T11:08:33.260364Z",
     "shell.execute_reply.started": "2021-05-31T10:31:08.293350Z"
    },
    "papermill": {
     "duration": 0.389605,
     "end_time": "2021-05-31T11:08:33.261302",
     "exception": false,
     "start_time": "2021-05-31T11:08:32.871697",
     "status": "completed"
    },
    "tags": []
   },
   "outputs": [
    {
     "name": "stdout",
     "output_type": "stream",
     "text": [
      "Сколько пропусков? 847593\n",
      "\n",
      "Процент пропусков? 100.0%\n",
      "\n",
      "Описание:\n",
      "count       0\n",
      "unique      0\n",
      "top       NaN\n",
      "freq      NaN\n",
      "Name: fit, dtype: object\n",
      "\n",
      "Как распределено?\n",
      "Series([], Name: fit, dtype: int64)\n"
     ]
    }
   ],
   "source": [
    "show_info(df.fit)"
   ]
  },
  {
   "cell_type": "code",
   "execution_count": 94,
   "id": "entitled-concentrate",
   "metadata": {
    "execution": {
     "iopub.execute_input": "2021-05-31T11:08:33.625258Z",
     "iopub.status.busy": "2021-05-31T11:08:33.624299Z",
     "iopub.status.idle": "2021-05-31T11:08:33.627433Z",
     "shell.execute_reply": "2021-05-31T11:08:33.626919Z",
     "shell.execute_reply.started": "2021-05-31T10:31:08.510293Z"
    },
    "papermill": {
     "duration": 0.187704,
     "end_time": "2021-05-31T11:08:33.627574",
     "exception": false,
     "start_time": "2021-05-31T11:08:33.439870",
     "status": "completed"
    },
    "tags": []
   },
   "outputs": [],
   "source": [
    "df_dict['fit']='Удалим'"
   ]
  },
  {
   "cell_type": "markdown",
   "id": "young-logan",
   "metadata": {
    "papermill": {
     "duration": 0.177038,
     "end_time": "2021-05-31T11:08:33.981594",
     "exception": false,
     "start_time": "2021-05-31T11:08:33.804556",
     "status": "completed"
    },
    "tags": []
   },
   "source": [
    "### Закончили обработку признаков, посмотрим, что мы про них написали и почистим данные. "
   ]
  },
  {
   "cell_type": "code",
   "execution_count": 95,
   "id": "constitutional-equivalent",
   "metadata": {
    "execution": {
     "iopub.execute_input": "2021-05-31T11:08:34.389250Z",
     "iopub.status.busy": "2021-05-31T11:08:34.388600Z",
     "iopub.status.idle": "2021-05-31T11:08:34.393188Z",
     "shell.execute_reply": "2021-05-31T11:08:34.392682Z",
     "shell.execute_reply.started": "2021-05-31T10:31:08.518007Z"
    },
    "papermill": {
     "duration": 0.207887,
     "end_time": "2021-05-31T11:08:34.393376",
     "exception": false,
     "start_time": "2021-05-31T11:08:34.185489",
     "status": "completed"
    },
    "tags": []
   },
   "outputs": [
    {
     "data": {
      "text/plain": [
       "{'overall': 'Обработано, 5 видов значений',\n",
       " 'verified': 'Пропусков нет, 2 вида значений',\n",
       " 'reviewTime': 'Пропусков нет, но формат даты удобнее в другом столбце, так что удалим',\n",
       " 'asin': 'Много уникальных значений, пропусков нет, не придумал, как использовать. Потом удалим',\n",
       " 'reviewerName': 'Много имен, мало пропусков, удалим, потому что есть более полезный столбец',\n",
       " 'unixReviewTime': 'Обработано, пропусков нет',\n",
       " 'vote': 'Пропуски заполнены, созданы 5 разных видов',\n",
       " 'style': 'Пропусков почти половина, это словари с разной информацией, так сразу не подступишься. Скорее всего удалим',\n",
       " 'image_x': 'Ссылки на картинки, подавляющего большинства нет. Удалим',\n",
       " 'userid': 'Пропусков нет, это номера пользователей',\n",
       " 'itemid': 'Пропусков нет, это id предметов',\n",
       " 'Id': 'Дублирующая колонка из df_test. Удалим',\n",
       " 'rating': 'Пропусков нет, 3 разных типа',\n",
       " 'reviewText': 'Описание, можно извлечь что-то, но нет в тесте',\n",
       " 'summary': 'Описание, можно извлечь что-то, но нет в тесте',\n",
       " 'category': 'Пропусков нет, можно найти самые популярные категории. Подумаем',\n",
       " 'description': 'В тесте нет, можно найти самые популярные категории. Подумаем',\n",
       " 'title': 'Удалим',\n",
       " 'brand': 'Можно найти топовые бренды. Посмотрим',\n",
       " 'rank': 'Сделали 3 категории',\n",
       " 'also_view': 'Много пропусков, удалим',\n",
       " 'main_cat': 'Сделать dummy',\n",
       " 'also_buy': 'Удалим',\n",
       " 'image_y': 'Картинки, удалим',\n",
       " 'date': 'Очень много пропусков, удалим',\n",
       " 'feature': 'Удалим',\n",
       " 'details': 'Удалим',\n",
       " 'similar_item': 'Удалим',\n",
       " 'tech1': 'Удалим',\n",
       " 'fit': 'Удалим'}"
      ]
     },
     "execution_count": 95,
     "metadata": {},
     "output_type": "execute_result"
    }
   ],
   "source": [
    "df_dict"
   ]
  },
  {
   "cell_type": "code",
   "execution_count": 96,
   "id": "encouraging-sucking",
   "metadata": {
    "execution": {
     "iopub.execute_input": "2021-05-31T11:08:34.755982Z",
     "iopub.status.busy": "2021-05-31T11:08:34.755327Z",
     "iopub.status.idle": "2021-05-31T11:08:35.521605Z",
     "shell.execute_reply": "2021-05-31T11:08:35.522101Z",
     "shell.execute_reply.started": "2021-05-31T10:31:08.532884Z"
    },
    "papermill": {
     "duration": 0.952072,
     "end_time": "2021-05-31T11:08:35.522314",
     "exception": false,
     "start_time": "2021-05-31T11:08:34.570242",
     "status": "completed"
    },
    "tags": []
   },
   "outputs": [],
   "source": [
    "df1=df.copy()\n",
    "df_f=df.copy()"
   ]
  },
  {
   "cell_type": "code",
   "execution_count": 97,
   "id": "worthy-robert",
   "metadata": {
    "execution": {
     "iopub.execute_input": "2021-05-31T11:08:35.884349Z",
     "iopub.status.busy": "2021-05-31T11:08:35.883309Z",
     "iopub.status.idle": "2021-05-31T11:08:37.719254Z",
     "shell.execute_reply": "2021-05-31T11:08:37.719748Z",
     "shell.execute_reply.started": "2021-05-31T10:31:09.294232Z"
    },
    "papermill": {
     "duration": 2.019493,
     "end_time": "2021-05-31T11:08:37.719941",
     "exception": false,
     "start_time": "2021-05-31T11:08:35.700448",
     "status": "completed"
    },
    "tags": []
   },
   "outputs": [
    {
     "name": "stdout",
     "output_type": "stream",
     "text": [
      "<class 'pandas.core.frame.DataFrame'>\n",
      "Int64Index: 847593 entries, 0 to 847592\n",
      "Data columns (total 31 columns):\n",
      " #   Column          Non-Null Count   Dtype  \n",
      "---  ------          --------------   -----  \n",
      " 0   overall         847593 non-null  int32  \n",
      " 1   verified        847593 non-null  int64  \n",
      " 2   reviewTime      847593 non-null  object \n",
      " 3   asin            847593 non-null  object \n",
      " 4   reviewerName    847425 non-null  object \n",
      " 5   reviewText      847315 non-null  object \n",
      " 6   summary         847426 non-null  object \n",
      " 7   unixReviewTime  847593 non-null  object \n",
      " 8   vote            847593 non-null  object \n",
      " 9   style           440351 non-null  object \n",
      " 10  image_x         7138 non-null    object \n",
      " 11  userid          847593 non-null  int64  \n",
      " 12  itemid          847593 non-null  int64  \n",
      " 13  rating          847593 non-null  float64\n",
      " 14  sample          847593 non-null  int64  \n",
      " 15  category        847593 non-null  object \n",
      " 16  description     776098 non-null  object \n",
      " 17  title           847593 non-null  object \n",
      " 18  brand           841489 non-null  object \n",
      " 19  rank            847593 non-null  object \n",
      " 20  also_view       463371 non-null  object \n",
      " 21  main_cat        847593 non-null  object \n",
      " 22  price           847593 non-null  object \n",
      " 23  also_buy        726858 non-null  object \n",
      " 24  image_y         755354 non-null  object \n",
      " 25  date            12087 non-null   object \n",
      " 26  feature         142734 non-null  object \n",
      " 27  details         832985 non-null  object \n",
      " 28  similar_item    1138 non-null    object \n",
      " 29  tech1           4372 non-null    object \n",
      " 30  fit             0 non-null       object \n",
      "dtypes: float64(1), int32(1), int64(4), object(25)\n",
      "memory usage: 203.7+ MB\n"
     ]
    }
   ],
   "source": [
    "df.info()"
   ]
  },
  {
   "cell_type": "code",
   "execution_count": 98,
   "id": "occupational-sugar",
   "metadata": {
    "execution": {
     "iopub.execute_input": "2021-05-31T11:08:38.084226Z",
     "iopub.status.busy": "2021-05-31T11:08:38.083590Z",
     "iopub.status.idle": "2021-05-31T11:08:38.085907Z",
     "shell.execute_reply": "2021-05-31T11:08:38.086563Z",
     "shell.execute_reply.started": "2021-05-31T10:31:11.155885Z"
    },
    "papermill": {
     "duration": 0.187812,
     "end_time": "2021-05-31T11:08:38.086748",
     "exception": false,
     "start_time": "2021-05-31T11:08:37.898936",
     "status": "completed"
    },
    "tags": []
   },
   "outputs": [],
   "source": [
    "# df.drop(['reviewTime'], axis=1, inplace=True)"
   ]
  },
  {
   "cell_type": "code",
   "execution_count": 99,
   "id": "thousand-postage",
   "metadata": {
    "execution": {
     "iopub.execute_input": "2021-05-31T11:08:38.445889Z",
     "iopub.status.busy": "2021-05-31T11:08:38.445235Z",
     "iopub.status.idle": "2021-05-31T11:08:39.778464Z",
     "shell.execute_reply": "2021-05-31T11:08:39.779013Z",
     "shell.execute_reply.started": "2021-05-31T10:31:11.160988Z"
    },
    "papermill": {
     "duration": 1.514572,
     "end_time": "2021-05-31T11:08:39.779189",
     "exception": false,
     "start_time": "2021-05-31T11:08:38.264617",
     "status": "completed"
    },
    "tags": []
   },
   "outputs": [],
   "source": [
    "df.drop(['asin','reviewTime','reviewerName','style','reviewText','category','description','title',\n",
    "        'also_view','also_buy','image_x','image_y','date','feature','details','similar_item',\n",
    "         'tech1','fit','summary','brand'], axis=1, inplace=True)"
   ]
  },
  {
   "cell_type": "code",
   "execution_count": 100,
   "id": "happy-recall",
   "metadata": {
    "execution": {
     "iopub.execute_input": "2021-05-31T11:08:40.140478Z",
     "iopub.status.busy": "2021-05-31T11:08:40.139791Z",
     "iopub.status.idle": "2021-05-31T11:08:40.542340Z",
     "shell.execute_reply": "2021-05-31T11:08:40.542976Z",
     "shell.execute_reply.started": "2021-05-31T10:31:12.396375Z"
    },
    "papermill": {
     "duration": 0.586118,
     "end_time": "2021-05-31T11:08:40.543215",
     "exception": false,
     "start_time": "2021-05-31T11:08:39.957097",
     "status": "completed"
    },
    "tags": []
   },
   "outputs": [
    {
     "name": "stdout",
     "output_type": "stream",
     "text": [
      "<class 'pandas.core.frame.DataFrame'>\n",
      "Int64Index: 847593 entries, 0 to 847592\n",
      "Data columns (total 11 columns):\n",
      " #   Column          Non-Null Count   Dtype  \n",
      "---  ------          --------------   -----  \n",
      " 0   overall         847593 non-null  int32  \n",
      " 1   verified        847593 non-null  int64  \n",
      " 2   unixReviewTime  847593 non-null  object \n",
      " 3   vote            847593 non-null  object \n",
      " 4   userid          847593 non-null  int64  \n",
      " 5   itemid          847593 non-null  int64  \n",
      " 6   rating          847593 non-null  float64\n",
      " 7   sample          847593 non-null  int64  \n",
      " 8   rank            847593 non-null  object \n",
      " 9   main_cat        847593 non-null  object \n",
      " 10  price           847593 non-null  object \n",
      "dtypes: float64(1), int32(1), int64(4), object(5)\n",
      "memory usage: 74.4+ MB\n"
     ]
    }
   ],
   "source": [
    "df.info()"
   ]
  },
  {
   "cell_type": "markdown",
   "id": "monetary-thinking",
   "metadata": {
    "papermill": {
     "duration": 0.177097,
     "end_time": "2021-05-31T11:08:40.899567",
     "exception": false,
     "start_time": "2021-05-31T11:08:40.722470",
     "status": "completed"
    },
    "tags": []
   },
   "source": [
    "### Подробнее изучим оставшиеся признаки "
   ]
  },
  {
   "cell_type": "code",
   "execution_count": 101,
   "id": "designed-venture",
   "metadata": {
    "execution": {
     "iopub.execute_input": "2021-05-31T11:08:41.283971Z",
     "iopub.status.busy": "2021-05-31T11:08:41.282858Z",
     "iopub.status.idle": "2021-05-31T11:08:41.286223Z",
     "shell.execute_reply": "2021-05-31T11:08:41.285720Z",
     "shell.execute_reply.started": "2021-05-31T10:31:12.804164Z"
    },
    "papermill": {
     "duration": 0.191366,
     "end_time": "2021-05-31T11:08:41.286380",
     "exception": false,
     "start_time": "2021-05-31T11:08:41.095014",
     "status": "completed"
    },
    "tags": []
   },
   "outputs": [],
   "source": [
    "from itertools import combinations\n",
    "from scipy.stats import ttest_ind"
   ]
  },
  {
   "cell_type": "code",
   "execution_count": 102,
   "id": "worthy-glenn",
   "metadata": {
    "execution": {
     "iopub.execute_input": "2021-05-31T11:08:41.661350Z",
     "iopub.status.busy": "2021-05-31T11:08:41.660685Z",
     "iopub.status.idle": "2021-05-31T11:08:41.663692Z",
     "shell.execute_reply": "2021-05-31T11:08:41.663174Z",
     "shell.execute_reply.started": "2021-05-31T10:31:12.811933Z"
    },
    "papermill": {
     "duration": 0.194273,
     "end_time": "2021-05-31T11:08:41.663833",
     "exception": false,
     "start_time": "2021-05-31T11:08:41.469560",
     "status": "completed"
    },
    "tags": []
   },
   "outputs": [],
   "source": [
    "def get_boxplot(column):\n",
    "    fig, ax = plt.subplots(figsize = (14, 4))\n",
    "    sns.boxplot(x=column, y='overall', \n",
    "                data=df.loc[df.loc[:, column].isin(df.loc[:, column].value_counts().index[:10])],\n",
    "               ax=ax)\n",
    "    plt.xticks(rotation=45)\n",
    "    ax.set_title('Boxplot for ' + column)\n",
    "    plt.show()"
   ]
  },
  {
   "cell_type": "code",
   "execution_count": 103,
   "id": "accepted-shakespeare",
   "metadata": {
    "execution": {
     "iopub.execute_input": "2021-05-31T11:08:42.080320Z",
     "iopub.status.busy": "2021-05-31T11:08:42.076202Z",
     "iopub.status.idle": "2021-05-31T11:08:49.106940Z",
     "shell.execute_reply": "2021-05-31T11:08:49.106348Z",
     "shell.execute_reply.started": "2021-05-31T10:31:12.823994Z"
    },
    "papermill": {
     "duration": 7.26594,
     "end_time": "2021-05-31T11:08:49.107079",
     "exception": false,
     "start_time": "2021-05-31T11:08:41.841139",
     "status": "completed"
    },
    "tags": []
   },
   "outputs": [
    {
     "data": {
      "image/png": "[encoded data removed]",
      "text/plain": [
       "<Figure size 1008x288 with 1 Axes>"
      ]
     },
     "metadata": {
      "needs_background": "light"
     },
     "output_type": "display_data"
    },
    {
     "data": {
      "image/png": "[encoded data removed]",
      "text/plain": [
       "<Figure size 1008x288 with 1 Axes>"
      ]
     },
     "metadata": {
      "needs_background": "light"
     },
     "output_type": "display_data"
    },
    {
     "data": {
      "image/png": "[encoded data removed]",
      "text/plain": [
       "<Figure size 1008x288 with 1 Axes>"
      ]
     },
     "metadata": {
      "needs_background": "light"
     },
     "output_type": "display_data"
    },
    {
     "data": {
      "image/png": "[encoded data removed]",
      "text/plain": [
       "<Figure size 1008x288 with 1 Axes>"
      ]
     },
     "metadata": {
      "needs_background": "light"
     },
     "output_type": "display_data"
    },
    {
     "data": {
      "image/png": "[encoded data removed]",
      "text/plain": [
       "<Figure size 1008x288 with 1 Axes>"
      ]
     },
     "metadata": {
      "needs_background": "light"
     },
     "output_type": "display_data"
    },
    {
     "data": {
      "image/png": "[encoded data removed]",
      "text/plain": [
       "<Figure size 1008x288 with 1 Axes>"
      ]
     },
     "metadata": {
      "needs_background": "light"
     },
     "output_type": "display_data"
    }
   ],
   "source": [
    "for col in ['verified', 'unixReviewTime', 'vote', 'rank', 'main_cat', 'price']:\n",
    "    get_boxplot(col)"
   ]
  },
  {
   "cell_type": "code",
   "execution_count": 104,
   "id": "completed-anthropology",
   "metadata": {
    "execution": {
     "iopub.execute_input": "2021-05-31T11:08:49.481150Z",
     "iopub.status.busy": "2021-05-31T11:08:49.480501Z",
     "iopub.status.idle": "2021-05-31T11:08:52.531931Z",
     "shell.execute_reply": "2021-05-31T11:08:52.530608Z",
     "shell.execute_reply.started": "2021-05-31T10:31:19.899204Z"
    },
    "papermill": {
     "duration": 3.240908,
     "end_time": "2021-05-31T11:08:52.532086",
     "exception": false,
     "start_time": "2021-05-31T11:08:49.291178",
     "status": "completed"
    },
    "tags": []
   },
   "outputs": [
    {
     "name": "stdout",
     "output_type": "stream",
     "text": [
      "Найдены статистически значимые различия для колонки verified\n",
      "Найдены статистически значимые различия для колонки unixReviewTime\n",
      "Найдены статистически значимые различия для колонки vote\n",
      "Найдены статистически значимые различия для колонки rank\n",
      "Найдены статистически значимые различия для колонки main_cat\n",
      "Найдены статистически значимые различия для колонки price\n"
     ]
    }
   ],
   "source": [
    "def get_stat_dif(column):\n",
    "    cols = df.loc[:, column].value_counts().index[:10]\n",
    "    combinations_all = list(combinations(cols, 2))\n",
    "    for comb in combinations_all:\n",
    "        if ttest_ind(df.loc[df.loc[:, column] == comb[0], 'overall'], \n",
    "                        df.loc[df.loc[:, column] == comb[1], 'overall']).pvalue \\\n",
    "            <= 0.05/len(combinations_all): # Учли поправку Бонферони\n",
    "            print('Найдены статистически значимые различия для колонки', column)\n",
    "            break\n",
    "\n",
    "for col in ['verified', 'unixReviewTime', 'vote', 'rank', 'main_cat', 'price']:\n",
    "    get_stat_dif(col)            "
   ]
  },
  {
   "cell_type": "code",
   "execution_count": 105,
   "id": "adolescent-direction",
   "metadata": {
    "execution": {
     "iopub.execute_input": "2021-05-31T11:08:52.984043Z",
     "iopub.status.busy": "2021-05-31T11:08:52.910085Z",
     "iopub.status.idle": "2021-05-31T11:08:52.988668Z",
     "shell.execute_reply": "2021-05-31T11:08:52.989220Z",
     "shell.execute_reply.started": "2021-05-31T10:31:22.997690Z"
    },
    "papermill": {
     "duration": 0.274318,
     "end_time": "2021-05-31T11:08:52.989442",
     "exception": false,
     "start_time": "2021-05-31T11:08:52.715124",
     "status": "completed"
    },
    "tags": []
   },
   "outputs": [],
   "source": [
    "df = df.drop('overall', axis=1)"
   ]
  },
  {
   "cell_type": "code",
   "execution_count": 106,
   "id": "standard-release",
   "metadata": {
    "execution": {
     "iopub.execute_input": "2021-05-31T11:08:53.373135Z",
     "iopub.status.busy": "2021-05-31T11:08:53.372497Z",
     "iopub.status.idle": "2021-05-31T11:08:53.766530Z",
     "shell.execute_reply": "2021-05-31T11:08:53.766990Z",
     "shell.execute_reply.started": "2021-05-31T10:31:23.079238Z"
    },
    "papermill": {
     "duration": 0.583023,
     "end_time": "2021-05-31T11:08:53.767174",
     "exception": false,
     "start_time": "2021-05-31T11:08:53.184151",
     "status": "completed"
    },
    "tags": []
   },
   "outputs": [
    {
     "name": "stdout",
     "output_type": "stream",
     "text": [
      "<class 'pandas.core.frame.DataFrame'>\n",
      "Int64Index: 847593 entries, 0 to 847592\n",
      "Data columns (total 10 columns):\n",
      " #   Column          Non-Null Count   Dtype  \n",
      "---  ------          --------------   -----  \n",
      " 0   verified        847593 non-null  int64  \n",
      " 1   unixReviewTime  847593 non-null  object \n",
      " 2   vote            847593 non-null  object \n",
      " 3   userid          847593 non-null  int64  \n",
      " 4   itemid          847593 non-null  int64  \n",
      " 5   rating          847593 non-null  float64\n",
      " 6   sample          847593 non-null  int64  \n",
      " 7   rank            847593 non-null  object \n",
      " 8   main_cat        847593 non-null  object \n",
      " 9   price           847593 non-null  object \n",
      "dtypes: float64(1), int64(4), object(5)\n",
      "memory usage: 71.1+ MB\n"
     ]
    }
   ],
   "source": [
    "df.info()"
   ]
  },
  {
   "cell_type": "code",
   "execution_count": 107,
   "id": "found-suggestion",
   "metadata": {
    "execution": {
     "iopub.execute_input": "2021-05-31T11:08:54.149177Z",
     "iopub.status.busy": "2021-05-31T11:08:54.148531Z",
     "iopub.status.idle": "2021-05-31T11:08:54.385094Z",
     "shell.execute_reply": "2021-05-31T11:08:54.384406Z",
     "shell.execute_reply.started": "2021-05-31T10:31:23.488602Z"
    },
    "papermill": {
     "duration": 0.42952,
     "end_time": "2021-05-31T11:08:54.385239",
     "exception": false,
     "start_time": "2021-05-31T11:08:53.955719",
     "status": "completed"
    },
    "tags": []
   },
   "outputs": [],
   "source": [
    "import scipy.sparse as sparse\n",
    "\n",
    "from lightfm import LightFM\n",
    "from lightfm.cross_validation import random_train_test_split\n",
    "from lightfm.evaluation import auc_score, precision_at_k, recall_at_k\n",
    "import sklearn\n",
    "from sklearn.model_selection import train_test_split\n",
    "\n",
    "import scipy.sparse as sparse"
   ]
  },
  {
   "cell_type": "markdown",
   "id": "affected-macro",
   "metadata": {
    "papermill": {
     "duration": 0.187124,
     "end_time": "2021-05-31T11:08:54.759258",
     "exception": false,
     "start_time": "2021-05-31T11:08:54.572134",
     "status": "completed"
    },
    "tags": []
   },
   "source": [
    "## только на трейне "
   ]
  },
  {
   "cell_type": "markdown",
   "id": "apart-aspect",
   "metadata": {
    "papermill": {
     "duration": 0.186249,
     "end_time": "2021-05-31T11:08:55.130583",
     "exception": false,
     "start_time": "2021-05-31T11:08:54.944334",
     "status": "completed"
    },
    "tags": []
   },
   "source": [
    "(Используется train, который разбивается на обучающую и тестовую выборки)"
   ]
  },
  {
   "cell_type": "code",
   "execution_count": 108,
   "id": "referenced-radius",
   "metadata": {
    "execution": {
     "iopub.execute_input": "2021-05-31T11:08:55.558589Z",
     "iopub.status.busy": "2021-05-31T11:08:55.557858Z",
     "iopub.status.idle": "2021-05-31T11:09:36.200388Z",
     "shell.execute_reply": "2021-05-31T11:09:36.200912Z",
     "shell.execute_reply.started": "2021-05-31T10:31:23.714690Z"
    },
    "papermill": {
     "duration": 40.885133,
     "end_time": "2021-05-31T11:09:36.201143",
     "exception": false,
     "start_time": "2021-05-31T11:08:55.316010",
     "status": "completed"
    },
    "tags": []
   },
   "outputs": [
    {
     "data": {
      "text/plain": [
       "0.7287881546546974"
      ]
     },
     "execution_count": 108,
     "metadata": {},
     "output_type": "execute_result"
    }
   ],
   "source": [
    "train_data, test_data = train_test_split(train,random_state=32, shuffle=True)\n",
    "\n",
    "ratings_coo = sparse.coo_matrix((train_data['rating'].astype(int),\n",
    "                                 (train_data['userid'],\n",
    "                                  train_data['itemid'],)))\n",
    "\n",
    "LR = 0.089\n",
    "NUM_THREADS = 12 #число потоков\n",
    "NUM_COMPONENTS = 160 #число параметров вектора \n",
    "NUM_EPOCHS = 25 #число эпох обучения\n",
    "LEARNING_SCHEDULE = 'adagrad'\n",
    "LOSS_FUNCTION = 'logistic'\n",
    "RANDOM_STATE = 20\n",
    "\n",
    "model = LightFM(\n",
    "    learning_rate=LR,\n",
    "    loss=LOSS_FUNCTION,\n",
    "    no_components=NUM_COMPONENTS,\n",
    "    learning_schedule = LEARNING_SCHEDULE,\n",
    "    random_state = RANDOM_STATE\n",
    ")\n",
    "model = model.fit(\n",
    "    ratings_coo,\n",
    "    epochs=NUM_EPOCHS,\n",
    "    num_threads=NUM_THREADS\n",
    ")\n",
    "\n",
    "preds = model.predict(test_data.userid.values,\n",
    "                      test_data.itemid.values)\n",
    "\n",
    "sklearn.metrics.roc_auc_score(test_data.rating,preds)"
   ]
  },
  {
   "cell_type": "code",
   "execution_count": 109,
   "id": "through-programmer",
   "metadata": {
    "execution": {
     "iopub.execute_input": "2021-05-31T11:09:36.579018Z",
     "iopub.status.busy": "2021-05-31T11:09:36.578294Z",
     "iopub.status.idle": "2021-05-31T11:09:36.890228Z",
     "shell.execute_reply": "2021-05-31T11:09:36.890733Z",
     "shell.execute_reply.started": "2021-05-31T10:32:06.148118Z"
    },
    "papermill": {
     "duration": 0.504447,
     "end_time": "2021-05-31T11:09:36.890923",
     "exception": false,
     "start_time": "2021-05-31T11:09:36.386476",
     "status": "completed"
    },
    "tags": []
   },
   "outputs": [
    {
     "data": {
      "image/png": "[encoded data removed]",
      "text/plain": [
       "<Figure size 432x288 with 1 Axes>"
      ]
     },
     "metadata": {
      "needs_background": "light"
     },
     "output_type": "display_data"
    }
   ],
   "source": [
    "from sklearn.metrics import roc_curve, roc_auc_score\n",
    "\n",
    "def show_roc_curve(y_true, y_pred_prob):\n",
    "    \"\"\"Функция отображает ROC-кривую\"\"\"\n",
    "    fpr, tpr, _ = roc_curve(y_true, y_pred_prob)\n",
    "    plt.figure()\n",
    "    plt.plot([0, 1], label='Случайный классификатор', linestyle='--')\n",
    "    plt.plot(fpr, tpr, label = 'LightFM')\n",
    "    plt.title('ROC AUC = %0.3f' % roc_auc_score(y_true, y_pred_prob))\n",
    "    plt.ylabel('True Positive Rate')\n",
    "    plt.xlabel('False Positive Rate')\n",
    "    plt.legend(loc = 'lower right')\n",
    "    plt.show()\n",
    "    \n",
    "    \n",
    "    \n",
    "show_roc_curve(test_data.rating, preds) "
   ]
  },
  {
   "cell_type": "code",
   "execution_count": 110,
   "id": "sought-navigator",
   "metadata": {
    "execution": {
     "iopub.execute_input": "2021-05-31T11:09:37.298185Z",
     "iopub.status.busy": "2021-05-31T11:09:37.297536Z",
     "iopub.status.idle": "2021-05-31T11:09:37.300165Z",
     "shell.execute_reply": "2021-05-31T11:09:37.300705Z",
     "shell.execute_reply.started": "2021-05-31T10:32:06.469511Z"
    },
    "papermill": {
     "duration": 0.197524,
     "end_time": "2021-05-31T11:09:37.300873",
     "exception": false,
     "start_time": "2021-05-31T11:09:37.103349",
     "status": "completed"
    },
    "tags": []
   },
   "outputs": [
    {
     "data": {
      "text/plain": [
       "(207234,)"
      ]
     },
     "execution_count": 110,
     "metadata": {},
     "output_type": "execute_result"
    }
   ],
   "source": [
    "preds.shape"
   ]
  },
  {
   "cell_type": "markdown",
   "id": "white-season",
   "metadata": {
    "papermill": {
     "duration": 0.187107,
     "end_time": "2021-05-31T11:09:37.674984",
     "exception": false,
     "start_time": "2021-05-31T11:09:37.487877",
     "status": "completed"
    },
    "tags": []
   },
   "source": [
    "## на df "
   ]
  },
  {
   "cell_type": "markdown",
   "id": "cordless-acquisition",
   "metadata": {
    "papermill": {
     "duration": 0.186427,
     "end_time": "2021-05-31T11:09:38.047418",
     "exception": false,
     "start_time": "2021-05-31T11:09:37.860991",
     "status": "completed"
    },
    "tags": []
   },
   "source": [
    "(Берется объединенный df, который разбивается на тестовую и обучающую выборки)"
   ]
  },
  {
   "cell_type": "code",
   "execution_count": 111,
   "id": "aggressive-brand",
   "metadata": {
    "execution": {
     "iopub.execute_input": "2021-05-31T11:09:38.423587Z",
     "iopub.status.busy": "2021-05-31T11:09:38.422894Z",
     "iopub.status.idle": "2021-05-31T11:10:20.088853Z",
     "shell.execute_reply": "2021-05-31T11:10:20.089392Z",
     "shell.execute_reply.started": "2021-05-31T10:32:06.477195Z"
    },
    "papermill": {
     "duration": 41.855016,
     "end_time": "2021-05-31T11:10:20.089615",
     "exception": false,
     "start_time": "2021-05-31T11:09:38.234599",
     "status": "completed"
    },
    "tags": []
   },
   "outputs": [
    {
     "data": {
      "text/plain": [
       "0.7414473265837693"
      ]
     },
     "execution_count": 111,
     "metadata": {},
     "output_type": "execute_result"
    }
   ],
   "source": [
    "LEARNING_RATE = 0.089\n",
    "RANDOM_STATE = 42\n",
    "NUM_THREADS = 12\n",
    "NUM_COMPONENTS = 160 \n",
    "NUM_EPOCHS = 25\n",
    "LEARNING_SCHEDULE = 'adagrad'\n",
    "LOSS_FUNCTION = 'logistic'\n",
    "\n",
    "train1 = df.query('sample == 1').drop('sample', axis = 1)\n",
    "test1 = df.query('sample == 0').drop(['sample', 'rating'], axis = 1)\n",
    "\n",
    "train_data1, test_data1 = train_test_split(train1,\n",
    "                                         random_state = RANDOM_STATE, \n",
    "                                         shuffle = True)\n",
    "\n",
    "ratings_coo = sparse.coo_matrix((train_data1['rating'].astype(int), \n",
    "                                 (train_data1['userid'], \n",
    "                                  train_data1['itemid'])))\n",
    "\n",
    "model1 = LightFM(learning_rate = LEARNING_RATE, \n",
    "                loss = LOSS_FUNCTION,\n",
    "                no_components = NUM_COMPONENTS,\n",
    "                random_state = RANDOM_STATE,\n",
    "                learning_schedule = LEARNING_SCHEDULE)\n",
    "\n",
    "model1 = model1.fit(ratings_coo, \n",
    "                  epochs = NUM_EPOCHS, \n",
    "                  num_threads = NUM_THREADS)\n",
    "\n",
    "preds1 = model1.predict(test_data1.userid.values,\n",
    "                      test_data1.itemid.values)\n",
    "\n",
    "sklearn.metrics.roc_auc_score(test_data1.rating, preds1)"
   ]
  },
  {
   "cell_type": "code",
   "execution_count": 112,
   "id": "explicit-dividend",
   "metadata": {
    "execution": {
     "iopub.execute_input": "2021-05-31T11:10:20.473257Z",
     "iopub.status.busy": "2021-05-31T11:10:20.472588Z",
     "iopub.status.idle": "2021-05-31T11:10:20.802873Z",
     "shell.execute_reply": "2021-05-31T11:10:20.802377Z",
     "shell.execute_reply.started": "2021-05-31T10:32:49.328551Z"
    },
    "papermill": {
     "duration": 0.524374,
     "end_time": "2021-05-31T11:10:20.803012",
     "exception": false,
     "start_time": "2021-05-31T11:10:20.278638",
     "status": "completed"
    },
    "tags": []
   },
   "outputs": [
    {
     "data": {
      "image/png": "[encoded data removed]",
      "text/plain": [
       "<Figure size 432x288 with 1 Axes>"
      ]
     },
     "metadata": {
      "needs_background": "light"
     },
     "output_type": "display_data"
    }
   ],
   "source": [
    "from sklearn.metrics import roc_curve, roc_auc_score\n",
    "\n",
    "def show_roc_curve(y_true, y_pred_prob):\n",
    "    \"\"\"Функция отображает ROC-кривую\"\"\"\n",
    "    fpr, tpr, _ = roc_curve(y_true, y_pred_prob)\n",
    "    plt.figure()\n",
    "    plt.plot([0, 1], label='Случайный классификатор', linestyle='--')\n",
    "    plt.plot(fpr, tpr, label = 'LightFM')\n",
    "    plt.title('ROC AUC = %0.3f' % roc_auc_score(y_true, y_pred_prob))\n",
    "    plt.ylabel('True Positive Rate')\n",
    "    plt.xlabel('False Positive Rate')\n",
    "    plt.legend(loc = 'lower right')\n",
    "    plt.show()\n",
    "    \n",
    "    \n",
    "    \n",
    "show_roc_curve(test_data1.rating, preds1)  "
   ]
  },
  {
   "cell_type": "code",
   "execution_count": 113,
   "id": "cathedral-congo",
   "metadata": {
    "execution": {
     "iopub.execute_input": "2021-05-31T11:10:21.219037Z",
     "iopub.status.busy": "2021-05-31T11:10:21.218311Z",
     "iopub.status.idle": "2021-05-31T11:10:21.221339Z",
     "shell.execute_reply": "2021-05-31T11:10:21.221859Z",
     "shell.execute_reply.started": "2021-05-31T10:32:49.644701Z"
    },
    "papermill": {
     "duration": 0.203379,
     "end_time": "2021-05-31T11:10:21.222023",
     "exception": false,
     "start_time": "2021-05-31T11:10:21.018644",
     "status": "completed"
    },
    "tags": []
   },
   "outputs": [
    {
     "data": {
      "text/plain": [
       "(211899,)"
      ]
     },
     "execution_count": 113,
     "metadata": {},
     "output_type": "execute_result"
    }
   ],
   "source": [
    "preds1.shape"
   ]
  },
  {
   "cell_type": "markdown",
   "id": "consolidated-sending",
   "metadata": {
    "papermill": {
     "duration": 0.191305,
     "end_time": "2021-05-31T11:10:21.601180",
     "exception": false,
     "start_time": "2021-05-31T11:10:21.409875",
     "status": "completed"
    },
    "tags": []
   },
   "source": [
    "## на чистом трейне "
   ]
  },
  {
   "cell_type": "markdown",
   "id": "informal-royalty",
   "metadata": {
    "papermill": {
     "duration": 0.189388,
     "end_time": "2021-05-31T11:10:21.982633",
     "exception": false,
     "start_time": "2021-05-31T11:10:21.793245",
     "status": "completed"
    },
    "tags": []
   },
   "source": [
    "(обучаем на всем трейне)"
   ]
  },
  {
   "cell_type": "code",
   "execution_count": 114,
   "id": "surface-mountain",
   "metadata": {
    "execution": {
     "iopub.execute_input": "2021-05-31T11:10:22.365576Z",
     "iopub.status.busy": "2021-05-31T11:10:22.364913Z",
     "iopub.status.idle": "2021-05-31T11:11:15.014741Z",
     "shell.execute_reply": "2021-05-31T11:11:15.014034Z",
     "shell.execute_reply.started": "2021-05-31T11:01:00.620962Z"
    },
    "papermill": {
     "duration": 52.84107,
     "end_time": "2021-05-31T11:11:15.014983",
     "exception": false,
     "start_time": "2021-05-31T11:10:22.173913",
     "status": "completed"
    },
    "tags": []
   },
   "outputs": [],
   "source": [
    "ratings_coo2 = sparse.coo_matrix((train['rating'].astype(int),\n",
    "                                 (train['userid'],\n",
    "                                  train['itemid'],)))\n",
    "\n",
    "# Обучим модель\n",
    "model2 = LightFM(\n",
    "    learning_rate=LR,\n",
    "    loss=LOSS_FUNCTION,\n",
    "    no_components=NUM_COMPONENTS,\n",
    "    learning_schedule = LEARNING_SCHEDULE,\n",
    "    random_state = RANDOM_STATE\n",
    ")\n",
    "model2 = model.fit(\n",
    "    ratings_coo2,\n",
    "    epochs=NUM_EPOCHS,\n",
    "    num_threads=NUM_THREADS\n",
    ")\n",
    "preds2 = model2.predict(test.userid.values,\n",
    "                      test.itemid.values)"
   ]
  },
  {
   "cell_type": "code",
   "execution_count": 115,
   "id": "essential-stocks",
   "metadata": {
    "execution": {
     "iopub.execute_input": "2021-05-31T11:11:15.399030Z",
     "iopub.status.busy": "2021-05-31T11:11:15.398400Z",
     "iopub.status.idle": "2021-05-31T11:11:15.401847Z",
     "shell.execute_reply": "2021-05-31T11:11:15.401278Z",
     "shell.execute_reply.started": "2021-05-31T11:01:54.659795Z"
    },
    "papermill": {
     "duration": 0.196138,
     "end_time": "2021-05-31T11:11:15.401979",
     "exception": false,
     "start_time": "2021-05-31T11:11:15.205841",
     "status": "completed"
    },
    "tags": []
   },
   "outputs": [],
   "source": [
    "#sklearn.metrics.roc_auc_score(test.rating, preds2)"
   ]
  },
  {
   "cell_type": "code",
   "execution_count": 116,
   "id": "directed-graduation",
   "metadata": {
    "execution": {
     "iopub.execute_input": "2021-05-31T11:11:15.785654Z",
     "iopub.status.busy": "2021-05-31T11:11:15.784749Z",
     "iopub.status.idle": "2021-05-31T11:11:15.789112Z",
     "shell.execute_reply": "2021-05-31T11:11:15.788502Z",
     "shell.execute_reply.started": "2021-05-31T11:01:54.666848Z"
    },
    "papermill": {
     "duration": 0.197583,
     "end_time": "2021-05-31T11:11:15.789246",
     "exception": false,
     "start_time": "2021-05-31T11:11:15.591663",
     "status": "completed"
    },
    "tags": []
   },
   "outputs": [
    {
     "data": {
      "text/plain": [
       "(285965,)"
      ]
     },
     "execution_count": 116,
     "metadata": {},
     "output_type": "execute_result"
    }
   ],
   "source": [
    "preds2.shape"
   ]
  },
  {
   "cell_type": "code",
   "execution_count": 117,
   "id": "divine-affiliation",
   "metadata": {
    "execution": {
     "iopub.execute_input": "2021-05-31T11:11:16.202869Z",
     "iopub.status.busy": "2021-05-31T11:11:16.201802Z",
     "iopub.status.idle": "2021-05-31T11:11:17.046690Z",
     "shell.execute_reply": "2021-05-31T11:11:17.046137Z",
     "shell.execute_reply.started": "2021-05-31T11:01:54.682709Z"
    },
    "papermill": {
     "duration": 1.049197,
     "end_time": "2021-05-31T11:11:17.046839",
     "exception": false,
     "start_time": "2021-05-31T11:11:15.997642",
     "status": "completed"
    },
    "tags": []
   },
   "outputs": [],
   "source": [
    "normalized_preds = (preds2 - preds2.min())/(preds2 - preds2.min()).max()\n",
    "submission['rating']= normalized_preds\n",
    "submission.to_csv('submission_1.csv', index=False)"
   ]
  },
  {
   "cell_type": "markdown",
   "id": "split-hanging",
   "metadata": {
    "papermill": {
     "duration": 0.18727,
     "end_time": "2021-05-31T11:11:17.424558",
     "exception": false,
     "start_time": "2021-05-31T11:11:17.237288",
     "status": "completed"
    },
    "tags": []
   },
   "source": [
    "## Feature engineering"
   ]
  },
  {
   "cell_type": "code",
   "execution_count": 118,
   "id": "elect-gates",
   "metadata": {
    "execution": {
     "iopub.execute_input": "2021-05-31T11:11:17.807102Z",
     "iopub.status.busy": "2021-05-31T11:11:17.806486Z",
     "iopub.status.idle": "2021-05-31T11:11:19.635942Z",
     "shell.execute_reply": "2021-05-31T11:11:19.636831Z",
     "shell.execute_reply.started": "2021-05-31T10:33:45.358110Z"
    },
    "papermill": {
     "duration": 2.023953,
     "end_time": "2021-05-31T11:11:19.637077",
     "exception": false,
     "start_time": "2021-05-31T11:11:17.613124",
     "status": "completed"
    },
    "tags": []
   },
   "outputs": [
    {
     "name": "stdout",
     "output_type": "stream",
     "text": [
      "<class 'pandas.core.frame.DataFrame'>\n",
      "Int64Index: 847593 entries, 0 to 847592\n",
      "Data columns (total 31 columns):\n",
      " #   Column          Non-Null Count   Dtype  \n",
      "---  ------          --------------   -----  \n",
      " 0   overall         847593 non-null  int32  \n",
      " 1   verified        847593 non-null  int64  \n",
      " 2   reviewTime      847593 non-null  object \n",
      " 3   asin            847593 non-null  object \n",
      " 4   reviewerName    847425 non-null  object \n",
      " 5   reviewText      847315 non-null  object \n",
      " 6   summary         847426 non-null  object \n",
      " 7   unixReviewTime  847593 non-null  object \n",
      " 8   vote            847593 non-null  object \n",
      " 9   style           440351 non-null  object \n",
      " 10  image_x         7138 non-null    object \n",
      " 11  userid          847593 non-null  int64  \n",
      " 12  itemid          847593 non-null  int64  \n",
      " 13  rating          847593 non-null  float64\n",
      " 14  sample          847593 non-null  int64  \n",
      " 15  category        847593 non-null  object \n",
      " 16  description     776098 non-null  object \n",
      " 17  title           847593 non-null  object \n",
      " 18  brand           841489 non-null  object \n",
      " 19  rank            847593 non-null  object \n",
      " 20  also_view       463371 non-null  object \n",
      " 21  main_cat        847593 non-null  object \n",
      " 22  price           847593 non-null  object \n",
      " 23  also_buy        726858 non-null  object \n",
      " 24  image_y         755354 non-null  object \n",
      " 25  date            12087 non-null   object \n",
      " 26  feature         142734 non-null  object \n",
      " 27  details         832985 non-null  object \n",
      " 28  similar_item    1138 non-null    object \n",
      " 29  tech1           4372 non-null    object \n",
      " 30  fit             0 non-null       object \n",
      "dtypes: float64(1), int32(1), int64(4), object(25)\n",
      "memory usage: 203.7+ MB\n"
     ]
    }
   ],
   "source": [
    "df1.info()"
   ]
  },
  {
   "cell_type": "markdown",
   "id": "incorrect-shore",
   "metadata": {
    "papermill": {
     "duration": 0.189683,
     "end_time": "2021-05-31T11:11:20.028161",
     "exception": false,
     "start_time": "2021-05-31T11:11:19.838478",
     "status": "completed"
    },
    "tags": []
   },
   "source": [
    "### Добавим несколько дат "
   ]
  },
  {
   "cell_type": "code",
   "execution_count": 119,
   "id": "outdoor-audience",
   "metadata": {
    "execution": {
     "iopub.execute_input": "2021-05-31T11:11:20.418250Z",
     "iopub.status.busy": "2021-05-31T11:11:20.417604Z",
     "iopub.status.idle": "2021-05-31T11:11:23.832151Z",
     "shell.execute_reply": "2021-05-31T11:11:23.831494Z",
     "shell.execute_reply.started": "2021-05-31T10:33:47.226242Z"
    },
    "papermill": {
     "duration": 3.613996,
     "end_time": "2021-05-31T11:11:23.832310",
     "exception": false,
     "start_time": "2021-05-31T11:11:20.218314",
     "status": "completed"
    },
    "tags": []
   },
   "outputs": [],
   "source": [
    "df_f['datetime'] = pd.to_datetime(df_f.reviewTime, format='%m %d, %Y')"
   ]
  },
  {
   "cell_type": "code",
   "execution_count": 120,
   "id": "identical-palestine",
   "metadata": {
    "execution": {
     "iopub.execute_input": "2021-05-31T11:11:24.221110Z",
     "iopub.status.busy": "2021-05-31T11:11:24.220470Z",
     "iopub.status.idle": "2021-05-31T11:11:25.600599Z",
     "shell.execute_reply": "2021-05-31T11:11:25.600047Z",
     "shell.execute_reply.started": "2021-05-31T10:33:50.574479Z"
    },
    "papermill": {
     "duration": 1.577835,
     "end_time": "2021-05-31T11:11:25.600788",
     "exception": false,
     "start_time": "2021-05-31T11:11:24.022953",
     "status": "completed"
    },
    "tags": []
   },
   "outputs": [
    {
     "data": {
      "text/html": [
       "<div>\n",
       "<style scoped>\n",
       "    .dataframe tbody tr th:only-of-type {\n",
       "        vertical-align: middle;\n",
       "    }\n",
       "\n",
       "    .dataframe tbody tr th {\n",
       "        vertical-align: top;\n",
       "    }\n",
       "\n",
       "    .dataframe thead th {\n",
       "        text-align: right;\n",
       "    }\n",
       "</style>\n",
       "<table border=\"1\" class=\"dataframe\">\n",
       "  <thead>\n",
       "    <tr style=\"text-align: right;\">\n",
       "      <th></th>\n",
       "      <th>overall</th>\n",
       "      <th>verified</th>\n",
       "      <th>reviewTime</th>\n",
       "      <th>asin</th>\n",
       "      <th>reviewerName</th>\n",
       "      <th>reviewText</th>\n",
       "      <th>summary</th>\n",
       "      <th>unixReviewTime</th>\n",
       "      <th>vote</th>\n",
       "      <th>style</th>\n",
       "      <th>image_x</th>\n",
       "      <th>userid</th>\n",
       "      <th>itemid</th>\n",
       "      <th>rating</th>\n",
       "      <th>sample</th>\n",
       "      <th>category</th>\n",
       "      <th>description</th>\n",
       "      <th>title</th>\n",
       "      <th>brand</th>\n",
       "      <th>rank</th>\n",
       "      <th>also_view</th>\n",
       "      <th>main_cat</th>\n",
       "      <th>price</th>\n",
       "      <th>also_buy</th>\n",
       "      <th>image_y</th>\n",
       "      <th>date</th>\n",
       "      <th>feature</th>\n",
       "      <th>details</th>\n",
       "      <th>similar_item</th>\n",
       "      <th>tech1</th>\n",
       "      <th>fit</th>\n",
       "      <th>datetime</th>\n",
       "      <th>review_year</th>\n",
       "      <th>review_month</th>\n",
       "      <th>review_day</th>\n",
       "    </tr>\n",
       "  </thead>\n",
       "  <tbody>\n",
       "    <tr>\n",
       "      <th>737595</th>\n",
       "      <td>4</td>\n",
       "      <td>1</td>\n",
       "      <td>12 30, 2016</td>\n",
       "      <td>B0104L8WN6</td>\n",
       "      <td>Verl</td>\n",
       "      <td>Better than tea bags, So far OK</td>\n",
       "      <td>Reusable. I do it three times</td>\n",
       "      <td>new</td>\n",
       "      <td>no_rate</td>\n",
       "      <td>{'Size:': ' 4oz / 110g'}</td>\n",
       "      <td>NaN</td>\n",
       "      <td>44934</td>\n",
       "      <td>34403</td>\n",
       "      <td>1.0</td>\n",
       "      <td>1</td>\n",
       "      <td>[Grocery &amp; Gourmet Food, Beverages, Coffee, Te...</td>\n",
       "      <td>[Imperial Ren Shen Ginseng Oolong is composed ...</td>\n",
       "      <td>Tealyra - Imperial Ginseng Ren Shen - Oolong L...</td>\n",
       "      <td>Tealyra</td>\n",
       "      <td>low</td>\n",
       "      <td>NaN</td>\n",
       "      <td>Grocery</td>\n",
       "      <td>high</td>\n",
       "      <td>[B00JJU3KWW, B0719GQCQ5, B01FCEIA00, B00OU2AE4...</td>\n",
       "      <td>[https://images-na.ssl-images-amazon.com/image...</td>\n",
       "      <td>NaN</td>\n",
       "      <td>NaN</td>\n",
       "      <td>\\n\\n\\n\\n\\n\\n    &lt;div class=\"disclaim\"&gt;Size: &lt;s...</td>\n",
       "      <td>NaN</td>\n",
       "      <td>NaN</td>\n",
       "      <td>NaN</td>\n",
       "      <td>2016-12-30</td>\n",
       "      <td>2016</td>\n",
       "      <td>12</td>\n",
       "      <td>30</td>\n",
       "    </tr>\n",
       "  </tbody>\n",
       "</table>\n",
       "</div>"
      ],
      "text/plain": [
       "        overall  verified   reviewTime        asin reviewerName  \\\n",
       "737595        4         1  12 30, 2016  B0104L8WN6         Verl   \n",
       "\n",
       "                             reviewText                        summary  \\\n",
       "737595  Better than tea bags, So far OK  Reusable. I do it three times   \n",
       "\n",
       "       unixReviewTime     vote                     style image_x  userid  \\\n",
       "737595            new  no_rate  {'Size:': ' 4oz / 110g'}     NaN   44934   \n",
       "\n",
       "        itemid  rating  sample  \\\n",
       "737595   34403     1.0       1   \n",
       "\n",
       "                                                 category  \\\n",
       "737595  [Grocery & Gourmet Food, Beverages, Coffee, Te...   \n",
       "\n",
       "                                              description  \\\n",
       "737595  [Imperial Ren Shen Ginseng Oolong is composed ...   \n",
       "\n",
       "                                                    title    brand rank  \\\n",
       "737595  Tealyra - Imperial Ginseng Ren Shen - Oolong L...  Tealyra  low   \n",
       "\n",
       "       also_view main_cat price  \\\n",
       "737595       NaN  Grocery  high   \n",
       "\n",
       "                                                 also_buy  \\\n",
       "737595  [B00JJU3KWW, B0719GQCQ5, B01FCEIA00, B00OU2AE4...   \n",
       "\n",
       "                                                  image_y date feature  \\\n",
       "737595  [https://images-na.ssl-images-amazon.com/image...  NaN     NaN   \n",
       "\n",
       "                                                  details similar_item tech1  \\\n",
       "737595  \\n\\n\\n\\n\\n\\n    <div class=\"disclaim\">Size: <s...          NaN   NaN   \n",
       "\n",
       "        fit   datetime  review_year  review_month  review_day  \n",
       "737595  NaN 2016-12-30         2016            12          30  "
      ]
     },
     "execution_count": 120,
     "metadata": {},
     "output_type": "execute_result"
    }
   ],
   "source": [
    "df_f['review_year'] = df_f.datetime.dt.year\n",
    "df_f['review_month'] = df_f.datetime.dt.month\n",
    "df_f['review_day'] = df_f.datetime.dt.day\n",
    "#df_f['review_dayofweek'] = df_f.datetime.dt.dayofweek.astype(object)\n",
    "df_f.sample()"
   ]
  },
  {
   "cell_type": "markdown",
   "id": "casual-history",
   "metadata": {
    "papermill": {
     "duration": 0.19421,
     "end_time": "2021-05-31T11:11:25.985619",
     "exception": false,
     "start_time": "2021-05-31T11:11:25.791409",
     "status": "completed"
    },
    "tags": []
   },
   "source": [
    "### Поиграем с именами "
   ]
  },
  {
   "cell_type": "code",
   "execution_count": 121,
   "id": "collected-constraint",
   "metadata": {
    "execution": {
     "iopub.execute_input": "2021-05-31T11:11:26.703317Z",
     "iopub.status.busy": "2021-05-31T11:11:26.702565Z",
     "iopub.status.idle": "2021-05-31T11:11:26.920008Z",
     "shell.execute_reply": "2021-05-31T11:11:26.920711Z",
     "shell.execute_reply.started": "2021-05-31T10:33:52.026138Z"
    },
    "papermill": {
     "duration": 0.742551,
     "end_time": "2021-05-31T11:11:26.920947",
     "exception": false,
     "start_time": "2021-05-31T11:11:26.178396",
     "status": "completed"
    },
    "tags": []
   },
   "outputs": [
    {
     "data": {
      "text/plain": [
       "Amazon Customer       31346\n",
       "Kindle Customer        6128\n",
       "Linda                   729\n",
       "John                    714\n",
       "David                   606\n",
       "                      ...  \n",
       "Emily Gilroy              1\n",
       "Malikah J                 1\n",
       "American -Bonsai          1\n",
       "xxxxxxxxxxxxxxxxxx        1\n",
       "R. Schuhmacher            1\n",
       "Name: reviewerName, Length: 101207, dtype: int64"
      ]
     },
     "execution_count": 121,
     "metadata": {},
     "output_type": "execute_result"
    }
   ],
   "source": [
    "df_f.reviewerName.value_counts()"
   ]
  },
  {
   "cell_type": "code",
   "execution_count": 122,
   "id": "returning-toner",
   "metadata": {
    "execution": {
     "iopub.execute_input": "2021-05-31T11:11:27.344635Z",
     "iopub.status.busy": "2021-05-31T11:11:27.343962Z",
     "iopub.status.idle": "2021-05-31T11:11:27.872153Z",
     "shell.execute_reply": "2021-05-31T11:11:27.871617Z",
     "shell.execute_reply.started": "2021-05-31T10:33:52.575007Z"
    },
    "papermill": {
     "duration": 0.724569,
     "end_time": "2021-05-31T11:11:27.872318",
     "exception": false,
     "start_time": "2021-05-31T11:11:27.147749",
     "status": "completed"
    },
    "tags": []
   },
   "outputs": [],
   "source": [
    "def rev_name(x):\n",
    "    if x == 'Amazon Customer': x = 'Amazon'\n",
    "    elif  x == 'Kindle Customer': x = 'Kindle'\n",
    "    else:\n",
    "        x = 'Other'\n",
    "    return x      \n",
    "\n",
    "# Заменим значения в столбце на категории\n",
    "df_f.reviewerName = df_f.reviewerName.apply(lambda x: rev_name(x))"
   ]
  },
  {
   "cell_type": "markdown",
   "id": "designed-equipment",
   "metadata": {
    "papermill": {
     "duration": 0.189838,
     "end_time": "2021-05-31T11:11:28.254497",
     "exception": false,
     "start_time": "2021-05-31T11:11:28.064659",
     "status": "completed"
    },
    "tags": []
   },
   "source": [
    "## Расширим reviewText "
   ]
  },
  {
   "cell_type": "code",
   "execution_count": 123,
   "id": "worthy-cycling",
   "metadata": {
    "execution": {
     "iopub.execute_input": "2021-05-31T11:11:28.668087Z",
     "iopub.status.busy": "2021-05-31T11:11:28.667131Z",
     "iopub.status.idle": "2021-05-31T11:11:28.671197Z",
     "shell.execute_reply": "2021-05-31T11:11:28.669998Z",
     "shell.execute_reply.started": "2021-05-31T10:33:53.131935Z"
    },
    "papermill": {
     "duration": 0.215006,
     "end_time": "2021-05-31T11:11:28.671420",
     "exception": false,
     "start_time": "2021-05-31T11:11:28.456414",
     "status": "completed"
    },
    "tags": []
   },
   "outputs": [],
   "source": [
    "from collections import Counter"
   ]
  },
  {
   "cell_type": "code",
   "execution_count": 124,
   "id": "frozen-request",
   "metadata": {
    "execution": {
     "iopub.execute_input": "2021-05-31T11:11:29.091827Z",
     "iopub.status.busy": "2021-05-31T11:11:29.091064Z",
     "iopub.status.idle": "2021-05-31T11:12:19.655688Z",
     "shell.execute_reply": "2021-05-31T11:12:19.656435Z",
     "shell.execute_reply.started": "2021-05-31T10:33:53.137470Z"
    },
    "papermill": {
     "duration": 50.773606,
     "end_time": "2021-05-31T11:12:19.656662",
     "exception": false,
     "start_time": "2021-05-31T11:11:28.883056",
     "status": "completed"
    },
    "tags": []
   },
   "outputs": [
    {
     "name": "stdout",
     "output_type": "stream",
     "text": [
      "Всего слов  104774\n",
      "Топ 200 слов:  ['the', 'i', 'and', 'a', 'it', 'to', 'of', 'is', 'this', 'in', 'for', 'my', 'but', 'that', 'you', 'not', 'with', 'good', 'are', 'have', 'as', 't', 'great', 'like', 'these', 'they', 's', 'so', 'was', 'on', 'taste', 'very', 'flavor', 'love', 'or', 'them', 'just', 'be', 'tea', 'can', 'coffee', 'product', 'one', 'if', 'at', 'all', 'will', 'more', 'use', 'from', 'me', 'than', 'when', 'has', 'really', 'we', 'too', 'some', 'would', 'no', 'had', 'price', 'out', 'get', 'much', 'other', 'don', 'buy', 'best', 'make', 'time', 'little', 'sugar', 'delicious', 'up', 'an', 'there', 'what', 'only', 've', 'chocolate', 'also', 'about', 'better', 'were', 'again', 'well', 'm', 'your', 'because', 'do', 'which', 'am', 'nice', 'tastes', 'sweet', 'used', 'tried', 'fresh', 'find', 'even', 'by', 'been', 'try', 'water', 'amazon', 'any', 'favorite', 'bag', 'eat', 'cup', 'now', 'quality', 'add', 'after', 'way', '2', 'free', 'bit', 'bought', 'salt', 'tasty', 'made', 'organic', 'stuff', 'brand', 'then', '1', 'drink', 'oil', 'go', 'flavors', 'perfect', 'first', 'order', 'many', 'box', 're', 'mix', 'always', 'think', 'hot', 'snack', 'found', 'excellent', 'over', 'still', 'lot', 'milk', 'their', 'makes', 'most', 'its', 'coconut', 'want', 'store', 'our', 'food', 'day', 'recommend', 'could', 'without', 'know', 'does', '3', 'did', 'into', 'need', 'butter', 'since', 'how', 'tasting', 'before', 'easy', 'keep', 'using', 'two', 'who', 'never', '5', 'different', 'got', 'didn', 'every', 'something', 'right', 'healthy', 'strong', 'few', 'less', 'ever', 'enough', 'bars', 'put', 'hard', 'long', 'say', 'small', 'wonderful', 'same']\n"
     ]
    }
   ],
   "source": [
    "\n",
    "# Зададим переменной количество наиболее частов встречающихся слов, которое хотим оставить\n",
    "N_WORDS = 200\n",
    "\n",
    "# Приведем значения к str\n",
    "df_f['reviewText']=df_f['reviewText'].astype('str')\n",
    "# Разбиваем reviewText на список слов, предварительно приводим текст к нижнему регистру\n",
    "df_f['reviewText']=df_f['reviewText'].apply(lambda x: re.sub(\"[^\\w]\", \" \",  x.lower()).split())\n",
    "                                        \n",
    "# Создаем пустой список, в который будут добавляться все слова\n",
    "all_words = []\n",
    "\n",
    "# Добавляем слова каждой записи в общий список\n",
    "for words in df_f.reviewText:\n",
    "    # разбиваем текст на слова, предварительно приводим к нижнему регистру\n",
    "    all_words.extend(words)\n",
    "\n",
    "# Считаем частоту слов в датасете\n",
    "cnt = Counter()\n",
    "for word in all_words:\n",
    "    cnt[word] +=1\n",
    "    \n",
    "#Оставим топ N_WORDS слов\n",
    "top_words = []\n",
    "for i in range (0, len(cnt.most_common(N_WORDS))):\n",
    "    words = cnt.most_common(N_WORDS)[i][0]\n",
    "    top_words.append(words)\n",
    "    \n",
    "# Удаляем дубликаты из all_words\n",
    "all_words = list(dict.fromkeys(all_words))\n",
    "\n",
    "print('Всего слов ', len(all_words))\n",
    "print('Топ', N_WORDS, 'слов: ',top_words)"
   ]
  },
  {
   "cell_type": "code",
   "execution_count": 125,
   "id": "thermal-module",
   "metadata": {
    "execution": {
     "iopub.execute_input": "2021-05-31T11:12:20.045383Z",
     "iopub.status.busy": "2021-05-31T11:12:20.044665Z",
     "iopub.status.idle": "2021-05-31T11:12:20.048293Z",
     "shell.execute_reply": "2021-05-31T11:12:20.047765Z",
     "shell.execute_reply.started": "2021-05-31T10:34:46.192412Z"
    },
    "papermill": {
     "duration": 0.200841,
     "end_time": "2021-05-31T11:12:20.048440",
     "exception": false,
     "start_time": "2021-05-31T11:12:19.847599",
     "status": "completed"
    },
    "tags": []
   },
   "outputs": [],
   "source": [
    "top_word_list = ['good','great','like','so','taste','very','flavor','love','tea','product','coffee','more','really',\n",
    "                 'price','much','buy','best','make','time','sugar','little','delicious','only','chocolate','better',\n",
    "                 'again','well','nice','tastes','sweet','fresh','favorite','eat','cup','now','quality','tasty',\n",
    "    'salt','organic','brand','flavors','oil','perfect','first','order','many','box','mix','always','hot',\n",
    "]"
   ]
  },
  {
   "cell_type": "code",
   "execution_count": null,
   "id": "genetic-familiar",
   "metadata": {
    "papermill": {
     "duration": 0.193327,
     "end_time": "2021-05-31T11:12:20.432290",
     "exception": false,
     "start_time": "2021-05-31T11:12:20.238963",
     "status": "completed"
    },
    "tags": []
   },
   "outputs": [],
   "source": []
  },
  {
   "cell_type": "code",
   "execution_count": 126,
   "id": "rolled-creature",
   "metadata": {
    "execution": {
     "iopub.execute_input": "2021-05-31T11:12:20.816563Z",
     "iopub.status.busy": "2021-05-31T11:12:20.815901Z",
     "iopub.status.idle": "2021-05-31T11:12:23.180728Z",
     "shell.execute_reply": "2021-05-31T11:12:23.180145Z",
     "shell.execute_reply.started": "2021-05-31T10:34:46.200369Z"
    },
    "papermill": {
     "duration": 2.557559,
     "end_time": "2021-05-31T11:12:23.180871",
     "exception": false,
     "start_time": "2021-05-31T11:12:20.623312",
     "status": "completed"
    },
    "tags": []
   },
   "outputs": [],
   "source": [
    "#Функция, которая присваивает 1, если в описании есть слово из топ-списка, 0 - если нет.\n",
    "def if_in_top_word(words):\n",
    "    for word in words:\n",
    "        if word in top_word_list:\n",
    "            return 1\n",
    "        else:\n",
    "            return 0\n",
    "        \n",
    "df_f['reviewText'] = df_f['reviewText'].apply(lambda x: if_in_top_word(x))       "
   ]
  },
  {
   "cell_type": "code",
   "execution_count": 127,
   "id": "promising-arrest",
   "metadata": {
    "execution": {
     "iopub.execute_input": "2021-05-31T11:12:23.567031Z",
     "iopub.status.busy": "2021-05-31T11:12:23.566357Z",
     "iopub.status.idle": "2021-05-31T11:12:23.583438Z",
     "shell.execute_reply": "2021-05-31T11:12:23.583992Z",
     "shell.execute_reply.started": "2021-05-31T10:34:48.810661Z"
    },
    "papermill": {
     "duration": 0.212549,
     "end_time": "2021-05-31T11:12:23.584159",
     "exception": false,
     "start_time": "2021-05-31T11:12:23.371610",
     "status": "completed"
    },
    "tags": []
   },
   "outputs": [
    {
     "data": {
      "text/plain": [
       "0.0    621599\n",
       "1.0    225713\n",
       "Name: reviewText, dtype: int64"
      ]
     },
     "execution_count": 127,
     "metadata": {},
     "output_type": "execute_result"
    }
   ],
   "source": [
    "df_f['reviewText'].value_counts()"
   ]
  },
  {
   "cell_type": "code",
   "execution_count": 128,
   "id": "incredible-arkansas",
   "metadata": {
    "execution": {
     "iopub.execute_input": "2021-05-31T11:12:23.970525Z",
     "iopub.status.busy": "2021-05-31T11:12:23.969889Z",
     "iopub.status.idle": "2021-05-31T11:12:23.980770Z",
     "shell.execute_reply": "2021-05-31T11:12:23.981338Z",
     "shell.execute_reply.started": "2021-05-31T10:34:48.834474Z"
    },
    "papermill": {
     "duration": 0.204431,
     "end_time": "2021-05-31T11:12:23.981510",
     "exception": false,
     "start_time": "2021-05-31T11:12:23.777079",
     "status": "completed"
    },
    "tags": []
   },
   "outputs": [],
   "source": [
    "df_f['reviewText']=df_f.reviewText.fillna(1)"
   ]
  },
  {
   "cell_type": "markdown",
   "id": "lined-harvard",
   "metadata": {
    "papermill": {
     "duration": 0.190049,
     "end_time": "2021-05-31T11:12:24.360933",
     "exception": false,
     "start_time": "2021-05-31T11:12:24.170884",
     "status": "completed"
    },
    "tags": []
   },
   "source": [
    "## Расширим Category "
   ]
  },
  {
   "cell_type": "code",
   "execution_count": 129,
   "id": "lined-missile",
   "metadata": {
    "execution": {
     "iopub.execute_input": "2021-05-31T11:12:24.746866Z",
     "iopub.status.busy": "2021-05-31T11:12:24.746190Z",
     "iopub.status.idle": "2021-05-31T11:12:24.755708Z",
     "shell.execute_reply": "2021-05-31T11:12:24.756359Z",
     "shell.execute_reply.started": "2021-05-31T10:34:48.850573Z"
    },
    "papermill": {
     "duration": 0.205736,
     "end_time": "2021-05-31T11:12:24.756545",
     "exception": false,
     "start_time": "2021-05-31T11:12:24.550809",
     "status": "completed"
    },
    "tags": []
   },
   "outputs": [
    {
     "data": {
      "text/plain": [
       "0         [Grocery & Gourmet Food, Herbs, Spices & Seaso...\n",
       "1         [Grocery & Gourmet Food, Herbs, Spices & Seaso...\n",
       "2         [Grocery & Gourmet Food, Herbs, Spices & Seaso...\n",
       "3         [Grocery & Gourmet Food, Herbs, Spices & Seaso...\n",
       "4         [Grocery & Gourmet Food, Herbs, Spices & Seaso...\n",
       "                                ...                        \n",
       "847588    [Grocery & Gourmet Food, Candy & Chocolate, Ca...\n",
       "847589    [Grocery & Gourmet Food, Jams, Jellies & Sweet...\n",
       "847590    [Grocery & Gourmet Food, Beverages, Coffee, Te...\n",
       "847591    [Grocery & Gourmet Food, Beverages, Coffee, Te...\n",
       "847592    [Grocery & Gourmet Food, Canned, Jarred & Pack...\n",
       "Name: category, Length: 847593, dtype: object"
      ]
     },
     "execution_count": 129,
     "metadata": {},
     "output_type": "execute_result"
    }
   ],
   "source": [
    "df_f.category"
   ]
  },
  {
   "cell_type": "code",
   "execution_count": 130,
   "id": "boxed-onion",
   "metadata": {
    "execution": {
     "iopub.execute_input": "2021-05-31T11:12:25.144803Z",
     "iopub.status.busy": "2021-05-31T11:12:25.144143Z",
     "iopub.status.idle": "2021-05-31T11:12:25.147903Z",
     "shell.execute_reply": "2021-05-31T11:12:25.148424Z",
     "shell.execute_reply.started": "2021-05-31T10:34:48.863328Z"
    },
    "papermill": {
     "duration": 0.201376,
     "end_time": "2021-05-31T11:12:25.148596",
     "exception": false,
     "start_time": "2021-05-31T11:12:24.947220",
     "status": "completed"
    },
    "tags": []
   },
   "outputs": [],
   "source": [
    "# # Зададим переменной количество категорий\n",
    "# N_CATS = 100\n",
    "\n",
    "# # Создаем пустой список, в который будут добавляться все категории\n",
    "# all_categories = []\n",
    "\n",
    "# # Добавляем категории каждой записи в общий список\n",
    "# for category in df_f.category:\n",
    "#     all_categories.extend(category)\n",
    "\n",
    "# # Считаем частоту категорий в датасете\n",
    "# cnt = Counter()\n",
    "# for word in all_categories:\n",
    "#     cnt[word] +=1\n",
    "    \n",
    "# #Оставим топ N_CATS категорий\n",
    "# top_cat = []\n",
    "# for i in range (0, len(cnt.most_common(N_CATS))):\n",
    "#     cat = cnt.most_common(N_CATS)[i][0]\n",
    "#     top_cat.append(cat)\n",
    "    \n",
    "# # Удаляем дубликаты из all_categories\n",
    "# all_categories = list(dict.fromkeys(all_categories))\n",
    "\n",
    "# print('Всего категорий: ', len(all_categories))\n",
    "# print('Топ', N_CATS, 'категорий: ',top_cat)"
   ]
  },
  {
   "cell_type": "markdown",
   "id": "white-probe",
   "metadata": {
    "papermill": {
     "duration": 0.189511,
     "end_time": "2021-05-31T11:12:25.528255",
     "exception": false,
     "start_time": "2021-05-31T11:12:25.338744",
     "status": "completed"
    },
    "tags": []
   },
   "source": [
    "## Расширим description "
   ]
  },
  {
   "cell_type": "code",
   "execution_count": 131,
   "id": "competent-quest",
   "metadata": {
    "execution": {
     "iopub.execute_input": "2021-05-31T11:12:25.914324Z",
     "iopub.status.busy": "2021-05-31T11:12:25.913626Z",
     "iopub.status.idle": "2021-05-31T11:12:25.917524Z",
     "shell.execute_reply": "2021-05-31T11:12:25.918076Z",
     "shell.execute_reply.started": "2021-05-31T10:34:48.875433Z"
    },
    "papermill": {
     "duration": 0.199326,
     "end_time": "2021-05-31T11:12:25.918234",
     "exception": false,
     "start_time": "2021-05-31T11:12:25.718908",
     "status": "completed"
    },
    "tags": []
   },
   "outputs": [],
   "source": [
    "# # Зададим переменной количество наиболее частов встречающихся слов, которое хотим оставить\n",
    "# N_WORDS = 200\n",
    "\n",
    "# # Сейчас в поле description список строк. Приведем к единой строке.\n",
    "# df_f['description']=df_f['description'].astype('str')\n",
    "\n",
    "# # Разбиваем description на список слов, предварительно приводим текст к нижнему регистру\n",
    "# df_f['description']=df_f['description'].apply(lambda x: re.sub(\"[^\\w]\", \" \",  x.lower()).split())\n",
    "                                        \n",
    "# # Создаем пустой список, в который будут добавляться все слова\n",
    "# all_words = []\n",
    "\n",
    "# # Добавляем слова каждой записи в общий список\n",
    "# for words in df_f['description']:\n",
    "#     # разбиваем текст на слова, предварительно приводим к нижнему регистру\n",
    "#     all_words.extend(words)\n",
    "\n",
    "# # Считаем частоту слов в датасете\n",
    "# cnt = Counter()\n",
    "# for word in all_words:\n",
    "#     cnt[word] +=1\n",
    "    \n",
    "# #Оставим топ N_WORDS слов\n",
    "# top_descr = []\n",
    "# for i in range (0, len(cnt.most_common(N_WORDS))):\n",
    "#     words = cnt.most_common(N_WORDS)[i][0]\n",
    "#     top_descr.append(words)\n",
    "    \n",
    "# # Удаляем дубликаты из all_words\n",
    "# all_words = list(dict.fromkeys(all_words))\n",
    "\n",
    "# print('Всего слов ', len(all_words))\n",
    "# print('Топ', N_WORDS, 'слов: ',top_descr)\n",
    "\n",
    "# top_word_list = ['health','treat','intended','disease','prevent','cure','dietary','diagnose','evaluated','statements','condition',\n",
    "#     'supplements','fda','organic','flavor','tea','natural','sugar','salt','water','oil','coffee','ingredients','milk','free',\n",
    "#     'products','chocolate','taste','cup','delicious','quality','flavors','soy','food','flour','acid','wheat', 'great',\n",
    "#     'powder','corn','nuts','rice','protein','coconut','gluten','butter','syrup','blend','high','best']\n",
    "\n"
   ]
  },
  {
   "cell_type": "code",
   "execution_count": 132,
   "id": "guided-massage",
   "metadata": {
    "execution": {
     "iopub.execute_input": "2021-05-31T11:12:26.301038Z",
     "iopub.status.busy": "2021-05-31T11:12:26.300445Z",
     "iopub.status.idle": "2021-05-31T11:12:26.304442Z",
     "shell.execute_reply": "2021-05-31T11:12:26.304965Z",
     "shell.execute_reply.started": "2021-05-31T10:34:48.885092Z"
    },
    "papermill": {
     "duration": 0.196621,
     "end_time": "2021-05-31T11:12:26.305129",
     "exception": false,
     "start_time": "2021-05-31T11:12:26.108508",
     "status": "completed"
    },
    "tags": []
   },
   "outputs": [],
   "source": [
    "# #Функция, которая присваивает 1, если в описании есть слово из топ-списка, 0 - если нет.\n",
    "# def if_in_top_descr(words):\n",
    "#     for word in words:\n",
    "#         if word in top_descr_list:\n",
    "#             return 1\n",
    "#         else:\n",
    "#             return 0\n",
    "        \n",
    "# df_f['description'] = df_f['description'].apply(lambda x: if_in_top_descr(x))  \n",
    "# df_f['description'].value_counts()\n"
   ]
  },
  {
   "cell_type": "markdown",
   "id": "biblical-arkansas",
   "metadata": {
    "papermill": {
     "duration": 0.191312,
     "end_time": "2021-05-31T11:12:26.685286",
     "exception": false,
     "start_time": "2021-05-31T11:12:26.493974",
     "status": "completed"
    },
    "tags": []
   },
   "source": [
    "## Расширим brand "
   ]
  },
  {
   "cell_type": "code",
   "execution_count": 133,
   "id": "buried-proof",
   "metadata": {
    "execution": {
     "iopub.execute_input": "2021-05-31T11:12:27.071770Z",
     "iopub.status.busy": "2021-05-31T11:12:27.071077Z",
     "iopub.status.idle": "2021-05-31T11:12:27.774895Z",
     "shell.execute_reply": "2021-05-31T11:12:27.774213Z",
     "shell.execute_reply.started": "2021-05-31T10:34:48.904212Z"
    },
    "papermill": {
     "duration": 0.89809,
     "end_time": "2021-05-31T11:12:27.775033",
     "exception": false,
     "start_time": "2021-05-31T11:12:26.876943",
     "status": "completed"
    },
    "tags": []
   },
   "outputs": [
    {
     "name": "stdout",
     "output_type": "stream",
     "text": [
      "Всего производителей:  8867\n",
      "Топ 50 производителей:  ['KIND', \"Bob's Red Mill\", 'Twinings', 'Planters', 'Frontier', 'Green Mountain Coffee Roasters', 'Celestial Seasonings', 'nan', 'McCormick', 'Kirkland Signature', 'Healthworks', 'Simply Organic', \"HERSHEY'S\", 'Nutiva', 'Quaker', 'produce aisle', 'Viva Naturals', \"Campbell's\", 'Starbucks', 'Hoosier Hill Farm', 'YumEarth', 'Lipton', 'Food to Live', 'NOW Foods', 'Yogi', 'Sincerely Nuts', 'Stash Tea', 'Torani', 'Harney & Sons', 'Terrasoul Superfoods', \"Annie's Homegrown\", 'Bragg', 'Lindt', 'Barilla', 'Custom Variety Pack', 'SweetLeaf', 'Folgers', 'Jelly Belly', \"Trader Joe's\", 'Ghirardelli', 'Bigelow Tea', 'Spicy World', \"Davidson's Tea\", 'Crazy Cups', \"Newman's Own\", 'Traditional Medicinals', \"Eight O'Clock Coffee\", 'Lavazza', 'Keurig', 'Kettle Brand']\n"
     ]
    }
   ],
   "source": [
    "# Зададим переменной количество производителей\n",
    "N_BRANDS = 50\n",
    "\n",
    "# Приведем к str\n",
    "df_f['brand']=df_f['brand'].astype('str')\n",
    "\n",
    "# Создаем пустой список, в который будут добавляться все производители\n",
    "all_brands = []\n",
    "\n",
    "# Добавляем производителя из каждой записи в общий список\n",
    "for brand in df_f.brand:\n",
    "    all_brands.append(brand)\n",
    "    \n",
    "\n",
    "# Считаем количество производителей в датасете\n",
    "cnt = Counter()\n",
    "for word in all_brands:\n",
    "    cnt[word] +=1\n",
    "    \n",
    "#Оставим топ N_BRANDS производителей\n",
    "top_brand = []\n",
    "for i in range (0, len(cnt.most_common(N_BRANDS))):\n",
    "    br = cnt.most_common(N_BRANDS)[i][0]\n",
    "    top_brand.append(br)\n",
    "    \n",
    "# Удаляем дубликаты из all_brands\n",
    "all_brands = list(dict.fromkeys(all_brands))\n",
    "\n",
    "print('Всего производителей: ', len(all_brands))\n",
    "print('Топ', N_BRANDS, 'производителей: ',top_brand)"
   ]
  },
  {
   "cell_type": "code",
   "execution_count": 134,
   "id": "valid-blake",
   "metadata": {
    "execution": {
     "iopub.execute_input": "2021-05-31T11:12:28.165038Z",
     "iopub.status.busy": "2021-05-31T11:12:28.164427Z",
     "iopub.status.idle": "2021-05-31T11:12:28.167747Z",
     "shell.execute_reply": "2021-05-31T11:12:28.167201Z",
     "shell.execute_reply.started": "2021-05-31T10:34:49.650147Z"
    },
    "papermill": {
     "duration": 0.200646,
     "end_time": "2021-05-31T11:12:28.167881",
     "exception": false,
     "start_time": "2021-05-31T11:12:27.967235",
     "status": "completed"
    },
    "tags": []
   },
   "outputs": [],
   "source": [
    "brand_top_list=[]\n"
   ]
  },
  {
   "cell_type": "code",
   "execution_count": 135,
   "id": "northern-distinction",
   "metadata": {
    "execution": {
     "iopub.execute_input": "2021-05-31T11:12:28.555797Z",
     "iopub.status.busy": "2021-05-31T11:12:28.555173Z",
     "iopub.status.idle": "2021-05-31T11:12:28.557859Z",
     "shell.execute_reply": "2021-05-31T11:12:28.558369Z",
     "shell.execute_reply.started": "2021-05-31T10:34:49.655606Z"
    },
    "papermill": {
     "duration": 0.199402,
     "end_time": "2021-05-31T11:12:28.558530",
     "exception": false,
     "start_time": "2021-05-31T11:12:28.359128",
     "status": "completed"
    },
    "tags": []
   },
   "outputs": [],
   "source": [
    "brand_top_list=['KIND', \"Bob's Red Mill\", 'Planters', 'Twinings', 'Green Mountain Coffee Roasters', \n",
    "'Frontier', 'nan', 'Kirkland Signature','McCormick', 'Healthworks', 'Celestial Seasonings',  \n",
    "'Simply Organic',  \"HERSHEY'S\", \"Campbell's\", 'Quaker','Nutiva', 'produce aisle', 'Viva Naturals',\n",
    "                'Starbucks', 'YumEarth', 'Hoosier Hill Farm', 'Lipton', 'Yogi', 'Food to Live', 'NOW Foods',\n",
    "                'Torani', 'Sincerely Nuts', 'Stash Tea', 'Bragg', 'Terrasoul Superfoods', 'Harney & Sons',\n",
    "                \"Annie's Homegrown\", 'Lindt', 'Barilla', 'Custom Variety Pack', 'SweetLeaf', 'Folgers', \n",
    "                'Ghirardelli', \"Trader Joe's\", 'Jelly Belly', 'Bigelow Tea', \"Davidson's Tea\", \"Newman's Own\",\n",
    "                'Crazy Cups', 'Keurig', \"Eight O'Clock Coffee\", 'Lavazza', 'Kettle Brand', 'Spicy World', 'True Citrus']"
   ]
  },
  {
   "cell_type": "code",
   "execution_count": 136,
   "id": "informational-print",
   "metadata": {
    "execution": {
     "iopub.execute_input": "2021-05-31T11:12:28.950886Z",
     "iopub.status.busy": "2021-05-31T11:12:28.949807Z",
     "iopub.status.idle": "2021-05-31T11:12:30.063302Z",
     "shell.execute_reply": "2021-05-31T11:12:30.062655Z",
     "shell.execute_reply.started": "2021-05-31T10:34:49.670470Z"
    },
    "papermill": {
     "duration": 1.31311,
     "end_time": "2021-05-31T11:12:30.063450",
     "exception": false,
     "start_time": "2021-05-31T11:12:28.750340",
     "status": "completed"
    },
    "tags": []
   },
   "outputs": [],
   "source": [
    "df_f['brand']=df_f.brand.apply(lambda x: 1 if x in brand_top_list else 0)"
   ]
  },
  {
   "cell_type": "markdown",
   "id": "stone-liverpool",
   "metadata": {
    "papermill": {
     "duration": 0.193837,
     "end_time": "2021-05-31T11:12:30.448838",
     "exception": false,
     "start_time": "2021-05-31T11:12:30.255001",
     "status": "completed"
    },
    "tags": []
   },
   "source": [
    "## main_cat "
   ]
  },
  {
   "cell_type": "code",
   "execution_count": 137,
   "id": "accessible-michigan",
   "metadata": {
    "execution": {
     "iopub.execute_input": "2021-05-31T11:12:31.040826Z",
     "iopub.status.busy": "2021-05-31T11:12:31.040154Z",
     "iopub.status.idle": "2021-05-31T11:12:31.049584Z",
     "shell.execute_reply": "2021-05-31T11:12:31.049047Z",
     "shell.execute_reply.started": "2021-05-31T10:34:50.821127Z"
    },
    "papermill": {
     "duration": 0.410329,
     "end_time": "2021-05-31T11:12:31.049774",
     "exception": false,
     "start_time": "2021-05-31T11:12:30.639445",
     "status": "completed"
    },
    "tags": []
   },
   "outputs": [
    {
     "data": {
      "text/plain": [
       "Grocery                      802613\n",
       "Health & Personal Care        31705\n",
       "Amazon Home                    7383\n",
       "All Beauty                     1522\n",
       "Sports & Outdoors              1322\n",
       "Other                           955\n",
       "Industrial & Scientific         902\n",
       "Office Products                 631\n",
       "Toys & Games                    304\n",
       "Pet Supplies                    125\n",
       "Tools & Home Improvement         53\n",
       "Baby                             34\n",
       "Arts, Crafts & Sewing            19\n",
       "Home Audio & Theater              9\n",
       "Camera & Photo                    8\n",
       "Software                          3\n",
       "Musical Instruments               3\n",
       "Cell Phones & Accessories         2\n",
       "Name: main_cat, dtype: int64"
      ]
     },
     "execution_count": 137,
     "metadata": {},
     "output_type": "execute_result"
    }
   ],
   "source": [
    "df_f.main_cat.value_counts()"
   ]
  },
  {
   "cell_type": "code",
   "execution_count": 138,
   "id": "injured-algebra",
   "metadata": {
    "execution": {
     "iopub.execute_input": "2021-05-31T11:12:31.442165Z",
     "iopub.status.busy": "2021-05-31T11:12:31.441524Z",
     "iopub.status.idle": "2021-05-31T11:12:32.305032Z",
     "shell.execute_reply": "2021-05-31T11:12:32.303930Z",
     "shell.execute_reply.started": "2021-05-31T10:34:51.044312Z"
    },
    "papermill": {
     "duration": 1.060994,
     "end_time": "2021-05-31T11:12:32.305196",
     "exception": false,
     "start_time": "2021-05-31T11:12:31.244202",
     "status": "completed"
    },
    "tags": []
   },
   "outputs": [],
   "source": [
    "df_f['main_cat']=df_f['main_cat'].apply(lambda x: 1 if x == 'Grocery' else 0)"
   ]
  },
  {
   "cell_type": "code",
   "execution_count": 139,
   "id": "coupled-bermuda",
   "metadata": {
    "execution": {
     "iopub.execute_input": "2021-05-31T11:12:32.693928Z",
     "iopub.status.busy": "2021-05-31T11:12:32.693308Z",
     "iopub.status.idle": "2021-05-31T11:12:32.706710Z",
     "shell.execute_reply": "2021-05-31T11:12:32.706168Z",
     "shell.execute_reply.started": "2021-05-31T10:34:51.963218Z"
    },
    "papermill": {
     "duration": 0.209247,
     "end_time": "2021-05-31T11:12:32.706856",
     "exception": false,
     "start_time": "2021-05-31T11:12:32.497609",
     "status": "completed"
    },
    "tags": []
   },
   "outputs": [
    {
     "data": {
      "text/plain": [
       "1    802613\n",
       "0     44980\n",
       "Name: main_cat, dtype: int64"
      ]
     },
     "execution_count": 139,
     "metadata": {},
     "output_type": "execute_result"
    }
   ],
   "source": [
    "df_f.main_cat.value_counts()"
   ]
  },
  {
   "cell_type": "code",
   "execution_count": 140,
   "id": "willing-installation",
   "metadata": {
    "execution": {
     "iopub.execute_input": "2021-05-31T11:12:33.187413Z",
     "iopub.status.busy": "2021-05-31T11:12:33.186534Z",
     "iopub.status.idle": "2021-05-31T11:12:33.189969Z",
     "shell.execute_reply": "2021-05-31T11:12:33.190459Z",
     "shell.execute_reply.started": "2021-05-31T10:34:51.981324Z"
    },
    "papermill": {
     "duration": 0.218026,
     "end_time": "2021-05-31T11:12:33.190637",
     "exception": false,
     "start_time": "2021-05-31T11:12:32.972611",
     "status": "completed"
    },
    "tags": []
   },
   "outputs": [
    {
     "data": {
      "text/plain": [
       "Index(['overall', 'verified', 'reviewTime', 'asin', 'reviewerName',\n",
       "       'reviewText', 'summary', 'unixReviewTime', 'vote', 'style', 'image_x',\n",
       "       'userid', 'itemid', 'rating', 'sample', 'category', 'description',\n",
       "       'title', 'brand', 'rank', 'also_view', 'main_cat', 'price', 'also_buy',\n",
       "       'image_y', 'date', 'feature', 'details', 'similar_item', 'tech1', 'fit',\n",
       "       'datetime', 'review_year', 'review_month', 'review_day'],\n",
       "      dtype='object')"
      ]
     },
     "execution_count": 140,
     "metadata": {},
     "output_type": "execute_result"
    }
   ],
   "source": [
    "df_f.columns"
   ]
  },
  {
   "cell_type": "code",
   "execution_count": 141,
   "id": "european-opera",
   "metadata": {
    "execution": {
     "iopub.execute_input": "2021-05-31T11:12:33.584019Z",
     "iopub.status.busy": "2021-05-31T11:12:33.583012Z",
     "iopub.status.idle": "2021-05-31T11:12:33.797933Z",
     "shell.execute_reply": "2021-05-31T11:12:33.797351Z",
     "shell.execute_reply.started": "2021-05-31T10:34:51.989815Z"
    },
    "papermill": {
     "duration": 0.411652,
     "end_time": "2021-05-31T11:12:33.798075",
     "exception": false,
     "start_time": "2021-05-31T11:12:33.386423",
     "status": "completed"
    },
    "tags": []
   },
   "outputs": [],
   "source": [
    "df_f.drop(['asin','style','category','description','title',\n",
    "        'also_view','also_buy','image_x','image_y','date','feature','details','similar_item',\n",
    "         'tech1','fit','summary','reviewTime','overall','datetime'], axis=1, inplace=True)"
   ]
  },
  {
   "cell_type": "code",
   "execution_count": 142,
   "id": "bottom-crown",
   "metadata": {
    "execution": {
     "iopub.execute_input": "2021-05-31T11:12:34.192656Z",
     "iopub.status.busy": "2021-05-31T11:12:34.191920Z",
     "iopub.status.idle": "2021-05-31T11:12:34.196289Z",
     "shell.execute_reply": "2021-05-31T11:12:34.195654Z",
     "shell.execute_reply.started": "2021-05-31T10:34:52.251920Z"
    },
    "papermill": {
     "duration": 0.204246,
     "end_time": "2021-05-31T11:12:34.196442",
     "exception": false,
     "start_time": "2021-05-31T11:12:33.992196",
     "status": "completed"
    },
    "tags": []
   },
   "outputs": [
    {
     "data": {
      "text/plain": [
       "Index(['verified', 'reviewerName', 'reviewText', 'unixReviewTime', 'vote',\n",
       "       'userid', 'itemid', 'rating', 'sample', 'brand', 'rank', 'main_cat',\n",
       "       'price', 'review_year', 'review_month', 'review_day'],\n",
       "      dtype='object')"
      ]
     },
     "execution_count": 142,
     "metadata": {},
     "output_type": "execute_result"
    }
   ],
   "source": [
    "df_f.columns"
   ]
  },
  {
   "cell_type": "code",
   "execution_count": 143,
   "id": "approved-bulgarian",
   "metadata": {
    "execution": {
     "iopub.execute_input": "2021-05-31T11:12:34.604519Z",
     "iopub.status.busy": "2021-05-31T11:12:34.592978Z",
     "iopub.status.idle": "2021-05-31T11:12:34.620950Z",
     "shell.execute_reply": "2021-05-31T11:12:34.621497Z",
     "shell.execute_reply.started": "2021-05-31T10:34:52.260699Z"
    },
    "papermill": {
     "duration": 0.231492,
     "end_time": "2021-05-31T11:12:34.621693",
     "exception": false,
     "start_time": "2021-05-31T11:12:34.390201",
     "status": "completed"
    },
    "tags": []
   },
   "outputs": [
    {
     "data": {
      "text/html": [
       "<div>\n",
       "<style scoped>\n",
       "    .dataframe tbody tr th:only-of-type {\n",
       "        vertical-align: middle;\n",
       "    }\n",
       "\n",
       "    .dataframe tbody tr th {\n",
       "        vertical-align: top;\n",
       "    }\n",
       "\n",
       "    .dataframe thead th {\n",
       "        text-align: right;\n",
       "    }\n",
       "</style>\n",
       "<table border=\"1\" class=\"dataframe\">\n",
       "  <thead>\n",
       "    <tr style=\"text-align: right;\">\n",
       "      <th></th>\n",
       "      <th>verified</th>\n",
       "      <th>reviewerName</th>\n",
       "      <th>reviewText</th>\n",
       "      <th>unixReviewTime</th>\n",
       "      <th>vote</th>\n",
       "      <th>userid</th>\n",
       "      <th>itemid</th>\n",
       "      <th>rating</th>\n",
       "      <th>sample</th>\n",
       "      <th>brand</th>\n",
       "      <th>rank</th>\n",
       "      <th>main_cat</th>\n",
       "      <th>price</th>\n",
       "      <th>review_year</th>\n",
       "      <th>review_month</th>\n",
       "      <th>review_day</th>\n",
       "    </tr>\n",
       "  </thead>\n",
       "  <tbody>\n",
       "    <tr>\n",
       "      <th>0</th>\n",
       "      <td>1</td>\n",
       "      <td>Other</td>\n",
       "      <td>0.0</td>\n",
       "      <td>new</td>\n",
       "      <td>no_rate</td>\n",
       "      <td>102179</td>\n",
       "      <td>37138</td>\n",
       "      <td>1.0</td>\n",
       "      <td>1</td>\n",
       "      <td>0</td>\n",
       "      <td>low</td>\n",
       "      <td>1</td>\n",
       "      <td>low</td>\n",
       "      <td>2016</td>\n",
       "      <td>10</td>\n",
       "      <td>4</td>\n",
       "    </tr>\n",
       "    <tr>\n",
       "      <th>1</th>\n",
       "      <td>0</td>\n",
       "      <td>Other</td>\n",
       "      <td>1.0</td>\n",
       "      <td>newest</td>\n",
       "      <td>no_rate</td>\n",
       "      <td>117314</td>\n",
       "      <td>37138</td>\n",
       "      <td>1.0</td>\n",
       "      <td>1</td>\n",
       "      <td>0</td>\n",
       "      <td>low</td>\n",
       "      <td>1</td>\n",
       "      <td>low</td>\n",
       "      <td>2017</td>\n",
       "      <td>3</td>\n",
       "      <td>31</td>\n",
       "    </tr>\n",
       "    <tr>\n",
       "      <th>2</th>\n",
       "      <td>1</td>\n",
       "      <td>Other</td>\n",
       "      <td>0.0</td>\n",
       "      <td>newest</td>\n",
       "      <td>low-rate</td>\n",
       "      <td>119505</td>\n",
       "      <td>37138</td>\n",
       "      <td>0.0</td>\n",
       "      <td>1</td>\n",
       "      <td>0</td>\n",
       "      <td>low</td>\n",
       "      <td>1</td>\n",
       "      <td>low</td>\n",
       "      <td>2017</td>\n",
       "      <td>3</td>\n",
       "      <td>11</td>\n",
       "    </tr>\n",
       "    <tr>\n",
       "      <th>3</th>\n",
       "      <td>0</td>\n",
       "      <td>Other</td>\n",
       "      <td>0.0</td>\n",
       "      <td>new</td>\n",
       "      <td>no_rate</td>\n",
       "      <td>124302</td>\n",
       "      <td>37138</td>\n",
       "      <td>1.0</td>\n",
       "      <td>1</td>\n",
       "      <td>0</td>\n",
       "      <td>low</td>\n",
       "      <td>1</td>\n",
       "      <td>low</td>\n",
       "      <td>2016</td>\n",
       "      <td>5</td>\n",
       "      <td>18</td>\n",
       "    </tr>\n",
       "    <tr>\n",
       "      <th>4</th>\n",
       "      <td>0</td>\n",
       "      <td>Other</td>\n",
       "      <td>0.0</td>\n",
       "      <td>new</td>\n",
       "      <td>no_rate</td>\n",
       "      <td>121986</td>\n",
       "      <td>37138</td>\n",
       "      <td>1.0</td>\n",
       "      <td>1</td>\n",
       "      <td>0</td>\n",
       "      <td>low</td>\n",
       "      <td>1</td>\n",
       "      <td>low</td>\n",
       "      <td>2016</td>\n",
       "      <td>5</td>\n",
       "      <td>18</td>\n",
       "    </tr>\n",
       "    <tr>\n",
       "      <th>...</th>\n",
       "      <td>...</td>\n",
       "      <td>...</td>\n",
       "      <td>...</td>\n",
       "      <td>...</td>\n",
       "      <td>...</td>\n",
       "      <td>...</td>\n",
       "      <td>...</td>\n",
       "      <td>...</td>\n",
       "      <td>...</td>\n",
       "      <td>...</td>\n",
       "      <td>...</td>\n",
       "      <td>...</td>\n",
       "      <td>...</td>\n",
       "      <td>...</td>\n",
       "      <td>...</td>\n",
       "      <td>...</td>\n",
       "    </tr>\n",
       "    <tr>\n",
       "      <th>847588</th>\n",
       "      <td>1</td>\n",
       "      <td>Other</td>\n",
       "      <td>0.0</td>\n",
       "      <td>newest</td>\n",
       "      <td>no_rate</td>\n",
       "      <td>90511</td>\n",
       "      <td>38934</td>\n",
       "      <td>1.0</td>\n",
       "      <td>1</td>\n",
       "      <td>0</td>\n",
       "      <td>low</td>\n",
       "      <td>1</td>\n",
       "      <td>high</td>\n",
       "      <td>2017</td>\n",
       "      <td>4</td>\n",
       "      <td>29</td>\n",
       "    </tr>\n",
       "    <tr>\n",
       "      <th>847589</th>\n",
       "      <td>0</td>\n",
       "      <td>Other</td>\n",
       "      <td>0.0</td>\n",
       "      <td>newest</td>\n",
       "      <td>no_rate</td>\n",
       "      <td>57274</td>\n",
       "      <td>38250</td>\n",
       "      <td>1.0</td>\n",
       "      <td>1</td>\n",
       "      <td>0</td>\n",
       "      <td>low</td>\n",
       "      <td>1</td>\n",
       "      <td>middle</td>\n",
       "      <td>2018</td>\n",
       "      <td>8</td>\n",
       "      <td>31</td>\n",
       "    </tr>\n",
       "    <tr>\n",
       "      <th>847590</th>\n",
       "      <td>1</td>\n",
       "      <td>Other</td>\n",
       "      <td>1.0</td>\n",
       "      <td>old</td>\n",
       "      <td>no_rate</td>\n",
       "      <td>104249</td>\n",
       "      <td>29571</td>\n",
       "      <td>1.0</td>\n",
       "      <td>1</td>\n",
       "      <td>1</td>\n",
       "      <td>middle</td>\n",
       "      <td>1</td>\n",
       "      <td>high</td>\n",
       "      <td>2015</td>\n",
       "      <td>10</td>\n",
       "      <td>26</td>\n",
       "    </tr>\n",
       "    <tr>\n",
       "      <th>847591</th>\n",
       "      <td>1</td>\n",
       "      <td>Other</td>\n",
       "      <td>1.0</td>\n",
       "      <td>old</td>\n",
       "      <td>no_rate</td>\n",
       "      <td>30857</td>\n",
       "      <td>26244</td>\n",
       "      <td>1.0</td>\n",
       "      <td>1</td>\n",
       "      <td>0</td>\n",
       "      <td>low</td>\n",
       "      <td>0</td>\n",
       "      <td>middle</td>\n",
       "      <td>2015</td>\n",
       "      <td>3</td>\n",
       "      <td>10</td>\n",
       "    </tr>\n",
       "    <tr>\n",
       "      <th>847592</th>\n",
       "      <td>0</td>\n",
       "      <td>Other</td>\n",
       "      <td>0.0</td>\n",
       "      <td>newest</td>\n",
       "      <td>no_rate</td>\n",
       "      <td>126209</td>\n",
       "      <td>36432</td>\n",
       "      <td>1.0</td>\n",
       "      <td>1</td>\n",
       "      <td>0</td>\n",
       "      <td>low</td>\n",
       "      <td>1</td>\n",
       "      <td>middle</td>\n",
       "      <td>2017</td>\n",
       "      <td>11</td>\n",
       "      <td>13</td>\n",
       "    </tr>\n",
       "  </tbody>\n",
       "</table>\n",
       "<p>847593 rows × 16 columns</p>\n",
       "</div>"
      ],
      "text/plain": [
       "        verified reviewerName  reviewText unixReviewTime      vote  userid  \\\n",
       "0              1        Other         0.0            new   no_rate  102179   \n",
       "1              0        Other         1.0         newest   no_rate  117314   \n",
       "2              1        Other         0.0         newest  low-rate  119505   \n",
       "3              0        Other         0.0            new   no_rate  124302   \n",
       "4              0        Other         0.0            new   no_rate  121986   \n",
       "...          ...          ...         ...            ...       ...     ...   \n",
       "847588         1        Other         0.0         newest   no_rate   90511   \n",
       "847589         0        Other         0.0         newest   no_rate   57274   \n",
       "847590         1        Other         1.0            old   no_rate  104249   \n",
       "847591         1        Other         1.0            old   no_rate   30857   \n",
       "847592         0        Other         0.0         newest   no_rate  126209   \n",
       "\n",
       "        itemid  rating  sample  brand    rank  main_cat   price  review_year  \\\n",
       "0        37138     1.0       1      0     low         1     low         2016   \n",
       "1        37138     1.0       1      0     low         1     low         2017   \n",
       "2        37138     0.0       1      0     low         1     low         2017   \n",
       "3        37138     1.0       1      0     low         1     low         2016   \n",
       "4        37138     1.0       1      0     low         1     low         2016   \n",
       "...        ...     ...     ...    ...     ...       ...     ...          ...   \n",
       "847588   38934     1.0       1      0     low         1    high         2017   \n",
       "847589   38250     1.0       1      0     low         1  middle         2018   \n",
       "847590   29571     1.0       1      1  middle         1    high         2015   \n",
       "847591   26244     1.0       1      0     low         0  middle         2015   \n",
       "847592   36432     1.0       1      0     low         1  middle         2017   \n",
       "\n",
       "        review_month  review_day  \n",
       "0                 10           4  \n",
       "1                  3          31  \n",
       "2                  3          11  \n",
       "3                  5          18  \n",
       "4                  5          18  \n",
       "...              ...         ...  \n",
       "847588             4          29  \n",
       "847589             8          31  \n",
       "847590            10          26  \n",
       "847591             3          10  \n",
       "847592            11          13  \n",
       "\n",
       "[847593 rows x 16 columns]"
      ]
     },
     "execution_count": 143,
     "metadata": {},
     "output_type": "execute_result"
    }
   ],
   "source": [
    "df_f"
   ]
  },
  {
   "cell_type": "code",
   "execution_count": 144,
   "id": "broad-rebound",
   "metadata": {
    "execution": {
     "iopub.execute_input": "2021-05-31T11:12:35.043959Z",
     "iopub.status.busy": "2021-05-31T11:12:35.043194Z",
     "iopub.status.idle": "2021-05-31T11:12:35.415365Z",
     "shell.execute_reply": "2021-05-31T11:12:35.414793Z",
     "shell.execute_reply.started": "2021-05-31T10:34:52.311960Z"
    },
    "papermill": {
     "duration": 0.583464,
     "end_time": "2021-05-31T11:12:35.415501",
     "exception": false,
     "start_time": "2021-05-31T11:12:34.832037",
     "status": "completed"
    },
    "tags": []
   },
   "outputs": [],
   "source": [
    "for column in ['vote','reviewerName','unixReviewTime','rank','price']:\n",
    "    df_f[column] = df_f[column].astype('category').cat.codes"
   ]
  },
  {
   "cell_type": "code",
   "execution_count": 145,
   "id": "rental-voluntary",
   "metadata": {
    "execution": {
     "iopub.execute_input": "2021-05-31T11:12:35.814133Z",
     "iopub.status.busy": "2021-05-31T11:12:35.813450Z",
     "iopub.status.idle": "2021-05-31T11:12:35.956191Z",
     "shell.execute_reply": "2021-05-31T11:12:35.956694Z",
     "shell.execute_reply.started": "2021-05-31T10:34:52.700843Z"
    },
    "papermill": {
     "duration": 0.344932,
     "end_time": "2021-05-31T11:12:35.956887",
     "exception": false,
     "start_time": "2021-05-31T11:12:35.611955",
     "status": "completed"
    },
    "tags": []
   },
   "outputs": [],
   "source": [
    "from sklearn.preprocessing import LabelEncoder, OneHotEncoder\n",
    "label_encoder = LabelEncoder()\n",
    "\n",
    "for column in ['verified','main_cat','brand','reviewText']:\n",
    "    df_f[column] = label_encoder.fit_transform(df_f[column])"
   ]
  },
  {
   "cell_type": "code",
   "execution_count": 146,
   "id": "solved-omega",
   "metadata": {
    "execution": {
     "iopub.execute_input": "2021-05-31T11:12:36.351176Z",
     "iopub.status.busy": "2021-05-31T11:12:36.350396Z",
     "iopub.status.idle": "2021-05-31T11:12:36.389491Z",
     "shell.execute_reply": "2021-05-31T11:12:36.390801Z",
     "shell.execute_reply.started": "2021-05-31T10:34:52.860455Z"
    },
    "papermill": {
     "duration": 0.23973,
     "end_time": "2021-05-31T11:12:36.391051",
     "exception": false,
     "start_time": "2021-05-31T11:12:36.151321",
     "status": "completed"
    },
    "tags": []
   },
   "outputs": [
    {
     "name": "stdout",
     "output_type": "stream",
     "text": [
      "<class 'pandas.core.frame.DataFrame'>\n",
      "Int64Index: 847593 entries, 0 to 847592\n",
      "Data columns (total 16 columns):\n",
      " #   Column          Non-Null Count   Dtype  \n",
      "---  ------          --------------   -----  \n",
      " 0   verified        847593 non-null  int64  \n",
      " 1   reviewerName    847593 non-null  int8   \n",
      " 2   reviewText      847593 non-null  int64  \n",
      " 3   unixReviewTime  847593 non-null  int8   \n",
      " 4   vote            847593 non-null  int8   \n",
      " 5   userid          847593 non-null  int64  \n",
      " 6   itemid          847593 non-null  int64  \n",
      " 7   rating          847593 non-null  float64\n",
      " 8   sample          847593 non-null  int64  \n",
      " 9   brand           847593 non-null  int64  \n",
      " 10  rank            847593 non-null  int8   \n",
      " 11  main_cat        847593 non-null  int64  \n",
      " 12  price           847593 non-null  int8   \n",
      " 13  review_year     847593 non-null  int64  \n",
      " 14  review_month    847593 non-null  int64  \n",
      " 15  review_day      847593 non-null  int64  \n",
      "dtypes: float64(1), int64(10), int8(5)\n",
      "memory usage: 81.6 MB\n"
     ]
    }
   ],
   "source": [
    "df_f.info()"
   ]
  },
  {
   "cell_type": "code",
   "execution_count": 147,
   "id": "analyzed-police",
   "metadata": {
    "execution": {
     "iopub.execute_input": "2021-05-31T11:12:36.795950Z",
     "iopub.status.busy": "2021-05-31T11:12:36.794392Z",
     "iopub.status.idle": "2021-05-31T11:13:16.888899Z",
     "shell.execute_reply": "2021-05-31T11:13:16.889410Z",
     "shell.execute_reply.started": "2021-05-31T10:53:50.608296Z"
    },
    "papermill": {
     "duration": 40.298563,
     "end_time": "2021-05-31T11:13:16.889587",
     "exception": false,
     "start_time": "2021-05-31T11:12:36.591024",
     "status": "completed"
    },
    "tags": []
   },
   "outputs": [
    {
     "data": {
      "text/plain": [
       "0.9562541730523022"
      ]
     },
     "execution_count": 147,
     "metadata": {},
     "output_type": "execute_result"
    }
   ],
   "source": [
    "LEARNING_RATE = 0.089\n",
    "RANDOM_STATE = 42\n",
    "NUM_THREADS = 12\n",
    "NUM_COMPONENTS = 160 \n",
    "NUM_EPOCHS = 25\n",
    "LEARNING_SCHEDULE = 'adagrad'\n",
    "LOSS_FUNCTION = 'logistic'\n",
    "\n",
    "train_f = df_f.query('sample == 1').drop('sample', axis = 1)\n",
    "test_f = df_f.query('sample == 0').drop(['sample', 'rating'], axis = 1)\n",
    "\n",
    "train_data_f, test_data_f = train_test_split(train_f,\n",
    "                                         random_state = RANDOM_STATE, \n",
    "                                         shuffle = True)\n",
    "\n",
    "ratings_coo_f = sparse.coo_matrix((train_data['rating'].astype(int), \n",
    "                                 (train_data['userid'], \n",
    "                                  train_data['itemid'])))\n",
    "\n",
    "model_f = LightFM(learning_rate = LEARNING_RATE, \n",
    "                loss = LOSS_FUNCTION,\n",
    "                no_components = NUM_COMPONENTS,\n",
    "                random_state = RANDOM_STATE,\n",
    "                learning_schedule = LEARNING_SCHEDULE)\n",
    "\n",
    "model_f = model.fit(ratings_coo_f, \n",
    "                  epochs = NUM_EPOCHS, \n",
    "                  num_threads = NUM_THREADS)\n",
    "\n",
    "preds_f = model_f.predict(test_data_f.userid.values,\n",
    "                      test_data_f.itemid.values)\n",
    "\n",
    "sklearn.metrics.roc_auc_score(test_data_f.rating, preds_f)"
   ]
  },
  {
   "cell_type": "code",
   "execution_count": 148,
   "id": "atmospheric-country",
   "metadata": {
    "execution": {
     "iopub.execute_input": "2021-05-31T11:13:17.320522Z",
     "iopub.status.busy": "2021-05-31T11:13:17.319792Z",
     "iopub.status.idle": "2021-05-31T11:13:17.322846Z",
     "shell.execute_reply": "2021-05-31T11:13:17.323410Z",
     "shell.execute_reply.started": "2021-05-31T10:54:31.697623Z"
    },
    "papermill": {
     "duration": 0.203707,
     "end_time": "2021-05-31T11:13:17.323580",
     "exception": false,
     "start_time": "2021-05-31T11:13:17.119873",
     "status": "completed"
    },
    "tags": []
   },
   "outputs": [
    {
     "data": {
      "text/plain": [
       "(211899, 15)"
      ]
     },
     "execution_count": 148,
     "metadata": {},
     "output_type": "execute_result"
    }
   ],
   "source": [
    "test_data_f.shape"
   ]
  },
  {
   "cell_type": "code",
   "execution_count": 149,
   "id": "bizarre-belly",
   "metadata": {
    "execution": {
     "iopub.execute_input": "2021-05-31T11:13:17.718068Z",
     "iopub.status.busy": "2021-05-31T11:13:17.717418Z",
     "iopub.status.idle": "2021-05-31T11:13:18.035221Z",
     "shell.execute_reply": "2021-05-31T11:13:18.034566Z",
     "shell.execute_reply.started": "2021-05-31T10:54:55.008811Z"
    },
    "papermill": {
     "duration": 0.513824,
     "end_time": "2021-05-31T11:13:18.035375",
     "exception": false,
     "start_time": "2021-05-31T11:13:17.521551",
     "status": "completed"
    },
    "tags": []
   },
   "outputs": [
    {
     "data": {
      "image/png": "[encoded data removed]",
      "text/plain": [
       "<Figure size 432x288 with 1 Axes>"
      ]
     },
     "metadata": {
      "needs_background": "light"
     },
     "output_type": "display_data"
    }
   ],
   "source": [
    "from sklearn.metrics import roc_curve, roc_auc_score\n",
    "\n",
    "def show_roc_curve(y_true, y_pred_prob):\n",
    "    \"\"\"Функция отображает ROC-кривую\"\"\"\n",
    "    fpr, tpr, _ = roc_curve(y_true, y_pred_prob)\n",
    "    plt.figure()\n",
    "    plt.plot([0, 1], label='Случайный классификатор', linestyle='--')\n",
    "    plt.plot(fpr, tpr, label = 'LightFM')\n",
    "    plt.title('ROC AUC = %0.3f' % roc_auc_score(y_true, y_pred_prob))\n",
    "    plt.ylabel('True Positive Rate')\n",
    "    plt.xlabel('False Positive Rate')\n",
    "    plt.legend(loc = 'lower right')\n",
    "    plt.show()\n",
    "    \n",
    "    \n",
    "    \n",
    "show_roc_curve(test_data_f.rating, preds_f)    "
   ]
  },
  {
   "cell_type": "code",
   "execution_count": 150,
   "id": "opposite-month",
   "metadata": {
    "execution": {
     "iopub.execute_input": "2021-05-31T11:13:18.437112Z",
     "iopub.status.busy": "2021-05-31T11:13:18.436434Z",
     "iopub.status.idle": "2021-05-31T11:13:18.440634Z",
     "shell.execute_reply": "2021-05-31T11:13:18.440019Z",
     "shell.execute_reply.started": "2021-05-31T10:35:33.778497Z"
    },
    "papermill": {
     "duration": 0.207452,
     "end_time": "2021-05-31T11:13:18.440770",
     "exception": false,
     "start_time": "2021-05-31T11:13:18.233318",
     "status": "completed"
    },
    "tags": []
   },
   "outputs": [
    {
     "data": {
      "text/plain": [
       "Index(['verified', 'reviewerName', 'reviewText', 'unixReviewTime', 'vote',\n",
       "       'userid', 'itemid', 'rating', 'sample', 'brand', 'rank', 'main_cat',\n",
       "       'price', 'review_year', 'review_month', 'review_day'],\n",
       "      dtype='object')"
      ]
     },
     "execution_count": 150,
     "metadata": {},
     "output_type": "execute_result"
    }
   ],
   "source": [
    "df_f.columns"
   ]
  },
  {
   "cell_type": "code",
   "execution_count": 151,
   "id": "chicken-inventory",
   "metadata": {
    "execution": {
     "iopub.execute_input": "2021-05-31T11:13:18.837810Z",
     "iopub.status.busy": "2021-05-31T11:13:18.837156Z",
     "iopub.status.idle": "2021-05-31T11:13:18.994048Z",
     "shell.execute_reply": "2021-05-31T11:13:18.993509Z",
     "shell.execute_reply.started": "2021-05-31T10:53:43.991859Z"
    },
    "papermill": {
     "duration": 0.357717,
     "end_time": "2021-05-31T11:13:18.994195",
     "exception": false,
     "start_time": "2021-05-31T11:13:18.636478",
     "status": "completed"
    },
    "tags": []
   },
   "outputs": [],
   "source": [
    "preds_ft = model2.predict(test.userid.values,\n",
    "                      test.itemid.values)"
   ]
  },
  {
   "cell_type": "code",
   "execution_count": 152,
   "id": "stretch-supplement",
   "metadata": {
    "execution": {
     "iopub.execute_input": "2021-05-31T11:13:19.390993Z",
     "iopub.status.busy": "2021-05-31T11:13:19.390114Z",
     "iopub.status.idle": "2021-05-31T11:13:19.394418Z",
     "shell.execute_reply": "2021-05-31T11:13:19.393783Z",
     "shell.execute_reply.started": "2021-05-31T10:53:44.603828Z"
    },
    "papermill": {
     "duration": 0.204696,
     "end_time": "2021-05-31T11:13:19.394557",
     "exception": false,
     "start_time": "2021-05-31T11:13:19.189861",
     "status": "completed"
    },
    "tags": []
   },
   "outputs": [
    {
     "data": {
      "text/plain": [
       "(285965,)"
      ]
     },
     "execution_count": 152,
     "metadata": {},
     "output_type": "execute_result"
    }
   ],
   "source": [
    "preds_ft.shape"
   ]
  },
  {
   "cell_type": "code",
   "execution_count": 153,
   "id": "incredible-bedroom",
   "metadata": {
    "execution": {
     "iopub.execute_input": "2021-05-31T11:13:19.827077Z",
     "iopub.status.busy": "2021-05-31T11:13:19.826115Z",
     "iopub.status.idle": "2021-05-31T11:13:20.653497Z",
     "shell.execute_reply": "2021-05-31T11:13:20.653992Z",
     "shell.execute_reply.started": "2021-05-31T11:04:42.308665Z"
    },
    "papermill": {
     "duration": 1.046726,
     "end_time": "2021-05-31T11:13:20.654182",
     "exception": false,
     "start_time": "2021-05-31T11:13:19.607456",
     "status": "completed"
    },
    "tags": []
   },
   "outputs": [],
   "source": [
    "normalized_preds_ft = (preds_ft - preds_ft.min())/(preds_ft - preds_ft.min()).max()\n",
    "submission['rating']= normalized_preds_ft\n",
    "submission.to_csv('submission_ft.csv', index=False)"
   ]
  },
  {
   "cell_type": "markdown",
   "id": "possible-omaha",
   "metadata": {
    "papermill": {
     "duration": 0.200048,
     "end_time": "2021-05-31T11:13:21.051375",
     "exception": false,
     "start_time": "2021-05-31T11:13:20.851327",
     "status": "completed"
    },
    "tags": []
   },
   "source": [
    "* В ходе работы был проведен анализ данных, их чистка, заполнение и отсев. Были построеные модели на отобранных признаках, а также модель при учете некоторого числа сгенерированных признаков, что, однако, не дало улучшения результата. Это свидетельствует о малой значимости созданных фичей для модели. Тем не менее удалось получить значение на сабмите больше 0.760, что является незначительным улучшением базового ноутбука по данном заданию."
   ]
  }
 ],
 "metadata": {
  "kernelspec": {
   "display_name": "Python 3",
   "language": "python",
   "name": "python3"
  },
  "language_info": {
   "codemirror_mode": {
    "name": "ipython",
    "version": 3
   },
   "file_extension": ".py",
   "mimetype": "text/x-python",
   "name": "python",
   "nbconvert_exporter": "python",
   "pygments_lexer": "ipython3",
   "version": "3.7.10"
  },
  "papermill": {
   "default_parameters": {},
   "duration": 500.462309,
   "end_time": "2021-05-31T11:13:24.058690",
   "environment_variables": {},
   "exception": null,
   "input_path": "__notebook__.ipynb",
   "output_path": "__notebook__.ipynb",
   "parameters": {},
   "start_time": "2021-05-31T11:05:03.596381",
   "version": "2.3.3"
  }
 },
 "nbformat": 4,
 "nbformat_minor": 5
}

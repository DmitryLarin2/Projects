{
 "cells": [
  {
   "cell_type": "code",
   "execution_count": 1,
   "metadata": {},
   "outputs": [],
   "source": [
    "import pandas as pd\n",
    "import numpy as np\n",
    "import matplotlib.pyplot as plt\n",
    "import seaborn as sns\n",
    "pd.set_option('display.max_columns', 100)\n",
    "\n",
    "import re\n",
    "\n",
    "from sklearn.model_selection import train_test_split\n",
    "from sklearn.model_selection import  RandomizedSearchCV\n",
    "\n",
    "from sklearn.ensemble import (AdaBoostRegressor, GradientBoostingRegressor,\n",
    "                              RandomForestRegressor, ExtraTreesRegressor, StackingRegressor)\n",
    "from catboost import CatBoostRegressor\n",
    "from sklearn.linear_model import LinearRegression\n",
    "from sklearn.tree import DecisionTreeRegressor\n",
    "from sklearn.neighbors import KNeighborsRegressor\n",
    "\n",
    "from sklearn.ensemble import StackingRegressor\n",
    "from sklearn.linear_model import RidgeCV\n",
    "\n",
    "import xgboost as xgb"
   ]
  },
  {
   "cell_type": "code",
   "execution_count": 2,
   "metadata": {},
   "outputs": [
    {
     "data": {
      "text/html": [
       "<div>\n",
       "<style scoped>\n",
       "    .dataframe tbody tr th:only-of-type {\n",
       "        vertical-align: middle;\n",
       "    }\n",
       "\n",
       "    .dataframe tbody tr th {\n",
       "        vertical-align: top;\n",
       "    }\n",
       "\n",
       "    .dataframe thead th {\n",
       "        text-align: right;\n",
       "    }\n",
       "</style>\n",
       "<table border=\"1\" class=\"dataframe\">\n",
       "  <thead>\n",
       "    <tr style=\"text-align: right;\">\n",
       "      <th></th>\n",
       "      <th>bodyType</th>\n",
       "      <th>brand</th>\n",
       "      <th>car_url</th>\n",
       "      <th>color</th>\n",
       "      <th>complectation_dict</th>\n",
       "      <th>description</th>\n",
       "      <th>engineDisplacement</th>\n",
       "      <th>enginePower</th>\n",
       "      <th>equipment_dict</th>\n",
       "      <th>fuelType</th>\n",
       "      <th>image</th>\n",
       "      <th>mileage</th>\n",
       "      <th>modelDate</th>\n",
       "      <th>model_info</th>\n",
       "      <th>model_name</th>\n",
       "      <th>name</th>\n",
       "      <th>numberOfDoors</th>\n",
       "      <th>parsing_unixtime</th>\n",
       "      <th>priceCurrency</th>\n",
       "      <th>productionDate</th>\n",
       "      <th>sell_id</th>\n",
       "      <th>super_gen</th>\n",
       "      <th>vehicleConfiguration</th>\n",
       "      <th>vehicleTransmission</th>\n",
       "      <th>vendor</th>\n",
       "      <th>Владельцы</th>\n",
       "      <th>Владение</th>\n",
       "      <th>ПТС</th>\n",
       "      <th>Привод</th>\n",
       "      <th>Руль</th>\n",
       "      <th>Состояние</th>\n",
       "      <th>Таможня</th>\n",
       "    </tr>\n",
       "  </thead>\n",
       "  <tbody>\n",
       "    <tr>\n",
       "      <th>0</th>\n",
       "      <td>лифтбек</td>\n",
       "      <td>SKODA</td>\n",
       "      <td>https://auto.ru/cars/used/sale/skoda/octavia/1...</td>\n",
       "      <td>синий</td>\n",
       "      <td>NaN</td>\n",
       "      <td>Все автомобили, представленные в продаже, прох...</td>\n",
       "      <td>1.2 LTR</td>\n",
       "      <td>105 N12</td>\n",
       "      <td>{\"engine-proof\":true,\"tinted-glass\":true,\"airb...</td>\n",
       "      <td>бензин</td>\n",
       "      <td>https://autoru.naydex.net/o9DBXQ270/5ac010hAY0...</td>\n",
       "      <td>74000</td>\n",
       "      <td>2013</td>\n",
       "      <td>{\"code\":\"OCTAVIA\",\"name\":\"Octavia\",\"ru_name\":\"...</td>\n",
       "      <td>OCTAVIA</td>\n",
       "      <td>1.2 AMT (105 л.с.)</td>\n",
       "      <td>5</td>\n",
       "      <td>1603226273</td>\n",
       "      <td>RUB</td>\n",
       "      <td>2014</td>\n",
       "      <td>1100575026</td>\n",
       "      <td>{\"id\":\"10373605\",\"displacement\":1197,\"engine_t...</td>\n",
       "      <td>LIFTBACK ROBOT 1.2</td>\n",
       "      <td>роботизированная</td>\n",
       "      <td>EUROPEAN</td>\n",
       "      <td>3 или более</td>\n",
       "      <td>NaN</td>\n",
       "      <td>Оригинал</td>\n",
       "      <td>передний</td>\n",
       "      <td>Левый</td>\n",
       "      <td>Не требует ремонта</td>\n",
       "      <td>Растаможен</td>\n",
       "    </tr>\n",
       "    <tr>\n",
       "      <th>1</th>\n",
       "      <td>лифтбек</td>\n",
       "      <td>SKODA</td>\n",
       "      <td>https://auto.ru/cars/used/sale/skoda/octavia/1...</td>\n",
       "      <td>чёрный</td>\n",
       "      <td>NaN</td>\n",
       "      <td>ЛОТ: 01217195\\nАвтопрага Север\\nДанный автомоб...</td>\n",
       "      <td>1.6 LTR</td>\n",
       "      <td>110 N12</td>\n",
       "      <td>{\"cruise-control\":true,\"asr\":true,\"esp\":true,\"...</td>\n",
       "      <td>бензин</td>\n",
       "      <td>https://autoru.naydex.net/o9DBXQ270/5ac010hAY0...</td>\n",
       "      <td>60563</td>\n",
       "      <td>2017</td>\n",
       "      <td>{\"code\":\"OCTAVIA\",\"name\":\"Octavia\",\"ru_name\":\"...</td>\n",
       "      <td>OCTAVIA</td>\n",
       "      <td>1.6 MT (110 л.с.)</td>\n",
       "      <td>5</td>\n",
       "      <td>1603226277</td>\n",
       "      <td>RUB</td>\n",
       "      <td>2017</td>\n",
       "      <td>1100549428</td>\n",
       "      <td>{\"id\":\"20913311\",\"displacement\":1598,\"engine_t...</td>\n",
       "      <td>LIFTBACK MECHANICAL 1.6</td>\n",
       "      <td>механическая</td>\n",
       "      <td>EUROPEAN</td>\n",
       "      <td>1 владелец</td>\n",
       "      <td>NaN</td>\n",
       "      <td>Оригинал</td>\n",
       "      <td>передний</td>\n",
       "      <td>Левый</td>\n",
       "      <td>Не требует ремонта</td>\n",
       "      <td>Растаможен</td>\n",
       "    </tr>\n",
       "  </tbody>\n",
       "</table>\n",
       "</div>"
      ],
      "text/plain": [
       "  bodyType  brand                                            car_url   color  \\\n",
       "0  лифтбек  SKODA  https://auto.ru/cars/used/sale/skoda/octavia/1...   синий   \n",
       "1  лифтбек  SKODA  https://auto.ru/cars/used/sale/skoda/octavia/1...  чёрный   \n",
       "\n",
       "  complectation_dict                                        description  \\\n",
       "0                NaN  Все автомобили, представленные в продаже, прох...   \n",
       "1                NaN  ЛОТ: 01217195\\nАвтопрага Север\\nДанный автомоб...   \n",
       "\n",
       "  engineDisplacement enginePower  \\\n",
       "0            1.2 LTR     105 N12   \n",
       "1            1.6 LTR     110 N12   \n",
       "\n",
       "                                      equipment_dict fuelType  \\\n",
       "0  {\"engine-proof\":true,\"tinted-glass\":true,\"airb...   бензин   \n",
       "1  {\"cruise-control\":true,\"asr\":true,\"esp\":true,\"...   бензин   \n",
       "\n",
       "                                               image  mileage  modelDate  \\\n",
       "0  https://autoru.naydex.net/o9DBXQ270/5ac010hAY0...    74000       2013   \n",
       "1  https://autoru.naydex.net/o9DBXQ270/5ac010hAY0...    60563       2017   \n",
       "\n",
       "                                          model_info model_name  \\\n",
       "0  {\"code\":\"OCTAVIA\",\"name\":\"Octavia\",\"ru_name\":\"...    OCTAVIA   \n",
       "1  {\"code\":\"OCTAVIA\",\"name\":\"Octavia\",\"ru_name\":\"...    OCTAVIA   \n",
       "\n",
       "                 name  numberOfDoors  parsing_unixtime priceCurrency  \\\n",
       "0  1.2 AMT (105 л.с.)              5        1603226273           RUB   \n",
       "1   1.6 MT (110 л.с.)              5        1603226277           RUB   \n",
       "\n",
       "   productionDate     sell_id  \\\n",
       "0            2014  1100575026   \n",
       "1            2017  1100549428   \n",
       "\n",
       "                                           super_gen     vehicleConfiguration  \\\n",
       "0  {\"id\":\"10373605\",\"displacement\":1197,\"engine_t...       LIFTBACK ROBOT 1.2   \n",
       "1  {\"id\":\"20913311\",\"displacement\":1598,\"engine_t...  LIFTBACK MECHANICAL 1.6   \n",
       "\n",
       "  vehicleTransmission    vendor    Владельцы Владение       ПТС    Привод  \\\n",
       "0    роботизированная  EUROPEAN  3 или более      NaN  Оригинал  передний   \n",
       "1        механическая  EUROPEAN   1 владелец      NaN  Оригинал  передний   \n",
       "\n",
       "    Руль           Состояние     Таможня  \n",
       "0  Левый  Не требует ремонта  Растаможен  \n",
       "1  Левый  Не требует ремонта  Растаможен  "
      ]
     },
     "execution_count": 2,
     "metadata": {},
     "output_type": "execute_result"
    }
   ],
   "source": [
    "test=pd.read_csv('test.csv')\n",
    "test.head(2)"
   ]
  },
  {
   "cell_type": "code",
   "execution_count": 3,
   "metadata": {},
   "outputs": [
    {
     "data": {
      "text/html": [
       "<div>\n",
       "<style scoped>\n",
       "    .dataframe tbody tr th:only-of-type {\n",
       "        vertical-align: middle;\n",
       "    }\n",
       "\n",
       "    .dataframe tbody tr th {\n",
       "        vertical-align: top;\n",
       "    }\n",
       "\n",
       "    .dataframe thead th {\n",
       "        text-align: right;\n",
       "    }\n",
       "</style>\n",
       "<table border=\"1\" class=\"dataframe\">\n",
       "  <thead>\n",
       "    <tr style=\"text-align: right;\">\n",
       "      <th></th>\n",
       "      <th>bodyType</th>\n",
       "      <th>brand</th>\n",
       "      <th>color</th>\n",
       "      <th>complectation_dict</th>\n",
       "      <th>description</th>\n",
       "      <th>engineDisplacement</th>\n",
       "      <th>enginePower</th>\n",
       "      <th>equipment_dict</th>\n",
       "      <th>fuelType</th>\n",
       "      <th>image</th>\n",
       "      <th>mileage</th>\n",
       "      <th>modelDate</th>\n",
       "      <th>model_info</th>\n",
       "      <th>model_name</th>\n",
       "      <th>name</th>\n",
       "      <th>numberOfDoors</th>\n",
       "      <th>start_date</th>\n",
       "      <th>priceCurrency</th>\n",
       "      <th>productionDate</th>\n",
       "      <th>sell_id</th>\n",
       "      <th>super_gen</th>\n",
       "      <th>vehicleConfiguration</th>\n",
       "      <th>vehicleTransmission</th>\n",
       "      <th>vendor</th>\n",
       "      <th>Владельцы</th>\n",
       "      <th>Владение</th>\n",
       "      <th>ПТС</th>\n",
       "      <th>Привод</th>\n",
       "      <th>Руль</th>\n",
       "      <th>Состояние</th>\n",
       "      <th>Таможня</th>\n",
       "      <th>price</th>\n",
       "      <th>price_EUR</th>\n",
       "      <th>price_USD</th>\n",
       "    </tr>\n",
       "  </thead>\n",
       "  <tbody>\n",
       "    <tr>\n",
       "      <th>0</th>\n",
       "      <td>Седан</td>\n",
       "      <td>AUDI</td>\n",
       "      <td>97948F</td>\n",
       "      <td>{'id': '0'}</td>\n",
       "      <td>Машина на полном ходу\\nСостояние хорошее\\nС до...</td>\n",
       "      <td>2.3</td>\n",
       "      <td>133.0</td>\n",
       "      <td>{}</td>\n",
       "      <td>бензин</td>\n",
       "      <td>5</td>\n",
       "      <td>359000</td>\n",
       "      <td>1990.0</td>\n",
       "      <td>{'code': '100', 'name': '100', 'ru_name': '100...</td>\n",
       "      <td>100</td>\n",
       "      <td>2.3 MT (133 л.с.)</td>\n",
       "      <td>4.0</td>\n",
       "      <td>2020-11-13T23:31:09Z</td>\n",
       "      <td>RUR</td>\n",
       "      <td>1993</td>\n",
       "      <td>1101578354</td>\n",
       "      <td>{'id': '7879487', 'displacement': 2309, 'engin...</td>\n",
       "      <td>SEDAN MECHANICAL 2.3</td>\n",
       "      <td>MECHANICAL</td>\n",
       "      <td>EUROPEAN</td>\n",
       "      <td>3.0</td>\n",
       "      <td>NaN</td>\n",
       "      <td>ORIGINAL</td>\n",
       "      <td>передний</td>\n",
       "      <td>LEFT</td>\n",
       "      <td>True</td>\n",
       "      <td>True</td>\n",
       "      <td>106000.0</td>\n",
       "      <td>1161.0</td>\n",
       "      <td>1371.0</td>\n",
       "    </tr>\n",
       "    <tr>\n",
       "      <th>1</th>\n",
       "      <td>Седан</td>\n",
       "      <td>AUDI</td>\n",
       "      <td>CACECB</td>\n",
       "      <td>{'id': '0'}</td>\n",
       "      <td>Продажа от официального дилера KIA - Компания ...</td>\n",
       "      <td>1.8</td>\n",
       "      <td>90.0</td>\n",
       "      <td>{'condition': True, 'audiosystem-cd': True, 'f...</td>\n",
       "      <td>бензин</td>\n",
       "      <td>7</td>\n",
       "      <td>204700</td>\n",
       "      <td>1982.0</td>\n",
       "      <td>{'code': '100', 'name': '100', 'ru_name': '100...</td>\n",
       "      <td>100</td>\n",
       "      <td>1.8 MT (90 л.с.)</td>\n",
       "      <td>4.0</td>\n",
       "      <td>2020-11-12T09:13:49Z</td>\n",
       "      <td>RUR</td>\n",
       "      <td>1984</td>\n",
       "      <td>1101559676</td>\n",
       "      <td>{'id': '20388757', 'displacement': 1781, 'engi...</td>\n",
       "      <td>SEDAN MECHANICAL 1.8</td>\n",
       "      <td>MECHANICAL</td>\n",
       "      <td>EUROPEAN</td>\n",
       "      <td>3.0</td>\n",
       "      <td>NaN</td>\n",
       "      <td>ORIGINAL</td>\n",
       "      <td>передний</td>\n",
       "      <td>LEFT</td>\n",
       "      <td>True</td>\n",
       "      <td>True</td>\n",
       "      <td>44000.0</td>\n",
       "      <td>482.0</td>\n",
       "      <td>569.0</td>\n",
       "    </tr>\n",
       "  </tbody>\n",
       "</table>\n",
       "</div>"
      ],
      "text/plain": [
       "  bodyType brand   color complectation_dict  \\\n",
       "0    Седан  AUDI  97948F        {'id': '0'}   \n",
       "1    Седан  AUDI  CACECB        {'id': '0'}   \n",
       "\n",
       "                                         description engineDisplacement  \\\n",
       "0  Машина на полном ходу\\nСостояние хорошее\\nС до...                2.3   \n",
       "1  Продажа от официального дилера KIA - Компания ...                1.8   \n",
       "\n",
       "   enginePower                                     equipment_dict fuelType  \\\n",
       "0        133.0                                                 {}   бензин   \n",
       "1         90.0  {'condition': True, 'audiosystem-cd': True, 'f...   бензин   \n",
       "\n",
       "   image  mileage  modelDate  \\\n",
       "0      5   359000     1990.0   \n",
       "1      7   204700     1982.0   \n",
       "\n",
       "                                          model_info model_name  \\\n",
       "0  {'code': '100', 'name': '100', 'ru_name': '100...        100   \n",
       "1  {'code': '100', 'name': '100', 'ru_name': '100...        100   \n",
       "\n",
       "                name  numberOfDoors            start_date priceCurrency  \\\n",
       "0  2.3 MT (133 л.с.)            4.0  2020-11-13T23:31:09Z           RUR   \n",
       "1   1.8 MT (90 л.с.)            4.0  2020-11-12T09:13:49Z           RUR   \n",
       "\n",
       "   productionDate     sell_id  \\\n",
       "0            1993  1101578354   \n",
       "1            1984  1101559676   \n",
       "\n",
       "                                           super_gen  vehicleConfiguration  \\\n",
       "0  {'id': '7879487', 'displacement': 2309, 'engin...  SEDAN MECHANICAL 2.3   \n",
       "1  {'id': '20388757', 'displacement': 1781, 'engi...  SEDAN MECHANICAL 1.8   \n",
       "\n",
       "  vehicleTransmission    vendor  Владельцы Владение       ПТС    Привод  Руль  \\\n",
       "0          MECHANICAL  EUROPEAN        3.0      NaN  ORIGINAL  передний  LEFT   \n",
       "1          MECHANICAL  EUROPEAN        3.0      NaN  ORIGINAL  передний  LEFT   \n",
       "\n",
       "   Состояние  Таможня     price  price_EUR  price_USD  \n",
       "0       True     True  106000.0     1161.0     1371.0  \n",
       "1       True     True   44000.0      482.0      569.0  "
      ]
     },
     "execution_count": 3,
     "metadata": {},
     "output_type": "execute_result"
    }
   ],
   "source": [
    "train1=pd.read_csv('all_auto_ru_14_11_2020.csv')\n",
    "train1.head(2)"
   ]
  },
  {
   "cell_type": "code",
   "execution_count": 4,
   "metadata": {},
   "outputs": [
    {
     "name": "stderr",
     "output_type": "stream",
     "text": [
      "C:\\Users\\Admin\\anaconda3\\lib\\site-packages\\IPython\\core\\interactiveshell.py:3071: DtypeWarning: Columns (20) have mixed types.Specify dtype option on import or set low_memory=False.\n",
      "  has_raised = await self.run_ast_nodes(code_ast.body, cell_name,\n"
     ]
    },
    {
     "data": {
      "text/html": [
       "<div>\n",
       "<style scoped>\n",
       "    .dataframe tbody tr th:only-of-type {\n",
       "        vertical-align: middle;\n",
       "    }\n",
       "\n",
       "    .dataframe tbody tr th {\n",
       "        vertical-align: top;\n",
       "    }\n",
       "\n",
       "    .dataframe thead th {\n",
       "        text-align: right;\n",
       "    }\n",
       "</style>\n",
       "<table border=\"1\" class=\"dataframe\">\n",
       "  <thead>\n",
       "    <tr style=\"text-align: right;\">\n",
       "      <th></th>\n",
       "      <th>bodyType</th>\n",
       "      <th>brand</th>\n",
       "      <th>car_url</th>\n",
       "      <th>color</th>\n",
       "      <th>complectation_dict</th>\n",
       "      <th>description</th>\n",
       "      <th>engineDisplacement</th>\n",
       "      <th>enginePower</th>\n",
       "      <th>equipment_dict</th>\n",
       "      <th>fuelType</th>\n",
       "      <th>image</th>\n",
       "      <th>mileage</th>\n",
       "      <th>modelDate</th>\n",
       "      <th>model_info</th>\n",
       "      <th>model_name</th>\n",
       "      <th>name</th>\n",
       "      <th>numberOfDoors</th>\n",
       "      <th>parsing_unixtime</th>\n",
       "      <th>priceCurrency</th>\n",
       "      <th>productionDate</th>\n",
       "      <th>sell_id</th>\n",
       "      <th>super_gen</th>\n",
       "      <th>vehicleConfiguration</th>\n",
       "      <th>vehicleTransmission</th>\n",
       "      <th>vendor</th>\n",
       "      <th>Владельцы</th>\n",
       "      <th>Владение</th>\n",
       "      <th>ПТС</th>\n",
       "      <th>Привод</th>\n",
       "      <th>Руль</th>\n",
       "      <th>Состояние</th>\n",
       "      <th>Таможня</th>\n",
       "      <th>is_train</th>\n",
       "      <th>price</th>\n",
       "    </tr>\n",
       "  </thead>\n",
       "  <tbody>\n",
       "    <tr>\n",
       "      <th>0</th>\n",
       "      <td>лифтбек</td>\n",
       "      <td>SKODA</td>\n",
       "      <td>https://auto.ru/cars/used/sale/skoda/octavia/1...</td>\n",
       "      <td>синий</td>\n",
       "      <td>NaN</td>\n",
       "      <td>Все автомобили, представленные в продаже, прох...</td>\n",
       "      <td>1.2</td>\n",
       "      <td>105.0</td>\n",
       "      <td>{\"engine-proof\":true,\"tinted-glass\":true,\"airb...</td>\n",
       "      <td>бензин</td>\n",
       "      <td>https://autoru.naydex.net/o9DBXQ270/5ac010hAY0...</td>\n",
       "      <td>74000</td>\n",
       "      <td>2013.0</td>\n",
       "      <td>{\"code\":\"OCTAVIA\",\"name\":\"Octavia\",\"ru_name\":\"...</td>\n",
       "      <td>OCTAVIA</td>\n",
       "      <td>1.2 AMT (105 л.с.)</td>\n",
       "      <td>5.0</td>\n",
       "      <td>1603226273</td>\n",
       "      <td>RUB</td>\n",
       "      <td>2014</td>\n",
       "      <td>1100575026</td>\n",
       "      <td>{\"id\":\"10373605\",\"displacement\":1197,\"engine_t...</td>\n",
       "      <td>LIFTBACK ROBOT 1.2</td>\n",
       "      <td>роботизированная</td>\n",
       "      <td>EUROPEAN</td>\n",
       "      <td>3 или более</td>\n",
       "      <td>NaN</td>\n",
       "      <td>Оригинал</td>\n",
       "      <td>передний</td>\n",
       "      <td>Левый</td>\n",
       "      <td>Не требует ремонта</td>\n",
       "      <td>Растаможен</td>\n",
       "      <td>False</td>\n",
       "      <td>0</td>\n",
       "    </tr>\n",
       "    <tr>\n",
       "      <th>1</th>\n",
       "      <td>лифтбек</td>\n",
       "      <td>SKODA</td>\n",
       "      <td>https://auto.ru/cars/used/sale/skoda/octavia/1...</td>\n",
       "      <td>чёрный</td>\n",
       "      <td>NaN</td>\n",
       "      <td>ЛОТ: 01217195\\nАвтопрага Север\\nДанный автомоб...</td>\n",
       "      <td>1.6</td>\n",
       "      <td>110.0</td>\n",
       "      <td>{\"cruise-control\":true,\"asr\":true,\"esp\":true,\"...</td>\n",
       "      <td>бензин</td>\n",
       "      <td>https://autoru.naydex.net/o9DBXQ270/5ac010hAY0...</td>\n",
       "      <td>60563</td>\n",
       "      <td>2017.0</td>\n",
       "      <td>{\"code\":\"OCTAVIA\",\"name\":\"Octavia\",\"ru_name\":\"...</td>\n",
       "      <td>OCTAVIA</td>\n",
       "      <td>1.6 MT (110 л.с.)</td>\n",
       "      <td>5.0</td>\n",
       "      <td>1603226277</td>\n",
       "      <td>RUB</td>\n",
       "      <td>2017</td>\n",
       "      <td>1100549428</td>\n",
       "      <td>{\"id\":\"20913311\",\"displacement\":1598,\"engine_t...</td>\n",
       "      <td>LIFTBACK MECHANICAL 1.6</td>\n",
       "      <td>механическая</td>\n",
       "      <td>EUROPEAN</td>\n",
       "      <td>1 владелец</td>\n",
       "      <td>NaN</td>\n",
       "      <td>Оригинал</td>\n",
       "      <td>передний</td>\n",
       "      <td>Левый</td>\n",
       "      <td>Не требует ремонта</td>\n",
       "      <td>Растаможен</td>\n",
       "      <td>False</td>\n",
       "      <td>0</td>\n",
       "    </tr>\n",
       "  </tbody>\n",
       "</table>\n",
       "</div>"
      ],
      "text/plain": [
       "  bodyType  brand                                            car_url   color  \\\n",
       "0  лифтбек  SKODA  https://auto.ru/cars/used/sale/skoda/octavia/1...   синий   \n",
       "1  лифтбек  SKODA  https://auto.ru/cars/used/sale/skoda/octavia/1...  чёрный   \n",
       "\n",
       "  complectation_dict                                        description  \\\n",
       "0                NaN  Все автомобили, представленные в продаже, прох...   \n",
       "1                NaN  ЛОТ: 01217195\\nАвтопрага Север\\nДанный автомоб...   \n",
       "\n",
       "   engineDisplacement  enginePower  \\\n",
       "0                 1.2        105.0   \n",
       "1                 1.6        110.0   \n",
       "\n",
       "                                      equipment_dict fuelType  \\\n",
       "0  {\"engine-proof\":true,\"tinted-glass\":true,\"airb...   бензин   \n",
       "1  {\"cruise-control\":true,\"asr\":true,\"esp\":true,\"...   бензин   \n",
       "\n",
       "                                               image  mileage  modelDate  \\\n",
       "0  https://autoru.naydex.net/o9DBXQ270/5ac010hAY0...    74000     2013.0   \n",
       "1  https://autoru.naydex.net/o9DBXQ270/5ac010hAY0...    60563     2017.0   \n",
       "\n",
       "                                          model_info model_name  \\\n",
       "0  {\"code\":\"OCTAVIA\",\"name\":\"Octavia\",\"ru_name\":\"...    OCTAVIA   \n",
       "1  {\"code\":\"OCTAVIA\",\"name\":\"Octavia\",\"ru_name\":\"...    OCTAVIA   \n",
       "\n",
       "                 name  numberOfDoors  parsing_unixtime priceCurrency  \\\n",
       "0  1.2 AMT (105 л.с.)            5.0        1603226273           RUB   \n",
       "1   1.6 MT (110 л.с.)            5.0        1603226277           RUB   \n",
       "\n",
       "   productionDate     sell_id  \\\n",
       "0            2014  1100575026   \n",
       "1            2017  1100549428   \n",
       "\n",
       "                                           super_gen     vehicleConfiguration  \\\n",
       "0  {\"id\":\"10373605\",\"displacement\":1197,\"engine_t...       LIFTBACK ROBOT 1.2   \n",
       "1  {\"id\":\"20913311\",\"displacement\":1598,\"engine_t...  LIFTBACK MECHANICAL 1.6   \n",
       "\n",
       "  vehicleTransmission    vendor    Владельцы Владение       ПТС    Привод  \\\n",
       "0    роботизированная  EUROPEAN  3 или более      NaN  Оригинал  передний   \n",
       "1        механическая  EUROPEAN   1 владелец      NaN  Оригинал  передний   \n",
       "\n",
       "    Руль           Состояние     Таможня  is_train  price  \n",
       "0  Левый  Не требует ремонта  Растаможен     False      0  \n",
       "1  Левый  Не требует ремонта  Растаможен     False      0  "
      ]
     },
     "execution_count": 4,
     "metadata": {},
     "output_type": "execute_result"
    }
   ],
   "source": [
    "train2=pd.read_csv('data1.csv')\n",
    "train2.head(2)"
   ]
  },
  {
   "cell_type": "code",
   "execution_count": 5,
   "metadata": {},
   "outputs": [
    {
     "data": {
      "text/html": [
       "<div>\n",
       "<style scoped>\n",
       "    .dataframe tbody tr th:only-of-type {\n",
       "        vertical-align: middle;\n",
       "    }\n",
       "\n",
       "    .dataframe tbody tr th {\n",
       "        vertical-align: top;\n",
       "    }\n",
       "\n",
       "    .dataframe thead th {\n",
       "        text-align: right;\n",
       "    }\n",
       "</style>\n",
       "<table border=\"1\" class=\"dataframe\">\n",
       "  <thead>\n",
       "    <tr style=\"text-align: right;\">\n",
       "      <th></th>\n",
       "      <th>bodyType</th>\n",
       "      <th>brand</th>\n",
       "      <th>color</th>\n",
       "      <th>engineDisplacement</th>\n",
       "      <th>enginePower</th>\n",
       "      <th>fuelType</th>\n",
       "      <th>mileage</th>\n",
       "      <th>productionDate</th>\n",
       "      <th>model_name</th>\n",
       "      <th>vehicleTransmission</th>\n",
       "      <th>Владение</th>\n",
       "      <th>ПТС</th>\n",
       "      <th>Привод</th>\n",
       "      <th>Руль</th>\n",
       "      <th>Состояние</th>\n",
       "      <th>Таможня</th>\n",
       "      <th>price</th>\n",
       "      <th>car_url</th>\n",
       "    </tr>\n",
       "  </thead>\n",
       "  <tbody>\n",
       "    <tr>\n",
       "      <th>0</th>\n",
       "      <td>седан</td>\n",
       "      <td>a6</td>\n",
       "      <td>чёрный</td>\n",
       "      <td>3.0</td>\n",
       "      <td>218.0</td>\n",
       "      <td>Бензин</td>\n",
       "      <td>215000</td>\n",
       "      <td>2005</td>\n",
       "      <td>audi</td>\n",
       "      <td>автоматическая</td>\n",
       "      <td>3</td>\n",
       "      <td>Оригинал</td>\n",
       "      <td>полный</td>\n",
       "      <td>Левый</td>\n",
       "      <td>Не требует ремонта</td>\n",
       "      <td>Растаможен</td>\n",
       "      <td>545000</td>\n",
       "      <td>https://auto.ru/cars/used/sale/audi/a6/1102441...</td>\n",
       "    </tr>\n",
       "    <tr>\n",
       "      <th>1</th>\n",
       "      <td>внедорожник 5 дв.</td>\n",
       "      <td>gx</td>\n",
       "      <td>серебристый</td>\n",
       "      <td>4.7</td>\n",
       "      <td>270.0</td>\n",
       "      <td>Бензин</td>\n",
       "      <td>183226</td>\n",
       "      <td>2005</td>\n",
       "      <td>lexus</td>\n",
       "      <td>автоматическая</td>\n",
       "      <td>3</td>\n",
       "      <td>Дубликат</td>\n",
       "      <td>полный</td>\n",
       "      <td>Левый</td>\n",
       "      <td>Не требует ремонта</td>\n",
       "      <td>Растаможен</td>\n",
       "      <td>1425000</td>\n",
       "      <td>https://auto.ru/cars/used/sale/lexus/gx/110184...</td>\n",
       "    </tr>\n",
       "  </tbody>\n",
       "</table>\n",
       "</div>"
      ],
      "text/plain": [
       "            bodyType brand        color  engineDisplacement  enginePower  \\\n",
       "0              седан    a6       чёрный                 3.0        218.0   \n",
       "1  внедорожник 5 дв.    gx  серебристый                 4.7        270.0   \n",
       "\n",
       "  fuelType  mileage  productionDate model_name vehicleTransmission  Владение  \\\n",
       "0   Бензин   215000            2005       audi      автоматическая         3   \n",
       "1   Бензин   183226            2005      lexus      автоматическая         3   \n",
       "\n",
       "        ПТС  Привод   Руль           Состояние     Таможня    price  \\\n",
       "0  Оригинал  полный  Левый  Не требует ремонта  Растаможен   545000   \n",
       "1  Дубликат  полный  Левый  Не требует ремонта  Растаможен  1425000   \n",
       "\n",
       "                                             car_url  \n",
       "0  https://auto.ru/cars/used/sale/audi/a6/1102441...  \n",
       "1  https://auto.ru/cars/used/sale/lexus/gx/110184...  "
      ]
     },
     "execution_count": 5,
     "metadata": {},
     "output_type": "execute_result"
    }
   ],
   "source": [
    "train3=pd.read_csv('my_train.csv')\n",
    "train3.head(2)"
   ]
  },
  {
   "cell_type": "code",
   "execution_count": 6,
   "metadata": {},
   "outputs": [],
   "source": [
    "train3.rename(columns={'Владение':'Владельцы'}, inplace=True)"
   ]
  },
  {
   "cell_type": "code",
   "execution_count": 7,
   "metadata": {},
   "outputs": [
    {
     "data": {
      "text/html": [
       "<div>\n",
       "<style scoped>\n",
       "    .dataframe tbody tr th:only-of-type {\n",
       "        vertical-align: middle;\n",
       "    }\n",
       "\n",
       "    .dataframe tbody tr th {\n",
       "        vertical-align: top;\n",
       "    }\n",
       "\n",
       "    .dataframe thead th {\n",
       "        text-align: right;\n",
       "    }\n",
       "</style>\n",
       "<table border=\"1\" class=\"dataframe\">\n",
       "  <thead>\n",
       "    <tr style=\"text-align: right;\">\n",
       "      <th></th>\n",
       "      <th>bodyType</th>\n",
       "      <th>brand</th>\n",
       "      <th>color</th>\n",
       "      <th>engineDisplacement</th>\n",
       "      <th>enginePower</th>\n",
       "      <th>fuelType</th>\n",
       "      <th>mileage</th>\n",
       "      <th>productionDate</th>\n",
       "      <th>model_name</th>\n",
       "      <th>vehicleTransmission</th>\n",
       "      <th>Владельцы</th>\n",
       "      <th>ПТС</th>\n",
       "      <th>Привод</th>\n",
       "      <th>Руль</th>\n",
       "      <th>Состояние</th>\n",
       "      <th>Таможня</th>\n",
       "      <th>price</th>\n",
       "      <th>car_url</th>\n",
       "    </tr>\n",
       "  </thead>\n",
       "  <tbody>\n",
       "    <tr>\n",
       "      <th>0</th>\n",
       "      <td>седан</td>\n",
       "      <td>a6</td>\n",
       "      <td>чёрный</td>\n",
       "      <td>3.0</td>\n",
       "      <td>218.0</td>\n",
       "      <td>Бензин</td>\n",
       "      <td>215000</td>\n",
       "      <td>2005</td>\n",
       "      <td>audi</td>\n",
       "      <td>автоматическая</td>\n",
       "      <td>3</td>\n",
       "      <td>Оригинал</td>\n",
       "      <td>полный</td>\n",
       "      <td>Левый</td>\n",
       "      <td>Не требует ремонта</td>\n",
       "      <td>Растаможен</td>\n",
       "      <td>545000</td>\n",
       "      <td>https://auto.ru/cars/used/sale/audi/a6/1102441...</td>\n",
       "    </tr>\n",
       "    <tr>\n",
       "      <th>1</th>\n",
       "      <td>внедорожник 5 дв.</td>\n",
       "      <td>gx</td>\n",
       "      <td>серебристый</td>\n",
       "      <td>4.7</td>\n",
       "      <td>270.0</td>\n",
       "      <td>Бензин</td>\n",
       "      <td>183226</td>\n",
       "      <td>2005</td>\n",
       "      <td>lexus</td>\n",
       "      <td>автоматическая</td>\n",
       "      <td>3</td>\n",
       "      <td>Дубликат</td>\n",
       "      <td>полный</td>\n",
       "      <td>Левый</td>\n",
       "      <td>Не требует ремонта</td>\n",
       "      <td>Растаможен</td>\n",
       "      <td>1425000</td>\n",
       "      <td>https://auto.ru/cars/used/sale/lexus/gx/110184...</td>\n",
       "    </tr>\n",
       "  </tbody>\n",
       "</table>\n",
       "</div>"
      ],
      "text/plain": [
       "            bodyType brand        color  engineDisplacement  enginePower  \\\n",
       "0              седан    a6       чёрный                 3.0        218.0   \n",
       "1  внедорожник 5 дв.    gx  серебристый                 4.7        270.0   \n",
       "\n",
       "  fuelType  mileage  productionDate model_name vehicleTransmission  Владельцы  \\\n",
       "0   Бензин   215000            2005       audi      автоматическая          3   \n",
       "1   Бензин   183226            2005      lexus      автоматическая          3   \n",
       "\n",
       "        ПТС  Привод   Руль           Состояние     Таможня    price  \\\n",
       "0  Оригинал  полный  Левый  Не требует ремонта  Растаможен   545000   \n",
       "1  Дубликат  полный  Левый  Не требует ремонта  Растаможен  1425000   \n",
       "\n",
       "                                             car_url  \n",
       "0  https://auto.ru/cars/used/sale/audi/a6/1102441...  \n",
       "1  https://auto.ru/cars/used/sale/lexus/gx/110184...  "
      ]
     },
     "execution_count": 7,
     "metadata": {},
     "output_type": "execute_result"
    }
   ],
   "source": [
    "train3.head(2)"
   ]
  },
  {
   "cell_type": "markdown",
   "metadata": {},
   "source": [
    "# Объединим датасеты и начнем полноценную обработку"
   ]
  },
  {
   "cell_type": "code",
   "execution_count": 8,
   "metadata": {},
   "outputs": [],
   "source": [
    "df_train1 = train1.copy()\n",
    "df_train2 = train2.copy()\n",
    "df_train3=train3.copy()\n",
    "df_test = test.copy()\n",
    "df_test['price'] = 0"
   ]
  },
  {
   "cell_type": "code",
   "execution_count": 9,
   "metadata": {},
   "outputs": [],
   "source": [
    "# ВАЖНО! дря корректной обработки признаков объединяем трейн и тест в один датасет\n",
    "df_train1['sample'] = 1 # помечаем где у нас трейн\n",
    "df_train2['sample'] = 1\n",
    "df_train3['sample'] = 1\n",
    "df_test['sample'] = 0 # помечаем где у нас тест"
   ]
  },
  {
   "cell_type": "code",
   "execution_count": 10,
   "metadata": {},
   "outputs": [],
   "source": [
    "frames_to_concat=[df_train1, df_train2, df_train3, df_test]\n",
    "data=pd.concat(frames_to_concat)"
   ]
  },
  {
   "cell_type": "code",
   "execution_count": 11,
   "metadata": {},
   "outputs": [
    {
     "name": "stdout",
     "output_type": "stream",
     "text": [
      "<class 'pandas.core.frame.DataFrame'>\n",
      "Int64Index: 237473 entries, 0 to 34685\n",
      "Data columns (total 38 columns):\n",
      " #   Column                Non-Null Count   Dtype  \n",
      "---  ------                --------------   -----  \n",
      " 0   bodyType              237471 non-null  object \n",
      " 1   brand                 237473 non-null  object \n",
      " 2   color                 237473 non-null  object \n",
      " 3   complectation_dict    126495 non-null  object \n",
      " 4   description           179364 non-null  object \n",
      " 5   engineDisplacement    237418 non-null  object \n",
      " 6   enginePower           237471 non-null  object \n",
      " 7   equipment_dict        163039 non-null  object \n",
      " 8   fuelType              237473 non-null  object \n",
      " 9   image                 183031 non-null  object \n",
      " 10  mileage               237473 non-null  int64  \n",
      " 11  modelDate             183029 non-null  float64\n",
      " 12  model_info            183031 non-null  object \n",
      " 13  model_name            237473 non-null  object \n",
      " 14  name                  183029 non-null  object \n",
      " 15  numberOfDoors         183029 non-null  float64\n",
      " 16  start_date            77449 non-null   object \n",
      " 17  priceCurrency         182734 non-null  object \n",
      " 18  productionDate        237473 non-null  int64  \n",
      " 19  sell_id               183031 non-null  object \n",
      " 20  super_gen             183029 non-null  object \n",
      " 21  vehicleConfiguration  183029 non-null  object \n",
      " 22  vehicleTransmission   237471 non-null  object \n",
      " 23  vendor                183031 non-null  object \n",
      " 24  Владельцы             221545 non-null  object \n",
      " 25  Владение              53628 non-null   object \n",
      " 26  ПТС                   237021 non-null  object \n",
      " 27  Привод                237471 non-null  object \n",
      " 28  Руль                  237473 non-null  object \n",
      " 29  Состояние             237473 non-null  object \n",
      " 30  Таможня               237473 non-null  object \n",
      " 31  price                 237176 non-null  float64\n",
      " 32  price_EUR             77152 non-null   float64\n",
      " 33  price_USD             77152 non-null   float64\n",
      " 34  sample                237473 non-null  int64  \n",
      " 35  car_url               160024 non-null  object \n",
      " 36  parsing_unixtime      105582 non-null  float64\n",
      " 37  is_train              70896 non-null   object \n",
      "dtypes: float64(6), int64(3), object(29)\n",
      "memory usage: 70.7+ MB\n"
     ]
    }
   ],
   "source": [
    "data.info()"
   ]
  },
  {
   "cell_type": "code",
   "execution_count": 12,
   "metadata": {},
   "outputs": [],
   "source": [
    "data.drop_duplicates(inplace=True)"
   ]
  },
  {
   "cell_type": "code",
   "execution_count": 13,
   "metadata": {},
   "outputs": [
    {
     "data": {
      "text/html": [
       "<div>\n",
       "<style scoped>\n",
       "    .dataframe tbody tr th:only-of-type {\n",
       "        vertical-align: middle;\n",
       "    }\n",
       "\n",
       "    .dataframe tbody tr th {\n",
       "        vertical-align: top;\n",
       "    }\n",
       "\n",
       "    .dataframe thead th {\n",
       "        text-align: right;\n",
       "    }\n",
       "</style>\n",
       "<table border=\"1\" class=\"dataframe\">\n",
       "  <thead>\n",
       "    <tr style=\"text-align: right;\">\n",
       "      <th></th>\n",
       "      <th>mileage</th>\n",
       "      <th>modelDate</th>\n",
       "      <th>numberOfDoors</th>\n",
       "      <th>productionDate</th>\n",
       "      <th>price</th>\n",
       "      <th>price_EUR</th>\n",
       "      <th>price_USD</th>\n",
       "      <th>sample</th>\n",
       "      <th>parsing_unixtime</th>\n",
       "    </tr>\n",
       "  </thead>\n",
       "  <tbody>\n",
       "    <tr>\n",
       "      <th>count</th>\n",
       "      <td>231795.000000</td>\n",
       "      <td>181523.000000</td>\n",
       "      <td>181523.000000</td>\n",
       "      <td>231795.000000</td>\n",
       "      <td>2.314990e+05</td>\n",
       "      <td>75647.000000</td>\n",
       "      <td>75647.000000</td>\n",
       "      <td>231795.000000</td>\n",
       "      <td>1.055820e+05</td>\n",
       "    </tr>\n",
       "    <tr>\n",
       "      <th>mean</th>\n",
       "      <td>133901.118803</td>\n",
       "      <td>2008.555340</td>\n",
       "      <td>4.507870</td>\n",
       "      <td>2011.228258</td>\n",
       "      <td>1.111057e+06</td>\n",
       "      <td>18753.518011</td>\n",
       "      <td>22147.857007</td>\n",
       "      <td>0.850359</td>\n",
       "      <td>5.489637e+11</td>\n",
       "    </tr>\n",
       "    <tr>\n",
       "      <th>std</th>\n",
       "      <td>99792.177876</td>\n",
       "      <td>7.668077</td>\n",
       "      <td>0.676409</td>\n",
       "      <td>6.829998</td>\n",
       "      <td>2.029156e+06</td>\n",
       "      <td>27663.338557</td>\n",
       "      <td>32670.404573</td>\n",
       "      <td>0.356720</td>\n",
       "      <td>7.576730e+11</td>\n",
       "    </tr>\n",
       "    <tr>\n",
       "      <th>min</th>\n",
       "      <td>0.000000</td>\n",
       "      <td>1904.000000</td>\n",
       "      <td>0.000000</td>\n",
       "      <td>1904.000000</td>\n",
       "      <td>0.000000e+00</td>\n",
       "      <td>219.000000</td>\n",
       "      <td>259.000000</td>\n",
       "      <td>0.000000</td>\n",
       "      <td>1.603107e+09</td>\n",
       "    </tr>\n",
       "    <tr>\n",
       "      <th>25%</th>\n",
       "      <td>60000.000000</td>\n",
       "      <td>2005.000000</td>\n",
       "      <td>4.000000</td>\n",
       "      <td>2008.000000</td>\n",
       "      <td>0.000000e+00</td>\n",
       "      <td>4380.000000</td>\n",
       "      <td>5173.000000</td>\n",
       "      <td>1.000000</td>\n",
       "      <td>1.603238e+09</td>\n",
       "    </tr>\n",
       "    <tr>\n",
       "      <th>50%</th>\n",
       "      <td>125000.000000</td>\n",
       "      <td>2010.000000</td>\n",
       "      <td>5.000000</td>\n",
       "      <td>2012.000000</td>\n",
       "      <td>4.950000e+05</td>\n",
       "      <td>8760.000000</td>\n",
       "      <td>10346.000000</td>\n",
       "      <td>1.000000</td>\n",
       "      <td>1.603292e+09</td>\n",
       "    </tr>\n",
       "    <tr>\n",
       "      <th>75%</th>\n",
       "      <td>190000.000000</td>\n",
       "      <td>2014.000000</td>\n",
       "      <td>5.000000</td>\n",
       "      <td>2016.000000</td>\n",
       "      <td>1.263000e+06</td>\n",
       "      <td>20685.000000</td>\n",
       "      <td>24429.000000</td>\n",
       "      <td>1.000000</td>\n",
       "      <td>1.599821e+12</td>\n",
       "    </tr>\n",
       "    <tr>\n",
       "      <th>max</th>\n",
       "      <td>1000000.000000</td>\n",
       "      <td>2020.000000</td>\n",
       "      <td>5.000000</td>\n",
       "      <td>2020.000000</td>\n",
       "      <td>1.300000e+08</td>\n",
       "      <td>788417.000000</td>\n",
       "      <td>931120.000000</td>\n",
       "      <td>1.000000</td>\n",
       "      <td>1.604714e+12</td>\n",
       "    </tr>\n",
       "  </tbody>\n",
       "</table>\n",
       "</div>"
      ],
      "text/plain": [
       "              mileage      modelDate  numberOfDoors  productionDate  \\\n",
       "count   231795.000000  181523.000000  181523.000000   231795.000000   \n",
       "mean    133901.118803    2008.555340       4.507870     2011.228258   \n",
       "std      99792.177876       7.668077       0.676409        6.829998   \n",
       "min          0.000000    1904.000000       0.000000     1904.000000   \n",
       "25%      60000.000000    2005.000000       4.000000     2008.000000   \n",
       "50%     125000.000000    2010.000000       5.000000     2012.000000   \n",
       "75%     190000.000000    2014.000000       5.000000     2016.000000   \n",
       "max    1000000.000000    2020.000000       5.000000     2020.000000   \n",
       "\n",
       "              price      price_EUR      price_USD         sample  \\\n",
       "count  2.314990e+05   75647.000000   75647.000000  231795.000000   \n",
       "mean   1.111057e+06   18753.518011   22147.857007       0.850359   \n",
       "std    2.029156e+06   27663.338557   32670.404573       0.356720   \n",
       "min    0.000000e+00     219.000000     259.000000       0.000000   \n",
       "25%    0.000000e+00    4380.000000    5173.000000       1.000000   \n",
       "50%    4.950000e+05    8760.000000   10346.000000       1.000000   \n",
       "75%    1.263000e+06   20685.000000   24429.000000       1.000000   \n",
       "max    1.300000e+08  788417.000000  931120.000000       1.000000   \n",
       "\n",
       "       parsing_unixtime  \n",
       "count      1.055820e+05  \n",
       "mean       5.489637e+11  \n",
       "std        7.576730e+11  \n",
       "min        1.603107e+09  \n",
       "25%        1.603238e+09  \n",
       "50%        1.603292e+09  \n",
       "75%        1.599821e+12  \n",
       "max        1.604714e+12  "
      ]
     },
     "execution_count": 13,
     "metadata": {},
     "output_type": "execute_result"
    }
   ],
   "source": [
    "data.describe()"
   ]
  },
  {
   "cell_type": "code",
   "execution_count": 14,
   "metadata": {},
   "outputs": [
    {
     "data": {
      "text/html": [
       "<div>\n",
       "<style scoped>\n",
       "    .dataframe tbody tr th:only-of-type {\n",
       "        vertical-align: middle;\n",
       "    }\n",
       "\n",
       "    .dataframe tbody tr th {\n",
       "        vertical-align: top;\n",
       "    }\n",
       "\n",
       "    .dataframe thead th {\n",
       "        text-align: right;\n",
       "    }\n",
       "</style>\n",
       "<table border=\"1\" class=\"dataframe\">\n",
       "  <thead>\n",
       "    <tr style=\"text-align: right;\">\n",
       "      <th></th>\n",
       "      <th>mileage</th>\n",
       "      <th>modelDate</th>\n",
       "      <th>numberOfDoors</th>\n",
       "      <th>productionDate</th>\n",
       "      <th>price</th>\n",
       "      <th>price_EUR</th>\n",
       "      <th>price_USD</th>\n",
       "      <th>sample</th>\n",
       "      <th>parsing_unixtime</th>\n",
       "    </tr>\n",
       "  </thead>\n",
       "  <tbody>\n",
       "    <tr>\n",
       "      <th>mileage</th>\n",
       "      <td>1.000000</td>\n",
       "      <td>-0.716473</td>\n",
       "      <td>-0.117390</td>\n",
       "      <td>-0.737579</td>\n",
       "      <td>-0.413436</td>\n",
       "      <td>-0.489995</td>\n",
       "      <td>-0.489995</td>\n",
       "      <td>-0.118159</td>\n",
       "      <td>-0.165940</td>\n",
       "    </tr>\n",
       "    <tr>\n",
       "      <th>modelDate</th>\n",
       "      <td>-0.716473</td>\n",
       "      <td>1.000000</td>\n",
       "      <td>0.213392</td>\n",
       "      <td>0.974668</td>\n",
       "      <td>0.400435</td>\n",
       "      <td>0.466775</td>\n",
       "      <td>0.466776</td>\n",
       "      <td>0.093846</td>\n",
       "      <td>0.155480</td>\n",
       "    </tr>\n",
       "    <tr>\n",
       "      <th>numberOfDoors</th>\n",
       "      <td>-0.117390</td>\n",
       "      <td>0.213392</td>\n",
       "      <td>1.000000</td>\n",
       "      <td>0.224636</td>\n",
       "      <td>0.093998</td>\n",
       "      <td>0.099599</td>\n",
       "      <td>0.099599</td>\n",
       "      <td>0.040995</td>\n",
       "      <td>0.070028</td>\n",
       "    </tr>\n",
       "    <tr>\n",
       "      <th>productionDate</th>\n",
       "      <td>-0.737579</td>\n",
       "      <td>0.974668</td>\n",
       "      <td>0.224636</td>\n",
       "      <td>1.000000</td>\n",
       "      <td>0.404361</td>\n",
       "      <td>0.470953</td>\n",
       "      <td>0.470954</td>\n",
       "      <td>0.120606</td>\n",
       "      <td>0.160377</td>\n",
       "    </tr>\n",
       "    <tr>\n",
       "      <th>price</th>\n",
       "      <td>-0.413436</td>\n",
       "      <td>0.400435</td>\n",
       "      <td>0.093998</td>\n",
       "      <td>0.404361</td>\n",
       "      <td>1.000000</td>\n",
       "      <td>1.000000</td>\n",
       "      <td>1.000000</td>\n",
       "      <td>0.229865</td>\n",
       "      <td>0.529271</td>\n",
       "    </tr>\n",
       "    <tr>\n",
       "      <th>price_EUR</th>\n",
       "      <td>-0.489995</td>\n",
       "      <td>0.466775</td>\n",
       "      <td>0.099599</td>\n",
       "      <td>0.470953</td>\n",
       "      <td>1.000000</td>\n",
       "      <td>1.000000</td>\n",
       "      <td>1.000000</td>\n",
       "      <td>NaN</td>\n",
       "      <td>NaN</td>\n",
       "    </tr>\n",
       "    <tr>\n",
       "      <th>price_USD</th>\n",
       "      <td>-0.489995</td>\n",
       "      <td>0.466776</td>\n",
       "      <td>0.099599</td>\n",
       "      <td>0.470954</td>\n",
       "      <td>1.000000</td>\n",
       "      <td>1.000000</td>\n",
       "      <td>1.000000</td>\n",
       "      <td>NaN</td>\n",
       "      <td>NaN</td>\n",
       "    </tr>\n",
       "    <tr>\n",
       "      <th>sample</th>\n",
       "      <td>-0.118159</td>\n",
       "      <td>0.093846</td>\n",
       "      <td>0.040995</td>\n",
       "      <td>0.120606</td>\n",
       "      <td>0.229865</td>\n",
       "      <td>NaN</td>\n",
       "      <td>NaN</td>\n",
       "      <td>1.000000</td>\n",
       "      <td>0.505312</td>\n",
       "    </tr>\n",
       "    <tr>\n",
       "      <th>parsing_unixtime</th>\n",
       "      <td>-0.165940</td>\n",
       "      <td>0.155480</td>\n",
       "      <td>0.070028</td>\n",
       "      <td>0.160377</td>\n",
       "      <td>0.529271</td>\n",
       "      <td>NaN</td>\n",
       "      <td>NaN</td>\n",
       "      <td>0.505312</td>\n",
       "      <td>1.000000</td>\n",
       "    </tr>\n",
       "  </tbody>\n",
       "</table>\n",
       "</div>"
      ],
      "text/plain": [
       "                   mileage  modelDate  numberOfDoors  productionDate  \\\n",
       "mileage           1.000000  -0.716473      -0.117390       -0.737579   \n",
       "modelDate        -0.716473   1.000000       0.213392        0.974668   \n",
       "numberOfDoors    -0.117390   0.213392       1.000000        0.224636   \n",
       "productionDate   -0.737579   0.974668       0.224636        1.000000   \n",
       "price            -0.413436   0.400435       0.093998        0.404361   \n",
       "price_EUR        -0.489995   0.466775       0.099599        0.470953   \n",
       "price_USD        -0.489995   0.466776       0.099599        0.470954   \n",
       "sample           -0.118159   0.093846       0.040995        0.120606   \n",
       "parsing_unixtime -0.165940   0.155480       0.070028        0.160377   \n",
       "\n",
       "                     price  price_EUR  price_USD    sample  parsing_unixtime  \n",
       "mileage          -0.413436  -0.489995  -0.489995 -0.118159         -0.165940  \n",
       "modelDate         0.400435   0.466775   0.466776  0.093846          0.155480  \n",
       "numberOfDoors     0.093998   0.099599   0.099599  0.040995          0.070028  \n",
       "productionDate    0.404361   0.470953   0.470954  0.120606          0.160377  \n",
       "price             1.000000   1.000000   1.000000  0.229865          0.529271  \n",
       "price_EUR         1.000000   1.000000   1.000000       NaN               NaN  \n",
       "price_USD         1.000000   1.000000   1.000000       NaN               NaN  \n",
       "sample            0.229865        NaN        NaN  1.000000          0.505312  \n",
       "parsing_unixtime  0.529271        NaN        NaN  0.505312          1.000000  "
      ]
     },
     "execution_count": 14,
     "metadata": {},
     "output_type": "execute_result"
    }
   ],
   "source": [
    "data.corr()"
   ]
  },
  {
   "cell_type": "code",
   "execution_count": 15,
   "metadata": {},
   "outputs": [
    {
     "data": {
      "text/plain": [
       "Index(['bodyType', 'brand', 'color', 'complectation_dict', 'description',\n",
       "       'engineDisplacement', 'enginePower', 'equipment_dict', 'fuelType',\n",
       "       'image', 'mileage', 'modelDate', 'model_info', 'model_name', 'name',\n",
       "       'numberOfDoors', 'start_date', 'priceCurrency', 'productionDate',\n",
       "       'sell_id', 'super_gen', 'vehicleConfiguration', 'vehicleTransmission',\n",
       "       'vendor', 'Владельцы', 'Владение', 'ПТС', 'Привод', 'Руль', 'Состояние',\n",
       "       'Таможня', 'price', 'price_EUR', 'price_USD', 'sample', 'car_url',\n",
       "       'parsing_unixtime', 'is_train'],\n",
       "      dtype='object')"
      ]
     },
     "execution_count": 15,
     "metadata": {},
     "output_type": "execute_result"
    }
   ],
   "source": [
    "data.columns"
   ]
  },
  {
   "cell_type": "code",
   "execution_count": 16,
   "metadata": {},
   "outputs": [
    {
     "name": "stdout",
     "output_type": "stream",
     "text": [
      "bodyType 192\n",
      "brand 975\n",
      "color 32\n",
      "complectation_dict 8154\n",
      "description 95824\n",
      "engineDisplacement 221\n",
      "enginePower 734\n",
      "equipment_dict 81639\n",
      "fuelType 13\n",
      "image 70583\n",
      "mileage 44393\n",
      "modelDate 75\n",
      "model_info 2618\n",
      "model_name 1369\n",
      "name 4780\n",
      "numberOfDoors 5\n",
      "start_date 58524\n",
      "priceCurrency 2\n",
      "productionDate 79\n",
      "sell_id 131649\n",
      "super_gen 17489\n",
      "vehicleConfiguration 1137\n",
      "vehicleTransmission 8\n",
      "vendor 6\n",
      "Владельцы 7\n",
      "Владение 572\n",
      "ПТС 4\n",
      "Привод 3\n",
      "Руль 4\n",
      "Состояние 2\n",
      "Таможня 2\n",
      "price 14215\n",
      "price_EUR 8973\n",
      "price_USD 9009\n",
      "sample 2\n",
      "car_url 110670\n",
      "parsing_unixtime 70314\n",
      "is_train 2\n"
     ]
    }
   ],
   "source": [
    "for i in data.columns:\n",
    "    print(i, len(data[i].value_counts()))"
   ]
  },
  {
   "cell_type": "code",
   "execution_count": 17,
   "metadata": {},
   "outputs": [
    {
     "name": "stdout",
     "output_type": "stream",
     "text": [
      "bodyType 2\n",
      "brand 0\n",
      "color 0\n",
      "complectation_dict 106806\n",
      "description 53893\n",
      "engineDisplacement 55\n",
      "enginePower 2\n",
      "equipment_dict 70262\n",
      "fuelType 0\n",
      "image 50270\n",
      "mileage 0\n",
      "modelDate 50272\n",
      "model_info 50270\n",
      "model_name 0\n",
      "name 50272\n",
      "numberOfDoors 50272\n",
      "start_date 155852\n",
      "priceCurrency 50566\n",
      "productionDate 0\n",
      "sell_id 50270\n",
      "super_gen 50272\n",
      "vehicleConfiguration 50272\n",
      "vehicleTransmission 2\n",
      "vendor 50270\n",
      "Владельцы 15692\n",
      "Владение 178601\n",
      "ПТС 451\n",
      "Привод 2\n",
      "Руль 0\n",
      "Состояние 0\n",
      "Таможня 0\n",
      "price 296\n",
      "price_EUR 156148\n",
      "price_USD 156148\n",
      "sample 0\n",
      "car_url 75943\n",
      "parsing_unixtime 126213\n",
      "is_train 160899\n"
     ]
    }
   ],
   "source": [
    "for i in data.columns:\n",
    "    print(i, len(data[data[i].isna()]))"
   ]
  },
  {
   "cell_type": "code",
   "execution_count": 18,
   "metadata": {},
   "outputs": [
    {
     "data": {
      "text/plain": [
       "bodyType                     2\n",
       "brand                        0\n",
       "color                        0\n",
       "complectation_dict      106806\n",
       "description              53893\n",
       "engineDisplacement          55\n",
       "enginePower                  2\n",
       "equipment_dict           70262\n",
       "fuelType                     0\n",
       "image                    50270\n",
       "mileage                      0\n",
       "modelDate                50272\n",
       "model_info               50270\n",
       "model_name                   0\n",
       "name                     50272\n",
       "numberOfDoors            50272\n",
       "start_date              155852\n",
       "priceCurrency            50566\n",
       "productionDate               0\n",
       "sell_id                  50270\n",
       "super_gen                50272\n",
       "vehicleConfiguration     50272\n",
       "vehicleTransmission          2\n",
       "vendor                   50270\n",
       "Владельцы                15692\n",
       "Владение                178601\n",
       "ПТС                        451\n",
       "Привод                       2\n",
       "Руль                         0\n",
       "Состояние                    0\n",
       "Таможня                      0\n",
       "price                      296\n",
       "price_EUR               156148\n",
       "price_USD               156148\n",
       "sample                       0\n",
       "car_url                  75943\n",
       "parsing_unixtime        126213\n",
       "is_train                160899\n",
       "dtype: int64"
      ]
     },
     "execution_count": 18,
     "metadata": {},
     "output_type": "execute_result"
    }
   ],
   "source": [
    "data.isna().sum()"
   ]
  },
  {
   "cell_type": "code",
   "execution_count": 19,
   "metadata": {},
   "outputs": [
    {
     "data": {
      "image/png": "[encoded data removed]",
      "text/plain": [
       "<Figure size 1440x864 with 1 Axes>"
      ]
     },
     "metadata": {
      "needs_background": "light"
     },
     "output_type": "display_data"
    }
   ],
   "source": [
    "import seaborn as sns\n",
    "fig, ax = plt.subplots(figsize=(20,12))\n",
    "sns_heatmap=sns.heatmap(data.isnull(), yticklabels=False, cbar=False, cmap='viridis')"
   ]
  },
  {
   "cell_type": "markdown",
   "metadata": {},
   "source": [
    "# Data Preproc"
   ]
  },
  {
   "cell_type": "code",
   "execution_count": 20,
   "metadata": {},
   "outputs": [
    {
     "name": "stdout",
     "output_type": "stream",
     "text": [
      "<class 'pandas.core.frame.DataFrame'>\n",
      "Int64Index: 231795 entries, 0 to 34685\n",
      "Data columns (total 38 columns):\n",
      " #   Column                Non-Null Count   Dtype  \n",
      "---  ------                --------------   -----  \n",
      " 0   bodyType              231793 non-null  object \n",
      " 1   brand                 231795 non-null  object \n",
      " 2   color                 231795 non-null  object \n",
      " 3   complectation_dict    124989 non-null  object \n",
      " 4   description           177902 non-null  object \n",
      " 5   engineDisplacement    231740 non-null  object \n",
      " 6   enginePower           231793 non-null  object \n",
      " 7   equipment_dict        161533 non-null  object \n",
      " 8   fuelType              231795 non-null  object \n",
      " 9   image                 181525 non-null  object \n",
      " 10  mileage               231795 non-null  int64  \n",
      " 11  modelDate             181523 non-null  float64\n",
      " 12  model_info            181525 non-null  object \n",
      " 13  model_name            231795 non-null  object \n",
      " 14  name                  181523 non-null  object \n",
      " 15  numberOfDoors         181523 non-null  float64\n",
      " 16  start_date            75943 non-null   object \n",
      " 17  priceCurrency         181229 non-null  object \n",
      " 18  productionDate        231795 non-null  int64  \n",
      " 19  sell_id               181525 non-null  object \n",
      " 20  super_gen             181523 non-null  object \n",
      " 21  vehicleConfiguration  181523 non-null  object \n",
      " 22  vehicleTransmission   231793 non-null  object \n",
      " 23  vendor                181525 non-null  object \n",
      " 24  Владельцы             216103 non-null  object \n",
      " 25  Владение              53194 non-null   object \n",
      " 26  ПТС                   231344 non-null  object \n",
      " 27  Привод                231793 non-null  object \n",
      " 28  Руль                  231795 non-null  object \n",
      " 29  Состояние             231795 non-null  object \n",
      " 30  Таможня               231795 non-null  object \n",
      " 31  price                 231499 non-null  float64\n",
      " 32  price_EUR             75647 non-null   float64\n",
      " 33  price_USD             75647 non-null   float64\n",
      " 34  sample                231795 non-null  int64  \n",
      " 35  car_url               155852 non-null  object \n",
      " 36  parsing_unixtime      105582 non-null  float64\n",
      " 37  is_train              70896 non-null   object \n",
      "dtypes: float64(6), int64(3), object(29)\n",
      "memory usage: 69.0+ MB\n"
     ]
    }
   ],
   "source": [
    "data.info()"
   ]
  },
  {
   "cell_type": "markdown",
   "metadata": {},
   "source": [
    "## bodyType "
   ]
  },
  {
   "cell_type": "code",
   "execution_count": 21,
   "metadata": {},
   "outputs": [
    {
     "data": {
      "text/plain": [
       "внедорожник 5 дв.                      59316\n",
       "седан                                  54332\n",
       "Внедорожник 5 дв.                      29534\n",
       "Седан                                  23609\n",
       "хэтчбек 5 дв.                          13117\n",
       "                                       ...  \n",
       "Пикап Полуторная кабина Regular Cab        1\n",
       "Седан LWB                                  1\n",
       "Купе SRT8                                  1\n",
       "Внедорожник 5 дв. L                        1\n",
       "Универсал 5 дв. California                 1\n",
       "Name: bodyType, Length: 192, dtype: int64"
      ]
     },
     "execution_count": 21,
     "metadata": {},
     "output_type": "execute_result"
    }
   ],
   "source": [
    "data['bodyType'].value_counts()"
   ]
  },
  {
   "cell_type": "markdown",
   "metadata": {},
   "source": [
    "Заполним пропуски на самое популярное значение"
   ]
  },
  {
   "cell_type": "code",
   "execution_count": 22,
   "metadata": {},
   "outputs": [
    {
     "data": {
      "text/plain": [
       "2"
      ]
     },
     "execution_count": 22,
     "metadata": {},
     "output_type": "execute_result"
    }
   ],
   "source": [
    "data.bodyType.isna().sum()"
   ]
  },
  {
   "cell_type": "code",
   "execution_count": 23,
   "metadata": {},
   "outputs": [],
   "source": [
    "data.bodyType.fillna(data.bodyType.value_counts().index[0], inplace=True)"
   ]
  },
  {
   "cell_type": "code",
   "execution_count": 24,
   "metadata": {},
   "outputs": [],
   "source": [
    "data['bodyType'] = data['bodyType'].apply(lambda x: re.findall(r'\\w+', x)[0])\n",
    "data.bodyType=data.bodyType.apply(lambda x: str(x.lower()))"
   ]
  },
  {
   "cell_type": "code",
   "execution_count": 25,
   "metadata": {},
   "outputs": [],
   "source": [
    "other_cars = [ 'кабриолет', 'родстер', 'фургон','микровэн', 'лимузин', 'тарга', 'фастбек']\n",
    "data['bodyType'] = data['bodyType'].apply(lambda x: 'другое' if x in other_cars else x )\n",
    "data['bodyType'] = data['bodyType'].astype('category')"
   ]
  },
  {
   "cell_type": "code",
   "execution_count": 26,
   "metadata": {},
   "outputs": [
    {
     "data": {
      "text/plain": [
       "<matplotlib.axes._subplots.AxesSubplot at 0x26b2fad84f0>"
      ]
     },
     "execution_count": 26,
     "metadata": {},
     "output_type": "execute_result"
    },
    {
     "data": {
      "image/png": "[encoded data removed]",
      "text/plain": [
       "<Figure size 432x288 with 1 Axes>"
      ]
     },
     "metadata": {
      "needs_background": "light"
     },
     "output_type": "display_data"
    }
   ],
   "source": [
    "data['bodyType'].value_counts().plot(kind='bar')"
   ]
  },
  {
   "cell_type": "markdown",
   "metadata": {},
   "source": [
    "##  Brand"
   ]
  },
  {
   "cell_type": "code",
   "execution_count": 27,
   "metadata": {},
   "outputs": [
    {
     "data": {
      "text/plain": [
       "MERCEDES          21907\n",
       "BMW               18683\n",
       "VOLKSWAGEN        18307\n",
       "NISSAN            16883\n",
       "TOYOTA            14554\n",
       "                  ...  \n",
       "insignia_opc          1\n",
       "karma                 1\n",
       "pixo                  1\n",
       "corolla_rumion        1\n",
       "7_crossback           1\n",
       "Name: brand, Length: 975, dtype: int64"
      ]
     },
     "execution_count": 27,
     "metadata": {},
     "output_type": "execute_result"
    }
   ],
   "source": [
    "data.brand.value_counts()"
   ]
  },
  {
   "cell_type": "code",
   "execution_count": 28,
   "metadata": {},
   "outputs": [],
   "source": [
    "data.brand=data.brand.apply(lambda x: x.lower())"
   ]
  },
  {
   "cell_type": "code",
   "execution_count": 29,
   "metadata": {},
   "outputs": [
    {
     "data": {
      "text/plain": [
       "<matplotlib.axes._subplots.AxesSubplot at 0x26b3cb40640>"
      ]
     },
     "execution_count": 29,
     "metadata": {},
     "output_type": "execute_result"
    },
    {
     "data": {
      "image/png": "[encoded data removed]",
      "text/plain": [
       "<Figure size 432x288 with 1 Axes>"
      ]
     },
     "metadata": {
      "needs_background": "light"
     },
     "output_type": "display_data"
    }
   ],
   "source": [
    "brand_list = list(data.brand.value_counts()[:15].keys())\n",
    "data.brand = data.brand.apply(lambda x: x if x in brand_list else 'OTHER')\n",
    "data.brand = data.brand.astype('category')\n",
    "data.brand.value_counts().plot(kind='bar')"
   ]
  },
  {
   "cell_type": "markdown",
   "metadata": {},
   "source": [
    "## color "
   ]
  },
  {
   "cell_type": "code",
   "execution_count": 30,
   "metadata": {},
   "outputs": [
    {
     "data": {
      "text/plain": [
       "чёрный         47775\n",
       "белый          30183\n",
       "серый          23328\n",
       "040001         21185\n",
       "синий          14366\n",
       "серебристый    13997\n",
       "FAFBFB         13330\n",
       "97948F          9578\n",
       "CACECB          8767\n",
       "0000CC          8135\n",
       "красный         7193\n",
       "коричневый      5526\n",
       "EE1D19          4214\n",
       "зелёный         3831\n",
       "200204          3103\n",
       "бежевый         2504\n",
       "007F00          2200\n",
       "голубой         1955\n",
       "C49648          1700\n",
       "золотистый      1688\n",
       "22A0F8          1155\n",
       "фиолетовый      1111\n",
       "жёлтый           797\n",
       "оранжевый        787\n",
       "пурпурный        770\n",
       "FFD600           599\n",
       "DEA522           545\n",
       "660099           541\n",
       "FF8649           465\n",
       "4A2197           406\n",
       "розовый           41\n",
       "FFC0CB            20\n",
       "Name: color, dtype: int64"
      ]
     },
     "execution_count": 30,
     "metadata": {},
     "output_type": "execute_result"
    }
   ],
   "source": [
    "data.color.value_counts()"
   ]
  },
  {
   "cell_type": "code",
   "execution_count": 31,
   "metadata": {},
   "outputs": [],
   "source": [
    "colors = {\n",
    "'040001':'черный',\n",
    "'FAFBFB':'белый',\n",
    "'97948F':'серый',\n",
    "'CACECB':'серебристый',\n",
    "'0000CC':'синий',\n",
    "'EE1D19':'красный',\n",
    "'200204':'бордовый',\n",
    "'007F00':'зелёный',\n",
    "'C49648':'коричневый',\n",
    "'22A0F8':'голубой',\n",
    "'DEA522':'золотистый',\n",
    "'FFD600':'жёлтый',\n",
    "'660099':'пурпурный',\n",
    "'4A2197':'фиолетовый',\n",
    "'FF8649':'бежевый',\n",
    "'FFC0CB':'розовый',\n",
    "}"
   ]
  },
  {
   "cell_type": "code",
   "execution_count": 32,
   "metadata": {},
   "outputs": [],
   "source": [
    "data.color = data.color.replace(colors).apply(lambda x: x.lower())"
   ]
  },
  {
   "cell_type": "code",
   "execution_count": 33,
   "metadata": {},
   "outputs": [
    {
     "data": {
      "text/plain": [
       "<matplotlib.axes._subplots.AxesSubplot at 0x26b2f98f070>"
      ]
     },
     "execution_count": 33,
     "metadata": {},
     "output_type": "execute_result"
    },
    {
     "data": {
      "image/png": "[encoded data removed]",
      "text/plain": [
       "<Figure size 432x288 with 1 Axes>"
      ]
     },
     "metadata": {
      "needs_background": "light"
     },
     "output_type": "display_data"
    }
   ],
   "source": [
    "data.color = data.color.astype(\"category\")\n",
    "data.color.value_counts().plot(kind='bar')"
   ]
  },
  {
   "cell_type": "markdown",
   "metadata": {},
   "source": [
    "## complectation_dict "
   ]
  },
  {
   "cell_type": "code",
   "execution_count": 34,
   "metadata": {},
   "outputs": [
    {
     "data": {
      "text/plain": [
       "106806"
      ]
     },
     "execution_count": 34,
     "metadata": {},
     "output_type": "execute_result"
    }
   ],
   "source": [
    "data.complectation_dict.isna().sum()"
   ]
  },
  {
   "cell_type": "markdown",
   "metadata": {},
   "source": [
    " много пропусков"
   ]
  },
  {
   "cell_type": "markdown",
   "metadata": {},
   "source": [
    "## engineDisplacement "
   ]
  },
  {
   "cell_type": "code",
   "execution_count": 35,
   "metadata": {},
   "outputs": [
    {
     "data": {
      "text/plain": [
       "2.0          27297\n",
       "1.6          25186\n",
       "1.6          15563\n",
       "2.0          14942\n",
       "3.0          10925\n",
       "             ...  \n",
       "8.2              1\n",
       "7.7              1\n",
       "3.9 LTR          1\n",
       "универсал        1\n",
       "6.7d             1\n",
       "Name: engineDisplacement, Length: 221, dtype: int64"
      ]
     },
     "execution_count": 35,
     "metadata": {},
     "output_type": "execute_result"
    }
   ],
   "source": [
    "data.engineDisplacement.value_counts()"
   ]
  },
  {
   "cell_type": "code",
   "execution_count": 36,
   "metadata": {},
   "outputs": [
    {
     "data": {
      "text/plain": [
       "55"
      ]
     },
     "execution_count": 36,
     "metadata": {},
     "output_type": "execute_result"
    }
   ],
   "source": [
    "data.engineDisplacement.isna().sum()"
   ]
  },
  {
   "cell_type": "code",
   "execution_count": 37,
   "metadata": {},
   "outputs": [],
   "source": [
    "data.engineDisplacement.fillna(data.engineDisplacement.value_counts().index[0], inplace=True)"
   ]
  },
  {
   "cell_type": "code",
   "execution_count": 38,
   "metadata": {},
   "outputs": [
    {
     "data": {
      "text/plain": [
       "<matplotlib.axes._subplots.AxesSubplot at 0x26b2f6bc340>"
      ]
     },
     "execution_count": 38,
     "metadata": {},
     "output_type": "execute_result"
    },
    {
     "data": {
      "image/png": "[encoded data removed]",
      "text/plain": [
       "<Figure size 432x288 with 1 Axes>"
      ]
     },
     "metadata": {
      "needs_background": "light"
     },
     "output_type": "display_data"
    }
   ],
   "source": [
    "engine_list = list(data.engineDisplacement.value_counts()[:30].keys())\n",
    "data.engineDisplacement = data.engineDisplacement.apply(lambda x: x if x in engine_list else 'OTHER')\n",
    "data.engineDisplacement.value_counts().plot(kind='bar')"
   ]
  },
  {
   "cell_type": "markdown",
   "metadata": {},
   "source": [
    "## enginePower "
   ]
  },
  {
   "cell_type": "code",
   "execution_count": 39,
   "metadata": {},
   "outputs": [
    {
     "data": {
      "text/plain": [
       "150.0      15142\n",
       "249.0       9949\n",
       "140.0       5459\n",
       "110.0       5140\n",
       "105.0       4852\n",
       "           ...  \n",
       "341.0          1\n",
       "44 N12         1\n",
       "32 N12         1\n",
       "485 N12        1\n",
       "11.0           1\n",
       "Name: enginePower, Length: 734, dtype: int64"
      ]
     },
     "execution_count": 39,
     "metadata": {},
     "output_type": "execute_result"
    }
   ],
   "source": [
    "data.enginePower.value_counts()"
   ]
  },
  {
   "cell_type": "code",
   "execution_count": 40,
   "metadata": {},
   "outputs": [],
   "source": [
    "data.enginePower.isna().sum()\n",
    "data.enginePower.fillna(data.enginePower.value_counts().index[0], inplace=True)\n"
   ]
  },
  {
   "cell_type": "code",
   "execution_count": 41,
   "metadata": {},
   "outputs": [],
   "source": [
    "data.enginePower = data.enginePower.apply(lambda x: int(re.findall('(\\d+)', str(x))[0]))\n",
    "data.enginePower = data.enginePower.astype('int')"
   ]
  },
  {
   "cell_type": "code",
   "execution_count": 42,
   "metadata": {},
   "outputs": [
    {
     "data": {
      "text/plain": [
       "<matplotlib.axes._subplots.AxesSubplot at 0x26b0b1d6ee0>"
      ]
     },
     "execution_count": 42,
     "metadata": {},
     "output_type": "execute_result"
    },
    {
     "data": {
      "image/png": "[encoded data removed]",
      "text/plain": [
       "<Figure size 432x288 with 1 Axes>"
      ]
     },
     "metadata": {
      "needs_background": "light"
     },
     "output_type": "display_data"
    }
   ],
   "source": [
    "sns.distplot(data.enginePower, kde = False, rug=False, color='b', bins=80)"
   ]
  },
  {
   "cell_type": "code",
   "execution_count": 43,
   "metadata": {},
   "outputs": [
    {
     "data": {
      "text/plain": [
       "<matplotlib.axes._subplots.AxesSubplot at 0x26b2de72f70>"
      ]
     },
     "execution_count": 43,
     "metadata": {},
     "output_type": "execute_result"
    },
    {
     "data": {
      "image/png": "[encoded data removed]",
      "text/plain": [
       "<Figure size 432x288 with 1 Axes>"
      ]
     },
     "metadata": {
      "needs_background": "light"
     },
     "output_type": "display_data"
    }
   ],
   "source": [
    "data.enginePower.sort_values().plot.hist(bins=20)"
   ]
  },
  {
   "cell_type": "markdown",
   "metadata": {},
   "source": [
    "## fuelType "
   ]
  },
  {
   "cell_type": "code",
   "execution_count": 44,
   "metadata": {},
   "outputs": [
    {
     "data": {
      "text/plain": [
       "бензин                                149327\n",
       "Бензин                                 42599\n",
       "дизель                                 30918\n",
       "Дизель                                  6916\n",
       "гибрид                                   983\n",
       "Бензин, газобаллонное оборудование       501\n",
       "электро                                  262\n",
       "Гибрид                                   232\n",
       "газ                                       33\n",
       "Газ                                       14\n",
       "Газ, газобаллонное оборудование            8\n",
       "минивэн                                    1\n",
       "универсал                                  1\n",
       "Name: fuelType, dtype: int64"
      ]
     },
     "execution_count": 44,
     "metadata": {},
     "output_type": "execute_result"
    }
   ],
   "source": [
    "data.fuelType.value_counts()"
   ]
  },
  {
   "cell_type": "code",
   "execution_count": 45,
   "metadata": {},
   "outputs": [],
   "source": [
    "fuel = {'бензин':'petrol',\n",
    "'Бензин':'petrol',\n",
    "'дизель':'diesel',\n",
    "'Дизель':'diesel',\n",
    "       'гибрид':'hybrid',\n",
    "       'Гибрид':'hybrid',\n",
    "       'электро':'elect',\n",
    "       'газ':'gas', 'Газ':'gas', 'Бензин, газобаллонное оборудование':'petrol',\n",
    "       'Газ, газобаллонное оборудование':'gas'}\n",
    "data.fuelType = data.fuelType.replace(fuel)"
   ]
  },
  {
   "cell_type": "code",
   "execution_count": 46,
   "metadata": {},
   "outputs": [
    {
     "data": {
      "text/plain": [
       "petrol       192427\n",
       "diesel        37834\n",
       "hybrid         1215\n",
       "elect           262\n",
       "gas              55\n",
       "минивэн           1\n",
       "универсал         1\n",
       "Name: fuelType, dtype: int64"
      ]
     },
     "execution_count": 46,
     "metadata": {},
     "output_type": "execute_result"
    }
   ],
   "source": [
    "data.fuelType.value_counts()"
   ]
  },
  {
   "cell_type": "code",
   "execution_count": 47,
   "metadata": {},
   "outputs": [],
   "source": [
    "fuel_list = list(data.fuelType.value_counts()[:5].keys())\n",
    "data.fuelType = data.fuelType.apply(lambda x: x if x in fuel_list else 'petrol')"
   ]
  },
  {
   "cell_type": "code",
   "execution_count": 48,
   "metadata": {},
   "outputs": [
    {
     "data": {
      "text/plain": [
       "petrol    192429\n",
       "diesel     37834\n",
       "hybrid      1215\n",
       "elect        262\n",
       "gas           55\n",
       "Name: fuelType, dtype: int64"
      ]
     },
     "execution_count": 48,
     "metadata": {},
     "output_type": "execute_result"
    }
   ],
   "source": [
    "data.fuelType.value_counts()"
   ]
  },
  {
   "cell_type": "code",
   "execution_count": 49,
   "metadata": {},
   "outputs": [
    {
     "data": {
      "text/plain": [
       "<matplotlib.axes._subplots.AxesSubplot at 0x26b2e242280>"
      ]
     },
     "execution_count": 49,
     "metadata": {},
     "output_type": "execute_result"
    },
    {
     "data": {
      "image/png": "[encoded data removed]",
      "text/plain": [
       "<Figure size 432x288 with 1 Axes>"
      ]
     },
     "metadata": {
      "needs_background": "light"
     },
     "output_type": "display_data"
    }
   ],
   "source": [
    "data.fuelType = data.fuelType.astype('category')\n",
    "data.fuelType.value_counts().plot(kind='bar')"
   ]
  },
  {
   "cell_type": "markdown",
   "metadata": {},
   "source": [
    "## mileage "
   ]
  },
  {
   "cell_type": "code",
   "execution_count": 50,
   "metadata": {},
   "outputs": [
    {
     "data": {
      "text/plain": [
       "0         22308\n",
       "200000     2407\n",
       "150000     2207\n",
       "180000     1940\n",
       "250000     1805\n",
       "          ...  \n",
       "195430        1\n",
       "174956        1\n",
       "148337        1\n",
       "156533        1\n",
       "201498        1\n",
       "Name: mileage, Length: 44393, dtype: int64"
      ]
     },
     "execution_count": 50,
     "metadata": {},
     "output_type": "execute_result"
    }
   ],
   "source": [
    "data.mileage.value_counts()"
   ]
  },
  {
   "cell_type": "code",
   "execution_count": 51,
   "metadata": {},
   "outputs": [
    {
     "data": {
      "text/plain": [
       "0"
      ]
     },
     "execution_count": 51,
     "metadata": {},
     "output_type": "execute_result"
    }
   ],
   "source": [
    "data.mileage.isna().sum()"
   ]
  },
  {
   "cell_type": "code",
   "execution_count": 52,
   "metadata": {},
   "outputs": [
    {
     "data": {
      "text/plain": [
       "<matplotlib.axes._subplots.AxesSubplot at 0x26b2e1bdeb0>"
      ]
     },
     "execution_count": 52,
     "metadata": {},
     "output_type": "execute_result"
    },
    {
     "data": {
      "image/png": "[encoded data removed]",
      "text/plain": [
       "<Figure size 432x288 with 1 Axes>"
      ]
     },
     "metadata": {
      "needs_background": "light"
     },
     "output_type": "display_data"
    }
   ],
   "source": [
    "sns.distplot(data.mileage, kde = False, rug=False, color='b')"
   ]
  },
  {
   "cell_type": "code",
   "execution_count": 53,
   "metadata": {},
   "outputs": [
    {
     "data": {
      "text/plain": [
       "<matplotlib.axes._subplots.AxesSubplot at 0x26b2dec8790>"
      ]
     },
     "execution_count": 53,
     "metadata": {},
     "output_type": "execute_result"
    },
    {
     "data": {
      "image/png": "[encoded data removed]",
      "text/plain": [
       "<Figure size 432x288 with 1 Axes>"
      ]
     },
     "metadata": {
      "needs_background": "light"
     },
     "output_type": "display_data"
    }
   ],
   "source": [
    "data.mileage=data.mileage.apply(lambda x: np.sqrt(x+1))\n",
    "sns.distplot(data.mileage, kde = False, rug=False, color='g')"
   ]
  },
  {
   "cell_type": "markdown",
   "metadata": {},
   "source": [
    "## modelDate "
   ]
  },
  {
   "cell_type": "code",
   "execution_count": 54,
   "metadata": {},
   "outputs": [
    {
     "data": {
      "text/plain": [
       "2010.0    11873\n",
       "2006.0    10723\n",
       "2009.0     9962\n",
       "2013.0     9861\n",
       "2012.0     9658\n",
       "          ...  \n",
       "1957.0        1\n",
       "1952.0        1\n",
       "1948.0        1\n",
       "1942.0        1\n",
       "1908.0        1\n",
       "Name: modelDate, Length: 75, dtype: int64"
      ]
     },
     "execution_count": 54,
     "metadata": {},
     "output_type": "execute_result"
    }
   ],
   "source": [
    "data.modelDate.value_counts()"
   ]
  },
  {
   "cell_type": "code",
   "execution_count": 55,
   "metadata": {},
   "outputs": [
    {
     "data": {
      "text/plain": [
       "50272"
      ]
     },
     "execution_count": 55,
     "metadata": {},
     "output_type": "execute_result"
    }
   ],
   "source": [
    "data.modelDate.isna().sum()"
   ]
  },
  {
   "cell_type": "code",
   "execution_count": 56,
   "metadata": {},
   "outputs": [],
   "source": [
    "data.modelDate.fillna(data.modelDate.value_counts().index[0], inplace=True)\n"
   ]
  },
  {
   "cell_type": "code",
   "execution_count": 57,
   "metadata": {},
   "outputs": [],
   "source": [
    "#data.modelDate=data[data.modelDate < 10]['modelDate'].apply(lambda x: np.exp(x))"
   ]
  },
  {
   "cell_type": "code",
   "execution_count": 58,
   "metadata": {},
   "outputs": [
    {
     "data": {
      "text/plain": [
       "<matplotlib.axes._subplots.AxesSubplot at 0x26b2de27c40>"
      ]
     },
     "execution_count": 58,
     "metadata": {},
     "output_type": "execute_result"
    },
    {
     "data": {
      "image/png": "[encoded data removed]",
      "text/plain": [
       "<Figure size 432x288 with 1 Axes>"
      ]
     },
     "metadata": {
      "needs_background": "light"
     },
     "output_type": "display_data"
    }
   ],
   "source": [
    "sns.distplot(data.modelDate, kde = False, rug=False, color='b', bins=100)"
   ]
  },
  {
   "cell_type": "markdown",
   "metadata": {},
   "source": [
    "## model_name "
   ]
  },
  {
   "cell_type": "code",
   "execution_count": 59,
   "metadata": {},
   "outputs": [
    {
     "data": {
      "text/plain": [
       "OCTAVIA       5342\n",
       "vaz           5200\n",
       "kia           4330\n",
       "hyundai       3775\n",
       "E_KLASSE      3367\n",
       "POLO          3344\n",
       "toyota        3304\n",
       "volkswagen    3178\n",
       "LANCER        3074\n",
       "PASSAT        3019\n",
       "5ER           2959\n",
       "OUTLANDER     2916\n",
       "mercedes      2847\n",
       "bmw           2815\n",
       "A6            2778\n",
       "X5            2732\n",
       "3ER           2724\n",
       "nissan        2706\n",
       "QASHQAI       2692\n",
       "A4            2619\n",
       "Name: model_name, dtype: int64"
      ]
     },
     "execution_count": 59,
     "metadata": {},
     "output_type": "execute_result"
    }
   ],
   "source": [
    "data.model_name.value_counts().head(20)"
   ]
  },
  {
   "cell_type": "code",
   "execution_count": 60,
   "metadata": {},
   "outputs": [
    {
     "data": {
      "text/plain": [
       "0"
      ]
     },
     "execution_count": 60,
     "metadata": {},
     "output_type": "execute_result"
    }
   ],
   "source": [
    "data.model_name.isna().sum()"
   ]
  },
  {
   "cell_type": "code",
   "execution_count": 61,
   "metadata": {},
   "outputs": [],
   "source": [
    "data.model_name=data.model_name.apply(lambda x: x.lower())"
   ]
  },
  {
   "cell_type": "code",
   "execution_count": 62,
   "metadata": {},
   "outputs": [
    {
     "data": {
      "text/plain": [
       "octavia      5342\n",
       "vaz          5200\n",
       "kia          4330\n",
       "hyundai      3775\n",
       "e_klasse     3367\n",
       "             ... \n",
       "foton           1\n",
       "wc              1\n",
       "viper           1\n",
       "x3 m            1\n",
       "megane_rs       1\n",
       "Name: model_name, Length: 1365, dtype: int64"
      ]
     },
     "execution_count": 62,
     "metadata": {},
     "output_type": "execute_result"
    }
   ],
   "source": [
    "data.model_name.value_counts()\n"
   ]
  },
  {
   "cell_type": "code",
   "execution_count": 63,
   "metadata": {},
   "outputs": [
    {
     "data": {
      "text/plain": [
       "OCTAVIA     1418\n",
       "5ER         1026\n",
       "LANCER       855\n",
       "E_KLASSE     809\n",
       "PASSAT       782\n",
       "            ... \n",
       "TARO           1\n",
       "POLO_GTI       1\n",
       "OTTI           1\n",
       "E3             1\n",
       "PASEO          1\n",
       "Name: model_name, Length: 544, dtype: int64"
      ]
     },
     "execution_count": 63,
     "metadata": {},
     "output_type": "execute_result"
    }
   ],
   "source": [
    "df_test.model_name.value_counts()"
   ]
  },
  {
   "cell_type": "code",
   "execution_count": 64,
   "metadata": {},
   "outputs": [],
   "source": [
    "df_test.model_name = df_test.model_name.apply(lambda x: x.lower())"
   ]
  },
  {
   "cell_type": "code",
   "execution_count": 65,
   "metadata": {},
   "outputs": [
    {
     "data": {
      "text/plain": [
       "<matplotlib.axes._subplots.AxesSubplot at 0x26b2f151c70>"
      ]
     },
     "execution_count": 65,
     "metadata": {},
     "output_type": "execute_result"
    },
    {
     "data": {
      "image/png": "[encoded data removed]",
      "text/plain": [
       "<Figure size 432x288 with 1 Axes>"
      ]
     },
     "metadata": {
      "needs_background": "light"
     },
     "output_type": "display_data"
    }
   ],
   "source": [
    "model_name_list = list(df_test['model_name'].value_counts()[:20].keys())\n",
    "data['model_name'] = data['model_name'].apply(lambda x: x if x in model_name_list else 'OTHER')\n",
    "data['model_name'] = data['model_name'].astype('category')\n",
    "data['model_name'].value_counts().plot(kind='bar')"
   ]
  },
  {
   "cell_type": "markdown",
   "metadata": {},
   "source": [
    "## Name "
   ]
  },
  {
   "cell_type": "code",
   "execution_count": 66,
   "metadata": {},
   "outputs": [
    {
     "data": {
      "text/plain": [
       "1.6 AT (110 л.с.)        2889\n",
       "2.0 AT (150 л.с.)        1784\n",
       "1.6 MT (110 л.с.)        1717\n",
       "1.6 MT (102 л.с.)        1651\n",
       "1.4 AMT (150 л.с.)       1534\n",
       "                         ... \n",
       "3.0 MT (245 л.с.) 4WD       1\n",
       "4.0 AT (178 л.с.) 4WD       1\n",
       "1.6d AMT (90 л.с.)          1\n",
       "1.8 MT (88 л.с.) 4WD        1\n",
       "2.4d MT (82 л.с.) 4WD       1\n",
       "Name: name, Length: 4780, dtype: int64"
      ]
     },
     "execution_count": 66,
     "metadata": {},
     "output_type": "execute_result"
    }
   ],
   "source": [
    "data.name.value_counts()"
   ]
  },
  {
   "cell_type": "code",
   "execution_count": 67,
   "metadata": {},
   "outputs": [
    {
     "data": {
      "text/plain": [
       "50272"
      ]
     },
     "execution_count": 67,
     "metadata": {},
     "output_type": "execute_result"
    }
   ],
   "source": [
    "data.name.isna().sum()"
   ]
  },
  {
   "cell_type": "markdown",
   "metadata": {},
   "source": [
    "## numberOfDoors "
   ]
  },
  {
   "cell_type": "code",
   "execution_count": 68,
   "metadata": {},
   "outputs": [
    {
     "data": {
      "text/plain": [
       "5.0    106001\n",
       "4.0     66729\n",
       "2.0      5006\n",
       "3.0      3783\n",
       "0.0         4\n",
       "Name: numberOfDoors, dtype: int64"
      ]
     },
     "execution_count": 68,
     "metadata": {},
     "output_type": "execute_result"
    }
   ],
   "source": [
    "data.numberOfDoors.value_counts()"
   ]
  },
  {
   "cell_type": "code",
   "execution_count": 69,
   "metadata": {},
   "outputs": [
    {
     "data": {
      "text/plain": [
       "50272"
      ]
     },
     "execution_count": 69,
     "metadata": {},
     "output_type": "execute_result"
    }
   ],
   "source": [
    "data.numberOfDoors.isna().sum()"
   ]
  },
  {
   "cell_type": "code",
   "execution_count": 70,
   "metadata": {},
   "outputs": [],
   "source": [
    "data.numberOdDoors=data.numberOfDoors.fillna(data.numberOfDoors.value_counts().index[0], inplace=True)\n"
   ]
  },
  {
   "cell_type": "code",
   "execution_count": 71,
   "metadata": {},
   "outputs": [],
   "source": [
    "doors_list = list(data.numberOfDoors.value_counts()[:3].keys())\n",
    "data.numberOfDoors = data.numberOfDoors.apply(lambda x: x if x in doors_list else 5.0)"
   ]
  },
  {
   "cell_type": "code",
   "execution_count": 72,
   "metadata": {},
   "outputs": [
    {
     "data": {
      "text/plain": [
       "<matplotlib.axes._subplots.AxesSubplot at 0x26b0b0b2e20>"
      ]
     },
     "execution_count": 72,
     "metadata": {},
     "output_type": "execute_result"
    },
    {
     "data": {
      "image/png": "[encoded data removed]",
      "text/plain": [
       "<Figure size 432x288 with 1 Axes>"
      ]
     },
     "metadata": {
      "needs_background": "light"
     },
     "output_type": "display_data"
    }
   ],
   "source": [
    "data.numberOfDoors.value_counts().plot(kind='bar')"
   ]
  },
  {
   "cell_type": "markdown",
   "metadata": {},
   "source": [
    "## productionDate "
   ]
  },
  {
   "cell_type": "code",
   "execution_count": 73,
   "metadata": {},
   "outputs": [
    {
     "data": {
      "text/plain": [
       "2020    26047\n",
       "2012    16150\n",
       "2008    15956\n",
       "2011    15285\n",
       "2013    14802\n",
       "        ...  \n",
       "1928        1\n",
       "1927        1\n",
       "1943        1\n",
       "1956        1\n",
       "1923        1\n",
       "Name: productionDate, Length: 79, dtype: int64"
      ]
     },
     "execution_count": 73,
     "metadata": {},
     "output_type": "execute_result"
    }
   ],
   "source": [
    "data.productionDate.value_counts()"
   ]
  },
  {
   "cell_type": "code",
   "execution_count": 74,
   "metadata": {},
   "outputs": [
    {
     "data": {
      "text/plain": [
       "0"
      ]
     },
     "execution_count": 74,
     "metadata": {},
     "output_type": "execute_result"
    }
   ],
   "source": [
    "data.productionDate.isna().sum()"
   ]
  },
  {
   "cell_type": "code",
   "execution_count": 75,
   "metadata": {},
   "outputs": [
    {
     "data": {
      "text/plain": [
       "<matplotlib.axes._subplots.AxesSubplot at 0x26b17b6a070>"
      ]
     },
     "execution_count": 75,
     "metadata": {},
     "output_type": "execute_result"
    },
    {
     "data": {
      "image/png": "[encoded data removed]",
      "text/plain": [
       "<Figure size 432x288 with 1 Axes>"
      ]
     },
     "metadata": {
      "needs_background": "light"
     },
     "output_type": "display_data"
    }
   ],
   "source": [
    "sns.distplot(data['productionDate'], kde = False, rug=False, color='b', bins=50)"
   ]
  },
  {
   "cell_type": "markdown",
   "metadata": {},
   "source": [
    "## vehicleConfiguration "
   ]
  },
  {
   "cell_type": "code",
   "execution_count": 76,
   "metadata": {},
   "outputs": [
    {
     "data": {
      "text/plain": [
       "ALLROAD_5_DOORS AUTOMATIC 2.0     9078\n",
       "ALLROAD_5_DOORS AUTOMATIC 3.0     8833\n",
       "SEDAN AUTOMATIC 2.0               7899\n",
       "SEDAN MECHANICAL 1.6              7048\n",
       "ALLROAD_5_DOORS VARIATOR 2.0      6978\n",
       "                                  ... \n",
       "ALLROAD_5_DOORS AUTOMATIC 6.5d       1\n",
       "LIFTBACK AUTOMATIC 2.9               1\n",
       "PICKUP_ONE MECHANICAL 4.9            1\n",
       "SEDAN AUTOMATIC 3.9d                 1\n",
       "HATCHBACK_5_DOORS ROBOT 0.8          1\n",
       "Name: vehicleConfiguration, Length: 1137, dtype: int64"
      ]
     },
     "execution_count": 76,
     "metadata": {},
     "output_type": "execute_result"
    }
   ],
   "source": [
    "data.vehicleConfiguration.value_counts()"
   ]
  },
  {
   "cell_type": "code",
   "execution_count": 77,
   "metadata": {},
   "outputs": [
    {
     "data": {
      "text/plain": [
       "50272"
      ]
     },
     "execution_count": 77,
     "metadata": {},
     "output_type": "execute_result"
    }
   ],
   "source": [
    "data.vehicleConfiguration.isna().sum()"
   ]
  },
  {
   "cell_type": "markdown",
   "metadata": {},
   "source": [
    "## vehicleTransmission "
   ]
  },
  {
   "cell_type": "code",
   "execution_count": 78,
   "metadata": {},
   "outputs": [
    {
     "data": {
      "text/plain": [
       "2"
      ]
     },
     "execution_count": 78,
     "metadata": {},
     "output_type": "execute_result"
    }
   ],
   "source": [
    "data.vehicleTransmission.isna().sum()"
   ]
  },
  {
   "cell_type": "code",
   "execution_count": 79,
   "metadata": {},
   "outputs": [
    {
     "data": {
      "text/plain": [
       "автоматическая      82854\n",
       "AUTOMATIC           42072\n",
       "механическая        39336\n",
       "MECHANICAL          21170\n",
       "роботизированная    16944\n",
       "вариатор            16718\n",
       "ROBOT                7335\n",
       "VARIATOR             5364\n",
       "Name: vehicleTransmission, dtype: int64"
      ]
     },
     "execution_count": 79,
     "metadata": {},
     "output_type": "execute_result"
    }
   ],
   "source": [
    "data.vehicleTransmission.value_counts()"
   ]
  },
  {
   "cell_type": "code",
   "execution_count": 80,
   "metadata": {},
   "outputs": [],
   "source": [
    "vehicle = {'AUTOMATIC':'автоматическая',\n",
    "'MECHANICAL':'механическая',\n",
    "'ROBOT':'роботизированная',\n",
    "'VARIATOR':'вариатор'}\n",
    "data.vehicleTransmission = data.vehicleTransmission.replace(vehicle)"
   ]
  },
  {
   "cell_type": "code",
   "execution_count": 81,
   "metadata": {},
   "outputs": [],
   "source": [
    "data.vehicleTransmission.fillna('автоматическая', inplace=True)"
   ]
  },
  {
   "cell_type": "code",
   "execution_count": 82,
   "metadata": {},
   "outputs": [
    {
     "data": {
      "text/plain": [
       "автоматическая      124928\n",
       "механическая         60506\n",
       "роботизированная     24279\n",
       "вариатор             22082\n",
       "Name: vehicleTransmission, dtype: int64"
      ]
     },
     "execution_count": 82,
     "metadata": {},
     "output_type": "execute_result"
    }
   ],
   "source": [
    "data.vehicleTransmission.value_counts()"
   ]
  },
  {
   "cell_type": "code",
   "execution_count": 83,
   "metadata": {},
   "outputs": [
    {
     "data": {
      "text/plain": [
       "<matplotlib.axes._subplots.AxesSubplot at 0x26b17b76bb0>"
      ]
     },
     "execution_count": 83,
     "metadata": {},
     "output_type": "execute_result"
    },
    {
     "data": {
      "image/png": "[encoded data removed]",
      "text/plain": [
       "<Figure size 432x288 with 1 Axes>"
      ]
     },
     "metadata": {
      "needs_background": "light"
     },
     "output_type": "display_data"
    }
   ],
   "source": [
    "data.vehicleTransmission = data.vehicleTransmission.astype('category')\n",
    "data.vehicleTransmission.value_counts().plot.bar()"
   ]
  },
  {
   "cell_type": "markdown",
   "metadata": {},
   "source": [
    "## vendor "
   ]
  },
  {
   "cell_type": "code",
   "execution_count": 84,
   "metadata": {},
   "outputs": [
    {
     "data": {
      "text/plain": [
       "EUROPEAN    102411\n",
       "JAPANESE     59907\n",
       "KOREAN        9710\n",
       "AMERICAN      7389\n",
       "RUSSIAN       1061\n",
       "CHINESE       1047\n",
       "Name: vendor, dtype: int64"
      ]
     },
     "execution_count": 84,
     "metadata": {},
     "output_type": "execute_result"
    }
   ],
   "source": [
    "data.vendor.value_counts()"
   ]
  },
  {
   "cell_type": "code",
   "execution_count": 85,
   "metadata": {},
   "outputs": [
    {
     "data": {
      "text/plain": [
       "50270"
      ]
     },
     "execution_count": 85,
     "metadata": {},
     "output_type": "execute_result"
    }
   ],
   "source": [
    "data.vendor.isna().sum()"
   ]
  },
  {
   "cell_type": "code",
   "execution_count": 86,
   "metadata": {},
   "outputs": [],
   "source": [
    "data.vendor=data.vendor.fillna(data.vendor.describe().top)"
   ]
  },
  {
   "cell_type": "code",
   "execution_count": 87,
   "metadata": {},
   "outputs": [
    {
     "data": {
      "text/plain": [
       "EUROPEAN    152681\n",
       "JAPANESE     59907\n",
       "KOREAN        9710\n",
       "AMERICAN      7389\n",
       "RUSSIAN       1061\n",
       "CHINESE       1047\n",
       "Name: vendor, dtype: int64"
      ]
     },
     "execution_count": 87,
     "metadata": {},
     "output_type": "execute_result"
    }
   ],
   "source": [
    "data.vendor.value_counts()"
   ]
  },
  {
   "cell_type": "code",
   "execution_count": 88,
   "metadata": {},
   "outputs": [
    {
     "data": {
      "image/png": "[encoded data removed]",
      "text/plain": [
       "<Figure size 432x288 with 1 Axes>"
      ]
     },
     "metadata": {
      "needs_background": "light"
     },
     "output_type": "display_data"
    }
   ],
   "source": [
    "data.vendor.value_counts().plot.bar()\n",
    "data.vendor = data.vendor.astype('category')"
   ]
  },
  {
   "cell_type": "markdown",
   "metadata": {},
   "source": [
    "## Владельцы "
   ]
  },
  {
   "cell_type": "code",
   "execution_count": 89,
   "metadata": {},
   "outputs": [
    {
     "data": {
      "text/plain": [
       "3 или более    45035\n",
       "3.0            44515\n",
       "1.0            37989\n",
       "2.0            28017\n",
       "1 владелец     27656\n",
       "2 владельца    26271\n",
       "Неизвестно      6620\n",
       "Name: Владельцы, dtype: int64"
      ]
     },
     "execution_count": 89,
     "metadata": {},
     "output_type": "execute_result"
    }
   ],
   "source": [
    "data['Владельцы'].value_counts()"
   ]
  },
  {
   "cell_type": "code",
   "execution_count": 90,
   "metadata": {},
   "outputs": [
    {
     "data": {
      "text/plain": [
       "15692"
      ]
     },
     "execution_count": 90,
     "metadata": {},
     "output_type": "execute_result"
    }
   ],
   "source": [
    "data['Владельцы'].isna().sum()"
   ]
  },
  {
   "cell_type": "code",
   "execution_count": 91,
   "metadata": {},
   "outputs": [],
   "source": [
    "data['Владельцы'] = data['Владельцы'].fillna(data['Владельцы'].describe().top)"
   ]
  },
  {
   "cell_type": "code",
   "execution_count": 92,
   "metadata": {},
   "outputs": [],
   "source": [
    "data['Владельцы'] = data['Владельцы'].replace('Неизвестно','3')"
   ]
  },
  {
   "cell_type": "code",
   "execution_count": 93,
   "metadata": {},
   "outputs": [
    {
     "data": {
      "text/plain": [
       "3 или более    60727\n",
       "3.0            44515\n",
       "1.0            37989\n",
       "2.0            28017\n",
       "1 владелец     27656\n",
       "2 владельца    26271\n",
       "3               6620\n",
       "Name: Владельцы, dtype: int64"
      ]
     },
     "execution_count": 93,
     "metadata": {},
     "output_type": "execute_result"
    }
   ],
   "source": [
    "data['Владельцы'].value_counts()"
   ]
  },
  {
   "cell_type": "code",
   "execution_count": 94,
   "metadata": {},
   "outputs": [
    {
     "data": {
      "text/plain": [
       "<matplotlib.axes._subplots.AxesSubplot at 0x26b2deed1c0>"
      ]
     },
     "execution_count": 94,
     "metadata": {},
     "output_type": "execute_result"
    },
    {
     "data": {
      "image/png": "[encoded data removed]",
      "text/plain": [
       "<Figure size 432x288 with 1 Axes>"
      ]
     },
     "metadata": {
      "needs_background": "light"
     },
     "output_type": "display_data"
    }
   ],
   "source": [
    "data['Владельцы'] = data['Владельцы'].apply(lambda x: int(re.findall('\\d', str(x))[0]))\n",
    "data['Владельцы'] = data['Владельцы'].astype('category')\n",
    "data['Владельцы'].value_counts().plot(kind='bar')\n"
   ]
  },
  {
   "cell_type": "markdown",
   "metadata": {},
   "source": [
    "## Владение "
   ]
  },
  {
   "cell_type": "code",
   "execution_count": 95,
   "metadata": {},
   "outputs": [
    {
     "data": {
      "text/plain": [
       "{'year': 2019, 'month': 8}     501\n",
       "{'year': 2018, 'month': 11}    501\n",
       "{'year': 2018, 'month': 10}    488\n",
       "{'year': 2018, 'month': 12}    482\n",
       "{'year': 2020, 'month': 1}     450\n",
       "                              ... \n",
       "{'year': 1994, 'month': 3}       1\n",
       "{'year': 1996, 'month': 8}       1\n",
       "{'year': 1996, 'month': 5}       1\n",
       "{'year': 2003, 'month': 2}       1\n",
       "{'year': 2003, 'month': 1}       1\n",
       "Name: Владение, Length: 572, dtype: int64"
      ]
     },
     "execution_count": 95,
     "metadata": {},
     "output_type": "execute_result"
    }
   ],
   "source": [
    "data['Владение'].value_counts()"
   ]
  },
  {
   "cell_type": "markdown",
   "metadata": {},
   "source": [
    "## ПТС "
   ]
  },
  {
   "cell_type": "code",
   "execution_count": 96,
   "metadata": {},
   "outputs": [
    {
     "data": {
      "text/plain": [
       "Оригинал     137639\n",
       "ORIGINAL      67399\n",
       "Дубликат      18212\n",
       "DUPLICATE      8094\n",
       "Name: ПТС, dtype: int64"
      ]
     },
     "execution_count": 96,
     "metadata": {},
     "output_type": "execute_result"
    }
   ],
   "source": [
    "data['ПТС'].value_counts()"
   ]
  },
  {
   "cell_type": "code",
   "execution_count": 97,
   "metadata": {},
   "outputs": [
    {
     "data": {
      "text/plain": [
       "451"
      ]
     },
     "execution_count": 97,
     "metadata": {},
     "output_type": "execute_result"
    }
   ],
   "source": [
    "data['ПТС'].isna().sum()"
   ]
  },
  {
   "cell_type": "code",
   "execution_count": 98,
   "metadata": {},
   "outputs": [],
   "source": [
    "data['ПТС'].fillna('Оригинал', inplace=True)"
   ]
  },
  {
   "cell_type": "code",
   "execution_count": 99,
   "metadata": {},
   "outputs": [
    {
     "data": {
      "text/plain": [
       "Оригинал    205489\n",
       "Дубликат     26306\n",
       "Name: ПТС, dtype: int64"
      ]
     },
     "execution_count": 99,
     "metadata": {},
     "output_type": "execute_result"
    }
   ],
   "source": [
    "PTS = {'ORIGINAL':'Оригинал',\n",
    "'DUPLICATE':'Дубликат'}\n",
    "data['ПТС'] = data['ПТС'].replace(PTS)\n",
    "data['ПТС'].value_counts()"
   ]
  },
  {
   "cell_type": "code",
   "execution_count": 100,
   "metadata": {},
   "outputs": [
    {
     "data": {
      "text/plain": [
       "<matplotlib.axes._subplots.AxesSubplot at 0x26b30955f10>"
      ]
     },
     "execution_count": 100,
     "metadata": {},
     "output_type": "execute_result"
    },
    {
     "data": {
      "image/png": "[encoded data removed]",
      "text/plain": [
       "<Figure size 432x288 with 1 Axes>"
      ]
     },
     "metadata": {
      "needs_background": "light"
     },
     "output_type": "display_data"
    }
   ],
   "source": [
    "data['ПТС'].value_counts().plot(kind='bar')"
   ]
  },
  {
   "cell_type": "code",
   "execution_count": 101,
   "metadata": {},
   "outputs": [],
   "source": [
    "data['ПТС'] = data['ПТС'].astype('category')"
   ]
  },
  {
   "cell_type": "markdown",
   "metadata": {},
   "source": [
    "## Привод "
   ]
  },
  {
   "cell_type": "code",
   "execution_count": 102,
   "metadata": {},
   "outputs": [
    {
     "data": {
      "text/plain": [
       "передний    114050\n",
       "полный       98433\n",
       "задний       19310\n",
       "Name: Привод, dtype: int64"
      ]
     },
     "execution_count": 102,
     "metadata": {},
     "output_type": "execute_result"
    }
   ],
   "source": [
    "data['Привод'].value_counts()"
   ]
  },
  {
   "cell_type": "code",
   "execution_count": 103,
   "metadata": {},
   "outputs": [
    {
     "data": {
      "text/plain": [
       "2"
      ]
     },
     "execution_count": 103,
     "metadata": {},
     "output_type": "execute_result"
    }
   ],
   "source": [
    "data['Привод'].isna().sum()"
   ]
  },
  {
   "cell_type": "code",
   "execution_count": 104,
   "metadata": {},
   "outputs": [],
   "source": [
    "data['Привод'] = data['Привод'].fillna(data['Привод'].describe().top)"
   ]
  },
  {
   "cell_type": "code",
   "execution_count": 105,
   "metadata": {},
   "outputs": [
    {
     "data": {
      "text/plain": [
       "передний    114052\n",
       "полный       98433\n",
       "задний       19310\n",
       "Name: Привод, dtype: int64"
      ]
     },
     "execution_count": 105,
     "metadata": {},
     "output_type": "execute_result"
    }
   ],
   "source": [
    "data['Привод'].value_counts()"
   ]
  },
  {
   "cell_type": "code",
   "execution_count": 106,
   "metadata": {},
   "outputs": [
    {
     "data": {
      "text/plain": [
       "<matplotlib.axes._subplots.AxesSubplot at 0x26b309e58b0>"
      ]
     },
     "execution_count": 106,
     "metadata": {},
     "output_type": "execute_result"
    },
    {
     "data": {
      "image/png": "[encoded data removed]",
      "text/plain": [
       "<Figure size 432x288 with 1 Axes>"
      ]
     },
     "metadata": {
      "needs_background": "light"
     },
     "output_type": "display_data"
    }
   ],
   "source": [
    "data['Привод'] = data['Привод'].astype('category')\n",
    "data['Привод'].value_counts().plot(kind='bar')"
   ]
  },
  {
   "cell_type": "markdown",
   "metadata": {},
   "source": [
    "## Руль "
   ]
  },
  {
   "cell_type": "code",
   "execution_count": 107,
   "metadata": {},
   "outputs": [
    {
     "data": {
      "text/plain": [
       "Левый     151160\n",
       "LEFT       74543\n",
       "Правый      4692\n",
       "RIGHT       1400\n",
       "Name: Руль, dtype: int64"
      ]
     },
     "execution_count": 107,
     "metadata": {},
     "output_type": "execute_result"
    }
   ],
   "source": [
    "data['Руль'].value_counts()"
   ]
  },
  {
   "cell_type": "code",
   "execution_count": 108,
   "metadata": {},
   "outputs": [],
   "source": [
    "wheel = {'LEFT':'Левый',\n",
    "'RIGHT':'Правый'}\n",
    "data['Руль'] = data['Руль'].replace(wheel)"
   ]
  },
  {
   "cell_type": "code",
   "execution_count": 109,
   "metadata": {},
   "outputs": [
    {
     "data": {
      "text/plain": [
       "<matplotlib.axes._subplots.AxesSubplot at 0x26b30091d90>"
      ]
     },
     "execution_count": 109,
     "metadata": {},
     "output_type": "execute_result"
    },
    {
     "data": {
      "image/png": "[encoded data removed]",
      "text/plain": [
       "<Figure size 432x288 with 1 Axes>"
      ]
     },
     "metadata": {
      "needs_background": "light"
     },
     "output_type": "display_data"
    }
   ],
   "source": [
    "data['Руль'] = data['Руль'].astype('category')\n",
    "data['Руль'].value_counts().plot(kind='bar')"
   ]
  },
  {
   "cell_type": "markdown",
   "metadata": {},
   "source": [
    "## Состояние "
   ]
  },
  {
   "cell_type": "code",
   "execution_count": 110,
   "metadata": {},
   "outputs": [
    {
     "data": {
      "text/plain": [
       "Не требует ремонта    155852\n",
       "True                   75943\n",
       "Name: Состояние, dtype: int64"
      ]
     },
     "execution_count": 110,
     "metadata": {},
     "output_type": "execute_result"
    }
   ],
   "source": [
    "data['Состояние'].value_counts()"
   ]
  },
  {
   "cell_type": "code",
   "execution_count": null,
   "metadata": {},
   "outputs": [],
   "source": []
  },
  {
   "cell_type": "code",
   "execution_count": 111,
   "metadata": {},
   "outputs": [],
   "source": [
    "condition = {'Не требует ремонта':'True'}\n",
    "data['Состояние'] = data['Состояние'].replace(condition)"
   ]
  },
  {
   "cell_type": "code",
   "execution_count": 112,
   "metadata": {},
   "outputs": [
    {
     "data": {
      "text/plain": [
       "<matplotlib.axes._subplots.AxesSubplot at 0x26b17c0b970>"
      ]
     },
     "execution_count": 112,
     "metadata": {},
     "output_type": "execute_result"
    },
    {
     "data": {
      "image/png": "[encoded data removed]",
      "text/plain": [
       "<Figure size 432x288 with 1 Axes>"
      ]
     },
     "metadata": {
      "needs_background": "light"
     },
     "output_type": "display_data"
    }
   ],
   "source": [
    "data['Состояние'].value_counts().plot(kind='bar')"
   ]
  },
  {
   "cell_type": "markdown",
   "metadata": {},
   "source": [
    "## Таможня "
   ]
  },
  {
   "cell_type": "code",
   "execution_count": 113,
   "metadata": {},
   "outputs": [
    {
     "data": {
      "text/plain": [
       "Растаможен    155852\n",
       "True           75943\n",
       "Name: Таможня, dtype: int64"
      ]
     },
     "execution_count": 113,
     "metadata": {},
     "output_type": "execute_result"
    }
   ],
   "source": [
    "data['Таможня'].value_counts()"
   ]
  },
  {
   "cell_type": "markdown",
   "metadata": {},
   "source": [
    "## priceCurrency "
   ]
  },
  {
   "cell_type": "code",
   "execution_count": 114,
   "metadata": {},
   "outputs": [
    {
     "data": {
      "text/plain": [
       "RUR    111857\n",
       "RUB     69372\n",
       "Name: priceCurrency, dtype: int64"
      ]
     },
     "execution_count": 114,
     "metadata": {},
     "output_type": "execute_result"
    }
   ],
   "source": [
    "data.priceCurrency.value_counts()"
   ]
  },
  {
   "cell_type": "markdown",
   "metadata": {},
   "source": [
    "## price "
   ]
  },
  {
   "cell_type": "code",
   "execution_count": 115,
   "metadata": {},
   "outputs": [
    {
     "data": {
      "text/plain": [
       "<matplotlib.axes._subplots.AxesSubplot at 0x26b2ff67400>"
      ]
     },
     "execution_count": 115,
     "metadata": {},
     "output_type": "execute_result"
    },
    {
     "data": {
      "image/png": "[encoded data removed]",
      "text/plain": [
       "<Figure size 432x288 with 1 Axes>"
      ]
     },
     "metadata": {
      "needs_background": "light"
     },
     "output_type": "display_data"
    }
   ],
   "source": [
    "data.price.hist(bins=100)"
   ]
  },
  {
   "cell_type": "code",
   "execution_count": 116,
   "metadata": {},
   "outputs": [
    {
     "data": {
      "text/plain": [
       "296"
      ]
     },
     "execution_count": 116,
     "metadata": {},
     "output_type": "execute_result"
    }
   ],
   "source": [
    "data.price.isna().sum()"
   ]
  },
  {
   "cell_type": "code",
   "execution_count": 117,
   "metadata": {},
   "outputs": [
    {
     "data": {
      "text/plain": [
       "0"
      ]
     },
     "execution_count": 117,
     "metadata": {},
     "output_type": "execute_result"
    }
   ],
   "source": [
    "data.price.fillna(data.price.median(), inplace=True)\n",
    "data.price.isna().sum()"
   ]
  },
  {
   "cell_type": "code",
   "execution_count": 118,
   "metadata": {},
   "outputs": [
    {
     "data": {
      "text/plain": [
       "0.0           69372\n",
       "450000.0       1403\n",
       "650000.0       1354\n",
       "550000.0       1324\n",
       "350000.0       1311\n",
       "              ...  \n",
       "7270213.0         1\n",
       "1817582.0         1\n",
       "4474000.0         1\n",
       "3037844.0         1\n",
       "10357000.0        1\n",
       "Name: price, Length: 14215, dtype: int64"
      ]
     },
     "execution_count": 118,
     "metadata": {},
     "output_type": "execute_result"
    }
   ],
   "source": [
    "data.price.value_counts()"
   ]
  },
  {
   "cell_type": "code",
   "execution_count": 119,
   "metadata": {},
   "outputs": [
    {
     "data": {
      "text/plain": [
       "<matplotlib.axes._subplots.AxesSubplot at 0x26b2f2273d0>"
      ]
     },
     "execution_count": 119,
     "metadata": {},
     "output_type": "execute_result"
    },
    {
     "data": {
      "image/png": "[encoded data removed]",
      "text/plain": [
       "<Figure size 432x288 with 1 Axes>"
      ]
     },
     "metadata": {
      "needs_background": "light"
     },
     "output_type": "display_data"
    }
   ],
   "source": [
    "data.price.hist(bins=100)\n"
   ]
  },
  {
   "cell_type": "code",
   "execution_count": 120,
   "metadata": {},
   "outputs": [
    {
     "data": {
      "text/plain": [
       "<matplotlib.axes._subplots.AxesSubplot at 0x26b17c39be0>"
      ]
     },
     "execution_count": 120,
     "metadata": {},
     "output_type": "execute_result"
    },
    {
     "data": {
      "image/png": "[encoded data removed]",
      "text/plain": [
       "<Figure size 432x288 with 1 Axes>"
      ]
     },
     "metadata": {
      "needs_background": "light"
     },
     "output_type": "display_data"
    }
   ],
   "source": [
    "data[data.price != 0].price.apply(lambda x: np.log(x)).hist()"
   ]
  },
  {
   "cell_type": "markdown",
   "metadata": {},
   "source": [
    "# Добавим признаков"
   ]
  },
  {
   "cell_type": "code",
   "execution_count": 121,
   "metadata": {},
   "outputs": [
    {
     "data": {
      "text/plain": [
       "['mercedes',\n",
       " 'bmw',\n",
       " 'volkswagen',\n",
       " 'nissan',\n",
       " 'toyota',\n",
       " 'audi',\n",
       " 'mitsubishi',\n",
       " 'skoda',\n",
       " 'volvo',\n",
       " 'honda',\n",
       " 'kia',\n",
       " 'hyundai',\n",
       " 'lexus',\n",
       " 'infiniti',\n",
       " 'ford']"
      ]
     },
     "execution_count": 121,
     "metadata": {},
     "output_type": "execute_result"
    }
   ],
   "source": [
    "brand_list"
   ]
  },
  {
   "cell_type": "code",
   "execution_count": 122,
   "metadata": {},
   "outputs": [],
   "source": [
    "data['Элитный'] = data.brand.apply(lambda x: 1 if x in brand_list else 0)"
   ]
  },
  {
   "cell_type": "markdown",
   "metadata": {},
   "source": [
    "# Выходим на финишную прямую по обработке"
   ]
  },
  {
   "cell_type": "markdown",
   "metadata": {},
   "source": [
    "В комплектации и владении слишком много пропусков, избавимся от колонок этих"
   ]
  },
  {
   "cell_type": "code",
   "execution_count": 123,
   "metadata": {},
   "outputs": [
    {
     "data": {
      "text/plain": [
       "Index(['bodyType', 'brand', 'color', 'complectation_dict', 'description',\n",
       "       'engineDisplacement', 'enginePower', 'equipment_dict', 'fuelType',\n",
       "       'image', 'mileage', 'modelDate', 'model_info', 'model_name', 'name',\n",
       "       'numberOfDoors', 'start_date', 'priceCurrency', 'productionDate',\n",
       "       'sell_id', 'super_gen', 'vehicleConfiguration', 'vehicleTransmission',\n",
       "       'vendor', 'Владельцы', 'Владение', 'ПТС', 'Привод', 'Руль', 'Состояние',\n",
       "       'Таможня', 'price', 'price_EUR', 'price_USD', 'sample', 'car_url',\n",
       "       'parsing_unixtime', 'is_train', 'Элитный'],\n",
       "      dtype='object')"
      ]
     },
     "execution_count": 123,
     "metadata": {},
     "output_type": "execute_result"
    }
   ],
   "source": [
    "data.columns"
   ]
  },
  {
   "cell_type": "code",
   "execution_count": 124,
   "metadata": {},
   "outputs": [],
   "source": [
    "data.drop(['complectation_dict', 'Владение', 'car_url', 'description', 'modelDate',\n",
    "          'equipment_dict','image','parsing_unixtime', 'priceCurrency','sell_id', 'super_gen', 'vehicleConfiguration',\n",
    "         'start_date', 'price_EUR', 'price_USD', 'is_train','Состояние','Таможня','Владельцы','model_info','name' ], axis=1, inplace=True)"
   ]
  },
  {
   "cell_type": "code",
   "execution_count": 125,
   "metadata": {},
   "outputs": [
    {
     "name": "stdout",
     "output_type": "stream",
     "text": [
      "<class 'pandas.core.frame.DataFrame'>\n",
      "Int64Index: 231795 entries, 0 to 34685\n",
      "Data columns (total 18 columns):\n",
      " #   Column               Non-Null Count   Dtype   \n",
      "---  ------               --------------   -----   \n",
      " 0   bodyType             231795 non-null  category\n",
      " 1   brand                231795 non-null  category\n",
      " 2   color                231795 non-null  category\n",
      " 3   engineDisplacement   231795 non-null  object  \n",
      " 4   enginePower          231795 non-null  int32   \n",
      " 5   fuelType             231795 non-null  category\n",
      " 6   mileage              231795 non-null  float64 \n",
      " 7   model_name           231795 non-null  category\n",
      " 8   numberOfDoors        231795 non-null  float64 \n",
      " 9   productionDate       231795 non-null  int64   \n",
      " 10  vehicleTransmission  231795 non-null  category\n",
      " 11  vendor               231795 non-null  category\n",
      " 12  ПТС                  231795 non-null  category\n",
      " 13  Привод               231795 non-null  category\n",
      " 14  Руль                 231795 non-null  category\n",
      " 15  price                231795 non-null  float64 \n",
      " 16  sample               231795 non-null  int64   \n",
      " 17  Элитный              231795 non-null  int64   \n",
      "dtypes: category(10), float64(3), int32(1), int64(3), object(1)\n",
      "memory usage: 17.2+ MB\n"
     ]
    }
   ],
   "source": [
    "data.info()"
   ]
  },
  {
   "cell_type": "code",
   "execution_count": 126,
   "metadata": {},
   "outputs": [
    {
     "data": {
      "text/html": [
       "<div>\n",
       "<style scoped>\n",
       "    .dataframe tbody tr th:only-of-type {\n",
       "        vertical-align: middle;\n",
       "    }\n",
       "\n",
       "    .dataframe tbody tr th {\n",
       "        vertical-align: top;\n",
       "    }\n",
       "\n",
       "    .dataframe thead th {\n",
       "        text-align: right;\n",
       "    }\n",
       "</style>\n",
       "<table border=\"1\" class=\"dataframe\">\n",
       "  <thead>\n",
       "    <tr style=\"text-align: right;\">\n",
       "      <th></th>\n",
       "      <th>bodyType</th>\n",
       "      <th>brand</th>\n",
       "      <th>color</th>\n",
       "      <th>engineDisplacement</th>\n",
       "      <th>enginePower</th>\n",
       "      <th>fuelType</th>\n",
       "      <th>mileage</th>\n",
       "      <th>model_name</th>\n",
       "      <th>numberOfDoors</th>\n",
       "      <th>productionDate</th>\n",
       "      <th>vehicleTransmission</th>\n",
       "      <th>vendor</th>\n",
       "      <th>ПТС</th>\n",
       "      <th>Привод</th>\n",
       "      <th>Руль</th>\n",
       "      <th>price</th>\n",
       "      <th>sample</th>\n",
       "      <th>Элитный</th>\n",
       "    </tr>\n",
       "  </thead>\n",
       "  <tbody>\n",
       "    <tr>\n",
       "      <th>0</th>\n",
       "      <td>седан</td>\n",
       "      <td>audi</td>\n",
       "      <td>серый</td>\n",
       "      <td>OTHER</td>\n",
       "      <td>133</td>\n",
       "      <td>petrol</td>\n",
       "      <td>599.166922</td>\n",
       "      <td>OTHER</td>\n",
       "      <td>4.0</td>\n",
       "      <td>1993</td>\n",
       "      <td>механическая</td>\n",
       "      <td>EUROPEAN</td>\n",
       "      <td>Оригинал</td>\n",
       "      <td>передний</td>\n",
       "      <td>Левый</td>\n",
       "      <td>106000.0</td>\n",
       "      <td>1</td>\n",
       "      <td>1</td>\n",
       "    </tr>\n",
       "    <tr>\n",
       "      <th>1</th>\n",
       "      <td>седан</td>\n",
       "      <td>audi</td>\n",
       "      <td>серебристый</td>\n",
       "      <td>1.8</td>\n",
       "      <td>90</td>\n",
       "      <td>petrol</td>\n",
       "      <td>452.438946</td>\n",
       "      <td>OTHER</td>\n",
       "      <td>4.0</td>\n",
       "      <td>1984</td>\n",
       "      <td>механическая</td>\n",
       "      <td>EUROPEAN</td>\n",
       "      <td>Оригинал</td>\n",
       "      <td>передний</td>\n",
       "      <td>Левый</td>\n",
       "      <td>44000.0</td>\n",
       "      <td>1</td>\n",
       "      <td>1</td>\n",
       "    </tr>\n",
       "  </tbody>\n",
       "</table>\n",
       "</div>"
      ],
      "text/plain": [
       "  bodyType brand        color engineDisplacement  enginePower fuelType  \\\n",
       "0    седан  audi        серый              OTHER          133   petrol   \n",
       "1    седан  audi  серебристый                1.8           90   petrol   \n",
       "\n",
       "      mileage model_name  numberOfDoors  productionDate vehicleTransmission  \\\n",
       "0  599.166922      OTHER            4.0            1993        механическая   \n",
       "1  452.438946      OTHER            4.0            1984        механическая   \n",
       "\n",
       "     vendor       ПТС    Привод   Руль     price  sample  Элитный  \n",
       "0  EUROPEAN  Оригинал  передний  Левый  106000.0       1        1  \n",
       "1  EUROPEAN  Оригинал  передний  Левый   44000.0       1        1  "
      ]
     },
     "execution_count": 126,
     "metadata": {},
     "output_type": "execute_result"
    }
   ],
   "source": [
    "data.head(2)"
   ]
  },
  {
   "cell_type": "code",
   "execution_count": 127,
   "metadata": {},
   "outputs": [],
   "source": [
    "#data.drop(['model_info','name','modelDate','Владельцы'],axis=1, inplace=True)"
   ]
  },
  {
   "cell_type": "code",
   "execution_count": 128,
   "metadata": {},
   "outputs": [],
   "source": [
    "for colum in ['bodyType', 'brand', 'color', 'engineDisplacement', 'fuelType', 'model_name', 'vehicleTransmission', 'vendor', 'Привод','ПТС','Руль','Элитный']:\n",
    "    data[colum] = data[colum].astype('category').cat.codes"
   ]
  },
  {
   "cell_type": "code",
   "execution_count": 129,
   "metadata": {},
   "outputs": [
    {
     "name": "stdout",
     "output_type": "stream",
     "text": [
      "<class 'pandas.core.frame.DataFrame'>\n",
      "Int64Index: 231795 entries, 0 to 34685\n",
      "Data columns (total 18 columns):\n",
      " #   Column               Non-Null Count   Dtype  \n",
      "---  ------               --------------   -----  \n",
      " 0   bodyType             231795 non-null  int8   \n",
      " 1   brand                231795 non-null  int8   \n",
      " 2   color                231795 non-null  int8   \n",
      " 3   engineDisplacement   231795 non-null  int8   \n",
      " 4   enginePower          231795 non-null  int32  \n",
      " 5   fuelType             231795 non-null  int8   \n",
      " 6   mileage              231795 non-null  float64\n",
      " 7   model_name           231795 non-null  int8   \n",
      " 8   numberOfDoors        231795 non-null  float64\n",
      " 9   productionDate       231795 non-null  int64  \n",
      " 10  vehicleTransmission  231795 non-null  int8   \n",
      " 11  vendor               231795 non-null  int8   \n",
      " 12  ПТС                  231795 non-null  int8   \n",
      " 13  Привод               231795 non-null  int8   \n",
      " 14  Руль                 231795 non-null  int8   \n",
      " 15  price                231795 non-null  float64\n",
      " 16  sample               231795 non-null  int64  \n",
      " 17  Элитный              231795 non-null  int8   \n",
      "dtypes: float64(3), int32(1), int64(2), int8(12)\n",
      "memory usage: 14.1 MB\n"
     ]
    }
   ],
   "source": [
    "data.info()"
   ]
  },
  {
   "cell_type": "code",
   "execution_count": 130,
   "metadata": {},
   "outputs": [
    {
     "data": {
      "text/html": [
       "<div>\n",
       "<style scoped>\n",
       "    .dataframe tbody tr th:only-of-type {\n",
       "        vertical-align: middle;\n",
       "    }\n",
       "\n",
       "    .dataframe tbody tr th {\n",
       "        vertical-align: top;\n",
       "    }\n",
       "\n",
       "    .dataframe thead th {\n",
       "        text-align: right;\n",
       "    }\n",
       "</style>\n",
       "<table border=\"1\" class=\"dataframe\">\n",
       "  <thead>\n",
       "    <tr style=\"text-align: right;\">\n",
       "      <th></th>\n",
       "      <th>bodyType</th>\n",
       "      <th>brand</th>\n",
       "      <th>color</th>\n",
       "      <th>engineDisplacement</th>\n",
       "      <th>enginePower</th>\n",
       "      <th>fuelType</th>\n",
       "      <th>mileage</th>\n",
       "      <th>model_name</th>\n",
       "      <th>numberOfDoors</th>\n",
       "      <th>productionDate</th>\n",
       "      <th>vehicleTransmission</th>\n",
       "      <th>vendor</th>\n",
       "      <th>ПТС</th>\n",
       "      <th>Привод</th>\n",
       "      <th>Руль</th>\n",
       "      <th>price</th>\n",
       "      <th>sample</th>\n",
       "      <th>Элитный</th>\n",
       "    </tr>\n",
       "  </thead>\n",
       "  <tbody>\n",
       "    <tr>\n",
       "      <th>bodyType</th>\n",
       "      <td>1.000000</td>\n",
       "      <td>-0.054770</td>\n",
       "      <td>-0.004793</td>\n",
       "      <td>-0.222868</td>\n",
       "      <td>-0.314189</td>\n",
       "      <td>0.230794</td>\n",
       "      <td>0.220098</td>\n",
       "      <td>-0.128769</td>\n",
       "      <td>-0.351881</td>\n",
       "      <td>-0.237179</td>\n",
       "      <td>0.195624</td>\n",
       "      <td>-0.086624</td>\n",
       "      <td>-0.102884</td>\n",
       "      <td>-0.581272</td>\n",
       "      <td>0.071304</td>\n",
       "      <td>-0.235613</td>\n",
       "      <td>-0.011362</td>\n",
       "      <td>-0.045134</td>\n",
       "    </tr>\n",
       "    <tr>\n",
       "      <th>brand</th>\n",
       "      <td>-0.054770</td>\n",
       "      <td>1.000000</td>\n",
       "      <td>0.006340</td>\n",
       "      <td>0.079669</td>\n",
       "      <td>-0.037657</td>\n",
       "      <td>-0.019083</td>\n",
       "      <td>0.056253</td>\n",
       "      <td>0.384447</td>\n",
       "      <td>-0.129409</td>\n",
       "      <td>-0.088591</td>\n",
       "      <td>0.006779</td>\n",
       "      <td>0.278591</td>\n",
       "      <td>0.005587</td>\n",
       "      <td>0.000701</td>\n",
       "      <td>0.090091</td>\n",
       "      <td>-0.058000</td>\n",
       "      <td>-0.226496</td>\n",
       "      <td>0.725970</td>\n",
       "    </tr>\n",
       "    <tr>\n",
       "      <th>color</th>\n",
       "      <td>-0.004793</td>\n",
       "      <td>0.006340</td>\n",
       "      <td>1.000000</td>\n",
       "      <td>0.085914</td>\n",
       "      <td>0.145943</td>\n",
       "      <td>-0.055477</td>\n",
       "      <td>0.065463</td>\n",
       "      <td>0.022754</td>\n",
       "      <td>-0.028657</td>\n",
       "      <td>-0.083083</td>\n",
       "      <td>-0.086918</td>\n",
       "      <td>-0.006614</td>\n",
       "      <td>-0.045891</td>\n",
       "      <td>0.061465</td>\n",
       "      <td>-0.028782</td>\n",
       "      <td>0.048648</td>\n",
       "      <td>-0.021547</td>\n",
       "      <td>0.057633</td>\n",
       "    </tr>\n",
       "    <tr>\n",
       "      <th>engineDisplacement</th>\n",
       "      <td>-0.222868</td>\n",
       "      <td>0.079669</td>\n",
       "      <td>0.085914</td>\n",
       "      <td>1.000000</td>\n",
       "      <td>0.453267</td>\n",
       "      <td>-0.210870</td>\n",
       "      <td>0.026182</td>\n",
       "      <td>0.007559</td>\n",
       "      <td>-0.079574</td>\n",
       "      <td>-0.105839</td>\n",
       "      <td>-0.264235</td>\n",
       "      <td>0.050696</td>\n",
       "      <td>-0.045400</td>\n",
       "      <td>0.226976</td>\n",
       "      <td>0.003205</td>\n",
       "      <td>0.179536</td>\n",
       "      <td>-0.309034</td>\n",
       "      <td>0.201984</td>\n",
       "    </tr>\n",
       "    <tr>\n",
       "      <th>enginePower</th>\n",
       "      <td>-0.314189</td>\n",
       "      <td>-0.037657</td>\n",
       "      <td>0.145943</td>\n",
       "      <td>0.453267</td>\n",
       "      <td>1.000000</td>\n",
       "      <td>-0.106313</td>\n",
       "      <td>-0.175301</td>\n",
       "      <td>-0.012179</td>\n",
       "      <td>-0.033408</td>\n",
       "      <td>0.180835</td>\n",
       "      <td>-0.388204</td>\n",
       "      <td>-0.087594</td>\n",
       "      <td>-0.003609</td>\n",
       "      <td>0.371761</td>\n",
       "      <td>-0.075169</td>\n",
       "      <td>0.450543</td>\n",
       "      <td>-0.045212</td>\n",
       "      <td>0.160191</td>\n",
       "    </tr>\n",
       "    <tr>\n",
       "      <th>fuelType</th>\n",
       "      <td>0.230794</td>\n",
       "      <td>-0.019083</td>\n",
       "      <td>-0.055477</td>\n",
       "      <td>-0.210870</td>\n",
       "      <td>-0.106313</td>\n",
       "      <td>1.000000</td>\n",
       "      <td>0.072933</td>\n",
       "      <td>0.013945</td>\n",
       "      <td>-0.105791</td>\n",
       "      <td>-0.128715</td>\n",
       "      <td>0.175635</td>\n",
       "      <td>0.055485</td>\n",
       "      <td>-0.055392</td>\n",
       "      <td>-0.260775</td>\n",
       "      <td>0.027080</td>\n",
       "      <td>-0.210539</td>\n",
       "      <td>0.005231</td>\n",
       "      <td>-0.060574</td>\n",
       "    </tr>\n",
       "    <tr>\n",
       "      <th>mileage</th>\n",
       "      <td>0.220098</td>\n",
       "      <td>0.056253</td>\n",
       "      <td>0.065463</td>\n",
       "      <td>0.026182</td>\n",
       "      <td>-0.175301</td>\n",
       "      <td>0.072933</td>\n",
       "      <td>1.000000</td>\n",
       "      <td>0.007842</td>\n",
       "      <td>-0.120781</td>\n",
       "      <td>-0.739104</td>\n",
       "      <td>0.033913</td>\n",
       "      <td>0.058886</td>\n",
       "      <td>-0.248341</td>\n",
       "      <td>-0.196194</td>\n",
       "      <td>0.123509</td>\n",
       "      <td>-0.530941</td>\n",
       "      <td>-0.137519</td>\n",
       "      <td>0.040687</td>\n",
       "    </tr>\n",
       "    <tr>\n",
       "      <th>model_name</th>\n",
       "      <td>-0.128769</td>\n",
       "      <td>0.384447</td>\n",
       "      <td>0.022754</td>\n",
       "      <td>0.007559</td>\n",
       "      <td>-0.012179</td>\n",
       "      <td>0.013945</td>\n",
       "      <td>0.007842</td>\n",
       "      <td>1.000000</td>\n",
       "      <td>0.033655</td>\n",
       "      <td>0.028861</td>\n",
       "      <td>0.024419</td>\n",
       "      <td>0.045359</td>\n",
       "      <td>0.026672</td>\n",
       "      <td>0.070382</td>\n",
       "      <td>-0.058007</td>\n",
       "      <td>-0.074750</td>\n",
       "      <td>-0.121253</td>\n",
       "      <td>0.285216</td>\n",
       "    </tr>\n",
       "    <tr>\n",
       "      <th>numberOfDoors</th>\n",
       "      <td>-0.351881</td>\n",
       "      <td>-0.129409</td>\n",
       "      <td>-0.028657</td>\n",
       "      <td>-0.079574</td>\n",
       "      <td>-0.033408</td>\n",
       "      <td>-0.105791</td>\n",
       "      <td>-0.120781</td>\n",
       "      <td>0.033655</td>\n",
       "      <td>1.000000</td>\n",
       "      <td>0.240652</td>\n",
       "      <td>0.005004</td>\n",
       "      <td>-0.025929</td>\n",
       "      <td>0.105113</td>\n",
       "      <td>0.338692</td>\n",
       "      <td>-0.050575</td>\n",
       "      <td>0.093505</td>\n",
       "      <td>0.108725</td>\n",
       "      <td>-0.276608</td>\n",
       "    </tr>\n",
       "    <tr>\n",
       "      <th>productionDate</th>\n",
       "      <td>-0.237179</td>\n",
       "      <td>-0.088591</td>\n",
       "      <td>-0.083083</td>\n",
       "      <td>-0.105839</td>\n",
       "      <td>0.180835</td>\n",
       "      <td>-0.128715</td>\n",
       "      <td>-0.739104</td>\n",
       "      <td>0.028861</td>\n",
       "      <td>0.240652</td>\n",
       "      <td>1.000000</td>\n",
       "      <td>-0.057227</td>\n",
       "      <td>-0.063545</td>\n",
       "      <td>0.285899</td>\n",
       "      <td>0.254545</td>\n",
       "      <td>-0.230567</td>\n",
       "      <td>0.404186</td>\n",
       "      <td>0.120606</td>\n",
       "      <td>-0.104134</td>\n",
       "    </tr>\n",
       "    <tr>\n",
       "      <th>vehicleTransmission</th>\n",
       "      <td>0.195624</td>\n",
       "      <td>0.006779</td>\n",
       "      <td>-0.086918</td>\n",
       "      <td>-0.264235</td>\n",
       "      <td>-0.388204</td>\n",
       "      <td>0.175635</td>\n",
       "      <td>0.033913</td>\n",
       "      <td>0.024419</td>\n",
       "      <td>0.005004</td>\n",
       "      <td>-0.057227</td>\n",
       "      <td>1.000000</td>\n",
       "      <td>-0.087889</td>\n",
       "      <td>0.012338</td>\n",
       "      <td>-0.171574</td>\n",
       "      <td>-0.065468</td>\n",
       "      <td>-0.173984</td>\n",
       "      <td>0.024684</td>\n",
       "      <td>-0.074031</td>\n",
       "    </tr>\n",
       "    <tr>\n",
       "      <th>vendor</th>\n",
       "      <td>-0.086624</td>\n",
       "      <td>0.278591</td>\n",
       "      <td>-0.006614</td>\n",
       "      <td>0.050696</td>\n",
       "      <td>-0.087594</td>\n",
       "      <td>0.055485</td>\n",
       "      <td>0.058886</td>\n",
       "      <td>0.045359</td>\n",
       "      <td>-0.025929</td>\n",
       "      <td>-0.063545</td>\n",
       "      <td>-0.087889</td>\n",
       "      <td>1.000000</td>\n",
       "      <td>-0.005149</td>\n",
       "      <td>0.055287</td>\n",
       "      <td>0.133269</td>\n",
       "      <td>-0.102559</td>\n",
       "      <td>-0.067739</td>\n",
       "      <td>0.268039</td>\n",
       "    </tr>\n",
       "    <tr>\n",
       "      <th>ПТС</th>\n",
       "      <td>-0.102884</td>\n",
       "      <td>0.005587</td>\n",
       "      <td>-0.045891</td>\n",
       "      <td>-0.045400</td>\n",
       "      <td>-0.003609</td>\n",
       "      <td>-0.055392</td>\n",
       "      <td>-0.248341</td>\n",
       "      <td>0.026672</td>\n",
       "      <td>0.105113</td>\n",
       "      <td>0.285899</td>\n",
       "      <td>0.012338</td>\n",
       "      <td>-0.005149</td>\n",
       "      <td>1.000000</td>\n",
       "      <td>0.093142</td>\n",
       "      <td>-0.055318</td>\n",
       "      <td>0.119067</td>\n",
       "      <td>0.024805</td>\n",
       "      <td>-0.020677</td>\n",
       "    </tr>\n",
       "    <tr>\n",
       "      <th>Привод</th>\n",
       "      <td>-0.581272</td>\n",
       "      <td>0.000701</td>\n",
       "      <td>0.061465</td>\n",
       "      <td>0.226976</td>\n",
       "      <td>0.371761</td>\n",
       "      <td>-0.260775</td>\n",
       "      <td>-0.196194</td>\n",
       "      <td>0.070382</td>\n",
       "      <td>0.338692</td>\n",
       "      <td>0.254545</td>\n",
       "      <td>-0.171574</td>\n",
       "      <td>0.055287</td>\n",
       "      <td>0.093142</td>\n",
       "      <td>1.000000</td>\n",
       "      <td>-0.064117</td>\n",
       "      <td>0.258003</td>\n",
       "      <td>0.017804</td>\n",
       "      <td>0.025996</td>\n",
       "    </tr>\n",
       "    <tr>\n",
       "      <th>Руль</th>\n",
       "      <td>0.071304</td>\n",
       "      <td>0.090091</td>\n",
       "      <td>-0.028782</td>\n",
       "      <td>0.003205</td>\n",
       "      <td>-0.075169</td>\n",
       "      <td>0.027080</td>\n",
       "      <td>0.123509</td>\n",
       "      <td>-0.058007</td>\n",
       "      <td>-0.050575</td>\n",
       "      <td>-0.230567</td>\n",
       "      <td>-0.065468</td>\n",
       "      <td>0.133269</td>\n",
       "      <td>-0.055318</td>\n",
       "      <td>-0.064117</td>\n",
       "      <td>1.000000</td>\n",
       "      <td>-0.067235</td>\n",
       "      <td>-0.036847</td>\n",
       "      <td>0.055039</td>\n",
       "    </tr>\n",
       "    <tr>\n",
       "      <th>price</th>\n",
       "      <td>-0.235613</td>\n",
       "      <td>-0.058000</td>\n",
       "      <td>0.048648</td>\n",
       "      <td>0.179536</td>\n",
       "      <td>0.450543</td>\n",
       "      <td>-0.210539</td>\n",
       "      <td>-0.530941</td>\n",
       "      <td>-0.074750</td>\n",
       "      <td>0.093505</td>\n",
       "      <td>0.404186</td>\n",
       "      <td>-0.173984</td>\n",
       "      <td>-0.102559</td>\n",
       "      <td>0.119067</td>\n",
       "      <td>0.258003</td>\n",
       "      <td>-0.067235</td>\n",
       "      <td>1.000000</td>\n",
       "      <td>0.229662</td>\n",
       "      <td>-0.021628</td>\n",
       "    </tr>\n",
       "    <tr>\n",
       "      <th>sample</th>\n",
       "      <td>-0.011362</td>\n",
       "      <td>-0.226496</td>\n",
       "      <td>-0.021547</td>\n",
       "      <td>-0.309034</td>\n",
       "      <td>-0.045212</td>\n",
       "      <td>0.005231</td>\n",
       "      <td>-0.137519</td>\n",
       "      <td>-0.121253</td>\n",
       "      <td>0.108725</td>\n",
       "      <td>0.120606</td>\n",
       "      <td>0.024684</td>\n",
       "      <td>-0.067739</td>\n",
       "      <td>0.024805</td>\n",
       "      <td>0.017804</td>\n",
       "      <td>-0.036847</td>\n",
       "      <td>0.229662</td>\n",
       "      <td>1.000000</td>\n",
       "      <td>-0.279598</td>\n",
       "    </tr>\n",
       "    <tr>\n",
       "      <th>Элитный</th>\n",
       "      <td>-0.045134</td>\n",
       "      <td>0.725970</td>\n",
       "      <td>0.057633</td>\n",
       "      <td>0.201984</td>\n",
       "      <td>0.160191</td>\n",
       "      <td>-0.060574</td>\n",
       "      <td>0.040687</td>\n",
       "      <td>0.285216</td>\n",
       "      <td>-0.276608</td>\n",
       "      <td>-0.104134</td>\n",
       "      <td>-0.074031</td>\n",
       "      <td>0.268039</td>\n",
       "      <td>-0.020677</td>\n",
       "      <td>0.025996</td>\n",
       "      <td>0.055039</td>\n",
       "      <td>-0.021628</td>\n",
       "      <td>-0.279598</td>\n",
       "      <td>1.000000</td>\n",
       "    </tr>\n",
       "  </tbody>\n",
       "</table>\n",
       "</div>"
      ],
      "text/plain": [
       "                     bodyType     brand     color  engineDisplacement  \\\n",
       "bodyType             1.000000 -0.054770 -0.004793           -0.222868   \n",
       "brand               -0.054770  1.000000  0.006340            0.079669   \n",
       "color               -0.004793  0.006340  1.000000            0.085914   \n",
       "engineDisplacement  -0.222868  0.079669  0.085914            1.000000   \n",
       "enginePower         -0.314189 -0.037657  0.145943            0.453267   \n",
       "fuelType             0.230794 -0.019083 -0.055477           -0.210870   \n",
       "mileage              0.220098  0.056253  0.065463            0.026182   \n",
       "model_name          -0.128769  0.384447  0.022754            0.007559   \n",
       "numberOfDoors       -0.351881 -0.129409 -0.028657           -0.079574   \n",
       "productionDate      -0.237179 -0.088591 -0.083083           -0.105839   \n",
       "vehicleTransmission  0.195624  0.006779 -0.086918           -0.264235   \n",
       "vendor              -0.086624  0.278591 -0.006614            0.050696   \n",
       "ПТС                 -0.102884  0.005587 -0.045891           -0.045400   \n",
       "Привод              -0.581272  0.000701  0.061465            0.226976   \n",
       "Руль                 0.071304  0.090091 -0.028782            0.003205   \n",
       "price               -0.235613 -0.058000  0.048648            0.179536   \n",
       "sample              -0.011362 -0.226496 -0.021547           -0.309034   \n",
       "Элитный             -0.045134  0.725970  0.057633            0.201984   \n",
       "\n",
       "                     enginePower  fuelType   mileage  model_name  \\\n",
       "bodyType               -0.314189  0.230794  0.220098   -0.128769   \n",
       "brand                  -0.037657 -0.019083  0.056253    0.384447   \n",
       "color                   0.145943 -0.055477  0.065463    0.022754   \n",
       "engineDisplacement      0.453267 -0.210870  0.026182    0.007559   \n",
       "enginePower             1.000000 -0.106313 -0.175301   -0.012179   \n",
       "fuelType               -0.106313  1.000000  0.072933    0.013945   \n",
       "mileage                -0.175301  0.072933  1.000000    0.007842   \n",
       "model_name             -0.012179  0.013945  0.007842    1.000000   \n",
       "numberOfDoors          -0.033408 -0.105791 -0.120781    0.033655   \n",
       "productionDate          0.180835 -0.128715 -0.739104    0.028861   \n",
       "vehicleTransmission    -0.388204  0.175635  0.033913    0.024419   \n",
       "vendor                 -0.087594  0.055485  0.058886    0.045359   \n",
       "ПТС                    -0.003609 -0.055392 -0.248341    0.026672   \n",
       "Привод                  0.371761 -0.260775 -0.196194    0.070382   \n",
       "Руль                   -0.075169  0.027080  0.123509   -0.058007   \n",
       "price                   0.450543 -0.210539 -0.530941   -0.074750   \n",
       "sample                 -0.045212  0.005231 -0.137519   -0.121253   \n",
       "Элитный                 0.160191 -0.060574  0.040687    0.285216   \n",
       "\n",
       "                     numberOfDoors  productionDate  vehicleTransmission  \\\n",
       "bodyType                 -0.351881       -0.237179             0.195624   \n",
       "brand                    -0.129409       -0.088591             0.006779   \n",
       "color                    -0.028657       -0.083083            -0.086918   \n",
       "engineDisplacement       -0.079574       -0.105839            -0.264235   \n",
       "enginePower              -0.033408        0.180835            -0.388204   \n",
       "fuelType                 -0.105791       -0.128715             0.175635   \n",
       "mileage                  -0.120781       -0.739104             0.033913   \n",
       "model_name                0.033655        0.028861             0.024419   \n",
       "numberOfDoors             1.000000        0.240652             0.005004   \n",
       "productionDate            0.240652        1.000000            -0.057227   \n",
       "vehicleTransmission       0.005004       -0.057227             1.000000   \n",
       "vendor                   -0.025929       -0.063545            -0.087889   \n",
       "ПТС                       0.105113        0.285899             0.012338   \n",
       "Привод                    0.338692        0.254545            -0.171574   \n",
       "Руль                     -0.050575       -0.230567            -0.065468   \n",
       "price                     0.093505        0.404186            -0.173984   \n",
       "sample                    0.108725        0.120606             0.024684   \n",
       "Элитный                  -0.276608       -0.104134            -0.074031   \n",
       "\n",
       "                       vendor       ПТС    Привод      Руль     price  \\\n",
       "bodyType            -0.086624 -0.102884 -0.581272  0.071304 -0.235613   \n",
       "brand                0.278591  0.005587  0.000701  0.090091 -0.058000   \n",
       "color               -0.006614 -0.045891  0.061465 -0.028782  0.048648   \n",
       "engineDisplacement   0.050696 -0.045400  0.226976  0.003205  0.179536   \n",
       "enginePower         -0.087594 -0.003609  0.371761 -0.075169  0.450543   \n",
       "fuelType             0.055485 -0.055392 -0.260775  0.027080 -0.210539   \n",
       "mileage              0.058886 -0.248341 -0.196194  0.123509 -0.530941   \n",
       "model_name           0.045359  0.026672  0.070382 -0.058007 -0.074750   \n",
       "numberOfDoors       -0.025929  0.105113  0.338692 -0.050575  0.093505   \n",
       "productionDate      -0.063545  0.285899  0.254545 -0.230567  0.404186   \n",
       "vehicleTransmission -0.087889  0.012338 -0.171574 -0.065468 -0.173984   \n",
       "vendor               1.000000 -0.005149  0.055287  0.133269 -0.102559   \n",
       "ПТС                 -0.005149  1.000000  0.093142 -0.055318  0.119067   \n",
       "Привод               0.055287  0.093142  1.000000 -0.064117  0.258003   \n",
       "Руль                 0.133269 -0.055318 -0.064117  1.000000 -0.067235   \n",
       "price               -0.102559  0.119067  0.258003 -0.067235  1.000000   \n",
       "sample              -0.067739  0.024805  0.017804 -0.036847  0.229662   \n",
       "Элитный              0.268039 -0.020677  0.025996  0.055039 -0.021628   \n",
       "\n",
       "                       sample   Элитный  \n",
       "bodyType            -0.011362 -0.045134  \n",
       "brand               -0.226496  0.725970  \n",
       "color               -0.021547  0.057633  \n",
       "engineDisplacement  -0.309034  0.201984  \n",
       "enginePower         -0.045212  0.160191  \n",
       "fuelType             0.005231 -0.060574  \n",
       "mileage             -0.137519  0.040687  \n",
       "model_name          -0.121253  0.285216  \n",
       "numberOfDoors        0.108725 -0.276608  \n",
       "productionDate       0.120606 -0.104134  \n",
       "vehicleTransmission  0.024684 -0.074031  \n",
       "vendor              -0.067739  0.268039  \n",
       "ПТС                  0.024805 -0.020677  \n",
       "Привод               0.017804  0.025996  \n",
       "Руль                -0.036847  0.055039  \n",
       "price                0.229662 -0.021628  \n",
       "sample               1.000000 -0.279598  \n",
       "Элитный             -0.279598  1.000000  "
      ]
     },
     "execution_count": 130,
     "metadata": {},
     "output_type": "execute_result"
    }
   ],
   "source": [
    "data.corr()"
   ]
  },
  {
   "cell_type": "code",
   "execution_count": 131,
   "metadata": {},
   "outputs": [],
   "source": [
    "# fig, ax = plt.subplots(1, 1, figsize=(20, 20))\n",
    "# ax = sns.heatmap(data.loc[:, ['bodyType', 'brand', 'color', 'engineDisplacement',\n",
    "#                             'enginePower', 'fuelType', 'mileage','model_name',\n",
    "#                            'numberOfDoors', 'productionDate','vehicleConfiguration',\n",
    "#                            'vehicleTransmission', 'vendor','Владельцы','ПТС','Привод',\n",
    "#                            'Руль','price']].corr(method = 'spearman'), annot=True, cmap='coolwarm', linewidth=0.1)"
   ]
  },
  {
   "cell_type": "code",
   "execution_count": 132,
   "metadata": {},
   "outputs": [
    {
     "data": {
      "text/plain": [
       "Index(['bodyType', 'brand', 'color', 'engineDisplacement', 'enginePower',\n",
       "       'fuelType', 'mileage', 'model_name', 'numberOfDoors', 'productionDate',\n",
       "       'vehicleTransmission', 'vendor', 'ПТС', 'Привод', 'Руль', 'price',\n",
       "       'sample', 'Элитный'],\n",
       "      dtype='object')"
      ]
     },
     "execution_count": 132,
     "metadata": {},
     "output_type": "execute_result"
    }
   ],
   "source": [
    "data.columns"
   ]
  },
  {
   "cell_type": "code",
   "execution_count": 133,
   "metadata": {},
   "outputs": [
    {
     "data": {
      "text/plain": [
       "bodyType               0\n",
       "brand                  0\n",
       "color                  0\n",
       "engineDisplacement     0\n",
       "enginePower            0\n",
       "fuelType               0\n",
       "mileage                0\n",
       "model_name             0\n",
       "numberOfDoors          0\n",
       "productionDate         0\n",
       "vehicleTransmission    0\n",
       "vendor                 0\n",
       "ПТС                    0\n",
       "Привод                 0\n",
       "Руль                   0\n",
       "price                  0\n",
       "sample                 0\n",
       "Элитный                0\n",
       "dtype: int64"
      ]
     },
     "execution_count": 133,
     "metadata": {},
     "output_type": "execute_result"
    }
   ],
   "source": [
    "data.isna().sum()"
   ]
  },
  {
   "cell_type": "code",
   "execution_count": 134,
   "metadata": {},
   "outputs": [],
   "source": [
    "# from sklearn.preprocessing import MinMaxScaler"
   ]
  },
  {
   "cell_type": "code",
   "execution_count": 135,
   "metadata": {},
   "outputs": [],
   "source": [
    "# scaler=MinMaxScaler()"
   ]
  },
  {
   "cell_type": "code",
   "execution_count": 136,
   "metadata": {},
   "outputs": [],
   "source": [
    "# num_cols=[]\n",
    "# num_cols +=['price','mileage']"
   ]
  },
  {
   "cell_type": "code",
   "execution_count": 137,
   "metadata": {},
   "outputs": [],
   "source": [
    "#data[num_cols] = scaler.fit_transform(data[num_cols].values)"
   ]
  },
  {
   "cell_type": "markdown",
   "metadata": {},
   "source": [
    "# Готовим модель"
   ]
  },
  {
   "cell_type": "code",
   "execution_count": 138,
   "metadata": {},
   "outputs": [],
   "source": [
    "def mape(y_true, y_pred):\n",
    "    return np.mean(np.abs((y_pred-y_true)/y_true))"
   ]
  },
  {
   "cell_type": "code",
   "execution_count": 139,
   "metadata": {},
   "outputs": [],
   "source": [
    "RANDOM_SEED = 42\n",
    "VAL_SIZE = 0.2\n"
   ]
  },
  {
   "cell_type": "code",
   "execution_count": 140,
   "metadata": {},
   "outputs": [],
   "source": [
    "data=data[data.price>0]\n"
   ]
  },
  {
   "cell_type": "code",
   "execution_count": 141,
   "metadata": {},
   "outputs": [],
   "source": [
    "train_data = data.query('sample == 1').drop(['sample'], axis=1)\n",
    "test_data = data.query('sample == 0').drop(['sample'], axis=1)"
   ]
  },
  {
   "cell_type": "code",
   "execution_count": 142,
   "metadata": {},
   "outputs": [],
   "source": [
    "X = train_data.drop(['price'], axis = 1).values\n",
    "X_test = test_data.drop(['price'], axis = 1).values"
   ]
  },
  {
   "cell_type": "code",
   "execution_count": 143,
   "metadata": {},
   "outputs": [],
   "source": [
    "y = train_data['price'].values "
   ]
  },
  {
   "cell_type": "code",
   "execution_count": 144,
   "metadata": {},
   "outputs": [
    {
     "data": {
      "text/plain": [
       "450000.0     1403\n",
       "650000.0     1354\n",
       "550000.0     1324\n",
       "350000.0     1311\n",
       "250000.0     1163\n",
       "             ... \n",
       "1851599.0       1\n",
       "3702800.0       1\n",
       "523700.0        1\n",
       "8866000.0       1\n",
       "2097200.0       1\n",
       "Name: price, Length: 14214, dtype: int64"
      ]
     },
     "execution_count": 144,
     "metadata": {},
     "output_type": "execute_result"
    }
   ],
   "source": [
    "train_data.price.value_counts()"
   ]
  },
  {
   "cell_type": "code",
   "execution_count": 145,
   "metadata": {},
   "outputs": [],
   "source": [
    "X_train, X_val, y_train, y_val = train_test_split(X, y, test_size=0.20, random_state=RANDOM_SEED)"
   ]
  },
  {
   "cell_type": "code",
   "execution_count": 146,
   "metadata": {},
   "outputs": [
    {
     "data": {
      "text/plain": [
       "((129938, 16), (32485, 16), (129938,), (32485,))"
      ]
     },
     "execution_count": 146,
     "metadata": {},
     "output_type": "execute_result"
    }
   ],
   "source": [
    "X_train.shape, X_val.shape, y_train.shape, y_val.shape"
   ]
  },
  {
   "cell_type": "markdown",
   "metadata": {},
   "source": [
    " # RandomForest"
   ]
  },
  {
   "cell_type": "code",
   "execution_count": 147,
   "metadata": {},
   "outputs": [
    {
     "name": "stdout",
     "output_type": "stream",
     "text": [
      "Test MAPE: 14.330%\n"
     ]
    }
   ],
   "source": [
    "# A: пар-ры леса по умолчанию\n",
    "rf = RandomForestRegressor(random_state=42)\n",
    "\n",
    "rf.fit(X_train, y_train)\n",
    "test_predict = rf.predict(X_val)\n",
    "print(f\"Test MAPE: {mape(y_val, test_predict)*100:0.3f}%\")"
   ]
  },
  {
   "cell_type": "code",
   "execution_count": 148,
   "metadata": {},
   "outputs": [
    {
     "name": "stdout",
     "output_type": "stream",
     "text": [
      "Test MAPE: 14.0522%\n"
     ]
    }
   ],
   "source": [
    "rf = RandomForestRegressor(\n",
    " n_estimators=300, \n",
    " min_samples_split=2,\n",
    " min_samples_leaf=1,\n",
    " max_features=10,\n",
    " max_depth=77,\n",
    " bootstrap=True, \n",
    " random_state=42)\n",
    "\n",
    "rf.fit(X_train, y_train)\n",
    "test_predict = rf.predict(X_val)\n",
    "print(f\"Test MAPE: {mape(y_val, test_predict)*100:0.4f}%\")"
   ]
  },
  {
   "cell_type": "code",
   "execution_count": 149,
   "metadata": {},
   "outputs": [],
   "source": [
    "# n_estimators = [int(x) for x in np.linspace(start = 200, stop = 2000, num = 10)]\n",
    "# max_features = ['auto', 'sqrt']\n",
    "# max_depth = [int(x) for x in np.linspace(10, 110, num = 11)]\n",
    "# max_depth.append(None)\n",
    "# min_samples_split = [2, 5, 10]\n",
    "# min_samples_leaf = [1, 2, 4]\n",
    "# bootstrap = [True, False]\n",
    "# random_grid = {'n_estimators': n_estimators,\n",
    "#                'max_features': max_features,\n",
    "#                'max_depth': max_depth,\n",
    "#                'min_samples_split': min_samples_split,\n",
    "#                'min_samples_leaf': min_samples_leaf,\n",
    "#                'bootstrap': bootstrap}\n",
    "\n",
    "# rf = RandomForestRegressor()\n",
    "# rf_random = RandomizedSearchCV(estimator = rf, param_distributions = random_grid, \n",
    "#                                n_iter = 100, cv = 3, verbose=2, random_state=42, n_jobs = -1)\n",
    "# rf_random.fit(X_train, y_train)\n",
    "# # Посмотрим, какие гиперпараметры нам предлагают как оптимальные:\n",
    "# rf_random.best_params_"
   ]
  },
  {
   "cell_type": "code",
   "execution_count": 150,
   "metadata": {},
   "outputs": [
    {
     "name": "stdout",
     "output_type": "stream",
     "text": [
      "Test MAPE: 41.2746%\n"
     ]
    }
   ],
   "source": [
    "rf = RandomForestRegressor(\n",
    " n_estimators=1600, \n",
    " min_samples_split=5,\n",
    " min_samples_leaf=1,\n",
    " max_features='sqrt',\n",
    " max_depth=7,\n",
    " bootstrap=False, \n",
    " random_state=42)\n",
    "\n",
    "rf.fit(X_train, y_train)\n",
    "test_predict = rf.predict(X_val)\n",
    "print(f\"Test MAPE: {mape(y_val, test_predict)*100:0.4f}%\")"
   ]
  },
  {
   "cell_type": "markdown",
   "metadata": {},
   "source": [
    "# extraTree"
   ]
  },
  {
   "cell_type": "code",
   "execution_count": 151,
   "metadata": {},
   "outputs": [
    {
     "name": "stderr",
     "output_type": "stream",
     "text": [
      "[Parallel(n_jobs=-1)]: Using backend ThreadingBackend with 6 concurrent workers.\n",
      "[Parallel(n_jobs=-1)]: Done  38 tasks      | elapsed:    2.1s\n",
      "[Parallel(n_jobs=-1)]: Done 188 tasks      | elapsed:    9.6s\n",
      "[Parallel(n_jobs=-1)]: Done 300 out of 300 | elapsed:   15.3s finished\n",
      "[Parallel(n_jobs=6)]: Using backend ThreadingBackend with 6 concurrent workers.\n",
      "[Parallel(n_jobs=6)]: Done  38 tasks      | elapsed:    0.0s\n",
      "[Parallel(n_jobs=6)]: Done 188 tasks      | elapsed:    0.5s\n"
     ]
    },
    {
     "name": "stdout",
     "output_type": "stream",
     "text": [
      "Mean Absolute Percentage Error: 14.43%\n"
     ]
    },
    {
     "name": "stderr",
     "output_type": "stream",
     "text": [
      "[Parallel(n_jobs=6)]: Done 300 out of 300 | elapsed:    0.8s finished\n"
     ]
    }
   ],
   "source": [
    "rf = ExtraTreesRegressor(n_estimators=300, random_state=0, n_jobs=-1,\n",
    "                         bootstrap=True, verbose=1)\n",
    "rf.fit(X_train, y_train)\n",
    "y_pred = rf.predict(X_val)\n",
    "\n",
    "print(f'Mean Absolute Percentage Error: {(mape(y_val, y_pred))*100:0.2f}%')"
   ]
  },
  {
   "cell_type": "markdown",
   "metadata": {},
   "source": [
    "# GradientBoosting"
   ]
  },
  {
   "cell_type": "code",
   "execution_count": 152,
   "metadata": {},
   "outputs": [
    {
     "name": "stdout",
     "output_type": "stream",
     "text": [
      "GradientBoostingRegressor Test MAPE: 14.447%\n"
     ]
    }
   ],
   "source": [
    "gb = GradientBoostingRegressor(max_depth=7,n_estimators=1500,learning_rate=0.1,random_state=42)#\n",
    "gb.fit(X_train, y_train)\n",
    "test_predict = gb.predict(X_val)\n",
    "print(f\"GradientBoostingRegressor Test MAPE: {mape(y_val, test_predict)*100:0.3f}%\")"
   ]
  },
  {
   "cell_type": "markdown",
   "metadata": {},
   "source": [
    "# Catboost"
   ]
  },
  {
   "cell_type": "code",
   "execution_count": 153,
   "metadata": {},
   "outputs": [
    {
     "name": "stdout",
     "output_type": "stream",
     "text": [
      "Точность модели по метрике MAPE: 16.98%\n"
     ]
    }
   ],
   "source": [
    "from catboost import CatBoostRegressor\n",
    "\n",
    "model = CatBoostRegressor(iterations = 5000,\n",
    "                          random_seed = RANDOM_SEED,\n",
    "                          eval_metric='MAPE',\n",
    "                          custom_metric=['R2', 'MAE'],\n",
    "                          silent=True,\n",
    "                         )\n",
    "model.fit(X_train, y_train,\n",
    "         #cat_features=cat_features_ids,\n",
    "         eval_set=(X_val, y_val),\n",
    "         verbose_eval=0,\n",
    "         use_best_model=True,\n",
    "         #plot=True\n",
    "         )\n",
    "\n",
    "#model.save_model('catboost_single_model_baseline.model')\n",
    "\n",
    "predict = model.predict(X_val)\n",
    "print(f\"Точность модели по метрике MAPE: {(mape(y_val, predict))*100:0.2f}%\")"
   ]
  },
  {
   "cell_type": "code",
   "execution_count": 154,
   "metadata": {},
   "outputs": [],
   "source": [
    "# from sklearn.model_selection import GridSearchCV\n",
    "# params = {'iterations'     : [1000,2000,3000,4000,5000],\n",
    "#           'learning_rate'  : [0.25, 0.5, 0.75,1]}\n",
    "# model = CatBoostRegressor(random_seed = RANDOM_SEED,\n",
    "#                           eval_metric='MAPE',\n",
    "#                           custom_metric=['R2', 'MAE'],\n",
    "#                           silent=True,)\n",
    "\n",
    "# grid = GridSearchCV(model, params,cv = 2, n_jobs=-1)\n",
    "# grid.fit(X_train, y_train)\n",
    "# print(grid.best_params_)"
   ]
  },
  {
   "cell_type": "code",
   "execution_count": 155,
   "metadata": {},
   "outputs": [],
   "source": [
    "# model = CatBoostRegressor(iterations = 1000,\n",
    "#                           random_seed = RANDOM_SEED,\n",
    "#                           eval_metric='MAPE',\n",
    "#                           custom_metric=['R2', 'MAE'],\n",
    "#                           silent=True,\n",
    "#                           learning_rate=0.25,\n",
    "#                          )\n",
    "# model.fit(X_train, y_train,\n",
    "#          eval_set=(X_val, y_val),\n",
    "#          verbose_eval=0,\n",
    "#          use_best_model=True,\n",
    "#          )\n",
    "\n",
    "# predict = model.predict(X_val)\n",
    "# print(f\"Точность модели по метрике MAPE: {(mape(y_val, predict))*100:0.2f}%\")"
   ]
  },
  {
   "cell_type": "markdown",
   "metadata": {},
   "source": [
    "# XGB"
   ]
  },
  {
   "cell_type": "code",
   "execution_count": 156,
   "metadata": {},
   "outputs": [
    {
     "name": "stdout",
     "output_type": "stream",
     "text": [
      "Test MAPE: 15.073%\n"
     ]
    }
   ],
   "source": [
    "import xgboost as xgb\n",
    "model_xgb = xgb.XGBRegressor(n_estimators=1000, nthread = -1)\n",
    "model_xgb.fit(X_train, y_train)\n",
    "test_predict = model_xgb.predict(X_val)\n",
    "print(f\"Test MAPE: {mape(y_val, test_predict)*100:0.3f}%\")"
   ]
  },
  {
   "cell_type": "code",
   "execution_count": null,
   "metadata": {},
   "outputs": [],
   "source": []
  },
  {
   "cell_type": "code",
   "execution_count": 157,
   "metadata": {},
   "outputs": [
    {
     "name": "stdout",
     "output_type": "stream",
     "text": [
      "Test MAPE: 4098500.839%\n"
     ]
    }
   ],
   "source": [
    "from sklearn.ensemble import StackingRegressor\n",
    "from sklearn.linear_model import RidgeCV\n",
    "GBoost = GradientBoostingRegressor(n_estimators=1000, random_state =42)\n",
    "model_xgb = xgb.XGBRegressor(n_estimators=1000, nthread = -1)\n",
    "RF = RandomForestRegressor(random_state=RANDOM_SEED)\n",
    "\n",
    "estimators = [\n",
    "    ('rf', RF),\n",
    "    ('gb',GBoost),\n",
    "    ('xgb',model_xgb)\n",
    "]\n",
    "\n",
    "s_reg = StackingRegressor(estimators=estimators)\n",
    "s_reg.fit(X_train, y_train)\n",
    "\n",
    "test_predict = s_reg.predict(X_val)\n",
    "\n",
    "\n",
    "print(f\"Test MAPE: {mape(y_val, test_predict)*100:0.3f}%\")"
   ]
  },
  {
   "cell_type": "code",
   "execution_count": null,
   "metadata": {},
   "outputs": [],
   "source": []
  },
  {
   "cell_type": "code",
   "execution_count": 158,
   "metadata": {},
   "outputs": [
    {
     "name": "stdout",
     "output_type": "stream",
     "text": [
      "Точность модели по метрике MAPE: 13.01%\n"
     ]
    }
   ],
   "source": [
    "from sklearn.ensemble import RandomForestRegressor\n",
    "from sklearn.ensemble import StackingRegressor\n",
    "model = CatBoostRegressor(iterations = 5000,\n",
    "                          random_seed = RANDOM_SEED,\n",
    "                          eval_metric='MAPE',\n",
    "                          custom_metric=['R2', 'MAE'],\n",
    "                          silent=True,\n",
    "                         )\n",
    "estimators = [\n",
    "    ('cb',model),\n",
    "    ('rf',RandomForestRegressor(random_state=RANDOM_SEED))\n",
    "]\n",
    "reg = StackingRegressor(estimators=estimators)\n",
    "reg.fit(X_train, np.log(y_train))\n",
    "predict_test = reg.predict(X_val)\n",
    "predict_test = np.exp(predict_test)\n",
    "print(f\"Точность модели по метрике MAPE: {(mape(y_val, predict_test))*100:0.2f}%\")"
   ]
  },
  {
   "cell_type": "code",
   "execution_count": 159,
   "metadata": {},
   "outputs": [
    {
     "name": "stdout",
     "output_type": "stream",
     "text": [
      "Точность модели по метрике MAPE: 14.10%\n"
     ]
    }
   ],
   "source": [
    "from sklearn.ensemble import GradientBoostingRegressor\n",
    "gb = GradientBoostingRegressor(min_samples_split=2, learning_rate=0.003, max_depth=15, n_estimators=1000)\n",
    "gb.fit(X_train, np.log(y_train))\n",
    "predict_test = np.exp(gb.predict(X_val))\n",
    "print(f\"Точность модели по метрике MAPE: {(mape(y_val, predict_test))*100:0.2f}%\")"
   ]
  },
  {
   "cell_type": "code",
   "execution_count": 160,
   "metadata": {},
   "outputs": [
    {
     "name": "stdout",
     "output_type": "stream",
     "text": [
      "Точность модели по метрике MAPE: 12.76%\n"
     ]
    }
   ],
   "source": [
    "from sklearn.ensemble import GradientBoostingRegressor\n",
    "gb = GradientBoostingRegressor(min_samples_split=2, learning_rate=0.003, max_depth=15, n_estimators=5000)\n",
    "gb.fit(X_train, np.log(y_train))\n",
    "predict_test = np.exp(gb.predict(X_val))\n",
    "print(f\"Точность модели по метрике MAPE: {(mape(y_val, predict_test))*100:0.2f}%\")"
   ]
  },
  {
   "cell_type": "markdown",
   "metadata": {},
   "source": [
    "# AdaBoost"
   ]
  },
  {
   "cell_type": "code",
   "execution_count": 161,
   "metadata": {},
   "outputs": [
    {
     "name": "stdout",
     "output_type": "stream",
     "text": [
      "Test MAPE: 325.315%\n"
     ]
    }
   ],
   "source": [
    "from sklearn.ensemble import AdaBoostRegressor\n",
    "\n",
    "ada=AdaBoostRegressor(random_state=42)\n",
    "ada.fit(X_train, y_train)\n",
    "test_predict = ada.predict(X_val)\n",
    "print(f\"Test MAPE: {mape(y_val, test_predict)*100:0.3f}%\")"
   ]
  },
  {
   "cell_type": "code",
   "execution_count": null,
   "metadata": {},
   "outputs": [],
   "source": []
  },
  {
   "cell_type": "markdown",
   "metadata": {},
   "source": [
    "# Оценка по семи моделям по умолчанию и подобранными"
   ]
  },
  {
   "cell_type": "code",
   "execution_count": 162,
   "metadata": {},
   "outputs": [
    {
     "name": "stdout",
     "output_type": "stream",
     "text": [
      "Точность модели по метрике MAPE: 12.49%\n"
     ]
    }
   ],
   "source": [
    "from sklearn.ensemble import RandomForestRegressor\n",
    "from sklearn.ensemble import StackingRegressor\n",
    "ada=AdaBoostRegressor(random_state=42)\n",
    "model_xgb = xgb.XGBRegressor(n_estimators=1000, nthread = -1)\n",
    "model = CatBoostRegressor(iterations = 5000,\n",
    "                          random_seed = RANDOM_SEED,\n",
    "                          eval_metric='MAPE',\n",
    "                          custom_metric=['R2', 'MAE'],\n",
    "                          silent=True,\n",
    "                         )\n",
    "estimators = [\n",
    "    ('cb',model),\n",
    "    ('rf',RandomForestRegressor(random_state=RANDOM_SEED)),\n",
    "    ('xgb', model_xgb),\n",
    "    ('lr', LinearRegression(normalize = True)),\n",
    "    ('kn', KNeighborsRegressor()),\n",
    "    ('etr', ExtraTreesRegressor(random_state = RANDOM_SEED)), \n",
    "    ('abr', AdaBoostRegressor(random_state = RANDOM_SEED))\n",
    "    \n",
    "]\n",
    "reg = StackingRegressor(estimators=estimators)\n",
    "reg.fit(X_train, np.log(y_train))\n",
    "predict_test = reg.predict(X_val)\n",
    "predict_test = np.exp(predict_test)\n",
    "print(f\"Точность модели по метрике MAPE: {(mape(y_val, predict_test))*100:0.2f}%\")"
   ]
  },
  {
   "cell_type": "code",
   "execution_count": null,
   "metadata": {},
   "outputs": [],
   "source": []
  },
  {
   "cell_type": "code",
   "execution_count": 163,
   "metadata": {},
   "outputs": [],
   "source": [
    "# from sklearn.model_selection import GridSearchCV\n",
    "\n",
    "# params = {'iterations'     : [1000,2000,3000,4000,5000],\n",
    "#           'learning_rate'  : [0.25, 0.5, 0.75,1]}\n",
    "# model = CatBoostRegressor(random_seed = RANDOM_SEED,\n",
    "#                           eval_metric='MAPE',\n",
    "#                           custom_metric=['R2', 'MAE'],\n",
    "#                           silent=True,)\n",
    "\n",
    "# grid = GridSearchCV(model, params,cv = 2, n_jobs=-1)\n",
    "# grid.fit(X_train,y_train)\n",
    "# grid.best_params_"
   ]
  },
  {
   "cell_type": "code",
   "execution_count": 164,
   "metadata": {},
   "outputs": [],
   "source": [
    "# n_estimators = [int(x) for x in np.linspace(start = 200, stop = 2000, num = 10)]\n",
    "# max_features = ['auto', 'sqrt']\n",
    "# max_depth = [int(x) for x in np.linspace(10, 210, num = 11)]\n",
    "# max_depth.append(None)\n",
    "# min_samples_split = [2, 5, 10]\n",
    "# min_samples_leaf = [1, 2, 4]\n",
    "# bootstrap = [True, False]\n",
    "# random_grid = {'n_estimators': n_estimators,\n",
    "#                'max_features': max_features,\n",
    "#                'max_depth': max_depth,\n",
    "#                'min_samples_split': min_samples_split,\n",
    "#                'min_samples_leaf': min_samples_leaf,\n",
    "#                'bootstrap': bootstrap}\n",
    "\n",
    "# rf = RandomForestRegressor()\n",
    "# rf_random = RandomizedSearchCV(estimator = rf, param_distributions = random_grid, \n",
    "#                                n_iter = 100, cv = 3, verbose=2, random_state=42, n_jobs = -1)\n",
    "# rf_random.fit(X_train, y_train)\n",
    "# rf_random.best_params_"
   ]
  },
  {
   "cell_type": "code",
   "execution_count": 165,
   "metadata": {},
   "outputs": [],
   "source": [
    "# from sklearn.ensemble import RandomForestRegressor\n",
    "# from sklearn.ensemble import StackingRegressor\n",
    "# ada=AdaBoostRegressor(random_state=42)\n",
    "# model_xgb = xgb.XGBRegressor(n_estimators=1000, nthread = -1)\n",
    "# model = CatBoostRegressor(iterations = 5000,\n",
    "#                           random_seed = RANDOM_SEED,\n",
    "#                           eval_metric='MAPE',\n",
    "#                           custom_metric=['R2', 'MAE'],\n",
    "#                           silent=True,\n",
    "#                          )\n",
    "# estimators = [\n",
    "#     ('cb',model),\n",
    "#     ('rf',RandomForestRegressor(random_state=RANDOM_SEED)),\n",
    "#     ('xgb', model_xgb),\n",
    "#     ('lr', LinearRegression(normalize = True)),\n",
    "#     ('kn', KNeighborsRegressor()),\n",
    "#     ('etr', ExtraTreesRegressor(random_state = RANDOM_SEED)), \n",
    "#     ('abr', AdaBoostRegressor(random_state = RANDOM_SEED))\n",
    "    \n",
    "# ]\n",
    "# reg = StackingRegressor(estimators=estimators)\n",
    "# reg.fit(X_train, np.log(y_train))\n",
    "# predict_test = reg.predict(X_val)\n",
    "\n",
    "# predict_test = np.exp(predict_test)\n",
    "# print(f\"Точность модели по метрике MAPE: {(mape(y_val, predict_test))*100:0.2f}%\")"
   ]
  },
  {
   "cell_type": "code",
   "execution_count": null,
   "metadata": {},
   "outputs": [],
   "source": []
  }
 ],
 "metadata": {
  "kernelspec": {
   "display_name": "Python 3",
   "language": "python",
   "name": "python3"
  },
  "language_info": {
   "codemirror_mode": {
    "name": "ipython",
    "version": 3
   },
   "file_extension": ".py",
   "mimetype": "text/x-python",
   "name": "python",
   "nbconvert_exporter": "python",
   "pygments_lexer": "ipython3",
   "version": "3.8.3"
  }
 },
 "nbformat": 4,
 "nbformat_minor": 4
}
